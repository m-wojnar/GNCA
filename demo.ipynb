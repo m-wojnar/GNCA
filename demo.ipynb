{
 "cells": [
  {
   "cell_type": "code",
   "execution_count": 1,
   "metadata": {},
   "outputs": [
    {
     "name": "stderr",
     "output_type": "stream",
     "text": [
      "C:\\ProgramData\\Anaconda3\\lib\\site-packages\\requests\\__init__.py:89: RequestsDependencyWarning: urllib3 (1.26.17) or chardet (3.0.4) doesn't match a supported version!\n",
      "  warnings.warn(\"urllib3 ({}) or chardet ({}) doesn't match a supported \"\n"
     ]
    }
   ],
   "source": [
    "import matplotlib.pyplot as plt\n",
    "\n",
    "from matplotlib import animation\n",
    "import numpy as np\n",
    "import numpy as np\n",
    "from spektral.layers.ops import sp_matrix_to_sp_tensor\n",
    "from matplotlib import animation\n",
    "\n",
    "from modules.ca import VoronoiCA\n",
    "import scipy.stats as st\n",
    "\n",
    "from voronoi.run_voronoi import voronoi_main"
   ]
  },
  {
   "cell_type": "code",
   "execution_count": 2,
   "metadata": {},
   "outputs": [
    {
     "name": "stderr",
     "output_type": "stream",
     "text": [
      "  0%|          | 1/1000 [00:06<1:47:02,  6.43s/it]"
     ]
    },
    {
     "name": "stdout",
     "output_type": "stream",
     "text": [
      "Epoch 0 Loss = 6.976e-01, Acc = 50.01, Loss val = 1.541e+00, Acc val=49.96  \n"
     ]
    },
    {
     "name": "stderr",
     "output_type": "stream",
     "text": [
      "  0%|          | 2/1000 [00:09<1:12:43,  4.37s/it]"
     ]
    },
    {
     "name": "stdout",
     "output_type": "stream",
     "text": [
      "Epoch 1 Loss = 1.537e+00, Acc = 50.16, Loss val = 7.096e-01, Acc val=50.90  \n"
     ]
    },
    {
     "name": "stderr",
     "output_type": "stream",
     "text": [
      "  0%|          | 3/1000 [00:12<1:02:19,  3.75s/it]"
     ]
    },
    {
     "name": "stdout",
     "output_type": "stream",
     "text": [
      "Epoch 2 Loss = 7.081e-01, Acc = 51.29, Loss val = 6.901e-01, Acc val=63.29  \n"
     ]
    },
    {
     "name": "stderr",
     "output_type": "stream",
     "text": [
      "  0%|          | 4/1000 [00:15<56:37,  3.41s/it]  "
     ]
    },
    {
     "name": "stdout",
     "output_type": "stream",
     "text": [
      "Epoch 3 Loss = 6.903e-01, Acc = 63.15, Loss val = 7.035e-01, Acc val=49.61  \n"
     ]
    },
    {
     "name": "stderr",
     "output_type": "stream",
     "text": [
      "  0%|          | 5/1000 [00:18<53:25,  3.22s/it]"
     ]
    },
    {
     "name": "stdout",
     "output_type": "stream",
     "text": [
      "Epoch 4 Loss = 7.028e-01, Acc = 50.06, Loss val = 6.876e-01, Acc val=62.02  \n"
     ]
    },
    {
     "name": "stderr",
     "output_type": "stream",
     "text": [
      "  1%|          | 6/1000 [00:21<51:55,  3.13s/it]"
     ]
    },
    {
     "name": "stdout",
     "output_type": "stream",
     "text": [
      "Epoch 5 Loss = 6.875e-01, Acc = 62.24, Loss val = 6.896e-01, Acc val=52.91  \n"
     ]
    },
    {
     "name": "stderr",
     "output_type": "stream",
     "text": [
      "  1%|          | 7/1000 [00:24<50:55,  3.08s/it]"
     ]
    },
    {
     "name": "stdout",
     "output_type": "stream",
     "text": [
      "Epoch 6 Loss = 6.901e-01, Acc = 52.65, Loss val = 6.836e-01, Acc val=59.99  \n"
     ]
    },
    {
     "name": "stderr",
     "output_type": "stream",
     "text": [
      "  1%|          | 8/1000 [00:27<50:12,  3.04s/it]"
     ]
    },
    {
     "name": "stdout",
     "output_type": "stream",
     "text": [
      "Epoch 7 Loss = 6.831e-01, Acc = 60.27, Loss val = 6.804e-01, Acc val=57.44  \n"
     ]
    },
    {
     "name": "stderr",
     "output_type": "stream",
     "text": [
      "  1%|          | 9/1000 [00:30<50:01,  3.03s/it]"
     ]
    },
    {
     "name": "stdout",
     "output_type": "stream",
     "text": [
      "Epoch 8 Loss = 6.798e-01, Acc = 57.74, Loss val = 6.754e-01, Acc val=57.78  \n"
     ]
    },
    {
     "name": "stderr",
     "output_type": "stream",
     "text": [
      "  1%|          | 10/1000 [00:32<49:23,  2.99s/it]"
     ]
    },
    {
     "name": "stdout",
     "output_type": "stream",
     "text": [
      "Epoch 9 Loss = 6.756e-01, Acc = 57.71, Loss val = 6.692e-01, Acc val=57.46  \n"
     ]
    },
    {
     "name": "stderr",
     "output_type": "stream",
     "text": [
      "  1%|          | 11/1000 [00:35<49:02,  2.98s/it]"
     ]
    },
    {
     "name": "stdout",
     "output_type": "stream",
     "text": [
      "Epoch 10 Loss = 6.672e-01, Acc = 58.30, Loss val = 6.619e-01, Acc val=57.54  \n"
     ]
    },
    {
     "name": "stderr",
     "output_type": "stream",
     "text": [
      "  1%|          | 12/1000 [00:38<48:43,  2.96s/it]"
     ]
    },
    {
     "name": "stdout",
     "output_type": "stream",
     "text": [
      "Epoch 11 Loss = 6.608e-01, Acc = 57.88, Loss val = 6.510e-01, Acc val=57.45  \n"
     ]
    },
    {
     "name": "stderr",
     "output_type": "stream",
     "text": [
      "  1%|▏         | 13/1000 [00:41<49:47,  3.03s/it]"
     ]
    },
    {
     "name": "stdout",
     "output_type": "stream",
     "text": [
      "Epoch 12 Loss = 6.503e-01, Acc = 57.73, Loss val = 6.406e-01, Acc val=57.03  \n"
     ]
    },
    {
     "name": "stderr",
     "output_type": "stream",
     "text": [
      "  1%|▏         | 14/1000 [00:45<49:58,  3.04s/it]"
     ]
    },
    {
     "name": "stdout",
     "output_type": "stream",
     "text": [
      "Epoch 13 Loss = 6.398e-01, Acc = 57.26, Loss val = 6.191e-01, Acc val=57.71  \n"
     ]
    },
    {
     "name": "stderr",
     "output_type": "stream",
     "text": [
      "  2%|▏         | 15/1000 [00:48<49:40,  3.03s/it]"
     ]
    },
    {
     "name": "stdout",
     "output_type": "stream",
     "text": [
      "Epoch 14 Loss = 6.224e-01, Acc = 57.05, Loss val = 5.950e-01, Acc val=57.70  \n"
     ]
    },
    {
     "name": "stderr",
     "output_type": "stream",
     "text": [
      "  2%|▏         | 16/1000 [00:51<49:19,  3.01s/it]"
     ]
    },
    {
     "name": "stdout",
     "output_type": "stream",
     "text": [
      "Epoch 15 Loss = 5.959e-01, Acc = 57.48, Loss val = 5.662e-01, Acc val=57.48  \n"
     ]
    },
    {
     "name": "stderr",
     "output_type": "stream",
     "text": [
      "  2%|▏         | 17/1000 [00:53<48:49,  2.98s/it]"
     ]
    },
    {
     "name": "stdout",
     "output_type": "stream",
     "text": [
      "Epoch 16 Loss = 5.656e-01, Acc = 57.55, Loss val = 5.299e-01, Acc val=58.34  \n"
     ]
    },
    {
     "name": "stderr",
     "output_type": "stream",
     "text": [
      "  2%|▏         | 18/1000 [00:56<48:52,  2.99s/it]"
     ]
    },
    {
     "name": "stdout",
     "output_type": "stream",
     "text": [
      "Epoch 17 Loss = 5.307e-01, Acc = 58.28, Loss val = 4.838e-01, Acc val=59.23  \n"
     ]
    },
    {
     "name": "stderr",
     "output_type": "stream",
     "text": [
      "  2%|▏         | 19/1000 [01:00<50:47,  3.11s/it]"
     ]
    },
    {
     "name": "stdout",
     "output_type": "stream",
     "text": [
      "Epoch 18 Loss = 4.887e-01, Acc = 58.53, Loss val = 4.400e-01, Acc val=78.69  \n"
     ]
    },
    {
     "name": "stderr",
     "output_type": "stream",
     "text": [
      "  2%|▏         | 20/1000 [01:03<51:01,  3.12s/it]"
     ]
    },
    {
     "name": "stdout",
     "output_type": "stream",
     "text": [
      "Epoch 19 Loss = 4.403e-01, Acc = 78.73, Loss val = 3.802e-01, Acc val=74.39  \n"
     ]
    },
    {
     "name": "stderr",
     "output_type": "stream",
     "text": [
      "  2%|▏         | 21/1000 [01:06<50:46,  3.11s/it]"
     ]
    },
    {
     "name": "stdout",
     "output_type": "stream",
     "text": [
      "Epoch 20 Loss = 3.795e-01, Acc = 74.61, Loss val = 3.132e-01, Acc val=92.37  \n"
     ]
    },
    {
     "name": "stderr",
     "output_type": "stream",
     "text": [
      "  2%|▏         | 22/1000 [01:09<50:03,  3.07s/it]"
     ]
    },
    {
     "name": "stdout",
     "output_type": "stream",
     "text": [
      "Epoch 21 Loss = 3.160e-01, Acc = 92.26, Loss val = 2.834e-01, Acc val=99.42  \n"
     ]
    },
    {
     "name": "stderr",
     "output_type": "stream",
     "text": [
      "  2%|▏         | 23/1000 [01:12<50:19,  3.09s/it]"
     ]
    },
    {
     "name": "stdout",
     "output_type": "stream",
     "text": [
      "Epoch 22 Loss = 2.854e-01, Acc = 99.44, Loss val = 2.414e-01, Acc val=92.46  \n"
     ]
    },
    {
     "name": "stderr",
     "output_type": "stream",
     "text": [
      "  2%|▏         | 24/1000 [01:15<49:33,  3.05s/it]"
     ]
    },
    {
     "name": "stdout",
     "output_type": "stream",
     "text": [
      "Epoch 23 Loss = 2.386e-01, Acc = 92.53, Loss val = 1.576e-01, Acc val=100.00  \n"
     ]
    },
    {
     "name": "stderr",
     "output_type": "stream",
     "text": [
      "  2%|▎         | 25/1000 [01:18<49:01,  3.02s/it]"
     ]
    },
    {
     "name": "stdout",
     "output_type": "stream",
     "text": [
      "Epoch 24 Loss = 1.578e-01, Acc = 100.00, Loss val = 1.439e-01, Acc val=99.88  \n"
     ]
    },
    {
     "name": "stderr",
     "output_type": "stream",
     "text": [
      "  3%|▎         | 26/1000 [01:21<48:53,  3.01s/it]"
     ]
    },
    {
     "name": "stdout",
     "output_type": "stream",
     "text": [
      "Epoch 25 Loss = 1.438e-01, Acc = 99.90, Loss val = 1.174e-01, Acc val=96.84  \n"
     ]
    },
    {
     "name": "stderr",
     "output_type": "stream",
     "text": [
      "  3%|▎         | 27/1000 [01:24<48:46,  3.01s/it]"
     ]
    },
    {
     "name": "stdout",
     "output_type": "stream",
     "text": [
      "Epoch 26 Loss = 1.169e-01, Acc = 96.75, Loss val = 7.088e-02, Acc val=99.89  \n"
     ]
    },
    {
     "name": "stderr",
     "output_type": "stream",
     "text": [
      "  3%|▎         | 28/1000 [01:27<48:59,  3.02s/it]"
     ]
    },
    {
     "name": "stdout",
     "output_type": "stream",
     "text": [
      "Epoch 27 Loss = 7.140e-02, Acc = 99.89, Loss val = 5.220e-02, Acc val=100.00  \n"
     ]
    },
    {
     "name": "stderr",
     "output_type": "stream",
     "text": [
      "  3%|▎         | 29/1000 [01:30<48:28,  3.00s/it]"
     ]
    },
    {
     "name": "stdout",
     "output_type": "stream",
     "text": [
      "Epoch 28 Loss = 5.220e-02, Acc = 100.00, Loss val = 5.775e-02, Acc val=99.95  \n"
     ]
    },
    {
     "name": "stderr",
     "output_type": "stream",
     "text": [
      "  3%|▎         | 30/1000 [01:33<48:33,  3.00s/it]"
     ]
    },
    {
     "name": "stdout",
     "output_type": "stream",
     "text": [
      "Epoch 29 Loss = 5.855e-02, Acc = 99.96, Loss val = 6.109e-02, Acc val=98.80  \n"
     ]
    },
    {
     "name": "stderr",
     "output_type": "stream",
     "text": [
      "  3%|▎         | 31/1000 [01:36<49:14,  3.05s/it]"
     ]
    },
    {
     "name": "stdout",
     "output_type": "stream",
     "text": [
      "Epoch 30 Loss = 6.157e-02, Acc = 98.79, Loss val = 2.216e-02, Acc val=99.98  \n"
     ]
    },
    {
     "name": "stderr",
     "output_type": "stream",
     "text": [
      "  3%|▎         | 32/1000 [01:39<48:36,  3.01s/it]"
     ]
    },
    {
     "name": "stdout",
     "output_type": "stream",
     "text": [
      "Epoch 31 Loss = 2.253e-02, Acc = 99.97, Loss val = 2.462e-02, Acc val=100.00  \n"
     ]
    },
    {
     "name": "stderr",
     "output_type": "stream",
     "text": [
      "  3%|▎         | 33/1000 [01:42<48:29,  3.01s/it]"
     ]
    },
    {
     "name": "stdout",
     "output_type": "stream",
     "text": [
      "Epoch 32 Loss = 2.443e-02, Acc = 100.00, Loss val = 1.836e-02, Acc val=100.00  \n"
     ]
    },
    {
     "name": "stderr",
     "output_type": "stream",
     "text": [
      "  3%|▎         | 34/1000 [01:45<48:06,  2.99s/it]"
     ]
    },
    {
     "name": "stdout",
     "output_type": "stream",
     "text": [
      "Epoch 33 Loss = 1.820e-02, Acc = 100.00, Loss val = 1.133e-02, Acc val=100.00  \n"
     ]
    },
    {
     "name": "stderr",
     "output_type": "stream",
     "text": [
      "  4%|▎         | 35/1000 [01:48<48:01,  2.99s/it]"
     ]
    },
    {
     "name": "stdout",
     "output_type": "stream",
     "text": [
      "Epoch 34 Loss = 1.122e-02, Acc = 100.00, Loss val = 6.654e-03, Acc val=100.00  \n"
     ]
    },
    {
     "name": "stderr",
     "output_type": "stream",
     "text": [
      "  4%|▎         | 36/1000 [01:51<47:53,  2.98s/it]"
     ]
    },
    {
     "name": "stdout",
     "output_type": "stream",
     "text": [
      "Epoch 35 Loss = 6.663e-03, Acc = 100.00, Loss val = 1.274e-02, Acc val=99.58  \n"
     ]
    },
    {
     "name": "stderr",
     "output_type": "stream",
     "text": [
      "  4%|▎         | 37/1000 [01:54<47:33,  2.96s/it]"
     ]
    },
    {
     "name": "stdout",
     "output_type": "stream",
     "text": [
      "Epoch 36 Loss = 1.298e-02, Acc = 99.56, Loss val = 4.497e-03, Acc val=100.00  \n"
     ]
    },
    {
     "name": "stderr",
     "output_type": "stream",
     "text": [
      "  4%|▍         | 38/1000 [01:57<47:10,  2.94s/it]"
     ]
    },
    {
     "name": "stdout",
     "output_type": "stream",
     "text": [
      "Epoch 37 Loss = 4.547e-03, Acc = 100.00, Loss val = 9.205e-03, Acc val=100.00  \n"
     ]
    },
    {
     "name": "stderr",
     "output_type": "stream",
     "text": [
      "  4%|▍         | 39/1000 [02:00<46:47,  2.92s/it]"
     ]
    },
    {
     "name": "stdout",
     "output_type": "stream",
     "text": [
      "Epoch 38 Loss = 9.239e-03, Acc = 100.00, Loss val = 2.907e-03, Acc val=100.00  \n"
     ]
    },
    {
     "name": "stderr",
     "output_type": "stream",
     "text": [
      "  4%|▍         | 40/1000 [02:03<47:08,  2.95s/it]"
     ]
    },
    {
     "name": "stdout",
     "output_type": "stream",
     "text": [
      "Epoch 39 Loss = 2.936e-03, Acc = 100.00, Loss val = 4.462e-03, Acc val=100.00  \n"
     ]
    },
    {
     "name": "stderr",
     "output_type": "stream",
     "text": [
      "  4%|▍         | 41/1000 [02:06<47:08,  2.95s/it]"
     ]
    },
    {
     "name": "stdout",
     "output_type": "stream",
     "text": [
      "Epoch 40 Loss = 4.461e-03, Acc = 100.00, Loss val = 3.477e-03, Acc val=100.00  \n"
     ]
    },
    {
     "name": "stderr",
     "output_type": "stream",
     "text": [
      "  4%|▍         | 42/1000 [02:09<47:01,  2.94s/it]"
     ]
    },
    {
     "name": "stdout",
     "output_type": "stream",
     "text": [
      "Epoch 41 Loss = 3.445e-03, Acc = 100.00, Loss val = 1.219e-03, Acc val=100.00  \n"
     ]
    },
    {
     "name": "stderr",
     "output_type": "stream",
     "text": [
      "  4%|▍         | 43/1000 [02:12<48:15,  3.03s/it]"
     ]
    },
    {
     "name": "stdout",
     "output_type": "stream",
     "text": [
      "Epoch 42 Loss = 1.230e-03, Acc = 100.00, Loss val = 1.751e-03, Acc val=100.00  \n"
     ]
    },
    {
     "name": "stderr",
     "output_type": "stream",
     "text": [
      "  4%|▍         | 44/1000 [02:15<47:21,  2.97s/it]"
     ]
    },
    {
     "name": "stdout",
     "output_type": "stream",
     "text": [
      "Epoch 43 Loss = 1.755e-03, Acc = 100.00, Loss val = 3.117e-03, Acc val=100.00  \n"
     ]
    },
    {
     "name": "stderr",
     "output_type": "stream",
     "text": [
      "  4%|▍         | 45/1000 [02:18<47:41,  3.00s/it]"
     ]
    },
    {
     "name": "stdout",
     "output_type": "stream",
     "text": [
      "Epoch 44 Loss = 3.145e-03, Acc = 100.00, Loss val = 1.050e-03, Acc val=100.00  \n"
     ]
    },
    {
     "name": "stderr",
     "output_type": "stream",
     "text": [
      "  5%|▍         | 46/1000 [02:21<47:05,  2.96s/it]"
     ]
    },
    {
     "name": "stdout",
     "output_type": "stream",
     "text": [
      "Epoch 45 Loss = 1.035e-03, Acc = 100.00, Loss val = 7.741e-04, Acc val=100.00  \n"
     ]
    },
    {
     "name": "stderr",
     "output_type": "stream",
     "text": [
      "  5%|▍         | 47/1000 [02:24<47:04,  2.96s/it]"
     ]
    },
    {
     "name": "stdout",
     "output_type": "stream",
     "text": [
      "Epoch 46 Loss = 7.920e-04, Acc = 100.00, Loss val = 1.216e-03, Acc val=100.00  \n"
     ]
    },
    {
     "name": "stderr",
     "output_type": "stream",
     "text": [
      "  5%|▍         | 48/1000 [02:27<46:48,  2.95s/it]"
     ]
    },
    {
     "name": "stdout",
     "output_type": "stream",
     "text": [
      "Epoch 47 Loss = 1.209e-03, Acc = 100.00, Loss val = 9.239e-04, Acc val=100.00  \n"
     ]
    },
    {
     "name": "stderr",
     "output_type": "stream",
     "text": [
      "  5%|▍         | 49/1000 [02:30<47:24,  2.99s/it]"
     ]
    },
    {
     "name": "stdout",
     "output_type": "stream",
     "text": [
      "Epoch 48 Loss = 8.885e-04, Acc = 100.00, Loss val = 5.304e-04, Acc val=100.00  \n"
     ]
    },
    {
     "name": "stderr",
     "output_type": "stream",
     "text": [
      "  5%|▌         | 50/1000 [02:32<46:43,  2.95s/it]"
     ]
    },
    {
     "name": "stdout",
     "output_type": "stream",
     "text": [
      "Epoch 49 Loss = 5.288e-04, Acc = 100.00, Loss val = 5.284e-04, Acc val=100.00  \n"
     ]
    },
    {
     "name": "stderr",
     "output_type": "stream",
     "text": [
      "  5%|▌         | 51/1000 [02:35<46:24,  2.93s/it]"
     ]
    },
    {
     "name": "stdout",
     "output_type": "stream",
     "text": [
      "Epoch 50 Loss = 5.249e-04, Acc = 100.00, Loss val = 8.162e-04, Acc val=100.00  \n"
     ]
    },
    {
     "name": "stderr",
     "output_type": "stream",
     "text": [
      "  5%|▌         | 52/1000 [02:38<46:34,  2.95s/it]"
     ]
    },
    {
     "name": "stdout",
     "output_type": "stream",
     "text": [
      "Epoch 51 Loss = 8.154e-04, Acc = 100.00, Loss val = 8.291e-04, Acc val=100.00  \n"
     ]
    },
    {
     "name": "stderr",
     "output_type": "stream",
     "text": [
      "  5%|▌         | 53/1000 [02:41<46:15,  2.93s/it]"
     ]
    },
    {
     "name": "stdout",
     "output_type": "stream",
     "text": [
      "Epoch 52 Loss = 8.336e-04, Acc = 100.00, Loss val = 4.768e-04, Acc val=100.00  \n"
     ]
    },
    {
     "name": "stderr",
     "output_type": "stream",
     "text": [
      "  5%|▌         | 54/1000 [02:44<46:53,  2.97s/it]"
     ]
    },
    {
     "name": "stdout",
     "output_type": "stream",
     "text": [
      "Epoch 53 Loss = 4.709e-04, Acc = 100.00, Loss val = 2.607e-04, Acc val=100.00  \n"
     ]
    },
    {
     "name": "stderr",
     "output_type": "stream",
     "text": [
      "  6%|▌         | 55/1000 [02:47<46:49,  2.97s/it]"
     ]
    },
    {
     "name": "stdout",
     "output_type": "stream",
     "text": [
      "Epoch 54 Loss = 2.590e-04, Acc = 100.00, Loss val = 1.994e-04, Acc val=100.00  \n"
     ]
    },
    {
     "name": "stderr",
     "output_type": "stream",
     "text": [
      "  6%|▌         | 56/1000 [02:50<46:27,  2.95s/it]"
     ]
    },
    {
     "name": "stdout",
     "output_type": "stream",
     "text": [
      "Epoch 55 Loss = 2.007e-04, Acc = 100.00, Loss val = 2.244e-04, Acc val=100.00  \n"
     ]
    },
    {
     "name": "stderr",
     "output_type": "stream",
     "text": [
      "  6%|▌         | 57/1000 [02:53<46:07,  2.94s/it]"
     ]
    },
    {
     "name": "stdout",
     "output_type": "stream",
     "text": [
      "Epoch 56 Loss = 2.284e-04, Acc = 100.00, Loss val = 3.001e-04, Acc val=100.00  \n"
     ]
    },
    {
     "name": "stderr",
     "output_type": "stream",
     "text": [
      "  6%|▌         | 58/1000 [02:56<45:49,  2.92s/it]"
     ]
    },
    {
     "name": "stdout",
     "output_type": "stream",
     "text": [
      "Epoch 57 Loss = 3.047e-04, Acc = 100.00, Loss val = 3.172e-04, Acc val=100.00  \n"
     ]
    },
    {
     "name": "stderr",
     "output_type": "stream",
     "text": [
      "  6%|▌         | 59/1000 [02:59<45:33,  2.90s/it]"
     ]
    },
    {
     "name": "stdout",
     "output_type": "stream",
     "text": [
      "Epoch 58 Loss = 3.092e-04, Acc = 100.00, Loss val = 2.196e-04, Acc val=100.00  \n"
     ]
    },
    {
     "name": "stderr",
     "output_type": "stream",
     "text": [
      "  6%|▌         | 60/1000 [03:02<45:28,  2.90s/it]"
     ]
    },
    {
     "name": "stdout",
     "output_type": "stream",
     "text": [
      "Epoch 59 Loss = 2.278e-04, Acc = 100.00, Loss val = 1.528e-04, Acc val=100.00  \n"
     ]
    },
    {
     "name": "stderr",
     "output_type": "stream",
     "text": [
      "  6%|▌         | 61/1000 [03:05<45:59,  2.94s/it]"
     ]
    },
    {
     "name": "stdout",
     "output_type": "stream",
     "text": [
      "Epoch 60 Loss = 1.502e-04, Acc = 100.00, Loss val = 1.358e-04, Acc val=100.00  \n"
     ]
    },
    {
     "name": "stderr",
     "output_type": "stream",
     "text": [
      "  6%|▌         | 62/1000 [03:08<46:24,  2.97s/it]"
     ]
    },
    {
     "name": "stdout",
     "output_type": "stream",
     "text": [
      "Epoch 61 Loss = 1.363e-04, Acc = 100.00, Loss val = 1.546e-04, Acc val=100.00  \n"
     ]
    },
    {
     "name": "stderr",
     "output_type": "stream",
     "text": [
      "  6%|▋         | 63/1000 [03:11<46:10,  2.96s/it]"
     ]
    },
    {
     "name": "stdout",
     "output_type": "stream",
     "text": [
      "Epoch 62 Loss = 1.569e-04, Acc = 100.00, Loss val = 1.859e-04, Acc val=100.00  \n"
     ]
    },
    {
     "name": "stderr",
     "output_type": "stream",
     "text": [
      "  6%|▋         | 64/1000 [03:14<46:22,  2.97s/it]"
     ]
    },
    {
     "name": "stdout",
     "output_type": "stream",
     "text": [
      "Epoch 63 Loss = 1.843e-04, Acc = 100.00, Loss val = 1.937e-04, Acc val=100.00  \n"
     ]
    },
    {
     "name": "stderr",
     "output_type": "stream",
     "text": [
      "  6%|▋         | 65/1000 [03:17<45:41,  2.93s/it]"
     ]
    },
    {
     "name": "stdout",
     "output_type": "stream",
     "text": [
      "Epoch 64 Loss = 1.932e-04, Acc = 100.00, Loss val = 1.794e-04, Acc val=100.00  \n"
     ]
    },
    {
     "name": "stderr",
     "output_type": "stream",
     "text": [
      "  7%|▋         | 66/1000 [03:19<45:27,  2.92s/it]"
     ]
    },
    {
     "name": "stdout",
     "output_type": "stream",
     "text": [
      "Epoch 65 Loss = 1.796e-04, Acc = 100.00, Loss val = 1.424e-04, Acc val=100.00  \n"
     ]
    },
    {
     "name": "stderr",
     "output_type": "stream",
     "text": [
      "  7%|▋         | 67/1000 [03:22<45:27,  2.92s/it]"
     ]
    },
    {
     "name": "stdout",
     "output_type": "stream",
     "text": [
      "Epoch 66 Loss = 1.429e-04, Acc = 100.00, Loss val = 1.100e-04, Acc val=100.00  \n"
     ]
    },
    {
     "name": "stderr",
     "output_type": "stream",
     "text": [
      "  7%|▋         | 68/1000 [03:25<45:41,  2.94s/it]"
     ]
    },
    {
     "name": "stdout",
     "output_type": "stream",
     "text": [
      "Epoch 67 Loss = 1.087e-04, Acc = 100.00, Loss val = 8.762e-05, Acc val=100.00  \n"
     ]
    },
    {
     "name": "stderr",
     "output_type": "stream",
     "text": [
      "  7%|▋         | 69/1000 [03:28<45:39,  2.94s/it]"
     ]
    },
    {
     "name": "stdout",
     "output_type": "stream",
     "text": [
      "Epoch 68 Loss = 8.805e-05, Acc = 100.00, Loss val = 7.730e-05, Acc val=100.00  \n"
     ]
    },
    {
     "name": "stderr",
     "output_type": "stream",
     "text": [
      "  7%|▋         | 70/1000 [03:31<45:35,  2.94s/it]"
     ]
    },
    {
     "name": "stdout",
     "output_type": "stream",
     "text": [
      "Epoch 69 Loss = 7.706e-05, Acc = 100.00, Loss val = 7.949e-05, Acc val=100.00  \n"
     ]
    },
    {
     "name": "stderr",
     "output_type": "stream",
     "text": [
      "  7%|▋         | 71/1000 [03:34<45:10,  2.92s/it]"
     ]
    },
    {
     "name": "stdout",
     "output_type": "stream",
     "text": [
      "Epoch 70 Loss = 7.915e-05, Acc = 100.00, Loss val = 8.750e-05, Acc val=100.00  \n"
     ]
    },
    {
     "name": "stderr",
     "output_type": "stream",
     "text": [
      "  7%|▋         | 72/1000 [03:37<45:05,  2.91s/it]"
     ]
    },
    {
     "name": "stdout",
     "output_type": "stream",
     "text": [
      "Epoch 71 Loss = 8.691e-05, Acc = 100.00, Loss val = 9.832e-05, Acc val=100.00  \n"
     ]
    },
    {
     "name": "stderr",
     "output_type": "stream",
     "text": [
      "  7%|▋         | 73/1000 [03:40<46:14,  2.99s/it]"
     ]
    },
    {
     "name": "stdout",
     "output_type": "stream",
     "text": [
      "Epoch 72 Loss = 9.847e-05, Acc = 100.00, Loss val = 9.852e-05, Acc val=100.00  \n"
     ]
    },
    {
     "name": "stderr",
     "output_type": "stream",
     "text": [
      "  7%|▋         | 74/1000 [03:43<45:28,  2.95s/it]"
     ]
    },
    {
     "name": "stdout",
     "output_type": "stream",
     "text": [
      "Epoch 73 Loss = 9.989e-05, Acc = 100.00, Loss val = 9.435e-05, Acc val=100.00  \n"
     ]
    },
    {
     "name": "stderr",
     "output_type": "stream",
     "text": [
      "  8%|▊         | 75/1000 [03:46<45:04,  2.92s/it]"
     ]
    },
    {
     "name": "stdout",
     "output_type": "stream",
     "text": [
      "Epoch 74 Loss = 9.434e-05, Acc = 100.00, Loss val = 8.440e-05, Acc val=100.00  \n"
     ]
    },
    {
     "name": "stderr",
     "output_type": "stream",
     "text": [
      "  8%|▊         | 76/1000 [03:49<45:07,  2.93s/it]"
     ]
    },
    {
     "name": "stdout",
     "output_type": "stream",
     "text": [
      "Epoch 75 Loss = 8.319e-05, Acc = 100.00, Loss val = 7.394e-05, Acc val=100.00  \n"
     ]
    },
    {
     "name": "stderr",
     "output_type": "stream",
     "text": [
      "  8%|▊         | 77/1000 [03:52<45:31,  2.96s/it]"
     ]
    },
    {
     "name": "stdout",
     "output_type": "stream",
     "text": [
      "Epoch 76 Loss = 7.362e-05, Acc = 100.00, Loss val = 6.740e-05, Acc val=100.00  \n"
     ]
    },
    {
     "name": "stderr",
     "output_type": "stream",
     "text": [
      "  8%|▊         | 78/1000 [03:55<45:47,  2.98s/it]"
     ]
    },
    {
     "name": "stdout",
     "output_type": "stream",
     "text": [
      "Epoch 77 Loss = 6.822e-05, Acc = 100.00, Loss val = 6.574e-05, Acc val=100.00  \n"
     ]
    },
    {
     "name": "stderr",
     "output_type": "stream",
     "text": [
      "  8%|▊         | 79/1000 [03:58<46:27,  3.03s/it]"
     ]
    },
    {
     "name": "stdout",
     "output_type": "stream",
     "text": [
      "Epoch 78 Loss = 6.633e-05, Acc = 100.00, Loss val = 6.644e-05, Acc val=100.00  \n"
     ]
    },
    {
     "name": "stderr",
     "output_type": "stream",
     "text": [
      "  8%|▊         | 80/1000 [04:01<47:16,  3.08s/it]"
     ]
    },
    {
     "name": "stdout",
     "output_type": "stream",
     "text": [
      "Epoch 79 Loss = 6.779e-05, Acc = 100.00, Loss val = 6.863e-05, Acc val=100.00  \n"
     ]
    },
    {
     "name": "stderr",
     "output_type": "stream",
     "text": [
      "  8%|▊         | 81/1000 [04:04<46:32,  3.04s/it]"
     ]
    },
    {
     "name": "stdout",
     "output_type": "stream",
     "text": [
      "Epoch 80 Loss = 6.951e-05, Acc = 100.00, Loss val = 7.058e-05, Acc val=100.00  \n"
     ]
    },
    {
     "name": "stderr",
     "output_type": "stream",
     "text": [
      "  8%|▊         | 82/1000 [04:07<45:45,  2.99s/it]"
     ]
    },
    {
     "name": "stdout",
     "output_type": "stream",
     "text": [
      "Epoch 81 Loss = 6.977e-05, Acc = 100.00, Loss val = 7.014e-05, Acc val=100.00  \n"
     ]
    },
    {
     "name": "stderr",
     "output_type": "stream",
     "text": [
      "  8%|▊         | 83/1000 [04:10<46:02,  3.01s/it]"
     ]
    },
    {
     "name": "stdout",
     "output_type": "stream",
     "text": [
      "Epoch 82 Loss = 7.017e-05, Acc = 100.00, Loss val = 6.760e-05, Acc val=100.00  \n"
     ]
    },
    {
     "name": "stderr",
     "output_type": "stream",
     "text": [
      "  8%|▊         | 84/1000 [04:13<47:20,  3.10s/it]"
     ]
    },
    {
     "name": "stdout",
     "output_type": "stream",
     "text": [
      "Epoch 83 Loss = 6.780e-05, Acc = 100.00, Loss val = 6.427e-05, Acc val=100.00  \n"
     ]
    },
    {
     "name": "stderr",
     "output_type": "stream",
     "text": [
      "  8%|▊         | 85/1000 [04:17<48:54,  3.21s/it]"
     ]
    },
    {
     "name": "stdout",
     "output_type": "stream",
     "text": [
      "Epoch 84 Loss = 6.509e-05, Acc = 100.00, Loss val = 6.053e-05, Acc val=100.00  \n"
     ]
    },
    {
     "name": "stderr",
     "output_type": "stream",
     "text": [
      "  9%|▊         | 86/1000 [04:20<47:54,  3.14s/it]"
     ]
    },
    {
     "name": "stdout",
     "output_type": "stream",
     "text": [
      "Epoch 85 Loss = 6.026e-05, Acc = 100.00, Loss val = 5.750e-05, Acc val=100.00  \n"
     ]
    },
    {
     "name": "stderr",
     "output_type": "stream",
     "text": [
      "  9%|▊         | 87/1000 [04:23<46:33,  3.06s/it]"
     ]
    },
    {
     "name": "stdout",
     "output_type": "stream",
     "text": [
      "Epoch 86 Loss = 5.747e-05, Acc = 100.00, Loss val = 5.424e-05, Acc val=100.00  \n"
     ]
    },
    {
     "name": "stderr",
     "output_type": "stream",
     "text": [
      "  9%|▉         | 88/1000 [04:26<45:40,  3.00s/it]"
     ]
    },
    {
     "name": "stdout",
     "output_type": "stream",
     "text": [
      "Epoch 87 Loss = 5.464e-05, Acc = 100.00, Loss val = 5.346e-05, Acc val=100.00  \n"
     ]
    },
    {
     "name": "stderr",
     "output_type": "stream",
     "text": [
      "  9%|▉         | 89/1000 [04:29<45:19,  2.98s/it]"
     ]
    },
    {
     "name": "stdout",
     "output_type": "stream",
     "text": [
      "Epoch 88 Loss = 5.376e-05, Acc = 100.00, Loss val = 5.310e-05, Acc val=100.00  \n"
     ]
    },
    {
     "name": "stderr",
     "output_type": "stream",
     "text": [
      "  9%|▉         | 90/1000 [04:32<45:07,  2.98s/it]"
     ]
    },
    {
     "name": "stdout",
     "output_type": "stream",
     "text": [
      "Epoch 89 Loss = 5.284e-05, Acc = 100.00, Loss val = 5.350e-05, Acc val=100.00  \n"
     ]
    },
    {
     "name": "stderr",
     "output_type": "stream",
     "text": [
      "  9%|▉         | 91/1000 [04:35<45:47,  3.02s/it]"
     ]
    },
    {
     "name": "stdout",
     "output_type": "stream",
     "text": [
      "Epoch 90 Loss = 5.329e-05, Acc = 100.00, Loss val = 5.462e-05, Acc val=100.00  \n"
     ]
    },
    {
     "name": "stderr",
     "output_type": "stream",
     "text": [
      "  9%|▉         | 92/1000 [04:38<46:25,  3.07s/it]"
     ]
    },
    {
     "name": "stdout",
     "output_type": "stream",
     "text": [
      "Epoch 91 Loss = 5.562e-05, Acc = 100.00, Loss val = 5.521e-05, Acc val=100.00  \n"
     ]
    },
    {
     "name": "stderr",
     "output_type": "stream",
     "text": [
      "  9%|▉         | 93/1000 [04:41<48:10,  3.19s/it]"
     ]
    },
    {
     "name": "stdout",
     "output_type": "stream",
     "text": [
      "Epoch 92 Loss = 5.454e-05, Acc = 100.00, Loss val = 5.472e-05, Acc val=100.00  \n"
     ]
    },
    {
     "name": "stderr",
     "output_type": "stream",
     "text": [
      "  9%|▉         | 94/1000 [04:45<49:33,  3.28s/it]"
     ]
    },
    {
     "name": "stdout",
     "output_type": "stream",
     "text": [
      "Epoch 93 Loss = 5.419e-05, Acc = 100.00, Loss val = 5.389e-05, Acc val=100.00  \n"
     ]
    },
    {
     "name": "stderr",
     "output_type": "stream",
     "text": [
      " 10%|▉         | 95/1000 [04:48<48:40,  3.23s/it]"
     ]
    },
    {
     "name": "stdout",
     "output_type": "stream",
     "text": [
      "Epoch 94 Loss = 5.351e-05, Acc = 100.00, Loss val = 5.221e-05, Acc val=100.00  \n"
     ]
    },
    {
     "name": "stderr",
     "output_type": "stream",
     "text": [
      " 10%|▉         | 96/1000 [04:51<48:18,  3.21s/it]"
     ]
    },
    {
     "name": "stdout",
     "output_type": "stream",
     "text": [
      "Epoch 95 Loss = 5.163e-05, Acc = 100.00, Loss val = 5.049e-05, Acc val=100.00  \n"
     ]
    },
    {
     "name": "stderr",
     "output_type": "stream",
     "text": [
      " 10%|▉         | 97/1000 [04:54<47:03,  3.13s/it]"
     ]
    },
    {
     "name": "stdout",
     "output_type": "stream",
     "text": [
      "Epoch 96 Loss = 5.032e-05, Acc = 100.00, Loss val = 4.957e-05, Acc val=100.00  \n"
     ]
    },
    {
     "name": "stderr",
     "output_type": "stream",
     "text": [
      " 10%|▉         | 98/1000 [04:57<45:39,  3.04s/it]"
     ]
    },
    {
     "name": "stdout",
     "output_type": "stream",
     "text": [
      "Epoch 97 Loss = 4.994e-05, Acc = 100.00, Loss val = 4.939e-05, Acc val=100.00  \n"
     ]
    },
    {
     "name": "stderr",
     "output_type": "stream",
     "text": [
      " 10%|▉         | 99/1000 [05:00<44:58,  3.00s/it]"
     ]
    },
    {
     "name": "stdout",
     "output_type": "stream",
     "text": [
      "Epoch 98 Loss = 4.891e-05, Acc = 100.00, Loss val = 4.866e-05, Acc val=100.00  \n"
     ]
    },
    {
     "name": "stderr",
     "output_type": "stream",
     "text": [
      " 10%|█         | 100/1000 [05:03<44:54,  2.99s/it]"
     ]
    },
    {
     "name": "stdout",
     "output_type": "stream",
     "text": [
      "Epoch 99 Loss = 4.913e-05, Acc = 100.00, Loss val = 4.867e-05, Acc val=100.00  \n"
     ]
    },
    {
     "name": "stderr",
     "output_type": "stream",
     "text": [
      " 10%|█         | 101/1000 [05:06<44:38,  2.98s/it]"
     ]
    },
    {
     "name": "stdout",
     "output_type": "stream",
     "text": [
      "Epoch 100 Loss = 4.962e-05, Acc = 100.00, Loss val = 4.900e-05, Acc val=100.00  \n"
     ]
    },
    {
     "name": "stderr",
     "output_type": "stream",
     "text": [
      " 10%|█         | 102/1000 [05:09<44:16,  2.96s/it]"
     ]
    },
    {
     "name": "stdout",
     "output_type": "stream",
     "text": [
      "Epoch 101 Loss = 4.885e-05, Acc = 100.00, Loss val = 4.878e-05, Acc val=100.00  \n"
     ]
    },
    {
     "name": "stderr",
     "output_type": "stream",
     "text": [
      " 10%|█         | 103/1000 [05:12<44:10,  2.95s/it]"
     ]
    },
    {
     "name": "stdout",
     "output_type": "stream",
     "text": [
      "Epoch 102 Loss = 4.840e-05, Acc = 100.00, Loss val = 4.852e-05, Acc val=100.00  \n"
     ]
    },
    {
     "name": "stderr",
     "output_type": "stream",
     "text": [
      " 10%|█         | 104/1000 [05:14<44:08,  2.96s/it]"
     ]
    },
    {
     "name": "stdout",
     "output_type": "stream",
     "text": [
      "Epoch 103 Loss = 4.822e-05, Acc = 100.00, Loss val = 4.824e-05, Acc val=100.00  \n"
     ]
    },
    {
     "name": "stderr",
     "output_type": "stream",
     "text": [
      " 10%|█         | 105/1000 [05:17<43:54,  2.94s/it]"
     ]
    },
    {
     "name": "stdout",
     "output_type": "stream",
     "text": [
      "Epoch 104 Loss = 4.836e-05, Acc = 100.00, Loss val = 4.719e-05, Acc val=100.00  \n"
     ]
    },
    {
     "name": "stderr",
     "output_type": "stream",
     "text": [
      " 11%|█         | 106/1000 [05:20<43:38,  2.93s/it]"
     ]
    },
    {
     "name": "stdout",
     "output_type": "stream",
     "text": [
      "Epoch 105 Loss = 4.749e-05, Acc = 100.00, Loss val = 4.632e-05, Acc val=100.00  \n"
     ]
    },
    {
     "name": "stderr",
     "output_type": "stream",
     "text": [
      " 11%|█         | 107/1000 [05:23<43:35,  2.93s/it]"
     ]
    },
    {
     "name": "stdout",
     "output_type": "stream",
     "text": [
      "Epoch 106 Loss = 4.692e-05, Acc = 100.00, Loss val = 4.621e-05, Acc val=100.00  \n"
     ]
    },
    {
     "name": "stderr",
     "output_type": "stream",
     "text": [
      " 11%|█         | 108/1000 [05:26<43:36,  2.93s/it]"
     ]
    },
    {
     "name": "stdout",
     "output_type": "stream",
     "text": [
      "Epoch 107 Loss = 4.615e-05, Acc = 100.00, Loss val = 4.593e-05, Acc val=100.00  \n"
     ]
    },
    {
     "name": "stderr",
     "output_type": "stream",
     "text": [
      " 11%|█         | 109/1000 [05:29<43:56,  2.96s/it]"
     ]
    },
    {
     "name": "stdout",
     "output_type": "stream",
     "text": [
      "Epoch 108 Loss = 4.620e-05, Acc = 100.00, Loss val = 4.568e-05, Acc val=100.00  \n"
     ]
    },
    {
     "name": "stderr",
     "output_type": "stream",
     "text": [
      " 11%|█         | 110/1000 [05:32<43:50,  2.96s/it]"
     ]
    },
    {
     "name": "stdout",
     "output_type": "stream",
     "text": [
      "Epoch 109 Loss = 4.526e-05, Acc = 100.00, Loss val = 4.535e-05, Acc val=100.00  \n"
     ]
    },
    {
     "name": "stderr",
     "output_type": "stream",
     "text": [
      " 11%|█         | 111/1000 [05:35<43:47,  2.96s/it]"
     ]
    },
    {
     "name": "stdout",
     "output_type": "stream",
     "text": [
      "Epoch 110 Loss = 4.478e-05, Acc = 100.00, Loss val = 4.522e-05, Acc val=100.00  \n"
     ]
    },
    {
     "name": "stderr",
     "output_type": "stream",
     "text": [
      " 11%|█         | 112/1000 [05:38<44:12,  2.99s/it]"
     ]
    },
    {
     "name": "stdout",
     "output_type": "stream",
     "text": [
      "Epoch 111 Loss = 4.473e-05, Acc = 100.00, Loss val = 4.543e-05, Acc val=100.00  \n"
     ]
    },
    {
     "name": "stderr",
     "output_type": "stream",
     "text": [
      " 11%|█▏        | 113/1000 [05:41<43:54,  2.97s/it]"
     ]
    },
    {
     "name": "stdout",
     "output_type": "stream",
     "text": [
      "Epoch 112 Loss = 4.510e-05, Acc = 100.00, Loss val = 4.522e-05, Acc val=100.00  \n"
     ]
    },
    {
     "name": "stderr",
     "output_type": "stream",
     "text": [
      " 11%|█▏        | 114/1000 [05:44<44:46,  3.03s/it]"
     ]
    },
    {
     "name": "stdout",
     "output_type": "stream",
     "text": [
      "Epoch 113 Loss = 4.454e-05, Acc = 100.00, Loss val = 4.472e-05, Acc val=100.00  \n"
     ]
    },
    {
     "name": "stderr",
     "output_type": "stream",
     "text": [
      " 12%|█▏        | 115/1000 [05:47<44:24,  3.01s/it]"
     ]
    },
    {
     "name": "stdout",
     "output_type": "stream",
     "text": [
      "Epoch 114 Loss = 4.444e-05, Acc = 100.00, Loss val = 4.395e-05, Acc val=100.00  \n"
     ]
    },
    {
     "name": "stderr",
     "output_type": "stream",
     "text": [
      " 12%|█▏        | 116/1000 [05:50<44:31,  3.02s/it]"
     ]
    },
    {
     "name": "stdout",
     "output_type": "stream",
     "text": [
      "Epoch 115 Loss = 4.386e-05, Acc = 100.00, Loss val = 4.400e-05, Acc val=100.00  \n"
     ]
    },
    {
     "name": "stderr",
     "output_type": "stream",
     "text": [
      " 12%|█▏        | 117/1000 [05:53<44:16,  3.01s/it]"
     ]
    },
    {
     "name": "stdout",
     "output_type": "stream",
     "text": [
      "Epoch 116 Loss = 4.364e-05, Acc = 100.00, Loss val = 4.416e-05, Acc val=100.00  \n"
     ]
    },
    {
     "name": "stderr",
     "output_type": "stream",
     "text": [
      " 12%|█▏        | 118/1000 [05:56<43:49,  2.98s/it]"
     ]
    },
    {
     "name": "stdout",
     "output_type": "stream",
     "text": [
      "Epoch 117 Loss = 4.316e-05, Acc = 100.00, Loss val = 4.269e-05, Acc val=100.00  \n"
     ]
    },
    {
     "name": "stderr",
     "output_type": "stream",
     "text": [
      " 12%|█▏        | 119/1000 [05:59<43:25,  2.96s/it]"
     ]
    },
    {
     "name": "stdout",
     "output_type": "stream",
     "text": [
      "Epoch 118 Loss = 4.335e-05, Acc = 100.00, Loss val = 4.326e-05, Acc val=100.00  \n"
     ]
    },
    {
     "name": "stderr",
     "output_type": "stream",
     "text": [
      " 12%|█▏        | 120/1000 [06:02<43:24,  2.96s/it]"
     ]
    },
    {
     "name": "stdout",
     "output_type": "stream",
     "text": [
      "Epoch 119 Loss = 4.253e-05, Acc = 100.00, Loss val = 4.310e-05, Acc val=100.00  \n"
     ]
    },
    {
     "name": "stderr",
     "output_type": "stream",
     "text": [
      " 12%|█▏        | 121/1000 [06:05<43:09,  2.95s/it]"
     ]
    },
    {
     "name": "stdout",
     "output_type": "stream",
     "text": [
      "Epoch 120 Loss = 4.316e-05, Acc = 100.00, Loss val = 4.220e-05, Acc val=100.00  \n"
     ]
    },
    {
     "name": "stderr",
     "output_type": "stream",
     "text": [
      " 12%|█▏        | 122/1000 [06:08<42:47,  2.92s/it]"
     ]
    },
    {
     "name": "stdout",
     "output_type": "stream",
     "text": [
      "Epoch 121 Loss = 4.245e-05, Acc = 100.00, Loss val = 4.272e-05, Acc val=100.00  \n"
     ]
    },
    {
     "name": "stderr",
     "output_type": "stream",
     "text": [
      " 12%|█▏        | 123/1000 [06:11<43:16,  2.96s/it]"
     ]
    },
    {
     "name": "stdout",
     "output_type": "stream",
     "text": [
      "Epoch 122 Loss = 4.265e-05, Acc = 100.00, Loss val = 4.166e-05, Acc val=100.00  \n"
     ]
    },
    {
     "name": "stderr",
     "output_type": "stream",
     "text": [
      " 12%|█▏        | 124/1000 [06:14<42:55,  2.94s/it]"
     ]
    },
    {
     "name": "stdout",
     "output_type": "stream",
     "text": [
      "Epoch 123 Loss = 4.170e-05, Acc = 100.00, Loss val = 4.192e-05, Acc val=100.00  \n"
     ]
    },
    {
     "name": "stderr",
     "output_type": "stream",
     "text": [
      " 12%|█▎        | 125/1000 [06:17<42:34,  2.92s/it]"
     ]
    },
    {
     "name": "stdout",
     "output_type": "stream",
     "text": [
      "Epoch 124 Loss = 4.177e-05, Acc = 100.00, Loss val = 4.156e-05, Acc val=100.00  \n"
     ]
    },
    {
     "name": "stderr",
     "output_type": "stream",
     "text": [
      " 13%|█▎        | 126/1000 [06:19<42:20,  2.91s/it]"
     ]
    },
    {
     "name": "stdout",
     "output_type": "stream",
     "text": [
      "Epoch 125 Loss = 4.149e-05, Acc = 100.00, Loss val = 4.140e-05, Acc val=100.00  \n"
     ]
    },
    {
     "name": "stderr",
     "output_type": "stream",
     "text": [
      " 13%|█▎        | 127/1000 [06:22<42:24,  2.91s/it]"
     ]
    },
    {
     "name": "stdout",
     "output_type": "stream",
     "text": [
      "Epoch 126 Loss = 4.140e-05, Acc = 100.00, Loss val = 4.112e-05, Acc val=100.00  \n"
     ]
    },
    {
     "name": "stderr",
     "output_type": "stream",
     "text": [
      " 13%|█▎        | 128/1000 [06:25<42:36,  2.93s/it]"
     ]
    },
    {
     "name": "stdout",
     "output_type": "stream",
     "text": [
      "Epoch 127 Loss = 4.148e-05, Acc = 100.00, Loss val = 4.082e-05, Acc val=100.00  \n"
     ]
    },
    {
     "name": "stderr",
     "output_type": "stream",
     "text": [
      " 13%|█▎        | 129/1000 [06:28<42:20,  2.92s/it]"
     ]
    },
    {
     "name": "stdout",
     "output_type": "stream",
     "text": [
      "Epoch 128 Loss = 4.116e-05, Acc = 100.00, Loss val = 4.095e-05, Acc val=100.00  \n"
     ]
    },
    {
     "name": "stderr",
     "output_type": "stream",
     "text": [
      " 13%|█▎        | 130/1000 [06:31<42:28,  2.93s/it]"
     ]
    },
    {
     "name": "stdout",
     "output_type": "stream",
     "text": [
      "Epoch 129 Loss = 4.073e-05, Acc = 100.00, Loss val = 4.073e-05, Acc val=100.00  \n"
     ]
    },
    {
     "name": "stderr",
     "output_type": "stream",
     "text": [
      " 13%|█▎        | 131/1000 [06:34<42:16,  2.92s/it]"
     ]
    },
    {
     "name": "stdout",
     "output_type": "stream",
     "text": [
      "Epoch 130 Loss = 4.033e-05, Acc = 100.00, Loss val = 4.022e-05, Acc val=100.00  \n"
     ]
    },
    {
     "name": "stderr",
     "output_type": "stream",
     "text": [
      " 13%|█▎        | 132/1000 [06:37<42:17,  2.92s/it]"
     ]
    },
    {
     "name": "stdout",
     "output_type": "stream",
     "text": [
      "Epoch 131 Loss = 4.074e-05, Acc = 100.00, Loss val = 4.019e-05, Acc val=100.00  \n"
     ]
    },
    {
     "name": "stderr",
     "output_type": "stream",
     "text": [
      " 13%|█▎        | 133/1000 [06:40<42:46,  2.96s/it]"
     ]
    },
    {
     "name": "stdout",
     "output_type": "stream",
     "text": [
      "Epoch 132 Loss = 4.034e-05, Acc = 100.00, Loss val = 3.984e-05, Acc val=100.00  \n"
     ]
    },
    {
     "name": "stderr",
     "output_type": "stream",
     "text": [
      " 13%|█▎        | 134/1000 [06:43<42:34,  2.95s/it]"
     ]
    },
    {
     "name": "stdout",
     "output_type": "stream",
     "text": [
      "Epoch 133 Loss = 4.009e-05, Acc = 100.00, Loss val = 3.992e-05, Acc val=100.00  \n"
     ]
    },
    {
     "name": "stderr",
     "output_type": "stream",
     "text": [
      " 14%|█▎        | 135/1000 [06:46<42:27,  2.95s/it]"
     ]
    },
    {
     "name": "stdout",
     "output_type": "stream",
     "text": [
      "Epoch 134 Loss = 3.976e-05, Acc = 100.00, Loss val = 3.935e-05, Acc val=100.00  \n"
     ]
    },
    {
     "name": "stderr",
     "output_type": "stream",
     "text": [
      " 14%|█▎        | 136/1000 [06:49<42:09,  2.93s/it]"
     ]
    },
    {
     "name": "stdout",
     "output_type": "stream",
     "text": [
      "Epoch 135 Loss = 3.916e-05, Acc = 100.00, Loss val = 3.909e-05, Acc val=100.00  \n"
     ]
    },
    {
     "name": "stderr",
     "output_type": "stream",
     "text": [
      " 14%|█▎        | 137/1000 [06:52<42:09,  2.93s/it]"
     ]
    },
    {
     "name": "stdout",
     "output_type": "stream",
     "text": [
      "Epoch 136 Loss = 3.864e-05, Acc = 100.00, Loss val = 3.954e-05, Acc val=100.00  \n"
     ]
    },
    {
     "name": "stderr",
     "output_type": "stream",
     "text": [
      " 14%|█▍        | 138/1000 [06:55<41:58,  2.92s/it]"
     ]
    },
    {
     "name": "stdout",
     "output_type": "stream",
     "text": [
      "Epoch 137 Loss = 3.878e-05, Acc = 100.00, Loss val = 3.926e-05, Acc val=100.00  \n"
     ]
    },
    {
     "name": "stderr",
     "output_type": "stream",
     "text": [
      " 14%|█▍        | 139/1000 [06:58<41:49,  2.91s/it]"
     ]
    },
    {
     "name": "stdout",
     "output_type": "stream",
     "text": [
      "Epoch 138 Loss = 3.931e-05, Acc = 100.00, Loss val = 3.872e-05, Acc val=100.00  \n"
     ]
    },
    {
     "name": "stderr",
     "output_type": "stream",
     "text": [
      " 14%|█▍        | 140/1000 [07:01<41:59,  2.93s/it]"
     ]
    },
    {
     "name": "stdout",
     "output_type": "stream",
     "text": [
      "Epoch 139 Loss = 3.869e-05, Acc = 100.00, Loss val = 3.838e-05, Acc val=100.00  \n"
     ]
    },
    {
     "name": "stderr",
     "output_type": "stream",
     "text": [
      " 14%|█▍        | 141/1000 [07:03<41:52,  2.93s/it]"
     ]
    },
    {
     "name": "stdout",
     "output_type": "stream",
     "text": [
      "Epoch 140 Loss = 3.844e-05, Acc = 100.00, Loss val = 3.846e-05, Acc val=100.00  \n"
     ]
    },
    {
     "name": "stderr",
     "output_type": "stream",
     "text": [
      " 14%|█▍        | 142/1000 [07:06<41:50,  2.93s/it]"
     ]
    },
    {
     "name": "stdout",
     "output_type": "stream",
     "text": [
      "Epoch 141 Loss = 3.844e-05, Acc = 100.00, Loss val = 3.829e-05, Acc val=100.00  \n"
     ]
    },
    {
     "name": "stderr",
     "output_type": "stream",
     "text": [
      " 14%|█▍        | 143/1000 [07:09<41:50,  2.93s/it]"
     ]
    },
    {
     "name": "stdout",
     "output_type": "stream",
     "text": [
      "Epoch 142 Loss = 3.800e-05, Acc = 100.00, Loss val = 3.803e-05, Acc val=100.00  \n"
     ]
    },
    {
     "name": "stderr",
     "output_type": "stream",
     "text": [
      " 14%|█▍        | 144/1000 [07:12<41:55,  2.94s/it]"
     ]
    },
    {
     "name": "stdout",
     "output_type": "stream",
     "text": [
      "Epoch 143 Loss = 3.803e-05, Acc = 100.00, Loss val = 3.759e-05, Acc val=100.00  \n"
     ]
    },
    {
     "name": "stderr",
     "output_type": "stream",
     "text": [
      " 14%|█▍        | 145/1000 [07:15<41:39,  2.92s/it]"
     ]
    },
    {
     "name": "stdout",
     "output_type": "stream",
     "text": [
      "Epoch 144 Loss = 3.749e-05, Acc = 100.00, Loss val = 3.772e-05, Acc val=100.00  \n"
     ]
    },
    {
     "name": "stderr",
     "output_type": "stream",
     "text": [
      " 15%|█▍        | 146/1000 [07:18<41:29,  2.91s/it]"
     ]
    },
    {
     "name": "stdout",
     "output_type": "stream",
     "text": [
      "Epoch 145 Loss = 3.753e-05, Acc = 100.00, Loss val = 3.736e-05, Acc val=100.00  \n"
     ]
    },
    {
     "name": "stderr",
     "output_type": "stream",
     "text": [
      " 15%|█▍        | 147/1000 [07:21<41:46,  2.94s/it]"
     ]
    },
    {
     "name": "stdout",
     "output_type": "stream",
     "text": [
      "Epoch 146 Loss = 3.714e-05, Acc = 100.00, Loss val = 3.749e-05, Acc val=100.00  \n"
     ]
    },
    {
     "name": "stderr",
     "output_type": "stream",
     "text": [
      " 15%|█▍        | 148/1000 [07:24<41:44,  2.94s/it]"
     ]
    },
    {
     "name": "stdout",
     "output_type": "stream",
     "text": [
      "Epoch 147 Loss = 3.752e-05, Acc = 100.00, Loss val = 3.683e-05, Acc val=100.00  \n"
     ]
    },
    {
     "name": "stderr",
     "output_type": "stream",
     "text": [
      " 15%|█▍        | 149/1000 [07:27<41:48,  2.95s/it]"
     ]
    },
    {
     "name": "stdout",
     "output_type": "stream",
     "text": [
      "Epoch 148 Loss = 3.690e-05, Acc = 100.00, Loss val = 3.704e-05, Acc val=100.00  \n"
     ]
    },
    {
     "name": "stderr",
     "output_type": "stream",
     "text": [
      " 15%|█▌        | 150/1000 [07:30<41:32,  2.93s/it]"
     ]
    },
    {
     "name": "stdout",
     "output_type": "stream",
     "text": [
      "Epoch 149 Loss = 3.686e-05, Acc = 100.00, Loss val = 3.683e-05, Acc val=100.00  \n"
     ]
    },
    {
     "name": "stderr",
     "output_type": "stream",
     "text": [
      " 15%|█▌        | 151/1000 [07:33<41:15,  2.92s/it]"
     ]
    },
    {
     "name": "stdout",
     "output_type": "stream",
     "text": [
      "Epoch 150 Loss = 3.669e-05, Acc = 100.00, Loss val = 3.651e-05, Acc val=100.00  \n"
     ]
    },
    {
     "name": "stderr",
     "output_type": "stream",
     "text": [
      " 15%|█▌        | 152/1000 [07:36<40:58,  2.90s/it]"
     ]
    },
    {
     "name": "stdout",
     "output_type": "stream",
     "text": [
      "Epoch 151 Loss = 3.630e-05, Acc = 100.00, Loss val = 3.617e-05, Acc val=100.00  \n"
     ]
    },
    {
     "name": "stderr",
     "output_type": "stream",
     "text": [
      " 15%|█▌        | 153/1000 [07:39<40:59,  2.90s/it]"
     ]
    },
    {
     "name": "stdout",
     "output_type": "stream",
     "text": [
      "Epoch 152 Loss = 3.622e-05, Acc = 100.00, Loss val = 3.597e-05, Acc val=100.00  \n"
     ]
    },
    {
     "name": "stderr",
     "output_type": "stream",
     "text": [
      " 15%|█▌        | 154/1000 [07:41<40:54,  2.90s/it]"
     ]
    },
    {
     "name": "stdout",
     "output_type": "stream",
     "text": [
      "Epoch 153 Loss = 3.620e-05, Acc = 100.00, Loss val = 3.578e-05, Acc val=100.00  \n"
     ]
    },
    {
     "name": "stderr",
     "output_type": "stream",
     "text": [
      " 16%|█▌        | 155/1000 [07:44<40:50,  2.90s/it]"
     ]
    },
    {
     "name": "stdout",
     "output_type": "stream",
     "text": [
      "Epoch 154 Loss = 3.591e-05, Acc = 100.00, Loss val = 3.575e-05, Acc val=100.00  \n"
     ]
    },
    {
     "name": "stderr",
     "output_type": "stream",
     "text": [
      " 16%|█▌        | 156/1000 [07:47<40:55,  2.91s/it]"
     ]
    },
    {
     "name": "stdout",
     "output_type": "stream",
     "text": [
      "Epoch 155 Loss = 3.573e-05, Acc = 100.00, Loss val = 3.581e-05, Acc val=100.00  \n"
     ]
    },
    {
     "name": "stderr",
     "output_type": "stream",
     "text": [
      " 16%|█▌        | 157/1000 [07:50<41:18,  2.94s/it]"
     ]
    },
    {
     "name": "stdout",
     "output_type": "stream",
     "text": [
      "Epoch 156 Loss = 3.571e-05, Acc = 100.00, Loss val = 3.494e-05, Acc val=100.00  \n"
     ]
    },
    {
     "name": "stderr",
     "output_type": "stream",
     "text": [
      " 16%|█▌        | 158/1000 [07:53<41:06,  2.93s/it]"
     ]
    },
    {
     "name": "stdout",
     "output_type": "stream",
     "text": [
      "Epoch 157 Loss = 3.556e-05, Acc = 100.00, Loss val = 3.533e-05, Acc val=100.00  \n"
     ]
    },
    {
     "name": "stderr",
     "output_type": "stream",
     "text": [
      " 16%|█▌        | 159/1000 [07:56<41:28,  2.96s/it]"
     ]
    },
    {
     "name": "stdout",
     "output_type": "stream",
     "text": [
      "Epoch 158 Loss = 3.522e-05, Acc = 100.00, Loss val = 3.474e-05, Acc val=100.00  \n"
     ]
    },
    {
     "name": "stderr",
     "output_type": "stream",
     "text": [
      " 16%|█▌        | 160/1000 [07:59<41:29,  2.96s/it]"
     ]
    },
    {
     "name": "stdout",
     "output_type": "stream",
     "text": [
      "Epoch 159 Loss = 3.464e-05, Acc = 100.00, Loss val = 3.510e-05, Acc val=100.00  \n"
     ]
    },
    {
     "name": "stderr",
     "output_type": "stream",
     "text": [
      " 16%|█▌        | 161/1000 [08:02<41:26,  2.96s/it]"
     ]
    },
    {
     "name": "stdout",
     "output_type": "stream",
     "text": [
      "Epoch 160 Loss = 3.509e-05, Acc = 100.00, Loss val = 3.454e-05, Acc val=100.00  \n"
     ]
    },
    {
     "name": "stderr",
     "output_type": "stream",
     "text": [
      " 16%|█▌        | 162/1000 [08:05<41:19,  2.96s/it]"
     ]
    },
    {
     "name": "stdout",
     "output_type": "stream",
     "text": [
      "Epoch 161 Loss = 3.505e-05, Acc = 100.00, Loss val = 3.467e-05, Acc val=100.00  \n"
     ]
    },
    {
     "name": "stderr",
     "output_type": "stream",
     "text": [
      " 16%|█▋        | 163/1000 [08:08<41:14,  2.96s/it]"
     ]
    },
    {
     "name": "stdout",
     "output_type": "stream",
     "text": [
      "Epoch 162 Loss = 3.459e-05, Acc = 100.00, Loss val = 3.448e-05, Acc val=100.00  \n"
     ]
    },
    {
     "name": "stderr",
     "output_type": "stream",
     "text": [
      " 16%|█▋        | 164/1000 [08:11<40:48,  2.93s/it]"
     ]
    },
    {
     "name": "stdout",
     "output_type": "stream",
     "text": [
      "Epoch 163 Loss = 3.440e-05, Acc = 100.00, Loss val = 3.444e-05, Acc val=100.00  \n"
     ]
    },
    {
     "name": "stderr",
     "output_type": "stream",
     "text": [
      " 16%|█▋        | 165/1000 [08:14<40:43,  2.93s/it]"
     ]
    },
    {
     "name": "stdout",
     "output_type": "stream",
     "text": [
      "Epoch 164 Loss = 3.423e-05, Acc = 100.00, Loss val = 3.413e-05, Acc val=100.00  \n"
     ]
    },
    {
     "name": "stderr",
     "output_type": "stream",
     "text": [
      " 17%|█▋        | 166/1000 [08:17<40:32,  2.92s/it]"
     ]
    },
    {
     "name": "stdout",
     "output_type": "stream",
     "text": [
      "Epoch 165 Loss = 3.417e-05, Acc = 100.00, Loss val = 3.433e-05, Acc val=100.00  \n"
     ]
    },
    {
     "name": "stderr",
     "output_type": "stream",
     "text": [
      " 17%|█▋        | 167/1000 [08:20<40:29,  2.92s/it]"
     ]
    },
    {
     "name": "stdout",
     "output_type": "stream",
     "text": [
      "Epoch 166 Loss = 3.374e-05, Acc = 100.00, Loss val = 3.322e-05, Acc val=100.00  \n"
     ]
    },
    {
     "name": "stderr",
     "output_type": "stream",
     "text": [
      " 17%|█▋        | 168/1000 [08:23<40:36,  2.93s/it]"
     ]
    },
    {
     "name": "stdout",
     "output_type": "stream",
     "text": [
      "Epoch 167 Loss = 3.389e-05, Acc = 100.00, Loss val = 3.389e-05, Acc val=100.00  \n"
     ]
    },
    {
     "name": "stderr",
     "output_type": "stream",
     "text": [
      " 17%|█▋        | 169/1000 [08:26<40:29,  2.92s/it]"
     ]
    },
    {
     "name": "stdout",
     "output_type": "stream",
     "text": [
      "Epoch 168 Loss = 3.392e-05, Acc = 100.00, Loss val = 3.348e-05, Acc val=100.00  \n"
     ]
    },
    {
     "name": "stderr",
     "output_type": "stream",
     "text": [
      " 17%|█▋        | 170/1000 [08:28<40:20,  2.92s/it]"
     ]
    },
    {
     "name": "stdout",
     "output_type": "stream",
     "text": [
      "Epoch 169 Loss = 3.376e-05, Acc = 100.00, Loss val = 3.335e-05, Acc val=100.00  \n"
     ]
    },
    {
     "name": "stderr",
     "output_type": "stream",
     "text": [
      " 17%|█▋        | 171/1000 [08:31<40:17,  2.92s/it]"
     ]
    },
    {
     "name": "stdout",
     "output_type": "stream",
     "text": [
      "Epoch 170 Loss = 3.391e-05, Acc = 100.00, Loss val = 3.282e-05, Acc val=100.00  \n"
     ]
    },
    {
     "name": "stderr",
     "output_type": "stream",
     "text": [
      " 17%|█▋        | 172/1000 [08:34<40:10,  2.91s/it]"
     ]
    },
    {
     "name": "stdout",
     "output_type": "stream",
     "text": [
      "Epoch 171 Loss = 3.276e-05, Acc = 100.00, Loss val = 3.298e-05, Acc val=100.00  \n"
     ]
    },
    {
     "name": "stderr",
     "output_type": "stream",
     "text": [
      " 17%|█▋        | 173/1000 [08:37<40:26,  2.93s/it]"
     ]
    },
    {
     "name": "stdout",
     "output_type": "stream",
     "text": [
      "Epoch 172 Loss = 3.310e-05, Acc = 100.00, Loss val = 3.295e-05, Acc val=100.00  \n"
     ]
    },
    {
     "name": "stderr",
     "output_type": "stream",
     "text": [
      " 17%|█▋        | 174/1000 [08:40<40:03,  2.91s/it]"
     ]
    },
    {
     "name": "stdout",
     "output_type": "stream",
     "text": [
      "Epoch 173 Loss = 3.296e-05, Acc = 100.00, Loss val = 3.265e-05, Acc val=100.00  \n"
     ]
    },
    {
     "name": "stderr",
     "output_type": "stream",
     "text": [
      " 18%|█▊        | 175/1000 [08:43<40:12,  2.92s/it]"
     ]
    },
    {
     "name": "stdout",
     "output_type": "stream",
     "text": [
      "Epoch 174 Loss = 3.253e-05, Acc = 100.00, Loss val = 3.258e-05, Acc val=100.00  \n"
     ]
    },
    {
     "name": "stderr",
     "output_type": "stream",
     "text": [
      " 18%|█▊        | 176/1000 [08:46<40:05,  2.92s/it]"
     ]
    },
    {
     "name": "stdout",
     "output_type": "stream",
     "text": [
      "Epoch 175 Loss = 3.234e-05, Acc = 100.00, Loss val = 3.226e-05, Acc val=100.00  \n"
     ]
    },
    {
     "name": "stderr",
     "output_type": "stream",
     "text": [
      " 18%|█▊        | 177/1000 [08:49<39:52,  2.91s/it]"
     ]
    },
    {
     "name": "stdout",
     "output_type": "stream",
     "text": [
      "Epoch 176 Loss = 3.213e-05, Acc = 100.00, Loss val = 3.185e-05, Acc val=100.00  \n"
     ]
    },
    {
     "name": "stderr",
     "output_type": "stream",
     "text": [
      " 18%|█▊        | 178/1000 [08:52<39:59,  2.92s/it]"
     ]
    },
    {
     "name": "stdout",
     "output_type": "stream",
     "text": [
      "Epoch 177 Loss = 3.247e-05, Acc = 100.00, Loss val = 3.197e-05, Acc val=100.00  \n"
     ]
    },
    {
     "name": "stderr",
     "output_type": "stream",
     "text": [
      " 18%|█▊        | 179/1000 [08:55<39:58,  2.92s/it]"
     ]
    },
    {
     "name": "stdout",
     "output_type": "stream",
     "text": [
      "Epoch 178 Loss = 3.199e-05, Acc = 100.00, Loss val = 3.205e-05, Acc val=100.00  \n"
     ]
    },
    {
     "name": "stderr",
     "output_type": "stream",
     "text": [
      " 18%|█▊        | 180/1000 [08:58<40:01,  2.93s/it]"
     ]
    },
    {
     "name": "stdout",
     "output_type": "stream",
     "text": [
      "Epoch 179 Loss = 3.203e-05, Acc = 100.00, Loss val = 3.161e-05, Acc val=100.00  \n"
     ]
    },
    {
     "name": "stderr",
     "output_type": "stream",
     "text": [
      " 18%|█▊        | 181/1000 [09:01<39:48,  2.92s/it]"
     ]
    },
    {
     "name": "stdout",
     "output_type": "stream",
     "text": [
      "Epoch 180 Loss = 3.181e-05, Acc = 100.00, Loss val = 3.170e-05, Acc val=100.00  \n"
     ]
    },
    {
     "name": "stderr",
     "output_type": "stream",
     "text": [
      " 18%|█▊        | 182/1000 [09:03<39:49,  2.92s/it]"
     ]
    },
    {
     "name": "stdout",
     "output_type": "stream",
     "text": [
      "Epoch 181 Loss = 3.184e-05, Acc = 100.00, Loss val = 3.166e-05, Acc val=100.00  \n"
     ]
    },
    {
     "name": "stderr",
     "output_type": "stream",
     "text": [
      " 18%|█▊        | 183/1000 [09:06<39:35,  2.91s/it]"
     ]
    },
    {
     "name": "stdout",
     "output_type": "stream",
     "text": [
      "Epoch 182 Loss = 3.118e-05, Acc = 100.00, Loss val = 3.127e-05, Acc val=100.00  \n"
     ]
    },
    {
     "name": "stderr",
     "output_type": "stream",
     "text": [
      " 18%|█▊        | 184/1000 [09:09<39:43,  2.92s/it]"
     ]
    },
    {
     "name": "stdout",
     "output_type": "stream",
     "text": [
      "Epoch 183 Loss = 3.107e-05, Acc = 100.00, Loss val = 3.085e-05, Acc val=100.00  \n"
     ]
    },
    {
     "name": "stderr",
     "output_type": "stream",
     "text": [
      " 18%|█▊        | 185/1000 [09:12<39:21,  2.90s/it]"
     ]
    },
    {
     "name": "stdout",
     "output_type": "stream",
     "text": [
      "Epoch 184 Loss = 3.109e-05, Acc = 100.00, Loss val = 3.105e-05, Acc val=100.00  \n"
     ]
    },
    {
     "name": "stderr",
     "output_type": "stream",
     "text": [
      " 19%|█▊        | 186/1000 [09:15<39:24,  2.90s/it]"
     ]
    },
    {
     "name": "stdout",
     "output_type": "stream",
     "text": [
      "Epoch 185 Loss = 3.059e-05, Acc = 100.00, Loss val = 3.109e-05, Acc val=100.00  \n"
     ]
    },
    {
     "name": "stderr",
     "output_type": "stream",
     "text": [
      " 19%|█▊        | 187/1000 [09:18<39:21,  2.90s/it]"
     ]
    },
    {
     "name": "stdout",
     "output_type": "stream",
     "text": [
      "Epoch 186 Loss = 3.109e-05, Acc = 100.00, Loss val = 3.047e-05, Acc val=100.00  \n"
     ]
    },
    {
     "name": "stderr",
     "output_type": "stream",
     "text": [
      " 19%|█▉        | 188/1000 [09:21<39:00,  2.88s/it]"
     ]
    },
    {
     "name": "stdout",
     "output_type": "stream",
     "text": [
      "Epoch 187 Loss = 3.067e-05, Acc = 100.00, Loss val = 3.076e-05, Acc val=100.00  \n"
     ]
    },
    {
     "name": "stderr",
     "output_type": "stream",
     "text": [
      " 19%|█▉        | 189/1000 [09:24<39:32,  2.93s/it]"
     ]
    },
    {
     "name": "stdout",
     "output_type": "stream",
     "text": [
      "Epoch 188 Loss = 3.014e-05, Acc = 100.00, Loss val = 3.063e-05, Acc val=100.00  \n"
     ]
    },
    {
     "name": "stderr",
     "output_type": "stream",
     "text": [
      " 19%|█▉        | 190/1000 [09:27<39:37,  2.94s/it]"
     ]
    },
    {
     "name": "stdout",
     "output_type": "stream",
     "text": [
      "Epoch 189 Loss = 3.026e-05, Acc = 100.00, Loss val = 2.994e-05, Acc val=100.00  \n"
     ]
    },
    {
     "name": "stderr",
     "output_type": "stream",
     "text": [
      " 19%|█▉        | 191/1000 [09:30<39:20,  2.92s/it]"
     ]
    },
    {
     "name": "stdout",
     "output_type": "stream",
     "text": [
      "Epoch 190 Loss = 3.023e-05, Acc = 100.00, Loss val = 3.029e-05, Acc val=100.00  \n"
     ]
    },
    {
     "name": "stderr",
     "output_type": "stream",
     "text": [
      " 19%|█▉        | 192/1000 [09:33<39:14,  2.91s/it]"
     ]
    },
    {
     "name": "stdout",
     "output_type": "stream",
     "text": [
      "Epoch 191 Loss = 3.042e-05, Acc = 100.00, Loss val = 2.999e-05, Acc val=100.00  \n"
     ]
    },
    {
     "name": "stderr",
     "output_type": "stream",
     "text": [
      " 19%|█▉        | 193/1000 [09:35<39:05,  2.91s/it]"
     ]
    },
    {
     "name": "stdout",
     "output_type": "stream",
     "text": [
      "Epoch 192 Loss = 2.985e-05, Acc = 100.00, Loss val = 3.021e-05, Acc val=100.00  \n"
     ]
    },
    {
     "name": "stderr",
     "output_type": "stream",
     "text": [
      " 19%|█▉        | 194/1000 [09:38<39:14,  2.92s/it]"
     ]
    },
    {
     "name": "stdout",
     "output_type": "stream",
     "text": [
      "Epoch 193 Loss = 3.037e-05, Acc = 100.00, Loss val = 2.978e-05, Acc val=100.00  \n"
     ]
    },
    {
     "name": "stderr",
     "output_type": "stream",
     "text": [
      " 20%|█▉        | 195/1000 [09:41<39:03,  2.91s/it]"
     ]
    },
    {
     "name": "stdout",
     "output_type": "stream",
     "text": [
      "Epoch 194 Loss = 2.967e-05, Acc = 100.00, Loss val = 2.967e-05, Acc val=100.00  \n"
     ]
    },
    {
     "name": "stderr",
     "output_type": "stream",
     "text": [
      " 20%|█▉        | 196/1000 [09:44<38:51,  2.90s/it]"
     ]
    },
    {
     "name": "stdout",
     "output_type": "stream",
     "text": [
      "Epoch 195 Loss = 2.919e-05, Acc = 100.00, Loss val = 2.979e-05, Acc val=100.00  \n"
     ]
    },
    {
     "name": "stderr",
     "output_type": "stream",
     "text": [
      " 20%|█▉        | 197/1000 [09:47<39:01,  2.92s/it]"
     ]
    },
    {
     "name": "stdout",
     "output_type": "stream",
     "text": [
      "Epoch 196 Loss = 2.921e-05, Acc = 100.00, Loss val = 2.910e-05, Acc val=100.00  \n"
     ]
    },
    {
     "name": "stderr",
     "output_type": "stream",
     "text": [
      " 20%|█▉        | 198/1000 [09:50<38:57,  2.91s/it]"
     ]
    },
    {
     "name": "stdout",
     "output_type": "stream",
     "text": [
      "Epoch 197 Loss = 2.936e-05, Acc = 100.00, Loss val = 2.959e-05, Acc val=100.00  \n"
     ]
    },
    {
     "name": "stderr",
     "output_type": "stream",
     "text": [
      " 20%|█▉        | 199/1000 [09:53<38:53,  2.91s/it]"
     ]
    },
    {
     "name": "stdout",
     "output_type": "stream",
     "text": [
      "Epoch 198 Loss = 2.945e-05, Acc = 100.00, Loss val = 2.863e-05, Acc val=100.00  \n"
     ]
    },
    {
     "name": "stderr",
     "output_type": "stream",
     "text": [
      " 20%|██        | 200/1000 [09:56<38:47,  2.91s/it]"
     ]
    },
    {
     "name": "stdout",
     "output_type": "stream",
     "text": [
      "Epoch 199 Loss = 2.893e-05, Acc = 100.00, Loss val = 2.875e-05, Acc val=100.00  \n"
     ]
    },
    {
     "name": "stderr",
     "output_type": "stream",
     "text": [
      " 20%|██        | 201/1000 [09:59<38:40,  2.90s/it]"
     ]
    },
    {
     "name": "stdout",
     "output_type": "stream",
     "text": [
      "Epoch 200 Loss = 2.885e-05, Acc = 100.00, Loss val = 2.899e-05, Acc val=100.00  \n"
     ]
    },
    {
     "name": "stderr",
     "output_type": "stream",
     "text": [
      " 20%|██        | 202/1000 [10:02<39:40,  2.98s/it]"
     ]
    },
    {
     "name": "stdout",
     "output_type": "stream",
     "text": [
      "Epoch 201 Loss = 2.912e-05, Acc = 100.00, Loss val = 2.854e-05, Acc val=100.00  \n"
     ]
    },
    {
     "name": "stderr",
     "output_type": "stream",
     "text": [
      " 20%|██        | 203/1000 [10:05<40:12,  3.03s/it]"
     ]
    },
    {
     "name": "stdout",
     "output_type": "stream",
     "text": [
      "Epoch 202 Loss = 2.872e-05, Acc = 100.00, Loss val = 2.869e-05, Acc val=100.00  \n"
     ]
    },
    {
     "name": "stderr",
     "output_type": "stream",
     "text": [
      " 20%|██        | 204/1000 [10:08<39:30,  2.98s/it]"
     ]
    },
    {
     "name": "stdout",
     "output_type": "stream",
     "text": [
      "Epoch 203 Loss = 2.840e-05, Acc = 100.00, Loss val = 2.855e-05, Acc val=100.00  \n"
     ]
    },
    {
     "name": "stderr",
     "output_type": "stream",
     "text": [
      " 20%|██        | 205/1000 [10:11<39:06,  2.95s/it]"
     ]
    },
    {
     "name": "stdout",
     "output_type": "stream",
     "text": [
      "Epoch 204 Loss = 2.814e-05, Acc = 100.00, Loss val = 2.790e-05, Acc val=100.00  \n"
     ]
    },
    {
     "name": "stderr",
     "output_type": "stream",
     "text": [
      " 21%|██        | 206/1000 [10:14<40:03,  3.03s/it]"
     ]
    },
    {
     "name": "stdout",
     "output_type": "stream",
     "text": [
      "Epoch 205 Loss = 2.847e-05, Acc = 100.00, Loss val = 2.792e-05, Acc val=100.00  \n"
     ]
    },
    {
     "name": "stderr",
     "output_type": "stream",
     "text": [
      " 21%|██        | 207/1000 [10:17<40:06,  3.04s/it]"
     ]
    },
    {
     "name": "stdout",
     "output_type": "stream",
     "text": [
      "Epoch 206 Loss = 2.823e-05, Acc = 100.00, Loss val = 2.816e-05, Acc val=100.00  \n"
     ]
    },
    {
     "name": "stderr",
     "output_type": "stream",
     "text": [
      " 21%|██        | 208/1000 [10:20<39:37,  3.00s/it]"
     ]
    },
    {
     "name": "stdout",
     "output_type": "stream",
     "text": [
      "Epoch 207 Loss = 2.836e-05, Acc = 100.00, Loss val = 2.798e-05, Acc val=100.00  \n"
     ]
    },
    {
     "name": "stderr",
     "output_type": "stream",
     "text": [
      " 21%|██        | 209/1000 [10:23<39:15,  2.98s/it]"
     ]
    },
    {
     "name": "stdout",
     "output_type": "stream",
     "text": [
      "Epoch 208 Loss = 2.758e-05, Acc = 100.00, Loss val = 2.785e-05, Acc val=100.00  \n"
     ]
    },
    {
     "name": "stderr",
     "output_type": "stream",
     "text": [
      " 21%|██        | 210/1000 [10:26<39:02,  2.96s/it]"
     ]
    },
    {
     "name": "stdout",
     "output_type": "stream",
     "text": [
      "Epoch 209 Loss = 2.756e-05, Acc = 100.00, Loss val = 2.778e-05, Acc val=100.00  \n"
     ]
    },
    {
     "name": "stderr",
     "output_type": "stream",
     "text": [
      " 21%|██        | 211/1000 [10:29<39:04,  2.97s/it]"
     ]
    },
    {
     "name": "stdout",
     "output_type": "stream",
     "text": [
      "Epoch 210 Loss = 2.794e-05, Acc = 100.00, Loss val = 2.764e-05, Acc val=100.00  \n"
     ]
    },
    {
     "name": "stderr",
     "output_type": "stream",
     "text": [
      " 21%|██        | 212/1000 [10:32<38:55,  2.96s/it]"
     ]
    },
    {
     "name": "stdout",
     "output_type": "stream",
     "text": [
      "Epoch 211 Loss = 2.750e-05, Acc = 100.00, Loss val = 2.772e-05, Acc val=100.00  \n"
     ]
    },
    {
     "name": "stderr",
     "output_type": "stream",
     "text": [
      " 21%|██▏       | 213/1000 [10:35<39:05,  2.98s/it]"
     ]
    },
    {
     "name": "stdout",
     "output_type": "stream",
     "text": [
      "Epoch 212 Loss = 2.743e-05, Acc = 100.00, Loss val = 2.732e-05, Acc val=100.00  \n"
     ]
    },
    {
     "name": "stderr",
     "output_type": "stream",
     "text": [
      " 21%|██▏       | 214/1000 [10:38<38:55,  2.97s/it]"
     ]
    },
    {
     "name": "stdout",
     "output_type": "stream",
     "text": [
      "Epoch 213 Loss = 2.719e-05, Acc = 100.00, Loss val = 2.679e-05, Acc val=100.00  \n"
     ]
    },
    {
     "name": "stderr",
     "output_type": "stream",
     "text": [
      " 22%|██▏       | 215/1000 [10:41<38:35,  2.95s/it]"
     ]
    },
    {
     "name": "stdout",
     "output_type": "stream",
     "text": [
      "Epoch 214 Loss = 2.728e-05, Acc = 100.00, Loss val = 2.693e-05, Acc val=100.00  \n"
     ]
    },
    {
     "name": "stderr",
     "output_type": "stream",
     "text": [
      " 22%|██▏       | 216/1000 [10:44<38:38,  2.96s/it]"
     ]
    },
    {
     "name": "stdout",
     "output_type": "stream",
     "text": [
      "Epoch 215 Loss = 2.697e-05, Acc = 100.00, Loss val = 2.678e-05, Acc val=100.00  \n"
     ]
    },
    {
     "name": "stderr",
     "output_type": "stream",
     "text": [
      " 22%|██▏       | 217/1000 [10:46<38:24,  2.94s/it]"
     ]
    },
    {
     "name": "stdout",
     "output_type": "stream",
     "text": [
      "Epoch 216 Loss = 2.690e-05, Acc = 100.00, Loss val = 2.673e-05, Acc val=100.00  \n"
     ]
    },
    {
     "name": "stderr",
     "output_type": "stream",
     "text": [
      " 22%|██▏       | 218/1000 [10:49<38:22,  2.94s/it]"
     ]
    },
    {
     "name": "stdout",
     "output_type": "stream",
     "text": [
      "Epoch 217 Loss = 2.703e-05, Acc = 100.00, Loss val = 2.665e-05, Acc val=100.00  \n"
     ]
    },
    {
     "name": "stderr",
     "output_type": "stream",
     "text": [
      " 22%|██▏       | 219/1000 [10:52<38:11,  2.93s/it]"
     ]
    },
    {
     "name": "stdout",
     "output_type": "stream",
     "text": [
      "Epoch 218 Loss = 2.660e-05, Acc = 100.00, Loss val = 2.686e-05, Acc val=100.00  \n"
     ]
    },
    {
     "name": "stderr",
     "output_type": "stream",
     "text": [
      " 22%|██▏       | 220/1000 [10:55<38:12,  2.94s/it]"
     ]
    },
    {
     "name": "stdout",
     "output_type": "stream",
     "text": [
      "Epoch 219 Loss = 2.663e-05, Acc = 100.00, Loss val = 2.667e-05, Acc val=100.00  \n"
     ]
    },
    {
     "name": "stderr",
     "output_type": "stream",
     "text": [
      " 22%|██▏       | 221/1000 [10:58<37:57,  2.92s/it]"
     ]
    },
    {
     "name": "stdout",
     "output_type": "stream",
     "text": [
      "Epoch 220 Loss = 2.659e-05, Acc = 100.00, Loss val = 2.636e-05, Acc val=100.00  \n"
     ]
    },
    {
     "name": "stderr",
     "output_type": "stream",
     "text": [
      " 22%|██▏       | 222/1000 [11:01<38:01,  2.93s/it]"
     ]
    },
    {
     "name": "stdout",
     "output_type": "stream",
     "text": [
      "Epoch 221 Loss = 2.626e-05, Acc = 100.00, Loss val = 2.617e-05, Acc val=100.00  \n"
     ]
    },
    {
     "name": "stderr",
     "output_type": "stream",
     "text": [
      " 22%|██▏       | 223/1000 [11:04<37:53,  2.93s/it]"
     ]
    },
    {
     "name": "stdout",
     "output_type": "stream",
     "text": [
      "Epoch 222 Loss = 2.646e-05, Acc = 100.00, Loss val = 2.566e-05, Acc val=100.00  \n"
     ]
    },
    {
     "name": "stderr",
     "output_type": "stream",
     "text": [
      " 22%|██▏       | 224/1000 [11:07<37:42,  2.92s/it]"
     ]
    },
    {
     "name": "stdout",
     "output_type": "stream",
     "text": [
      "Epoch 223 Loss = 2.609e-05, Acc = 100.00, Loss val = 2.608e-05, Acc val=100.00  \n"
     ]
    },
    {
     "name": "stderr",
     "output_type": "stream",
     "text": [
      " 22%|██▎       | 225/1000 [11:10<37:38,  2.91s/it]"
     ]
    },
    {
     "name": "stdout",
     "output_type": "stream",
     "text": [
      "Epoch 224 Loss = 2.570e-05, Acc = 100.00, Loss val = 2.579e-05, Acc val=100.00  \n"
     ]
    },
    {
     "name": "stderr",
     "output_type": "stream",
     "text": [
      " 23%|██▎       | 226/1000 [11:13<38:30,  2.99s/it]"
     ]
    },
    {
     "name": "stdout",
     "output_type": "stream",
     "text": [
      "Epoch 225 Loss = 2.591e-05, Acc = 100.00, Loss val = 2.569e-05, Acc val=100.00  \n"
     ]
    },
    {
     "name": "stderr",
     "output_type": "stream",
     "text": [
      " 23%|██▎       | 227/1000 [11:16<38:45,  3.01s/it]"
     ]
    },
    {
     "name": "stdout",
     "output_type": "stream",
     "text": [
      "Epoch 226 Loss = 2.580e-05, Acc = 100.00, Loss val = 2.571e-05, Acc val=100.00  \n"
     ]
    },
    {
     "name": "stderr",
     "output_type": "stream",
     "text": [
      " 23%|██▎       | 228/1000 [11:19<39:07,  3.04s/it]"
     ]
    },
    {
     "name": "stdout",
     "output_type": "stream",
     "text": [
      "Epoch 227 Loss = 2.543e-05, Acc = 100.00, Loss val = 2.533e-05, Acc val=100.00  \n"
     ]
    },
    {
     "name": "stderr",
     "output_type": "stream",
     "text": [
      " 23%|██▎       | 229/1000 [11:22<38:40,  3.01s/it]"
     ]
    },
    {
     "name": "stdout",
     "output_type": "stream",
     "text": [
      "Epoch 228 Loss = 2.606e-05, Acc = 100.00, Loss val = 2.561e-05, Acc val=100.00  \n"
     ]
    },
    {
     "name": "stderr",
     "output_type": "stream",
     "text": [
      " 23%|██▎       | 230/1000 [11:25<38:23,  2.99s/it]"
     ]
    },
    {
     "name": "stdout",
     "output_type": "stream",
     "text": [
      "Epoch 229 Loss = 2.559e-05, Acc = 100.00, Loss val = 2.531e-05, Acc val=100.00  \n"
     ]
    },
    {
     "name": "stderr",
     "output_type": "stream",
     "text": [
      " 23%|██▎       | 231/1000 [11:28<38:28,  3.00s/it]"
     ]
    },
    {
     "name": "stdout",
     "output_type": "stream",
     "text": [
      "Epoch 230 Loss = 2.521e-05, Acc = 100.00, Loss val = 2.536e-05, Acc val=100.00  \n"
     ]
    },
    {
     "name": "stderr",
     "output_type": "stream",
     "text": [
      " 23%|██▎       | 232/1000 [11:31<38:07,  2.98s/it]"
     ]
    },
    {
     "name": "stdout",
     "output_type": "stream",
     "text": [
      "Epoch 231 Loss = 2.538e-05, Acc = 100.00, Loss val = 2.489e-05, Acc val=100.00  \n"
     ]
    },
    {
     "name": "stderr",
     "output_type": "stream",
     "text": [
      " 23%|██▎       | 233/1000 [11:34<37:44,  2.95s/it]"
     ]
    },
    {
     "name": "stdout",
     "output_type": "stream",
     "text": [
      "Epoch 232 Loss = 2.526e-05, Acc = 100.00, Loss val = 2.502e-05, Acc val=100.00  \n"
     ]
    },
    {
     "name": "stderr",
     "output_type": "stream",
     "text": [
      " 23%|██▎       | 234/1000 [11:37<37:40,  2.95s/it]"
     ]
    },
    {
     "name": "stdout",
     "output_type": "stream",
     "text": [
      "Epoch 233 Loss = 2.481e-05, Acc = 100.00, Loss val = 2.501e-05, Acc val=100.00  \n"
     ]
    },
    {
     "name": "stderr",
     "output_type": "stream",
     "text": [
      " 24%|██▎       | 235/1000 [11:40<37:34,  2.95s/it]"
     ]
    },
    {
     "name": "stdout",
     "output_type": "stream",
     "text": [
      "Epoch 234 Loss = 2.488e-05, Acc = 100.00, Loss val = 2.460e-05, Acc val=100.00  \n"
     ]
    },
    {
     "name": "stderr",
     "output_type": "stream",
     "text": [
      " 24%|██▎       | 236/1000 [11:43<37:35,  2.95s/it]"
     ]
    },
    {
     "name": "stdout",
     "output_type": "stream",
     "text": [
      "Epoch 235 Loss = 2.462e-05, Acc = 100.00, Loss val = 2.466e-05, Acc val=100.00  \n"
     ]
    },
    {
     "name": "stderr",
     "output_type": "stream",
     "text": [
      " 24%|██▎       | 237/1000 [11:46<37:24,  2.94s/it]"
     ]
    },
    {
     "name": "stdout",
     "output_type": "stream",
     "text": [
      "Epoch 236 Loss = 2.473e-05, Acc = 100.00, Loss val = 2.459e-05, Acc val=100.00  \n"
     ]
    },
    {
     "name": "stderr",
     "output_type": "stream",
     "text": [
      " 24%|██▍       | 238/1000 [11:49<37:33,  2.96s/it]"
     ]
    },
    {
     "name": "stdout",
     "output_type": "stream",
     "text": [
      "Epoch 237 Loss = 2.434e-05, Acc = 100.00, Loss val = 2.446e-05, Acc val=100.00  \n"
     ]
    },
    {
     "name": "stderr",
     "output_type": "stream",
     "text": [
      " 24%|██▍       | 239/1000 [11:52<37:28,  2.95s/it]"
     ]
    },
    {
     "name": "stdout",
     "output_type": "stream",
     "text": [
      "Epoch 238 Loss = 2.443e-05, Acc = 100.00, Loss val = 2.462e-05, Acc val=100.00  \n"
     ]
    },
    {
     "name": "stderr",
     "output_type": "stream",
     "text": [
      " 24%|██▍       | 240/1000 [11:55<37:16,  2.94s/it]"
     ]
    },
    {
     "name": "stdout",
     "output_type": "stream",
     "text": [
      "Epoch 239 Loss = 2.451e-05, Acc = 100.00, Loss val = 2.451e-05, Acc val=100.00  \n"
     ]
    },
    {
     "name": "stderr",
     "output_type": "stream",
     "text": [
      " 24%|██▍       | 241/1000 [11:57<37:04,  2.93s/it]"
     ]
    },
    {
     "name": "stdout",
     "output_type": "stream",
     "text": [
      "Epoch 240 Loss = 2.409e-05, Acc = 100.00, Loss val = 2.408e-05, Acc val=100.00  \n"
     ]
    },
    {
     "name": "stderr",
     "output_type": "stream",
     "text": [
      " 24%|██▍       | 242/1000 [12:00<37:25,  2.96s/it]"
     ]
    },
    {
     "name": "stdout",
     "output_type": "stream",
     "text": [
      "Epoch 241 Loss = 2.410e-05, Acc = 100.00, Loss val = 2.422e-05, Acc val=100.00  \n"
     ]
    },
    {
     "name": "stderr",
     "output_type": "stream",
     "text": [
      " 24%|██▍       | 243/1000 [12:03<37:25,  2.97s/it]"
     ]
    },
    {
     "name": "stdout",
     "output_type": "stream",
     "text": [
      "Epoch 242 Loss = 2.388e-05, Acc = 100.00, Loss val = 2.395e-05, Acc val=100.00  \n"
     ]
    },
    {
     "name": "stderr",
     "output_type": "stream",
     "text": [
      " 24%|██▍       | 244/1000 [12:06<37:12,  2.95s/it]"
     ]
    },
    {
     "name": "stdout",
     "output_type": "stream",
     "text": [
      "Epoch 243 Loss = 2.414e-05, Acc = 100.00, Loss val = 2.392e-05, Acc val=100.00  \n"
     ]
    },
    {
     "name": "stderr",
     "output_type": "stream",
     "text": [
      " 24%|██▍       | 245/1000 [12:09<36:56,  2.94s/it]"
     ]
    },
    {
     "name": "stdout",
     "output_type": "stream",
     "text": [
      "Epoch 244 Loss = 2.421e-05, Acc = 100.00, Loss val = 2.380e-05, Acc val=100.00  \n"
     ]
    },
    {
     "name": "stderr",
     "output_type": "stream",
     "text": [
      " 25%|██▍       | 246/1000 [12:12<36:50,  2.93s/it]"
     ]
    },
    {
     "name": "stdout",
     "output_type": "stream",
     "text": [
      "Epoch 245 Loss = 2.389e-05, Acc = 100.00, Loss val = 2.385e-05, Acc val=100.00  \n"
     ]
    },
    {
     "name": "stderr",
     "output_type": "stream",
     "text": [
      " 25%|██▍       | 247/1000 [12:15<36:46,  2.93s/it]"
     ]
    },
    {
     "name": "stdout",
     "output_type": "stream",
     "text": [
      "Epoch 246 Loss = 2.394e-05, Acc = 100.00, Loss val = 2.355e-05, Acc val=100.00  \n"
     ]
    },
    {
     "name": "stderr",
     "output_type": "stream",
     "text": [
      " 25%|██▍       | 248/1000 [12:18<36:40,  2.93s/it]"
     ]
    },
    {
     "name": "stdout",
     "output_type": "stream",
     "text": [
      "Epoch 247 Loss = 2.397e-05, Acc = 100.00, Loss val = 2.336e-05, Acc val=100.00  \n"
     ]
    },
    {
     "name": "stderr",
     "output_type": "stream",
     "text": [
      " 25%|██▍       | 249/1000 [12:21<36:25,  2.91s/it]"
     ]
    },
    {
     "name": "stdout",
     "output_type": "stream",
     "text": [
      "Epoch 248 Loss = 2.331e-05, Acc = 100.00, Loss val = 2.318e-05, Acc val=100.00  \n"
     ]
    },
    {
     "name": "stderr",
     "output_type": "stream",
     "text": [
      " 25%|██▌       | 250/1000 [12:24<36:18,  2.90s/it]"
     ]
    },
    {
     "name": "stdout",
     "output_type": "stream",
     "text": [
      "Epoch 249 Loss = 2.334e-05, Acc = 100.00, Loss val = 2.336e-05, Acc val=100.00  \n"
     ]
    },
    {
     "name": "stderr",
     "output_type": "stream",
     "text": [
      " 25%|██▌       | 251/1000 [12:27<36:06,  2.89s/it]"
     ]
    },
    {
     "name": "stdout",
     "output_type": "stream",
     "text": [
      "Epoch 250 Loss = 2.336e-05, Acc = 100.00, Loss val = 2.306e-05, Acc val=100.00  \n"
     ]
    },
    {
     "name": "stderr",
     "output_type": "stream",
     "text": [
      " 25%|██▌       | 252/1000 [12:30<36:20,  2.92s/it]"
     ]
    },
    {
     "name": "stdout",
     "output_type": "stream",
     "text": [
      "Epoch 251 Loss = 2.325e-05, Acc = 100.00, Loss val = 2.337e-05, Acc val=100.00  \n"
     ]
    },
    {
     "name": "stderr",
     "output_type": "stream",
     "text": [
      " 25%|██▌       | 253/1000 [12:33<36:21,  2.92s/it]"
     ]
    },
    {
     "name": "stdout",
     "output_type": "stream",
     "text": [
      "Epoch 252 Loss = 2.294e-05, Acc = 100.00, Loss val = 2.309e-05, Acc val=100.00  \n"
     ]
    },
    {
     "name": "stderr",
     "output_type": "stream",
     "text": [
      " 25%|██▌       | 254/1000 [12:35<36:17,  2.92s/it]"
     ]
    },
    {
     "name": "stdout",
     "output_type": "stream",
     "text": [
      "Epoch 253 Loss = 2.255e-05, Acc = 100.00, Loss val = 2.301e-05, Acc val=100.00  \n"
     ]
    },
    {
     "name": "stderr",
     "output_type": "stream",
     "text": [
      " 26%|██▌       | 255/1000 [12:38<36:11,  2.92s/it]"
     ]
    },
    {
     "name": "stdout",
     "output_type": "stream",
     "text": [
      "Epoch 254 Loss = 2.296e-05, Acc = 100.00, Loss val = 2.267e-05, Acc val=100.00  \n"
     ]
    },
    {
     "name": "stderr",
     "output_type": "stream",
     "text": [
      " 26%|██▌       | 256/1000 [12:41<35:55,  2.90s/it]"
     ]
    },
    {
     "name": "stdout",
     "output_type": "stream",
     "text": [
      "Epoch 255 Loss = 2.277e-05, Acc = 100.00, Loss val = 2.277e-05, Acc val=100.00  \n"
     ]
    },
    {
     "name": "stderr",
     "output_type": "stream",
     "text": [
      " 26%|██▌       | 257/1000 [12:44<36:08,  2.92s/it]"
     ]
    },
    {
     "name": "stdout",
     "output_type": "stream",
     "text": [
      "Epoch 256 Loss = 2.274e-05, Acc = 100.00, Loss val = 2.263e-05, Acc val=100.00  \n"
     ]
    },
    {
     "name": "stderr",
     "output_type": "stream",
     "text": [
      " 26%|██▌       | 258/1000 [12:47<36:01,  2.91s/it]"
     ]
    },
    {
     "name": "stdout",
     "output_type": "stream",
     "text": [
      "Epoch 257 Loss = 2.254e-05, Acc = 100.00, Loss val = 2.215e-05, Acc val=100.00  \n"
     ]
    },
    {
     "name": "stderr",
     "output_type": "stream",
     "text": [
      " 26%|██▌       | 259/1000 [12:50<36:07,  2.93s/it]"
     ]
    },
    {
     "name": "stdout",
     "output_type": "stream",
     "text": [
      "Epoch 258 Loss = 2.252e-05, Acc = 100.00, Loss val = 2.229e-05, Acc val=100.00  \n"
     ]
    },
    {
     "name": "stderr",
     "output_type": "stream",
     "text": [
      " 26%|██▌       | 260/1000 [12:53<36:07,  2.93s/it]"
     ]
    },
    {
     "name": "stdout",
     "output_type": "stream",
     "text": [
      "Epoch 259 Loss = 2.217e-05, Acc = 100.00, Loss val = 2.238e-05, Acc val=100.00  \n"
     ]
    },
    {
     "name": "stderr",
     "output_type": "stream",
     "text": [
      " 26%|██▌       | 261/1000 [12:56<35:59,  2.92s/it]"
     ]
    },
    {
     "name": "stdout",
     "output_type": "stream",
     "text": [
      "Epoch 260 Loss = 2.195e-05, Acc = 100.00, Loss val = 2.229e-05, Acc val=100.00  \n"
     ]
    },
    {
     "name": "stderr",
     "output_type": "stream",
     "text": [
      " 26%|██▌       | 262/1000 [12:59<36:01,  2.93s/it]"
     ]
    },
    {
     "name": "stdout",
     "output_type": "stream",
     "text": [
      "Epoch 261 Loss = 2.230e-05, Acc = 100.00, Loss val = 2.217e-05, Acc val=100.00  \n"
     ]
    },
    {
     "name": "stderr",
     "output_type": "stream",
     "text": [
      " 26%|██▋       | 263/1000 [13:02<36:11,  2.95s/it]"
     ]
    },
    {
     "name": "stdout",
     "output_type": "stream",
     "text": [
      "Epoch 262 Loss = 2.206e-05, Acc = 100.00, Loss val = 2.204e-05, Acc val=100.00  \n"
     ]
    },
    {
     "name": "stderr",
     "output_type": "stream",
     "text": [
      " 26%|██▋       | 264/1000 [13:05<35:59,  2.93s/it]"
     ]
    },
    {
     "name": "stdout",
     "output_type": "stream",
     "text": [
      "Epoch 263 Loss = 2.198e-05, Acc = 100.00, Loss val = 2.181e-05, Acc val=100.00  \n"
     ]
    },
    {
     "name": "stderr",
     "output_type": "stream",
     "text": [
      " 26%|██▋       | 265/1000 [13:08<35:55,  2.93s/it]"
     ]
    },
    {
     "name": "stdout",
     "output_type": "stream",
     "text": [
      "Epoch 264 Loss = 2.193e-05, Acc = 100.00, Loss val = 2.209e-05, Acc val=100.00  \n"
     ]
    },
    {
     "name": "stderr",
     "output_type": "stream",
     "text": [
      " 27%|██▋       | 266/1000 [13:11<35:52,  2.93s/it]"
     ]
    },
    {
     "name": "stdout",
     "output_type": "stream",
     "text": [
      "Epoch 265 Loss = 2.173e-05, Acc = 100.00, Loss val = 2.166e-05, Acc val=100.00  \n"
     ]
    },
    {
     "name": "stderr",
     "output_type": "stream",
     "text": [
      " 27%|██▋       | 267/1000 [13:14<35:44,  2.93s/it]"
     ]
    },
    {
     "name": "stdout",
     "output_type": "stream",
     "text": [
      "Epoch 266 Loss = 2.177e-05, Acc = 100.00, Loss val = 2.188e-05, Acc val=100.00  \n"
     ]
    },
    {
     "name": "stderr",
     "output_type": "stream",
     "text": [
      " 27%|██▋       | 268/1000 [13:16<35:55,  2.94s/it]"
     ]
    },
    {
     "name": "stdout",
     "output_type": "stream",
     "text": [
      "Epoch 267 Loss = 2.163e-05, Acc = 100.00, Loss val = 2.137e-05, Acc val=100.00  \n"
     ]
    },
    {
     "name": "stderr",
     "output_type": "stream",
     "text": [
      " 27%|██▋       | 269/1000 [13:19<35:41,  2.93s/it]"
     ]
    },
    {
     "name": "stdout",
     "output_type": "stream",
     "text": [
      "Epoch 268 Loss = 2.162e-05, Acc = 100.00, Loss val = 2.135e-05, Acc val=100.00  \n"
     ]
    },
    {
     "name": "stderr",
     "output_type": "stream",
     "text": [
      " 27%|██▋       | 270/1000 [13:22<35:30,  2.92s/it]"
     ]
    },
    {
     "name": "stdout",
     "output_type": "stream",
     "text": [
      "Epoch 269 Loss = 2.162e-05, Acc = 100.00, Loss val = 2.164e-05, Acc val=100.00  \n"
     ]
    },
    {
     "name": "stderr",
     "output_type": "stream",
     "text": [
      " 27%|██▋       | 271/1000 [13:25<35:16,  2.90s/it]"
     ]
    },
    {
     "name": "stdout",
     "output_type": "stream",
     "text": [
      "Epoch 270 Loss = 2.167e-05, Acc = 100.00, Loss val = 2.130e-05, Acc val=100.00  \n"
     ]
    },
    {
     "name": "stderr",
     "output_type": "stream",
     "text": [
      " 27%|██▋       | 272/1000 [13:28<35:13,  2.90s/it]"
     ]
    },
    {
     "name": "stdout",
     "output_type": "stream",
     "text": [
      "Epoch 271 Loss = 2.140e-05, Acc = 100.00, Loss val = 2.141e-05, Acc val=100.00  \n"
     ]
    },
    {
     "name": "stderr",
     "output_type": "stream",
     "text": [
      " 27%|██▋       | 273/1000 [13:31<35:26,  2.93s/it]"
     ]
    },
    {
     "name": "stdout",
     "output_type": "stream",
     "text": [
      "Epoch 272 Loss = 2.106e-05, Acc = 100.00, Loss val = 2.118e-05, Acc val=100.00  \n"
     ]
    },
    {
     "name": "stderr",
     "output_type": "stream",
     "text": [
      " 27%|██▋       | 274/1000 [13:34<35:23,  2.93s/it]"
     ]
    },
    {
     "name": "stdout",
     "output_type": "stream",
     "text": [
      "Epoch 273 Loss = 2.131e-05, Acc = 100.00, Loss val = 2.111e-05, Acc val=100.00  \n"
     ]
    },
    {
     "name": "stderr",
     "output_type": "stream",
     "text": [
      " 28%|██▊       | 275/1000 [13:37<35:48,  2.96s/it]"
     ]
    },
    {
     "name": "stdout",
     "output_type": "stream",
     "text": [
      "Epoch 274 Loss = 2.110e-05, Acc = 100.00, Loss val = 2.118e-05, Acc val=100.00  \n"
     ]
    },
    {
     "name": "stderr",
     "output_type": "stream",
     "text": [
      " 28%|██▊       | 276/1000 [13:40<35:28,  2.94s/it]"
     ]
    },
    {
     "name": "stdout",
     "output_type": "stream",
     "text": [
      "Epoch 275 Loss = 2.095e-05, Acc = 100.00, Loss val = 2.090e-05, Acc val=100.00  \n"
     ]
    },
    {
     "name": "stderr",
     "output_type": "stream",
     "text": [
      " 28%|██▊       | 277/1000 [13:43<36:02,  2.99s/it]"
     ]
    },
    {
     "name": "stdout",
     "output_type": "stream",
     "text": [
      "Epoch 276 Loss = 2.099e-05, Acc = 100.00, Loss val = 2.087e-05, Acc val=100.00  \n"
     ]
    },
    {
     "name": "stderr",
     "output_type": "stream",
     "text": [
      " 28%|██▊       | 278/1000 [13:46<35:27,  2.95s/it]"
     ]
    },
    {
     "name": "stdout",
     "output_type": "stream",
     "text": [
      "Epoch 277 Loss = 2.105e-05, Acc = 100.00, Loss val = 2.076e-05, Acc val=100.00  \n"
     ]
    },
    {
     "name": "stderr",
     "output_type": "stream",
     "text": [
      " 28%|██▊       | 279/1000 [13:49<35:05,  2.92s/it]"
     ]
    },
    {
     "name": "stdout",
     "output_type": "stream",
     "text": [
      "Epoch 278 Loss = 2.073e-05, Acc = 100.00, Loss val = 2.052e-05, Acc val=100.00  \n"
     ]
    },
    {
     "name": "stderr",
     "output_type": "stream",
     "text": [
      " 28%|██▊       | 280/1000 [13:52<35:19,  2.94s/it]"
     ]
    },
    {
     "name": "stdout",
     "output_type": "stream",
     "text": [
      "Epoch 279 Loss = 2.032e-05, Acc = 100.00, Loss val = 2.033e-05, Acc val=100.00  \n"
     ]
    },
    {
     "name": "stderr",
     "output_type": "stream",
     "text": [
      " 28%|██▊       | 281/1000 [13:55<35:19,  2.95s/it]"
     ]
    },
    {
     "name": "stdout",
     "output_type": "stream",
     "text": [
      "Epoch 280 Loss = 2.035e-05, Acc = 100.00, Loss val = 2.050e-05, Acc val=100.00  \n"
     ]
    },
    {
     "name": "stderr",
     "output_type": "stream",
     "text": [
      " 28%|██▊       | 282/1000 [13:58<35:19,  2.95s/it]"
     ]
    },
    {
     "name": "stdout",
     "output_type": "stream",
     "text": [
      "Epoch 281 Loss = 2.035e-05, Acc = 100.00, Loss val = 2.042e-05, Acc val=100.00  \n"
     ]
    },
    {
     "name": "stderr",
     "output_type": "stream",
     "text": [
      " 28%|██▊       | 283/1000 [14:01<35:07,  2.94s/it]"
     ]
    },
    {
     "name": "stdout",
     "output_type": "stream",
     "text": [
      "Epoch 282 Loss = 2.042e-05, Acc = 100.00, Loss val = 2.015e-05, Acc val=100.00  \n"
     ]
    },
    {
     "name": "stderr",
     "output_type": "stream",
     "text": [
      " 28%|██▊       | 284/1000 [14:03<34:56,  2.93s/it]"
     ]
    },
    {
     "name": "stdout",
     "output_type": "stream",
     "text": [
      "Epoch 283 Loss = 2.017e-05, Acc = 100.00, Loss val = 2.026e-05, Acc val=100.00  \n"
     ]
    },
    {
     "name": "stderr",
     "output_type": "stream",
     "text": [
      " 28%|██▊       | 285/1000 [14:06<34:50,  2.92s/it]"
     ]
    },
    {
     "name": "stdout",
     "output_type": "stream",
     "text": [
      "Epoch 284 Loss = 2.004e-05, Acc = 100.00, Loss val = 2.007e-05, Acc val=100.00  \n"
     ]
    },
    {
     "name": "stderr",
     "output_type": "stream",
     "text": [
      " 29%|██▊       | 286/1000 [14:09<34:57,  2.94s/it]"
     ]
    },
    {
     "name": "stdout",
     "output_type": "stream",
     "text": [
      "Epoch 285 Loss = 2.021e-05, Acc = 100.00, Loss val = 2.037e-05, Acc val=100.00  \n"
     ]
    },
    {
     "name": "stderr",
     "output_type": "stream",
     "text": [
      " 29%|██▊       | 287/1000 [14:12<35:04,  2.95s/it]"
     ]
    },
    {
     "name": "stdout",
     "output_type": "stream",
     "text": [
      "Epoch 286 Loss = 1.994e-05, Acc = 100.00, Loss val = 2.031e-05, Acc val=100.00  \n"
     ]
    },
    {
     "name": "stderr",
     "output_type": "stream",
     "text": [
      " 29%|██▉       | 288/1000 [14:15<35:01,  2.95s/it]"
     ]
    },
    {
     "name": "stdout",
     "output_type": "stream",
     "text": [
      "Epoch 287 Loss = 1.996e-05, Acc = 100.00, Loss val = 2.002e-05, Acc val=100.00  \n"
     ]
    },
    {
     "name": "stderr",
     "output_type": "stream",
     "text": [
      " 29%|██▉       | 289/1000 [14:18<34:51,  2.94s/it]"
     ]
    },
    {
     "name": "stdout",
     "output_type": "stream",
     "text": [
      "Epoch 288 Loss = 2.008e-05, Acc = 100.00, Loss val = 1.984e-05, Acc val=100.00  \n"
     ]
    },
    {
     "name": "stderr",
     "output_type": "stream",
     "text": [
      " 29%|██▉       | 290/1000 [14:21<34:46,  2.94s/it]"
     ]
    },
    {
     "name": "stdout",
     "output_type": "stream",
     "text": [
      "Epoch 289 Loss = 1.988e-05, Acc = 100.00, Loss val = 1.981e-05, Acc val=100.00  \n"
     ]
    },
    {
     "name": "stderr",
     "output_type": "stream",
     "text": [
      " 29%|██▉       | 291/1000 [14:24<34:36,  2.93s/it]"
     ]
    },
    {
     "name": "stdout",
     "output_type": "stream",
     "text": [
      "Epoch 290 Loss = 1.980e-05, Acc = 100.00, Loss val = 1.951e-05, Acc val=100.00  \n"
     ]
    },
    {
     "name": "stderr",
     "output_type": "stream",
     "text": [
      " 29%|██▉       | 292/1000 [14:27<34:32,  2.93s/it]"
     ]
    },
    {
     "name": "stdout",
     "output_type": "stream",
     "text": [
      "Epoch 291 Loss = 1.937e-05, Acc = 100.00, Loss val = 1.982e-05, Acc val=100.00  \n"
     ]
    },
    {
     "name": "stderr",
     "output_type": "stream",
     "text": [
      " 29%|██▉       | 293/1000 [14:30<34:25,  2.92s/it]"
     ]
    },
    {
     "name": "stdout",
     "output_type": "stream",
     "text": [
      "Epoch 292 Loss = 1.977e-05, Acc = 100.00, Loss val = 1.946e-05, Acc val=100.00  \n"
     ]
    },
    {
     "name": "stderr",
     "output_type": "stream",
     "text": [
      " 29%|██▉       | 294/1000 [14:33<34:31,  2.93s/it]"
     ]
    },
    {
     "name": "stdout",
     "output_type": "stream",
     "text": [
      "Epoch 293 Loss = 1.938e-05, Acc = 100.00, Loss val = 1.932e-05, Acc val=100.00  \n"
     ]
    },
    {
     "name": "stderr",
     "output_type": "stream",
     "text": [
      " 30%|██▉       | 295/1000 [14:36<34:31,  2.94s/it]"
     ]
    },
    {
     "name": "stdout",
     "output_type": "stream",
     "text": [
      "Epoch 294 Loss = 1.984e-05, Acc = 100.00, Loss val = 1.956e-05, Acc val=100.00  \n"
     ]
    },
    {
     "name": "stderr",
     "output_type": "stream",
     "text": [
      " 30%|██▉       | 296/1000 [14:39<35:26,  3.02s/it]"
     ]
    },
    {
     "name": "stdout",
     "output_type": "stream",
     "text": [
      "Epoch 295 Loss = 1.925e-05, Acc = 100.00, Loss val = 1.940e-05, Acc val=100.00  \n"
     ]
    },
    {
     "name": "stderr",
     "output_type": "stream",
     "text": [
      " 30%|██▉       | 297/1000 [14:42<35:43,  3.05s/it]"
     ]
    },
    {
     "name": "stdout",
     "output_type": "stream",
     "text": [
      "Epoch 296 Loss = 1.933e-05, Acc = 100.00, Loss val = 1.953e-05, Acc val=100.00  \n"
     ]
    },
    {
     "name": "stderr",
     "output_type": "stream",
     "text": [
      " 30%|██▉       | 298/1000 [14:45<35:35,  3.04s/it]"
     ]
    },
    {
     "name": "stdout",
     "output_type": "stream",
     "text": [
      "Epoch 297 Loss = 1.906e-05, Acc = 100.00, Loss val = 1.929e-05, Acc val=100.00  \n"
     ]
    },
    {
     "name": "stderr",
     "output_type": "stream",
     "text": [
      " 30%|██▉       | 299/1000 [14:48<35:06,  3.00s/it]"
     ]
    },
    {
     "name": "stdout",
     "output_type": "stream",
     "text": [
      "Epoch 298 Loss = 1.918e-05, Acc = 100.00, Loss val = 1.896e-05, Acc val=100.00  \n"
     ]
    },
    {
     "name": "stderr",
     "output_type": "stream",
     "text": [
      " 30%|███       | 300/1000 [14:51<34:41,  2.97s/it]"
     ]
    },
    {
     "name": "stdout",
     "output_type": "stream",
     "text": [
      "Epoch 299 Loss = 1.919e-05, Acc = 100.00, Loss val = 1.921e-05, Acc val=100.00  \n"
     ]
    },
    {
     "name": "stderr",
     "output_type": "stream",
     "text": [
      " 30%|███       | 301/1000 [14:54<34:27,  2.96s/it]"
     ]
    },
    {
     "name": "stdout",
     "output_type": "stream",
     "text": [
      "Epoch 300 Loss = 1.884e-05, Acc = 100.00, Loss val = 1.853e-05, Acc val=100.00  \n"
     ]
    },
    {
     "name": "stderr",
     "output_type": "stream",
     "text": [
      " 30%|███       | 302/1000 [14:57<34:20,  2.95s/it]"
     ]
    },
    {
     "name": "stdout",
     "output_type": "stream",
     "text": [
      "Epoch 301 Loss = 1.888e-05, Acc = 100.00, Loss val = 1.895e-05, Acc val=100.00  \n"
     ]
    },
    {
     "name": "stderr",
     "output_type": "stream",
     "text": [
      " 30%|███       | 303/1000 [15:00<34:28,  2.97s/it]"
     ]
    },
    {
     "name": "stdout",
     "output_type": "stream",
     "text": [
      "Epoch 302 Loss = 1.908e-05, Acc = 100.00, Loss val = 1.863e-05, Acc val=100.00  \n"
     ]
    },
    {
     "name": "stderr",
     "output_type": "stream",
     "text": [
      " 30%|███       | 304/1000 [15:03<34:12,  2.95s/it]"
     ]
    },
    {
     "name": "stdout",
     "output_type": "stream",
     "text": [
      "Epoch 303 Loss = 1.882e-05, Acc = 100.00, Loss val = 1.858e-05, Acc val=100.00  \n"
     ]
    },
    {
     "name": "stderr",
     "output_type": "stream",
     "text": [
      " 30%|███       | 305/1000 [15:06<34:04,  2.94s/it]"
     ]
    },
    {
     "name": "stdout",
     "output_type": "stream",
     "text": [
      "Epoch 304 Loss = 1.880e-05, Acc = 100.00, Loss val = 1.852e-05, Acc val=100.00  \n"
     ]
    },
    {
     "name": "stderr",
     "output_type": "stream",
     "text": [
      " 31%|███       | 306/1000 [15:09<33:58,  2.94s/it]"
     ]
    },
    {
     "name": "stdout",
     "output_type": "stream",
     "text": [
      "Epoch 305 Loss = 1.898e-05, Acc = 100.00, Loss val = 1.855e-05, Acc val=100.00  \n"
     ]
    },
    {
     "name": "stderr",
     "output_type": "stream",
     "text": [
      " 31%|███       | 307/1000 [15:12<34:10,  2.96s/it]"
     ]
    },
    {
     "name": "stdout",
     "output_type": "stream",
     "text": [
      "Epoch 306 Loss = 1.865e-05, Acc = 100.00, Loss val = 1.854e-05, Acc val=100.00  \n"
     ]
    },
    {
     "name": "stderr",
     "output_type": "stream",
     "text": [
      " 31%|███       | 308/1000 [15:14<34:04,  2.95s/it]"
     ]
    },
    {
     "name": "stdout",
     "output_type": "stream",
     "text": [
      "Epoch 307 Loss = 1.848e-05, Acc = 100.00, Loss val = 1.858e-05, Acc val=100.00  \n"
     ]
    },
    {
     "name": "stderr",
     "output_type": "stream",
     "text": [
      " 31%|███       | 309/1000 [15:17<34:00,  2.95s/it]"
     ]
    },
    {
     "name": "stdout",
     "output_type": "stream",
     "text": [
      "Epoch 308 Loss = 1.839e-05, Acc = 100.00, Loss val = 1.820e-05, Acc val=100.00  \n"
     ]
    },
    {
     "name": "stderr",
     "output_type": "stream",
     "text": [
      " 31%|███       | 310/1000 [15:20<33:53,  2.95s/it]"
     ]
    },
    {
     "name": "stdout",
     "output_type": "stream",
     "text": [
      "Epoch 309 Loss = 1.824e-05, Acc = 100.00, Loss val = 1.817e-05, Acc val=100.00  \n"
     ]
    },
    {
     "name": "stderr",
     "output_type": "stream",
     "text": [
      " 31%|███       | 311/1000 [15:23<33:33,  2.92s/it]"
     ]
    },
    {
     "name": "stdout",
     "output_type": "stream",
     "text": [
      "Epoch 310 Loss = 1.835e-05, Acc = 100.00, Loss val = 1.826e-05, Acc val=100.00  \n"
     ]
    },
    {
     "name": "stderr",
     "output_type": "stream",
     "text": [
      " 31%|███       | 312/1000 [15:26<33:42,  2.94s/it]"
     ]
    },
    {
     "name": "stdout",
     "output_type": "stream",
     "text": [
      "Epoch 311 Loss = 1.825e-05, Acc = 100.00, Loss val = 1.805e-05, Acc val=100.00  \n"
     ]
    },
    {
     "name": "stderr",
     "output_type": "stream",
     "text": [
      " 31%|███▏      | 313/1000 [15:29<33:27,  2.92s/it]"
     ]
    },
    {
     "name": "stdout",
     "output_type": "stream",
     "text": [
      "Epoch 312 Loss = 1.806e-05, Acc = 100.00, Loss val = 1.822e-05, Acc val=100.00  \n"
     ]
    },
    {
     "name": "stderr",
     "output_type": "stream",
     "text": [
      " 31%|███▏      | 314/1000 [15:32<33:28,  2.93s/it]"
     ]
    },
    {
     "name": "stdout",
     "output_type": "stream",
     "text": [
      "Epoch 313 Loss = 1.799e-05, Acc = 100.00, Loss val = 1.801e-05, Acc val=100.00  \n"
     ]
    },
    {
     "name": "stderr",
     "output_type": "stream",
     "text": [
      " 32%|███▏      | 315/1000 [15:35<33:31,  2.94s/it]"
     ]
    },
    {
     "name": "stdout",
     "output_type": "stream",
     "text": [
      "Epoch 314 Loss = 1.786e-05, Acc = 100.00, Loss val = 1.794e-05, Acc val=100.00  \n"
     ]
    },
    {
     "name": "stderr",
     "output_type": "stream",
     "text": [
      " 32%|███▏      | 316/1000 [15:38<33:20,  2.92s/it]"
     ]
    },
    {
     "name": "stdout",
     "output_type": "stream",
     "text": [
      "Epoch 315 Loss = 1.806e-05, Acc = 100.00, Loss val = 1.763e-05, Acc val=100.00  \n"
     ]
    },
    {
     "name": "stderr",
     "output_type": "stream",
     "text": [
      " 32%|███▏      | 317/1000 [15:41<33:07,  2.91s/it]"
     ]
    },
    {
     "name": "stdout",
     "output_type": "stream",
     "text": [
      "Epoch 316 Loss = 1.794e-05, Acc = 100.00, Loss val = 1.790e-05, Acc val=100.00  \n"
     ]
    },
    {
     "name": "stderr",
     "output_type": "stream",
     "text": [
      " 32%|███▏      | 318/1000 [15:44<33:01,  2.91s/it]"
     ]
    },
    {
     "name": "stdout",
     "output_type": "stream",
     "text": [
      "Epoch 317 Loss = 1.773e-05, Acc = 100.00, Loss val = 1.785e-05, Acc val=100.00  \n"
     ]
    },
    {
     "name": "stderr",
     "output_type": "stream",
     "text": [
      " 32%|███▏      | 319/1000 [15:47<33:17,  2.93s/it]"
     ]
    },
    {
     "name": "stdout",
     "output_type": "stream",
     "text": [
      "Epoch 318 Loss = 1.773e-05, Acc = 100.00, Loss val = 1.765e-05, Acc val=100.00  \n"
     ]
    },
    {
     "name": "stderr",
     "output_type": "stream",
     "text": [
      " 32%|███▏      | 320/1000 [15:50<33:01,  2.91s/it]"
     ]
    },
    {
     "name": "stdout",
     "output_type": "stream",
     "text": [
      "Epoch 319 Loss = 1.760e-05, Acc = 100.00, Loss val = 1.775e-05, Acc val=100.00  \n"
     ]
    },
    {
     "name": "stderr",
     "output_type": "stream",
     "text": [
      " 32%|███▏      | 321/1000 [15:53<33:17,  2.94s/it]"
     ]
    },
    {
     "name": "stdout",
     "output_type": "stream",
     "text": [
      "Epoch 320 Loss = 1.738e-05, Acc = 100.00, Loss val = 1.769e-05, Acc val=100.00  \n"
     ]
    },
    {
     "name": "stderr",
     "output_type": "stream",
     "text": [
      " 32%|███▏      | 322/1000 [15:55<32:59,  2.92s/it]"
     ]
    },
    {
     "name": "stdout",
     "output_type": "stream",
     "text": [
      "Epoch 321 Loss = 1.762e-05, Acc = 100.00, Loss val = 1.766e-05, Acc val=100.00  \n"
     ]
    },
    {
     "name": "stderr",
     "output_type": "stream",
     "text": [
      " 32%|███▏      | 323/1000 [15:58<33:07,  2.94s/it]"
     ]
    },
    {
     "name": "stdout",
     "output_type": "stream",
     "text": [
      "Epoch 322 Loss = 1.751e-05, Acc = 100.00, Loss val = 1.760e-05, Acc val=100.00  \n"
     ]
    },
    {
     "name": "stderr",
     "output_type": "stream",
     "text": [
      " 32%|███▏      | 324/1000 [16:01<33:04,  2.94s/it]"
     ]
    },
    {
     "name": "stdout",
     "output_type": "stream",
     "text": [
      "Epoch 323 Loss = 1.731e-05, Acc = 100.00, Loss val = 1.749e-05, Acc val=100.00  \n"
     ]
    },
    {
     "name": "stderr",
     "output_type": "stream",
     "text": [
      " 32%|███▎      | 325/1000 [16:04<33:11,  2.95s/it]"
     ]
    },
    {
     "name": "stdout",
     "output_type": "stream",
     "text": [
      "Epoch 324 Loss = 1.734e-05, Acc = 100.00, Loss val = 1.729e-05, Acc val=100.00  \n"
     ]
    },
    {
     "name": "stderr",
     "output_type": "stream",
     "text": [
      " 33%|███▎      | 326/1000 [16:07<32:59,  2.94s/it]"
     ]
    },
    {
     "name": "stdout",
     "output_type": "stream",
     "text": [
      "Epoch 325 Loss = 1.717e-05, Acc = 100.00, Loss val = 1.776e-05, Acc val=100.00  \n"
     ]
    },
    {
     "name": "stderr",
     "output_type": "stream",
     "text": [
      " 33%|███▎      | 327/1000 [16:10<32:43,  2.92s/it]"
     ]
    },
    {
     "name": "stdout",
     "output_type": "stream",
     "text": [
      "Epoch 326 Loss = 1.713e-05, Acc = 100.00, Loss val = 1.729e-05, Acc val=100.00  \n"
     ]
    },
    {
     "name": "stderr",
     "output_type": "stream",
     "text": [
      " 33%|███▎      | 328/1000 [16:13<32:35,  2.91s/it]"
     ]
    },
    {
     "name": "stdout",
     "output_type": "stream",
     "text": [
      "Epoch 327 Loss = 1.728e-05, Acc = 100.00, Loss val = 1.708e-05, Acc val=100.00  \n"
     ]
    },
    {
     "name": "stderr",
     "output_type": "stream",
     "text": [
      " 33%|███▎      | 329/1000 [16:16<32:35,  2.91s/it]"
     ]
    },
    {
     "name": "stdout",
     "output_type": "stream",
     "text": [
      "Epoch 328 Loss = 1.733e-05, Acc = 100.00, Loss val = 1.713e-05, Acc val=100.00  \n"
     ]
    },
    {
     "name": "stderr",
     "output_type": "stream",
     "text": [
      " 33%|███▎      | 330/1000 [16:19<32:22,  2.90s/it]"
     ]
    },
    {
     "name": "stdout",
     "output_type": "stream",
     "text": [
      "Epoch 329 Loss = 1.715e-05, Acc = 100.00, Loss val = 1.708e-05, Acc val=100.00  \n"
     ]
    },
    {
     "name": "stderr",
     "output_type": "stream",
     "text": [
      " 33%|███▎      | 331/1000 [16:22<32:27,  2.91s/it]"
     ]
    },
    {
     "name": "stdout",
     "output_type": "stream",
     "text": [
      "Epoch 330 Loss = 1.710e-05, Acc = 100.00, Loss val = 1.699e-05, Acc val=100.00  \n"
     ]
    },
    {
     "name": "stderr",
     "output_type": "stream",
     "text": [
      " 33%|███▎      | 332/1000 [16:25<33:45,  3.03s/it]"
     ]
    },
    {
     "name": "stdout",
     "output_type": "stream",
     "text": [
      "Epoch 331 Loss = 1.714e-05, Acc = 100.00, Loss val = 1.702e-05, Acc val=100.00  \n"
     ]
    },
    {
     "name": "stderr",
     "output_type": "stream",
     "text": [
      " 33%|███▎      | 333/1000 [16:28<33:26,  3.01s/it]"
     ]
    },
    {
     "name": "stdout",
     "output_type": "stream",
     "text": [
      "Epoch 332 Loss = 1.667e-05, Acc = 100.00, Loss val = 1.692e-05, Acc val=100.00  \n"
     ]
    },
    {
     "name": "stderr",
     "output_type": "stream",
     "text": [
      " 33%|███▎      | 334/1000 [16:31<32:52,  2.96s/it]"
     ]
    },
    {
     "name": "stdout",
     "output_type": "stream",
     "text": [
      "Epoch 333 Loss = 1.699e-05, Acc = 100.00, Loss val = 1.691e-05, Acc val=100.00  \n"
     ]
    },
    {
     "name": "stderr",
     "output_type": "stream",
     "text": [
      " 34%|███▎      | 335/1000 [16:34<32:39,  2.95s/it]"
     ]
    },
    {
     "name": "stdout",
     "output_type": "stream",
     "text": [
      "Epoch 334 Loss = 1.689e-05, Acc = 100.00, Loss val = 1.670e-05, Acc val=100.00  \n"
     ]
    },
    {
     "name": "stderr",
     "output_type": "stream",
     "text": [
      " 34%|███▎      | 336/1000 [16:37<32:44,  2.96s/it]"
     ]
    },
    {
     "name": "stdout",
     "output_type": "stream",
     "text": [
      "Epoch 335 Loss = 1.672e-05, Acc = 100.00, Loss val = 1.656e-05, Acc val=100.00  \n"
     ]
    },
    {
     "name": "stderr",
     "output_type": "stream",
     "text": [
      " 34%|███▎      | 337/1000 [16:40<33:01,  2.99s/it]"
     ]
    },
    {
     "name": "stdout",
     "output_type": "stream",
     "text": [
      "Epoch 336 Loss = 1.649e-05, Acc = 100.00, Loss val = 1.687e-05, Acc val=100.00  \n"
     ]
    },
    {
     "name": "stderr",
     "output_type": "stream",
     "text": [
      " 34%|███▍      | 338/1000 [16:43<32:49,  2.98s/it]"
     ]
    },
    {
     "name": "stdout",
     "output_type": "stream",
     "text": [
      "Epoch 337 Loss = 1.685e-05, Acc = 100.00, Loss val = 1.649e-05, Acc val=100.00  \n"
     ]
    },
    {
     "name": "stderr",
     "output_type": "stream",
     "text": [
      " 34%|███▍      | 339/1000 [16:46<32:37,  2.96s/it]"
     ]
    },
    {
     "name": "stdout",
     "output_type": "stream",
     "text": [
      "Epoch 338 Loss = 1.657e-05, Acc = 100.00, Loss val = 1.648e-05, Acc val=100.00  \n"
     ]
    },
    {
     "name": "stderr",
     "output_type": "stream",
     "text": [
      " 34%|███▍      | 340/1000 [16:49<32:31,  2.96s/it]"
     ]
    },
    {
     "name": "stdout",
     "output_type": "stream",
     "text": [
      "Epoch 339 Loss = 1.626e-05, Acc = 100.00, Loss val = 1.644e-05, Acc val=100.00  \n"
     ]
    },
    {
     "name": "stderr",
     "output_type": "stream",
     "text": [
      " 34%|███▍      | 341/1000 [16:52<32:22,  2.95s/it]"
     ]
    },
    {
     "name": "stdout",
     "output_type": "stream",
     "text": [
      "Epoch 340 Loss = 1.663e-05, Acc = 100.00, Loss val = 1.640e-05, Acc val=100.00  \n"
     ]
    },
    {
     "name": "stderr",
     "output_type": "stream",
     "text": [
      " 34%|███▍      | 342/1000 [16:54<32:12,  2.94s/it]"
     ]
    },
    {
     "name": "stdout",
     "output_type": "stream",
     "text": [
      "Epoch 341 Loss = 1.599e-05, Acc = 100.00, Loss val = 1.620e-05, Acc val=100.00  \n"
     ]
    },
    {
     "name": "stderr",
     "output_type": "stream",
     "text": [
      " 34%|███▍      | 343/1000 [16:57<32:02,  2.93s/it]"
     ]
    },
    {
     "name": "stdout",
     "output_type": "stream",
     "text": [
      "Epoch 342 Loss = 1.619e-05, Acc = 100.00, Loss val = 1.623e-05, Acc val=100.00  \n"
     ]
    },
    {
     "name": "stderr",
     "output_type": "stream",
     "text": [
      " 34%|███▍      | 344/1000 [17:00<32:10,  2.94s/it]"
     ]
    },
    {
     "name": "stdout",
     "output_type": "stream",
     "text": [
      "Epoch 343 Loss = 1.616e-05, Acc = 100.00, Loss val = 1.606e-05, Acc val=100.00  \n"
     ]
    },
    {
     "name": "stderr",
     "output_type": "stream",
     "text": [
      " 34%|███▍      | 345/1000 [17:03<32:01,  2.93s/it]"
     ]
    },
    {
     "name": "stdout",
     "output_type": "stream",
     "text": [
      "Epoch 344 Loss = 1.614e-05, Acc = 100.00, Loss val = 1.606e-05, Acc val=100.00  \n"
     ]
    },
    {
     "name": "stderr",
     "output_type": "stream",
     "text": [
      " 35%|███▍      | 346/1000 [17:06<31:43,  2.91s/it]"
     ]
    },
    {
     "name": "stdout",
     "output_type": "stream",
     "text": [
      "Epoch 345 Loss = 1.614e-05, Acc = 100.00, Loss val = 1.597e-05, Acc val=100.00  \n"
     ]
    },
    {
     "name": "stderr",
     "output_type": "stream",
     "text": [
      " 35%|███▍      | 347/1000 [17:09<31:56,  2.94s/it]"
     ]
    },
    {
     "name": "stdout",
     "output_type": "stream",
     "text": [
      "Epoch 346 Loss = 1.597e-05, Acc = 100.00, Loss val = 1.608e-05, Acc val=100.00  \n"
     ]
    },
    {
     "name": "stderr",
     "output_type": "stream",
     "text": [
      " 35%|███▍      | 348/1000 [17:12<31:50,  2.93s/it]"
     ]
    },
    {
     "name": "stdout",
     "output_type": "stream",
     "text": [
      "Epoch 347 Loss = 1.615e-05, Acc = 100.00, Loss val = 1.575e-05, Acc val=100.00  \n"
     ]
    },
    {
     "name": "stderr",
     "output_type": "stream",
     "text": [
      " 35%|███▍      | 349/1000 [17:15<31:46,  2.93s/it]"
     ]
    },
    {
     "name": "stdout",
     "output_type": "stream",
     "text": [
      "Epoch 348 Loss = 1.590e-05, Acc = 100.00, Loss val = 1.588e-05, Acc val=100.00  \n"
     ]
    },
    {
     "name": "stderr",
     "output_type": "stream",
     "text": [
      " 35%|███▌      | 350/1000 [17:18<32:00,  2.95s/it]"
     ]
    },
    {
     "name": "stdout",
     "output_type": "stream",
     "text": [
      "Epoch 349 Loss = 1.572e-05, Acc = 100.00, Loss val = 1.590e-05, Acc val=100.00  \n"
     ]
    },
    {
     "name": "stderr",
     "output_type": "stream",
     "text": [
      " 35%|███▌      | 351/1000 [17:21<31:51,  2.95s/it]"
     ]
    },
    {
     "name": "stdout",
     "output_type": "stream",
     "text": [
      "Epoch 350 Loss = 1.572e-05, Acc = 100.00, Loss val = 1.597e-05, Acc val=100.00  \n"
     ]
    },
    {
     "name": "stderr",
     "output_type": "stream",
     "text": [
      " 35%|███▌      | 352/1000 [17:24<31:44,  2.94s/it]"
     ]
    },
    {
     "name": "stdout",
     "output_type": "stream",
     "text": [
      "Epoch 351 Loss = 1.572e-05, Acc = 100.00, Loss val = 1.539e-05, Acc val=100.00  \n"
     ]
    },
    {
     "name": "stderr",
     "output_type": "stream",
     "text": [
      " 35%|███▌      | 353/1000 [17:27<31:30,  2.92s/it]"
     ]
    },
    {
     "name": "stdout",
     "output_type": "stream",
     "text": [
      "Epoch 352 Loss = 1.569e-05, Acc = 100.00, Loss val = 1.555e-05, Acc val=100.00  \n"
     ]
    },
    {
     "name": "stderr",
     "output_type": "stream",
     "text": [
      " 35%|███▌      | 354/1000 [17:30<31:33,  2.93s/it]"
     ]
    },
    {
     "name": "stdout",
     "output_type": "stream",
     "text": [
      "Epoch 353 Loss = 1.551e-05, Acc = 100.00, Loss val = 1.574e-05, Acc val=100.00  \n"
     ]
    },
    {
     "name": "stderr",
     "output_type": "stream",
     "text": [
      " 36%|███▌      | 355/1000 [17:33<31:28,  2.93s/it]"
     ]
    },
    {
     "name": "stdout",
     "output_type": "stream",
     "text": [
      "Epoch 354 Loss = 1.577e-05, Acc = 100.00, Loss val = 1.536e-05, Acc val=100.00  \n"
     ]
    },
    {
     "name": "stderr",
     "output_type": "stream",
     "text": [
      " 36%|███▌      | 356/1000 [17:35<31:24,  2.93s/it]"
     ]
    },
    {
     "name": "stdout",
     "output_type": "stream",
     "text": [
      "Epoch 355 Loss = 1.564e-05, Acc = 100.00, Loss val = 1.549e-05, Acc val=100.00  \n"
     ]
    },
    {
     "name": "stderr",
     "output_type": "stream",
     "text": [
      " 36%|███▌      | 357/1000 [17:38<31:29,  2.94s/it]"
     ]
    },
    {
     "name": "stdout",
     "output_type": "stream",
     "text": [
      "Epoch 356 Loss = 1.540e-05, Acc = 100.00, Loss val = 1.519e-05, Acc val=100.00  \n"
     ]
    },
    {
     "name": "stderr",
     "output_type": "stream",
     "text": [
      " 36%|███▌      | 358/1000 [17:41<31:25,  2.94s/it]"
     ]
    },
    {
     "name": "stdout",
     "output_type": "stream",
     "text": [
      "Epoch 357 Loss = 1.545e-05, Acc = 100.00, Loss val = 1.517e-05, Acc val=100.00  \n"
     ]
    },
    {
     "name": "stderr",
     "output_type": "stream",
     "text": [
      " 36%|███▌      | 359/1000 [17:44<31:08,  2.92s/it]"
     ]
    },
    {
     "name": "stdout",
     "output_type": "stream",
     "text": [
      "Epoch 358 Loss = 1.549e-05, Acc = 100.00, Loss val = 1.503e-05, Acc val=100.00  \n"
     ]
    },
    {
     "name": "stderr",
     "output_type": "stream",
     "text": [
      " 36%|███▌      | 360/1000 [17:47<30:54,  2.90s/it]"
     ]
    },
    {
     "name": "stdout",
     "output_type": "stream",
     "text": [
      "Epoch 359 Loss = 1.517e-05, Acc = 100.00, Loss val = 1.513e-05, Acc val=100.00  \n"
     ]
    },
    {
     "name": "stderr",
     "output_type": "stream",
     "text": [
      " 36%|███▌      | 361/1000 [17:50<30:49,  2.89s/it]"
     ]
    },
    {
     "name": "stdout",
     "output_type": "stream",
     "text": [
      "Epoch 360 Loss = 1.523e-05, Acc = 100.00, Loss val = 1.521e-05, Acc val=100.00  \n"
     ]
    },
    {
     "name": "stderr",
     "output_type": "stream",
     "text": [
      " 36%|███▌      | 362/1000 [17:53<30:40,  2.89s/it]"
     ]
    },
    {
     "name": "stdout",
     "output_type": "stream",
     "text": [
      "Epoch 361 Loss = 1.494e-05, Acc = 100.00, Loss val = 1.498e-05, Acc val=100.00  \n"
     ]
    },
    {
     "name": "stderr",
     "output_type": "stream",
     "text": [
      " 36%|███▋      | 363/1000 [17:56<30:33,  2.88s/it]"
     ]
    },
    {
     "name": "stdout",
     "output_type": "stream",
     "text": [
      "Epoch 362 Loss = 1.503e-05, Acc = 100.00, Loss val = 1.538e-05, Acc val=100.00  \n"
     ]
    },
    {
     "name": "stderr",
     "output_type": "stream",
     "text": [
      " 36%|███▋      | 364/1000 [17:59<30:48,  2.91s/it]"
     ]
    },
    {
     "name": "stdout",
     "output_type": "stream",
     "text": [
      "Epoch 363 Loss = 1.508e-05, Acc = 100.00, Loss val = 1.520e-05, Acc val=100.00  \n"
     ]
    },
    {
     "name": "stderr",
     "output_type": "stream",
     "text": [
      " 36%|███▋      | 365/1000 [18:02<31:18,  2.96s/it]"
     ]
    },
    {
     "name": "stdout",
     "output_type": "stream",
     "text": [
      "Epoch 364 Loss = 1.502e-05, Acc = 100.00, Loss val = 1.477e-05, Acc val=100.00  \n"
     ]
    },
    {
     "name": "stderr",
     "output_type": "stream",
     "text": [
      " 37%|███▋      | 366/1000 [18:05<32:03,  3.03s/it]"
     ]
    },
    {
     "name": "stdout",
     "output_type": "stream",
     "text": [
      "Epoch 365 Loss = 1.485e-05, Acc = 100.00, Loss val = 1.495e-05, Acc val=100.00  \n"
     ]
    },
    {
     "name": "stderr",
     "output_type": "stream",
     "text": [
      " 37%|███▋      | 367/1000 [18:08<32:11,  3.05s/it]"
     ]
    },
    {
     "name": "stdout",
     "output_type": "stream",
     "text": [
      "Epoch 366 Loss = 1.485e-05, Acc = 100.00, Loss val = 1.452e-05, Acc val=100.00  \n"
     ]
    },
    {
     "name": "stderr",
     "output_type": "stream",
     "text": [
      " 37%|███▋      | 368/1000 [18:11<32:05,  3.05s/it]"
     ]
    },
    {
     "name": "stdout",
     "output_type": "stream",
     "text": [
      "Epoch 367 Loss = 1.477e-05, Acc = 100.00, Loss val = 1.470e-05, Acc val=100.00  \n"
     ]
    },
    {
     "name": "stderr",
     "output_type": "stream",
     "text": [
      " 37%|███▋      | 369/1000 [18:14<31:37,  3.01s/it]"
     ]
    },
    {
     "name": "stdout",
     "output_type": "stream",
     "text": [
      "Epoch 368 Loss = 1.483e-05, Acc = 100.00, Loss val = 1.464e-05, Acc val=100.00  \n"
     ]
    },
    {
     "name": "stderr",
     "output_type": "stream",
     "text": [
      " 37%|███▋      | 370/1000 [18:17<31:05,  2.96s/it]"
     ]
    },
    {
     "name": "stdout",
     "output_type": "stream",
     "text": [
      "Epoch 369 Loss = 1.468e-05, Acc = 100.00, Loss val = 1.464e-05, Acc val=100.00  \n"
     ]
    },
    {
     "name": "stderr",
     "output_type": "stream",
     "text": [
      " 37%|███▋      | 371/1000 [18:20<30:39,  2.92s/it]"
     ]
    },
    {
     "name": "stdout",
     "output_type": "stream",
     "text": [
      "Epoch 370 Loss = 1.465e-05, Acc = 100.00, Loss val = 1.477e-05, Acc val=100.00  \n"
     ]
    },
    {
     "name": "stderr",
     "output_type": "stream",
     "text": [
      " 37%|███▋      | 372/1000 [18:23<30:20,  2.90s/it]"
     ]
    },
    {
     "name": "stdout",
     "output_type": "stream",
     "text": [
      "Epoch 371 Loss = 1.466e-05, Acc = 100.00, Loss val = 1.480e-05, Acc val=100.00  \n"
     ]
    },
    {
     "name": "stderr",
     "output_type": "stream",
     "text": [
      " 37%|███▋      | 373/1000 [18:25<30:09,  2.89s/it]"
     ]
    },
    {
     "name": "stdout",
     "output_type": "stream",
     "text": [
      "Epoch 372 Loss = 1.449e-05, Acc = 100.00, Loss val = 1.447e-05, Acc val=100.00  \n"
     ]
    },
    {
     "name": "stderr",
     "output_type": "stream",
     "text": [
      " 37%|███▋      | 374/1000 [18:28<30:07,  2.89s/it]"
     ]
    },
    {
     "name": "stdout",
     "output_type": "stream",
     "text": [
      "Epoch 373 Loss = 1.454e-05, Acc = 100.00, Loss val = 1.460e-05, Acc val=100.00  \n"
     ]
    },
    {
     "name": "stderr",
     "output_type": "stream",
     "text": [
      " 38%|███▊      | 375/1000 [18:31<29:46,  2.86s/it]"
     ]
    },
    {
     "name": "stdout",
     "output_type": "stream",
     "text": [
      "Epoch 374 Loss = 1.437e-05, Acc = 100.00, Loss val = 1.440e-05, Acc val=100.00  \n"
     ]
    },
    {
     "name": "stderr",
     "output_type": "stream",
     "text": [
      " 38%|███▊      | 376/1000 [18:34<29:50,  2.87s/it]"
     ]
    },
    {
     "name": "stdout",
     "output_type": "stream",
     "text": [
      "Epoch 375 Loss = 1.442e-05, Acc = 100.00, Loss val = 1.448e-05, Acc val=100.00  \n"
     ]
    },
    {
     "name": "stderr",
     "output_type": "stream",
     "text": [
      " 38%|███▊      | 377/1000 [18:37<29:29,  2.84s/it]"
     ]
    },
    {
     "name": "stdout",
     "output_type": "stream",
     "text": [
      "Epoch 376 Loss = 1.430e-05, Acc = 100.00, Loss val = 1.422e-05, Acc val=100.00  \n"
     ]
    },
    {
     "name": "stderr",
     "output_type": "stream",
     "text": [
      " 38%|███▊      | 378/1000 [18:40<29:28,  2.84s/it]"
     ]
    },
    {
     "name": "stdout",
     "output_type": "stream",
     "text": [
      "Epoch 377 Loss = 1.477e-05, Acc = 100.00, Loss val = 1.448e-05, Acc val=100.00  \n"
     ]
    },
    {
     "name": "stderr",
     "output_type": "stream",
     "text": [
      " 38%|███▊      | 379/1000 [18:42<29:28,  2.85s/it]"
     ]
    },
    {
     "name": "stdout",
     "output_type": "stream",
     "text": [
      "Epoch 378 Loss = 1.432e-05, Acc = 100.00, Loss val = 1.437e-05, Acc val=100.00  \n"
     ]
    },
    {
     "name": "stderr",
     "output_type": "stream",
     "text": [
      " 38%|███▊      | 380/1000 [18:45<29:49,  2.89s/it]"
     ]
    },
    {
     "name": "stdout",
     "output_type": "stream",
     "text": [
      "Epoch 379 Loss = 1.410e-05, Acc = 100.00, Loss val = 1.434e-05, Acc val=100.00  \n"
     ]
    },
    {
     "name": "stderr",
     "output_type": "stream",
     "text": [
      " 38%|███▊      | 381/1000 [18:48<30:14,  2.93s/it]"
     ]
    },
    {
     "name": "stdout",
     "output_type": "stream",
     "text": [
      "Epoch 380 Loss = 1.431e-05, Acc = 100.00, Loss val = 1.414e-05, Acc val=100.00  \n"
     ]
    },
    {
     "name": "stderr",
     "output_type": "stream",
     "text": [
      " 38%|███▊      | 382/1000 [18:51<29:54,  2.90s/it]"
     ]
    },
    {
     "name": "stdout",
     "output_type": "stream",
     "text": [
      "Epoch 381 Loss = 1.411e-05, Acc = 100.00, Loss val = 1.388e-05, Acc val=100.00  \n"
     ]
    },
    {
     "name": "stderr",
     "output_type": "stream",
     "text": [
      " 38%|███▊      | 383/1000 [18:54<30:00,  2.92s/it]"
     ]
    },
    {
     "name": "stdout",
     "output_type": "stream",
     "text": [
      "Epoch 382 Loss = 1.431e-05, Acc = 100.00, Loss val = 1.414e-05, Acc val=100.00  \n"
     ]
    },
    {
     "name": "stderr",
     "output_type": "stream",
     "text": [
      " 38%|███▊      | 384/1000 [18:57<30:06,  2.93s/it]"
     ]
    },
    {
     "name": "stdout",
     "output_type": "stream",
     "text": [
      "Epoch 383 Loss = 1.418e-05, Acc = 100.00, Loss val = 1.422e-05, Acc val=100.00  \n"
     ]
    },
    {
     "name": "stderr",
     "output_type": "stream",
     "text": [
      " 38%|███▊      | 385/1000 [19:00<30:11,  2.94s/it]"
     ]
    },
    {
     "name": "stdout",
     "output_type": "stream",
     "text": [
      "Epoch 384 Loss = 1.394e-05, Acc = 100.00, Loss val = 1.404e-05, Acc val=100.00  \n"
     ]
    },
    {
     "name": "stderr",
     "output_type": "stream",
     "text": [
      " 39%|███▊      | 386/1000 [19:03<29:54,  2.92s/it]"
     ]
    },
    {
     "name": "stdout",
     "output_type": "stream",
     "text": [
      "Epoch 385 Loss = 1.401e-05, Acc = 100.00, Loss val = 1.405e-05, Acc val=100.00  \n"
     ]
    },
    {
     "name": "stderr",
     "output_type": "stream",
     "text": [
      " 39%|███▊      | 387/1000 [19:06<29:31,  2.89s/it]"
     ]
    },
    {
     "name": "stdout",
     "output_type": "stream",
     "text": [
      "Epoch 386 Loss = 1.391e-05, Acc = 100.00, Loss val = 1.396e-05, Acc val=100.00  \n"
     ]
    },
    {
     "name": "stderr",
     "output_type": "stream",
     "text": [
      " 39%|███▉      | 388/1000 [19:09<29:34,  2.90s/it]"
     ]
    },
    {
     "name": "stdout",
     "output_type": "stream",
     "text": [
      "Epoch 387 Loss = 1.391e-05, Acc = 100.00, Loss val = 1.368e-05, Acc val=100.00  \n"
     ]
    },
    {
     "name": "stderr",
     "output_type": "stream",
     "text": [
      " 39%|███▉      | 389/1000 [19:12<29:34,  2.90s/it]"
     ]
    },
    {
     "name": "stdout",
     "output_type": "stream",
     "text": [
      "Epoch 388 Loss = 1.406e-05, Acc = 100.00, Loss val = 1.371e-05, Acc val=100.00  \n"
     ]
    },
    {
     "name": "stderr",
     "output_type": "stream",
     "text": [
      " 39%|███▉      | 390/1000 [19:15<29:25,  2.89s/it]"
     ]
    },
    {
     "name": "stdout",
     "output_type": "stream",
     "text": [
      "Epoch 389 Loss = 1.375e-05, Acc = 100.00, Loss val = 1.368e-05, Acc val=100.00  \n"
     ]
    },
    {
     "name": "stderr",
     "output_type": "stream",
     "text": [
      " 39%|███▉      | 391/1000 [19:18<29:28,  2.90s/it]"
     ]
    },
    {
     "name": "stdout",
     "output_type": "stream",
     "text": [
      "Epoch 390 Loss = 1.367e-05, Acc = 100.00, Loss val = 1.370e-05, Acc val=100.00  \n"
     ]
    },
    {
     "name": "stderr",
     "output_type": "stream",
     "text": [
      " 39%|███▉      | 392/1000 [19:21<30:12,  2.98s/it]"
     ]
    },
    {
     "name": "stdout",
     "output_type": "stream",
     "text": [
      "Epoch 391 Loss = 1.365e-05, Acc = 100.00, Loss val = 1.352e-05, Acc val=100.00  \n"
     ]
    },
    {
     "name": "stderr",
     "output_type": "stream",
     "text": [
      " 39%|███▉      | 393/1000 [19:24<29:54,  2.96s/it]"
     ]
    },
    {
     "name": "stdout",
     "output_type": "stream",
     "text": [
      "Epoch 392 Loss = 1.377e-05, Acc = 100.00, Loss val = 1.364e-05, Acc val=100.00  \n"
     ]
    },
    {
     "name": "stderr",
     "output_type": "stream",
     "text": [
      " 39%|███▉      | 394/1000 [19:26<29:29,  2.92s/it]"
     ]
    },
    {
     "name": "stdout",
     "output_type": "stream",
     "text": [
      "Epoch 393 Loss = 1.353e-05, Acc = 100.00, Loss val = 1.351e-05, Acc val=100.00  \n"
     ]
    },
    {
     "name": "stderr",
     "output_type": "stream",
     "text": [
      " 40%|███▉      | 395/1000 [19:29<29:29,  2.93s/it]"
     ]
    },
    {
     "name": "stdout",
     "output_type": "stream",
     "text": [
      "Epoch 394 Loss = 1.360e-05, Acc = 100.00, Loss val = 1.371e-05, Acc val=100.00  \n"
     ]
    },
    {
     "name": "stderr",
     "output_type": "stream",
     "text": [
      " 40%|███▉      | 396/1000 [19:32<29:44,  2.95s/it]"
     ]
    },
    {
     "name": "stdout",
     "output_type": "stream",
     "text": [
      "Epoch 395 Loss = 1.350e-05, Acc = 100.00, Loss val = 1.365e-05, Acc val=100.00  \n"
     ]
    },
    {
     "name": "stderr",
     "output_type": "stream",
     "text": [
      " 40%|███▉      | 397/1000 [19:35<29:39,  2.95s/it]"
     ]
    },
    {
     "name": "stdout",
     "output_type": "stream",
     "text": [
      "Epoch 396 Loss = 1.346e-05, Acc = 100.00, Loss val = 1.345e-05, Acc val=100.00  \n"
     ]
    },
    {
     "name": "stderr",
     "output_type": "stream",
     "text": [
      " 40%|███▉      | 398/1000 [19:38<29:27,  2.94s/it]"
     ]
    },
    {
     "name": "stdout",
     "output_type": "stream",
     "text": [
      "Epoch 397 Loss = 1.336e-05, Acc = 100.00, Loss val = 1.316e-05, Acc val=100.00  \n"
     ]
    },
    {
     "name": "stderr",
     "output_type": "stream",
     "text": [
      " 40%|███▉      | 399/1000 [19:41<29:22,  2.93s/it]"
     ]
    },
    {
     "name": "stdout",
     "output_type": "stream",
     "text": [
      "Epoch 398 Loss = 1.322e-05, Acc = 100.00, Loss val = 1.321e-05, Acc val=100.00  \n"
     ]
    },
    {
     "name": "stderr",
     "output_type": "stream",
     "text": [
      " 40%|████      | 400/1000 [19:44<29:04,  2.91s/it]"
     ]
    },
    {
     "name": "stdout",
     "output_type": "stream",
     "text": [
      "Epoch 399 Loss = 1.334e-05, Acc = 100.00, Loss val = 1.328e-05, Acc val=100.00  \n"
     ]
    },
    {
     "name": "stderr",
     "output_type": "stream",
     "text": [
      " 40%|████      | 401/1000 [19:47<28:55,  2.90s/it]"
     ]
    },
    {
     "name": "stdout",
     "output_type": "stream",
     "text": [
      "Epoch 400 Loss = 1.316e-05, Acc = 100.00, Loss val = 1.352e-05, Acc val=100.00  \n"
     ]
    },
    {
     "name": "stderr",
     "output_type": "stream",
     "text": [
      " 40%|████      | 402/1000 [19:50<28:51,  2.90s/it]"
     ]
    },
    {
     "name": "stdout",
     "output_type": "stream",
     "text": [
      "Epoch 401 Loss = 1.327e-05, Acc = 100.00, Loss val = 1.317e-05, Acc val=100.00  \n"
     ]
    },
    {
     "name": "stderr",
     "output_type": "stream",
     "text": [
      " 40%|████      | 403/1000 [19:53<28:47,  2.89s/it]"
     ]
    },
    {
     "name": "stdout",
     "output_type": "stream",
     "text": [
      "Epoch 402 Loss = 1.346e-05, Acc = 100.00, Loss val = 1.329e-05, Acc val=100.00  \n"
     ]
    },
    {
     "name": "stderr",
     "output_type": "stream",
     "text": [
      " 40%|████      | 404/1000 [19:56<28:43,  2.89s/it]"
     ]
    },
    {
     "name": "stdout",
     "output_type": "stream",
     "text": [
      "Epoch 403 Loss = 1.331e-05, Acc = 100.00, Loss val = 1.328e-05, Acc val=100.00  \n"
     ]
    },
    {
     "name": "stderr",
     "output_type": "stream",
     "text": [
      " 40%|████      | 405/1000 [19:58<28:36,  2.88s/it]"
     ]
    },
    {
     "name": "stdout",
     "output_type": "stream",
     "text": [
      "Epoch 404 Loss = 1.305e-05, Acc = 100.00, Loss val = 1.311e-05, Acc val=100.00  \n"
     ]
    },
    {
     "name": "stderr",
     "output_type": "stream",
     "text": [
      " 41%|████      | 406/1000 [20:01<28:31,  2.88s/it]"
     ]
    },
    {
     "name": "stdout",
     "output_type": "stream",
     "text": [
      "Epoch 405 Loss = 1.306e-05, Acc = 100.00, Loss val = 1.312e-05, Acc val=100.00  \n"
     ]
    },
    {
     "name": "stderr",
     "output_type": "stream",
     "text": [
      " 41%|████      | 407/1000 [20:04<28:24,  2.88s/it]"
     ]
    },
    {
     "name": "stdout",
     "output_type": "stream",
     "text": [
      "Epoch 406 Loss = 1.298e-05, Acc = 100.00, Loss val = 1.292e-05, Acc val=100.00  \n"
     ]
    },
    {
     "name": "stderr",
     "output_type": "stream",
     "text": [
      " 41%|████      | 408/1000 [20:07<28:19,  2.87s/it]"
     ]
    },
    {
     "name": "stdout",
     "output_type": "stream",
     "text": [
      "Epoch 407 Loss = 1.317e-05, Acc = 100.00, Loss val = 1.299e-05, Acc val=100.00  \n"
     ]
    },
    {
     "name": "stderr",
     "output_type": "stream",
     "text": [
      " 41%|████      | 409/1000 [20:10<28:11,  2.86s/it]"
     ]
    },
    {
     "name": "stdout",
     "output_type": "stream",
     "text": [
      "Epoch 408 Loss = 1.307e-05, Acc = 100.00, Loss val = 1.284e-05, Acc val=100.00  \n"
     ]
    },
    {
     "name": "stderr",
     "output_type": "stream",
     "text": [
      " 41%|████      | 410/1000 [20:13<28:07,  2.86s/it]"
     ]
    },
    {
     "name": "stdout",
     "output_type": "stream",
     "text": [
      "Epoch 409 Loss = 1.301e-05, Acc = 100.00, Loss val = 1.285e-05, Acc val=100.00  \n"
     ]
    },
    {
     "name": "stderr",
     "output_type": "stream",
     "text": [
      " 41%|████      | 411/1000 [20:16<28:19,  2.89s/it]"
     ]
    },
    {
     "name": "stdout",
     "output_type": "stream",
     "text": [
      "Epoch 410 Loss = 1.288e-05, Acc = 100.00, Loss val = 1.287e-05, Acc val=100.00  \n"
     ]
    },
    {
     "name": "stderr",
     "output_type": "stream",
     "text": [
      " 41%|████      | 412/1000 [20:18<28:12,  2.88s/it]"
     ]
    },
    {
     "name": "stdout",
     "output_type": "stream",
     "text": [
      "Epoch 411 Loss = 1.277e-05, Acc = 100.00, Loss val = 1.278e-05, Acc val=100.00  \n"
     ]
    },
    {
     "name": "stderr",
     "output_type": "stream",
     "text": [
      " 41%|████▏     | 413/1000 [20:21<28:07,  2.87s/it]"
     ]
    },
    {
     "name": "stdout",
     "output_type": "stream",
     "text": [
      "Epoch 412 Loss = 1.279e-05, Acc = 100.00, Loss val = 1.267e-05, Acc val=100.00  \n"
     ]
    },
    {
     "name": "stderr",
     "output_type": "stream",
     "text": [
      " 41%|████▏     | 414/1000 [20:24<28:09,  2.88s/it]"
     ]
    },
    {
     "name": "stdout",
     "output_type": "stream",
     "text": [
      "Epoch 413 Loss = 1.272e-05, Acc = 100.00, Loss val = 1.274e-05, Acc val=100.00  \n"
     ]
    },
    {
     "name": "stderr",
     "output_type": "stream",
     "text": [
      " 42%|████▏     | 415/1000 [20:27<27:59,  2.87s/it]"
     ]
    },
    {
     "name": "stdout",
     "output_type": "stream",
     "text": [
      "Epoch 414 Loss = 1.282e-05, Acc = 100.00, Loss val = 1.275e-05, Acc val=100.00  \n"
     ]
    },
    {
     "name": "stderr",
     "output_type": "stream",
     "text": [
      " 42%|████▏     | 416/1000 [20:30<27:59,  2.88s/it]"
     ]
    },
    {
     "name": "stdout",
     "output_type": "stream",
     "text": [
      "Epoch 415 Loss = 1.291e-05, Acc = 100.00, Loss val = 1.264e-05, Acc val=100.00  \n"
     ]
    },
    {
     "name": "stderr",
     "output_type": "stream",
     "text": [
      " 42%|████▏     | 417/1000 [20:33<27:56,  2.88s/it]"
     ]
    },
    {
     "name": "stdout",
     "output_type": "stream",
     "text": [
      "Epoch 416 Loss = 1.266e-05, Acc = 100.00, Loss val = 1.268e-05, Acc val=100.00  \n"
     ]
    },
    {
     "name": "stderr",
     "output_type": "stream",
     "text": [
      " 42%|████▏     | 418/1000 [20:36<27:50,  2.87s/it]"
     ]
    },
    {
     "name": "stdout",
     "output_type": "stream",
     "text": [
      "Epoch 417 Loss = 1.264e-05, Acc = 100.00, Loss val = 1.264e-05, Acc val=100.00  \n"
     ]
    },
    {
     "name": "stderr",
     "output_type": "stream",
     "text": [
      " 42%|████▏     | 419/1000 [20:39<27:44,  2.86s/it]"
     ]
    },
    {
     "name": "stdout",
     "output_type": "stream",
     "text": [
      "Epoch 418 Loss = 1.252e-05, Acc = 100.00, Loss val = 1.235e-05, Acc val=100.00  \n"
     ]
    },
    {
     "name": "stderr",
     "output_type": "stream",
     "text": [
      " 42%|████▏     | 420/1000 [20:41<27:46,  2.87s/it]"
     ]
    },
    {
     "name": "stdout",
     "output_type": "stream",
     "text": [
      "Epoch 419 Loss = 1.250e-05, Acc = 100.00, Loss val = 1.232e-05, Acc val=100.00  \n"
     ]
    },
    {
     "name": "stderr",
     "output_type": "stream",
     "text": [
      " 42%|████▏     | 421/1000 [20:44<27:53,  2.89s/it]"
     ]
    },
    {
     "name": "stdout",
     "output_type": "stream",
     "text": [
      "Epoch 420 Loss = 1.269e-05, Acc = 100.00, Loss val = 1.245e-05, Acc val=100.00  \n"
     ]
    },
    {
     "name": "stderr",
     "output_type": "stream",
     "text": [
      " 42%|████▏     | 422/1000 [20:47<27:45,  2.88s/it]"
     ]
    },
    {
     "name": "stdout",
     "output_type": "stream",
     "text": [
      "Epoch 421 Loss = 1.230e-05, Acc = 100.00, Loss val = 1.245e-05, Acc val=100.00  \n"
     ]
    },
    {
     "name": "stderr",
     "output_type": "stream",
     "text": [
      " 42%|████▏     | 423/1000 [20:50<27:35,  2.87s/it]"
     ]
    },
    {
     "name": "stdout",
     "output_type": "stream",
     "text": [
      "Epoch 422 Loss = 1.232e-05, Acc = 100.00, Loss val = 1.231e-05, Acc val=100.00  \n"
     ]
    },
    {
     "name": "stderr",
     "output_type": "stream",
     "text": [
      " 42%|████▏     | 424/1000 [20:53<27:28,  2.86s/it]"
     ]
    },
    {
     "name": "stdout",
     "output_type": "stream",
     "text": [
      "Epoch 423 Loss = 1.238e-05, Acc = 100.00, Loss val = 1.238e-05, Acc val=100.00  \n"
     ]
    },
    {
     "name": "stderr",
     "output_type": "stream",
     "text": [
      " 42%|████▎     | 425/1000 [20:56<27:11,  2.84s/it]"
     ]
    },
    {
     "name": "stdout",
     "output_type": "stream",
     "text": [
      "Epoch 424 Loss = 1.220e-05, Acc = 100.00, Loss val = 1.256e-05, Acc val=100.00  \n"
     ]
    },
    {
     "name": "stderr",
     "output_type": "stream",
     "text": [
      " 43%|████▎     | 426/1000 [20:59<27:09,  2.84s/it]"
     ]
    },
    {
     "name": "stdout",
     "output_type": "stream",
     "text": [
      "Epoch 425 Loss = 1.217e-05, Acc = 100.00, Loss val = 1.213e-05, Acc val=100.00  \n"
     ]
    },
    {
     "name": "stderr",
     "output_type": "stream",
     "text": [
      " 43%|████▎     | 427/1000 [21:01<27:02,  2.83s/it]"
     ]
    },
    {
     "name": "stdout",
     "output_type": "stream",
     "text": [
      "Epoch 426 Loss = 1.239e-05, Acc = 100.00, Loss val = 1.206e-05, Acc val=100.00  \n"
     ]
    },
    {
     "name": "stderr",
     "output_type": "stream",
     "text": [
      " 43%|████▎     | 428/1000 [21:04<27:04,  2.84s/it]"
     ]
    },
    {
     "name": "stdout",
     "output_type": "stream",
     "text": [
      "Epoch 427 Loss = 1.220e-05, Acc = 100.00, Loss val = 1.210e-05, Acc val=100.00  \n"
     ]
    },
    {
     "name": "stderr",
     "output_type": "stream",
     "text": [
      " 43%|████▎     | 429/1000 [21:07<27:03,  2.84s/it]"
     ]
    },
    {
     "name": "stdout",
     "output_type": "stream",
     "text": [
      "Epoch 428 Loss = 1.209e-05, Acc = 100.00, Loss val = 1.222e-05, Acc val=100.00  \n"
     ]
    },
    {
     "name": "stderr",
     "output_type": "stream",
     "text": [
      " 43%|████▎     | 430/1000 [21:10<27:04,  2.85s/it]"
     ]
    },
    {
     "name": "stdout",
     "output_type": "stream",
     "text": [
      "Epoch 429 Loss = 1.218e-05, Acc = 100.00, Loss val = 1.195e-05, Acc val=100.00  \n"
     ]
    },
    {
     "name": "stderr",
     "output_type": "stream",
     "text": [
      " 43%|████▎     | 431/1000 [21:13<27:01,  2.85s/it]"
     ]
    },
    {
     "name": "stdout",
     "output_type": "stream",
     "text": [
      "Epoch 430 Loss = 1.202e-05, Acc = 100.00, Loss val = 1.221e-05, Acc val=100.00  \n"
     ]
    },
    {
     "name": "stderr",
     "output_type": "stream",
     "text": [
      " 43%|████▎     | 432/1000 [21:16<27:04,  2.86s/it]"
     ]
    },
    {
     "name": "stdout",
     "output_type": "stream",
     "text": [
      "Epoch 431 Loss = 1.219e-05, Acc = 100.00, Loss val = 1.212e-05, Acc val=100.00  \n"
     ]
    },
    {
     "name": "stderr",
     "output_type": "stream",
     "text": [
      " 43%|████▎     | 433/1000 [21:19<27:26,  2.90s/it]"
     ]
    },
    {
     "name": "stdout",
     "output_type": "stream",
     "text": [
      "Epoch 432 Loss = 1.191e-05, Acc = 100.00, Loss val = 1.223e-05, Acc val=100.00  \n"
     ]
    },
    {
     "name": "stderr",
     "output_type": "stream",
     "text": [
      " 43%|████▎     | 434/1000 [21:22<27:14,  2.89s/it]"
     ]
    },
    {
     "name": "stdout",
     "output_type": "stream",
     "text": [
      "Epoch 433 Loss = 1.180e-05, Acc = 100.00, Loss val = 1.201e-05, Acc val=100.00  \n"
     ]
    },
    {
     "name": "stderr",
     "output_type": "stream",
     "text": [
      " 44%|████▎     | 435/1000 [21:24<27:14,  2.89s/it]"
     ]
    },
    {
     "name": "stdout",
     "output_type": "stream",
     "text": [
      "Epoch 434 Loss = 1.205e-05, Acc = 100.00, Loss val = 1.187e-05, Acc val=100.00  \n"
     ]
    },
    {
     "name": "stderr",
     "output_type": "stream",
     "text": [
      " 44%|████▎     | 436/1000 [21:27<27:02,  2.88s/it]"
     ]
    },
    {
     "name": "stdout",
     "output_type": "stream",
     "text": [
      "Epoch 435 Loss = 1.199e-05, Acc = 100.00, Loss val = 1.187e-05, Acc val=100.00  \n"
     ]
    },
    {
     "name": "stderr",
     "output_type": "stream",
     "text": [
      " 44%|████▎     | 437/1000 [21:30<27:01,  2.88s/it]"
     ]
    },
    {
     "name": "stdout",
     "output_type": "stream",
     "text": [
      "Epoch 436 Loss = 1.194e-05, Acc = 100.00, Loss val = 1.189e-05, Acc val=100.00  \n"
     ]
    },
    {
     "name": "stderr",
     "output_type": "stream",
     "text": [
      " 44%|████▍     | 438/1000 [21:33<26:59,  2.88s/it]"
     ]
    },
    {
     "name": "stdout",
     "output_type": "stream",
     "text": [
      "Epoch 437 Loss = 1.190e-05, Acc = 100.00, Loss val = 1.194e-05, Acc val=100.00  \n"
     ]
    },
    {
     "name": "stderr",
     "output_type": "stream",
     "text": [
      " 44%|████▍     | 439/1000 [21:36<27:08,  2.90s/it]"
     ]
    },
    {
     "name": "stdout",
     "output_type": "stream",
     "text": [
      "Epoch 438 Loss = 1.192e-05, Acc = 100.00, Loss val = 1.160e-05, Acc val=100.00  \n"
     ]
    },
    {
     "name": "stderr",
     "output_type": "stream",
     "text": [
      " 44%|████▍     | 440/1000 [21:39<26:58,  2.89s/it]"
     ]
    },
    {
     "name": "stdout",
     "output_type": "stream",
     "text": [
      "Epoch 439 Loss = 1.180e-05, Acc = 100.00, Loss val = 1.162e-05, Acc val=100.00  \n"
     ]
    },
    {
     "name": "stderr",
     "output_type": "stream",
     "text": [
      " 44%|████▍     | 441/1000 [21:42<26:52,  2.89s/it]"
     ]
    },
    {
     "name": "stdout",
     "output_type": "stream",
     "text": [
      "Epoch 440 Loss = 1.168e-05, Acc = 100.00, Loss val = 1.204e-05, Acc val=100.00  \n"
     ]
    },
    {
     "name": "stderr",
     "output_type": "stream",
     "text": [
      " 44%|████▍     | 442/1000 [21:45<26:42,  2.87s/it]"
     ]
    },
    {
     "name": "stdout",
     "output_type": "stream",
     "text": [
      "Epoch 441 Loss = 1.161e-05, Acc = 100.00, Loss val = 1.158e-05, Acc val=100.00  \n"
     ]
    },
    {
     "name": "stderr",
     "output_type": "stream",
     "text": [
      " 44%|████▍     | 443/1000 [21:47<26:39,  2.87s/it]"
     ]
    },
    {
     "name": "stdout",
     "output_type": "stream",
     "text": [
      "Epoch 442 Loss = 1.152e-05, Acc = 100.00, Loss val = 1.160e-05, Acc val=100.00  \n"
     ]
    },
    {
     "name": "stderr",
     "output_type": "stream",
     "text": [
      " 44%|████▍     | 444/1000 [21:50<26:46,  2.89s/it]"
     ]
    },
    {
     "name": "stdout",
     "output_type": "stream",
     "text": [
      "Epoch 443 Loss = 1.160e-05, Acc = 100.00, Loss val = 1.171e-05, Acc val=100.00  \n"
     ]
    },
    {
     "name": "stderr",
     "output_type": "stream",
     "text": [
      " 44%|████▍     | 445/1000 [21:53<26:40,  2.88s/it]"
     ]
    },
    {
     "name": "stdout",
     "output_type": "stream",
     "text": [
      "Epoch 444 Loss = 1.167e-05, Acc = 100.00, Loss val = 1.157e-05, Acc val=100.00  \n"
     ]
    },
    {
     "name": "stderr",
     "output_type": "stream",
     "text": [
      " 45%|████▍     | 446/1000 [21:56<26:40,  2.89s/it]"
     ]
    },
    {
     "name": "stdout",
     "output_type": "stream",
     "text": [
      "Epoch 445 Loss = 1.160e-05, Acc = 100.00, Loss val = 1.143e-05, Acc val=100.00  \n"
     ]
    },
    {
     "name": "stderr",
     "output_type": "stream",
     "text": [
      " 45%|████▍     | 447/1000 [21:59<26:39,  2.89s/it]"
     ]
    },
    {
     "name": "stdout",
     "output_type": "stream",
     "text": [
      "Epoch 446 Loss = 1.153e-05, Acc = 100.00, Loss val = 1.156e-05, Acc val=100.00  \n"
     ]
    },
    {
     "name": "stderr",
     "output_type": "stream",
     "text": [
      " 45%|████▍     | 448/1000 [22:02<26:49,  2.92s/it]"
     ]
    },
    {
     "name": "stdout",
     "output_type": "stream",
     "text": [
      "Epoch 447 Loss = 1.146e-05, Acc = 100.00, Loss val = 1.146e-05, Acc val=100.00  \n"
     ]
    },
    {
     "name": "stderr",
     "output_type": "stream",
     "text": [
      " 45%|████▍     | 449/1000 [22:05<26:49,  2.92s/it]"
     ]
    },
    {
     "name": "stdout",
     "output_type": "stream",
     "text": [
      "Epoch 448 Loss = 1.151e-05, Acc = 100.00, Loss val = 1.150e-05, Acc val=100.00  \n"
     ]
    },
    {
     "name": "stderr",
     "output_type": "stream",
     "text": [
      " 45%|████▌     | 450/1000 [22:08<26:48,  2.92s/it]"
     ]
    },
    {
     "name": "stdout",
     "output_type": "stream",
     "text": [
      "Epoch 449 Loss = 1.143e-05, Acc = 100.00, Loss val = 1.152e-05, Acc val=100.00  \n"
     ]
    },
    {
     "name": "stderr",
     "output_type": "stream",
     "text": [
      " 45%|████▌     | 451/1000 [22:11<26:41,  2.92s/it]"
     ]
    },
    {
     "name": "stdout",
     "output_type": "stream",
     "text": [
      "Epoch 450 Loss = 1.141e-05, Acc = 100.00, Loss val = 1.130e-05, Acc val=100.00  \n"
     ]
    },
    {
     "name": "stderr",
     "output_type": "stream",
     "text": [
      " 45%|████▌     | 452/1000 [22:14<26:32,  2.91s/it]"
     ]
    },
    {
     "name": "stdout",
     "output_type": "stream",
     "text": [
      "Epoch 451 Loss = 1.137e-05, Acc = 100.00, Loss val = 1.134e-05, Acc val=100.00  \n"
     ]
    },
    {
     "name": "stderr",
     "output_type": "stream",
     "text": [
      " 45%|████▌     | 453/1000 [22:17<26:26,  2.90s/it]"
     ]
    },
    {
     "name": "stdout",
     "output_type": "stream",
     "text": [
      "Epoch 452 Loss = 1.142e-05, Acc = 100.00, Loss val = 1.129e-05, Acc val=100.00  \n"
     ]
    },
    {
     "name": "stderr",
     "output_type": "stream",
     "text": [
      " 45%|████▌     | 454/1000 [22:19<26:18,  2.89s/it]"
     ]
    },
    {
     "name": "stdout",
     "output_type": "stream",
     "text": [
      "Epoch 453 Loss = 1.140e-05, Acc = 100.00, Loss val = 1.136e-05, Acc val=100.00  \n"
     ]
    },
    {
     "name": "stderr",
     "output_type": "stream",
     "text": [
      " 46%|████▌     | 455/1000 [22:22<26:12,  2.88s/it]"
     ]
    },
    {
     "name": "stdout",
     "output_type": "stream",
     "text": [
      "Epoch 454 Loss = 1.128e-05, Acc = 100.00, Loss val = 1.118e-05, Acc val=100.00  \n"
     ]
    },
    {
     "name": "stderr",
     "output_type": "stream",
     "text": [
      " 46%|████▌     | 456/1000 [22:25<26:01,  2.87s/it]"
     ]
    },
    {
     "name": "stdout",
     "output_type": "stream",
     "text": [
      "Epoch 455 Loss = 1.125e-05, Acc = 100.00, Loss val = 1.102e-05, Acc val=100.00  \n"
     ]
    },
    {
     "name": "stderr",
     "output_type": "stream",
     "text": [
      " 46%|████▌     | 457/1000 [22:28<25:56,  2.87s/it]"
     ]
    },
    {
     "name": "stdout",
     "output_type": "stream",
     "text": [
      "Epoch 456 Loss = 1.106e-05, Acc = 100.00, Loss val = 1.124e-05, Acc val=100.00  \n"
     ]
    },
    {
     "name": "stderr",
     "output_type": "stream",
     "text": [
      " 46%|████▌     | 458/1000 [22:31<25:46,  2.85s/it]"
     ]
    },
    {
     "name": "stdout",
     "output_type": "stream",
     "text": [
      "Epoch 457 Loss = 1.113e-05, Acc = 100.00, Loss val = 1.111e-05, Acc val=100.00  \n"
     ]
    },
    {
     "name": "stderr",
     "output_type": "stream",
     "text": [
      " 46%|████▌     | 459/1000 [22:34<25:41,  2.85s/it]"
     ]
    },
    {
     "name": "stdout",
     "output_type": "stream",
     "text": [
      "Epoch 458 Loss = 1.101e-05, Acc = 100.00, Loss val = 1.118e-05, Acc val=100.00  \n"
     ]
    },
    {
     "name": "stderr",
     "output_type": "stream",
     "text": [
      " 46%|████▌     | 460/1000 [22:37<25:58,  2.89s/it]"
     ]
    },
    {
     "name": "stdout",
     "output_type": "stream",
     "text": [
      "Epoch 459 Loss = 1.092e-05, Acc = 100.00, Loss val = 1.100e-05, Acc val=100.00  \n"
     ]
    },
    {
     "name": "stderr",
     "output_type": "stream",
     "text": [
      " 46%|████▌     | 461/1000 [22:40<25:59,  2.89s/it]"
     ]
    },
    {
     "name": "stdout",
     "output_type": "stream",
     "text": [
      "Epoch 460 Loss = 1.112e-05, Acc = 100.00, Loss val = 1.125e-05, Acc val=100.00  \n"
     ]
    },
    {
     "name": "stderr",
     "output_type": "stream",
     "text": [
      " 46%|████▌     | 462/1000 [22:42<25:55,  2.89s/it]"
     ]
    },
    {
     "name": "stdout",
     "output_type": "stream",
     "text": [
      "Epoch 461 Loss = 1.090e-05, Acc = 100.00, Loss val = 1.101e-05, Acc val=100.00  \n"
     ]
    },
    {
     "name": "stderr",
     "output_type": "stream",
     "text": [
      " 46%|████▋     | 463/1000 [22:45<25:50,  2.89s/it]"
     ]
    },
    {
     "name": "stdout",
     "output_type": "stream",
     "text": [
      "Epoch 462 Loss = 1.110e-05, Acc = 100.00, Loss val = 1.095e-05, Acc val=100.00  \n"
     ]
    },
    {
     "name": "stderr",
     "output_type": "stream",
     "text": [
      " 46%|████▋     | 464/1000 [22:48<25:45,  2.88s/it]"
     ]
    },
    {
     "name": "stdout",
     "output_type": "stream",
     "text": [
      "Epoch 463 Loss = 1.091e-05, Acc = 100.00, Loss val = 1.079e-05, Acc val=100.00  \n"
     ]
    },
    {
     "name": "stderr",
     "output_type": "stream",
     "text": [
      " 46%|████▋     | 465/1000 [22:51<25:42,  2.88s/it]"
     ]
    },
    {
     "name": "stdout",
     "output_type": "stream",
     "text": [
      "Epoch 464 Loss = 1.086e-05, Acc = 100.00, Loss val = 1.090e-05, Acc val=100.00  \n"
     ]
    },
    {
     "name": "stderr",
     "output_type": "stream",
     "text": [
      " 47%|████▋     | 466/1000 [22:54<25:42,  2.89s/it]"
     ]
    },
    {
     "name": "stdout",
     "output_type": "stream",
     "text": [
      "Epoch 465 Loss = 1.074e-05, Acc = 100.00, Loss val = 1.077e-05, Acc val=100.00  \n"
     ]
    },
    {
     "name": "stderr",
     "output_type": "stream",
     "text": [
      " 47%|████▋     | 467/1000 [22:57<25:35,  2.88s/it]"
     ]
    },
    {
     "name": "stdout",
     "output_type": "stream",
     "text": [
      "Epoch 466 Loss = 1.083e-05, Acc = 100.00, Loss val = 1.086e-05, Acc val=100.00  \n"
     ]
    },
    {
     "name": "stderr",
     "output_type": "stream",
     "text": [
      " 47%|████▋     | 468/1000 [23:00<25:27,  2.87s/it]"
     ]
    },
    {
     "name": "stdout",
     "output_type": "stream",
     "text": [
      "Epoch 467 Loss = 1.088e-05, Acc = 100.00, Loss val = 1.076e-05, Acc val=100.00  \n"
     ]
    },
    {
     "name": "stderr",
     "output_type": "stream",
     "text": [
      " 47%|████▋     | 469/1000 [23:03<25:22,  2.87s/it]"
     ]
    },
    {
     "name": "stdout",
     "output_type": "stream",
     "text": [
      "Epoch 468 Loss = 1.088e-05, Acc = 100.00, Loss val = 1.080e-05, Acc val=100.00  \n"
     ]
    },
    {
     "name": "stderr",
     "output_type": "stream",
     "text": [
      " 47%|████▋     | 470/1000 [23:05<25:19,  2.87s/it]"
     ]
    },
    {
     "name": "stdout",
     "output_type": "stream",
     "text": [
      "Epoch 469 Loss = 1.077e-05, Acc = 100.00, Loss val = 1.072e-05, Acc val=100.00  \n"
     ]
    },
    {
     "name": "stderr",
     "output_type": "stream",
     "text": [
      " 47%|████▋     | 471/1000 [23:08<25:14,  2.86s/it]"
     ]
    },
    {
     "name": "stdout",
     "output_type": "stream",
     "text": [
      "Epoch 470 Loss = 1.062e-05, Acc = 100.00, Loss val = 1.081e-05, Acc val=100.00  \n"
     ]
    },
    {
     "name": "stderr",
     "output_type": "stream",
     "text": [
      " 47%|████▋     | 472/1000 [23:11<25:18,  2.88s/it]"
     ]
    },
    {
     "name": "stdout",
     "output_type": "stream",
     "text": [
      "Epoch 471 Loss = 1.071e-05, Acc = 100.00, Loss val = 1.080e-05, Acc val=100.00  \n"
     ]
    },
    {
     "name": "stderr",
     "output_type": "stream",
     "text": [
      " 47%|████▋     | 473/1000 [23:14<25:19,  2.88s/it]"
     ]
    },
    {
     "name": "stdout",
     "output_type": "stream",
     "text": [
      "Epoch 472 Loss = 1.060e-05, Acc = 100.00, Loss val = 1.064e-05, Acc val=100.00  \n"
     ]
    },
    {
     "name": "stderr",
     "output_type": "stream",
     "text": [
      " 47%|████▋     | 474/1000 [23:17<25:23,  2.90s/it]"
     ]
    },
    {
     "name": "stdout",
     "output_type": "stream",
     "text": [
      "Epoch 473 Loss = 1.064e-05, Acc = 100.00, Loss val = 1.069e-05, Acc val=100.00  \n"
     ]
    },
    {
     "name": "stderr",
     "output_type": "stream",
     "text": [
      " 48%|████▊     | 475/1000 [23:20<25:35,  2.92s/it]"
     ]
    },
    {
     "name": "stdout",
     "output_type": "stream",
     "text": [
      "Epoch 474 Loss = 1.054e-05, Acc = 100.00, Loss val = 1.048e-05, Acc val=100.00  \n"
     ]
    },
    {
     "name": "stderr",
     "output_type": "stream",
     "text": [
      " 48%|████▊     | 476/1000 [23:23<25:28,  2.92s/it]"
     ]
    },
    {
     "name": "stdout",
     "output_type": "stream",
     "text": [
      "Epoch 475 Loss = 1.067e-05, Acc = 100.00, Loss val = 1.055e-05, Acc val=100.00  \n"
     ]
    },
    {
     "name": "stderr",
     "output_type": "stream",
     "text": [
      " 48%|████▊     | 477/1000 [23:26<25:18,  2.90s/it]"
     ]
    },
    {
     "name": "stdout",
     "output_type": "stream",
     "text": [
      "Epoch 476 Loss = 1.055e-05, Acc = 100.00, Loss val = 1.065e-05, Acc val=100.00  \n"
     ]
    },
    {
     "name": "stderr",
     "output_type": "stream",
     "text": [
      " 48%|████▊     | 478/1000 [23:29<25:14,  2.90s/it]"
     ]
    },
    {
     "name": "stdout",
     "output_type": "stream",
     "text": [
      "Epoch 477 Loss = 1.064e-05, Acc = 100.00, Loss val = 1.047e-05, Acc val=100.00  \n"
     ]
    },
    {
     "name": "stderr",
     "output_type": "stream",
     "text": [
      " 48%|████▊     | 479/1000 [23:32<25:13,  2.90s/it]"
     ]
    },
    {
     "name": "stdout",
     "output_type": "stream",
     "text": [
      "Epoch 478 Loss = 1.055e-05, Acc = 100.00, Loss val = 1.040e-05, Acc val=100.00  \n"
     ]
    },
    {
     "name": "stderr",
     "output_type": "stream",
     "text": [
      " 48%|████▊     | 480/1000 [23:35<25:17,  2.92s/it]"
     ]
    },
    {
     "name": "stdout",
     "output_type": "stream",
     "text": [
      "Epoch 479 Loss = 1.052e-05, Acc = 100.00, Loss val = 1.049e-05, Acc val=100.00  \n"
     ]
    },
    {
     "name": "stderr",
     "output_type": "stream",
     "text": [
      " 48%|████▊     | 481/1000 [23:37<25:20,  2.93s/it]"
     ]
    },
    {
     "name": "stdout",
     "output_type": "stream",
     "text": [
      "Epoch 480 Loss = 1.048e-05, Acc = 100.00, Loss val = 1.036e-05, Acc val=100.00  \n"
     ]
    },
    {
     "name": "stderr",
     "output_type": "stream",
     "text": [
      " 48%|████▊     | 482/1000 [23:40<25:25,  2.94s/it]"
     ]
    },
    {
     "name": "stdout",
     "output_type": "stream",
     "text": [
      "Epoch 481 Loss = 1.034e-05, Acc = 100.00, Loss val = 1.034e-05, Acc val=100.00  \n"
     ]
    },
    {
     "name": "stderr",
     "output_type": "stream",
     "text": [
      " 48%|████▊     | 483/1000 [23:43<25:28,  2.96s/it]"
     ]
    },
    {
     "name": "stdout",
     "output_type": "stream",
     "text": [
      "Epoch 482 Loss = 1.051e-05, Acc = 100.00, Loss val = 1.025e-05, Acc val=100.00  \n"
     ]
    },
    {
     "name": "stderr",
     "output_type": "stream",
     "text": [
      " 48%|████▊     | 484/1000 [23:46<25:18,  2.94s/it]"
     ]
    },
    {
     "name": "stdout",
     "output_type": "stream",
     "text": [
      "Epoch 483 Loss = 1.034e-05, Acc = 100.00, Loss val = 1.014e-05, Acc val=100.00  \n"
     ]
    },
    {
     "name": "stderr",
     "output_type": "stream",
     "text": [
      " 48%|████▊     | 485/1000 [23:49<25:11,  2.93s/it]"
     ]
    },
    {
     "name": "stdout",
     "output_type": "stream",
     "text": [
      "Epoch 484 Loss = 1.023e-05, Acc = 100.00, Loss val = 1.019e-05, Acc val=100.00  \n"
     ]
    },
    {
     "name": "stderr",
     "output_type": "stream",
     "text": [
      " 49%|████▊     | 486/1000 [23:52<25:04,  2.93s/it]"
     ]
    },
    {
     "name": "stdout",
     "output_type": "stream",
     "text": [
      "Epoch 485 Loss = 1.023e-05, Acc = 100.00, Loss val = 1.026e-05, Acc val=100.00  \n"
     ]
    },
    {
     "name": "stderr",
     "output_type": "stream",
     "text": [
      " 49%|████▊     | 487/1000 [23:55<24:58,  2.92s/it]"
     ]
    },
    {
     "name": "stdout",
     "output_type": "stream",
     "text": [
      "Epoch 486 Loss = 1.018e-05, Acc = 100.00, Loss val = 1.034e-05, Acc val=100.00  \n"
     ]
    },
    {
     "name": "stderr",
     "output_type": "stream",
     "text": [
      " 49%|████▉     | 488/1000 [23:58<25:15,  2.96s/it]"
     ]
    },
    {
     "name": "stdout",
     "output_type": "stream",
     "text": [
      "Epoch 487 Loss = 1.032e-05, Acc = 100.00, Loss val = 1.028e-05, Acc val=100.00  \n"
     ]
    },
    {
     "name": "stderr",
     "output_type": "stream",
     "text": [
      " 49%|████▉     | 489/1000 [24:01<25:06,  2.95s/it]"
     ]
    },
    {
     "name": "stdout",
     "output_type": "stream",
     "text": [
      "Epoch 488 Loss = 1.010e-05, Acc = 100.00, Loss val = 1.026e-05, Acc val=100.00  \n"
     ]
    },
    {
     "name": "stderr",
     "output_type": "stream",
     "text": [
      " 49%|████▉     | 490/1000 [24:04<24:54,  2.93s/it]"
     ]
    },
    {
     "name": "stdout",
     "output_type": "stream",
     "text": [
      "Epoch 489 Loss = 1.020e-05, Acc = 100.00, Loss val = 1.018e-05, Acc val=100.00  \n"
     ]
    },
    {
     "name": "stderr",
     "output_type": "stream",
     "text": [
      " 49%|████▉     | 491/1000 [24:07<24:41,  2.91s/it]"
     ]
    },
    {
     "name": "stdout",
     "output_type": "stream",
     "text": [
      "Epoch 490 Loss = 1.017e-05, Acc = 100.00, Loss val = 1.004e-05, Acc val=100.00  \n"
     ]
    },
    {
     "name": "stderr",
     "output_type": "stream",
     "text": [
      " 49%|████▉     | 492/1000 [24:10<24:31,  2.90s/it]"
     ]
    },
    {
     "name": "stdout",
     "output_type": "stream",
     "text": [
      "Epoch 491 Loss = 1.008e-05, Acc = 100.00, Loss val = 1.000e-05, Acc val=100.00  \n"
     ]
    },
    {
     "name": "stderr",
     "output_type": "stream",
     "text": [
      " 49%|████▉     | 493/1000 [24:13<24:24,  2.89s/it]"
     ]
    },
    {
     "name": "stdout",
     "output_type": "stream",
     "text": [
      "Epoch 492 Loss = 1.005e-05, Acc = 100.00, Loss val = 1.010e-05, Acc val=100.00  \n"
     ]
    },
    {
     "name": "stderr",
     "output_type": "stream",
     "text": [
      " 49%|████▉     | 494/1000 [24:15<24:19,  2.89s/it]"
     ]
    },
    {
     "name": "stdout",
     "output_type": "stream",
     "text": [
      "Epoch 493 Loss = 9.965e-06, Acc = 100.00, Loss val = 1.003e-05, Acc val=100.00  \n"
     ]
    },
    {
     "name": "stderr",
     "output_type": "stream",
     "text": [
      " 50%|████▉     | 495/1000 [24:18<24:11,  2.87s/it]"
     ]
    },
    {
     "name": "stdout",
     "output_type": "stream",
     "text": [
      "Epoch 494 Loss = 1.000e-05, Acc = 100.00, Loss val = 9.910e-06, Acc val=100.00  \n"
     ]
    },
    {
     "name": "stderr",
     "output_type": "stream",
     "text": [
      " 50%|████▉     | 496/1000 [24:21<24:10,  2.88s/it]"
     ]
    },
    {
     "name": "stdout",
     "output_type": "stream",
     "text": [
      "Epoch 495 Loss = 1.014e-05, Acc = 100.00, Loss val = 1.005e-05, Acc val=100.00  \n"
     ]
    },
    {
     "name": "stderr",
     "output_type": "stream",
     "text": [
      " 50%|████▉     | 497/1000 [24:24<24:01,  2.87s/it]"
     ]
    },
    {
     "name": "stdout",
     "output_type": "stream",
     "text": [
      "Epoch 496 Loss = 1.002e-05, Acc = 100.00, Loss val = 9.955e-06, Acc val=100.00  \n"
     ]
    },
    {
     "name": "stderr",
     "output_type": "stream",
     "text": [
      " 50%|████▉     | 498/1000 [24:27<23:44,  2.84s/it]"
     ]
    },
    {
     "name": "stdout",
     "output_type": "stream",
     "text": [
      "Epoch 497 Loss = 1.001e-05, Acc = 100.00, Loss val = 9.902e-06, Acc val=100.00  \n"
     ]
    },
    {
     "name": "stderr",
     "output_type": "stream",
     "text": [
      " 50%|████▉     | 499/1000 [24:30<23:40,  2.84s/it]"
     ]
    },
    {
     "name": "stdout",
     "output_type": "stream",
     "text": [
      "Epoch 498 Loss = 9.829e-06, Acc = 100.00, Loss val = 9.861e-06, Acc val=100.00  \n"
     ]
    },
    {
     "name": "stderr",
     "output_type": "stream",
     "text": [
      " 50%|█████     | 500/1000 [24:33<23:48,  2.86s/it]"
     ]
    },
    {
     "name": "stdout",
     "output_type": "stream",
     "text": [
      "Epoch 499 Loss = 9.792e-06, Acc = 100.00, Loss val = 9.907e-06, Acc val=100.00  \n"
     ]
    },
    {
     "name": "stderr",
     "output_type": "stream",
     "text": [
      " 50%|█████     | 501/1000 [24:35<23:47,  2.86s/it]"
     ]
    },
    {
     "name": "stdout",
     "output_type": "stream",
     "text": [
      "Epoch 500 Loss = 9.938e-06, Acc = 100.00, Loss val = 9.775e-06, Acc val=100.00  \n"
     ]
    },
    {
     "name": "stderr",
     "output_type": "stream",
     "text": [
      " 50%|█████     | 502/1000 [24:38<23:58,  2.89s/it]"
     ]
    },
    {
     "name": "stdout",
     "output_type": "stream",
     "text": [
      "Epoch 501 Loss = 9.764e-06, Acc = 100.00, Loss val = 9.788e-06, Acc val=100.00  \n"
     ]
    },
    {
     "name": "stderr",
     "output_type": "stream",
     "text": [
      " 50%|█████     | 503/1000 [24:41<23:54,  2.89s/it]"
     ]
    },
    {
     "name": "stdout",
     "output_type": "stream",
     "text": [
      "Epoch 502 Loss = 9.678e-06, Acc = 100.00, Loss val = 9.736e-06, Acc val=100.00  \n"
     ]
    },
    {
     "name": "stderr",
     "output_type": "stream",
     "text": [
      " 50%|█████     | 504/1000 [24:44<23:53,  2.89s/it]"
     ]
    },
    {
     "name": "stdout",
     "output_type": "stream",
     "text": [
      "Epoch 503 Loss = 9.701e-06, Acc = 100.00, Loss val = 9.817e-06, Acc val=100.00  \n"
     ]
    },
    {
     "name": "stderr",
     "output_type": "stream",
     "text": [
      " 50%|█████     | 505/1000 [24:47<23:51,  2.89s/it]"
     ]
    },
    {
     "name": "stdout",
     "output_type": "stream",
     "text": [
      "Epoch 504 Loss = 9.797e-06, Acc = 100.00, Loss val = 9.770e-06, Acc val=100.00  \n"
     ]
    },
    {
     "name": "stderr",
     "output_type": "stream",
     "text": [
      " 51%|█████     | 506/1000 [24:50<23:42,  2.88s/it]"
     ]
    },
    {
     "name": "stdout",
     "output_type": "stream",
     "text": [
      "Epoch 505 Loss = 9.730e-06, Acc = 100.00, Loss val = 9.701e-06, Acc val=100.00  \n"
     ]
    },
    {
     "name": "stderr",
     "output_type": "stream",
     "text": [
      " 51%|█████     | 507/1000 [24:53<23:39,  2.88s/it]"
     ]
    },
    {
     "name": "stdout",
     "output_type": "stream",
     "text": [
      "Epoch 506 Loss = 9.662e-06, Acc = 100.00, Loss val = 9.716e-06, Acc val=100.00  \n"
     ]
    },
    {
     "name": "stderr",
     "output_type": "stream",
     "text": [
      " 51%|█████     | 508/1000 [24:56<23:29,  2.86s/it]"
     ]
    },
    {
     "name": "stdout",
     "output_type": "stream",
     "text": [
      "Epoch 507 Loss = 9.577e-06, Acc = 100.00, Loss val = 9.681e-06, Acc val=100.00  \n"
     ]
    },
    {
     "name": "stderr",
     "output_type": "stream",
     "text": [
      " 51%|█████     | 509/1000 [24:59<23:37,  2.89s/it]"
     ]
    },
    {
     "name": "stdout",
     "output_type": "stream",
     "text": [
      "Epoch 508 Loss = 9.647e-06, Acc = 100.00, Loss val = 9.600e-06, Acc val=100.00  \n"
     ]
    },
    {
     "name": "stderr",
     "output_type": "stream",
     "text": [
      " 51%|█████     | 510/1000 [25:01<23:36,  2.89s/it]"
     ]
    },
    {
     "name": "stdout",
     "output_type": "stream",
     "text": [
      "Epoch 509 Loss = 9.541e-06, Acc = 100.00, Loss val = 9.446e-06, Acc val=100.00  \n"
     ]
    },
    {
     "name": "stderr",
     "output_type": "stream",
     "text": [
      " 51%|█████     | 511/1000 [25:04<23:30,  2.88s/it]"
     ]
    },
    {
     "name": "stdout",
     "output_type": "stream",
     "text": [
      "Epoch 510 Loss = 9.623e-06, Acc = 100.00, Loss val = 9.518e-06, Acc val=100.00  \n"
     ]
    },
    {
     "name": "stderr",
     "output_type": "stream",
     "text": [
      " 51%|█████     | 512/1000 [25:07<23:20,  2.87s/it]"
     ]
    },
    {
     "name": "stdout",
     "output_type": "stream",
     "text": [
      "Epoch 511 Loss = 9.439e-06, Acc = 100.00, Loss val = 9.543e-06, Acc val=100.00  \n"
     ]
    },
    {
     "name": "stderr",
     "output_type": "stream",
     "text": [
      " 51%|█████▏    | 513/1000 [25:10<23:20,  2.88s/it]"
     ]
    },
    {
     "name": "stdout",
     "output_type": "stream",
     "text": [
      "Epoch 512 Loss = 9.511e-06, Acc = 100.00, Loss val = 9.539e-06, Acc val=100.00  \n"
     ]
    },
    {
     "name": "stderr",
     "output_type": "stream",
     "text": [
      " 51%|█████▏    | 514/1000 [25:13<23:11,  2.86s/it]"
     ]
    },
    {
     "name": "stdout",
     "output_type": "stream",
     "text": [
      "Epoch 513 Loss = 9.534e-06, Acc = 100.00, Loss val = 9.401e-06, Acc val=100.00  \n"
     ]
    },
    {
     "name": "stderr",
     "output_type": "stream",
     "text": [
      " 52%|█████▏    | 515/1000 [25:16<23:07,  2.86s/it]"
     ]
    },
    {
     "name": "stdout",
     "output_type": "stream",
     "text": [
      "Epoch 514 Loss = 9.524e-06, Acc = 100.00, Loss val = 9.393e-06, Acc val=100.00  \n"
     ]
    },
    {
     "name": "stderr",
     "output_type": "stream",
     "text": [
      " 52%|█████▏    | 516/1000 [25:19<23:17,  2.89s/it]"
     ]
    },
    {
     "name": "stdout",
     "output_type": "stream",
     "text": [
      "Epoch 515 Loss = 9.288e-06, Acc = 100.00, Loss val = 9.435e-06, Acc val=100.00  \n"
     ]
    },
    {
     "name": "stderr",
     "output_type": "stream",
     "text": [
      " 52%|█████▏    | 517/1000 [25:22<23:12,  2.88s/it]"
     ]
    },
    {
     "name": "stdout",
     "output_type": "stream",
     "text": [
      "Epoch 516 Loss = 9.586e-06, Acc = 100.00, Loss val = 9.210e-06, Acc val=100.00  \n"
     ]
    },
    {
     "name": "stderr",
     "output_type": "stream",
     "text": [
      " 52%|█████▏    | 518/1000 [25:24<23:08,  2.88s/it]"
     ]
    },
    {
     "name": "stdout",
     "output_type": "stream",
     "text": [
      "Epoch 517 Loss = 9.392e-06, Acc = 100.00, Loss val = 9.261e-06, Acc val=100.00  \n"
     ]
    },
    {
     "name": "stderr",
     "output_type": "stream",
     "text": [
      " 52%|█████▏    | 519/1000 [25:27<23:02,  2.87s/it]"
     ]
    },
    {
     "name": "stdout",
     "output_type": "stream",
     "text": [
      "Epoch 518 Loss = 9.361e-06, Acc = 100.00, Loss val = 9.385e-06, Acc val=100.00  \n"
     ]
    },
    {
     "name": "stderr",
     "output_type": "stream",
     "text": [
      " 52%|█████▏    | 520/1000 [25:30<22:58,  2.87s/it]"
     ]
    },
    {
     "name": "stdout",
     "output_type": "stream",
     "text": [
      "Epoch 519 Loss = 9.329e-06, Acc = 100.00, Loss val = 9.163e-06, Acc val=100.00  \n"
     ]
    },
    {
     "name": "stderr",
     "output_type": "stream",
     "text": [
      " 52%|█████▏    | 521/1000 [25:33<23:02,  2.89s/it]"
     ]
    },
    {
     "name": "stdout",
     "output_type": "stream",
     "text": [
      "Epoch 520 Loss = 9.343e-06, Acc = 100.00, Loss val = 9.278e-06, Acc val=100.00  \n"
     ]
    },
    {
     "name": "stderr",
     "output_type": "stream",
     "text": [
      " 52%|█████▏    | 522/1000 [25:36<22:55,  2.88s/it]"
     ]
    },
    {
     "name": "stdout",
     "output_type": "stream",
     "text": [
      "Epoch 521 Loss = 9.252e-06, Acc = 100.00, Loss val = 9.172e-06, Acc val=100.00  \n"
     ]
    },
    {
     "name": "stderr",
     "output_type": "stream",
     "text": [
      " 52%|█████▏    | 523/1000 [25:39<22:51,  2.88s/it]"
     ]
    },
    {
     "name": "stdout",
     "output_type": "stream",
     "text": [
      "Epoch 522 Loss = 9.363e-06, Acc = 100.00, Loss val = 9.139e-06, Acc val=100.00  \n"
     ]
    },
    {
     "name": "stderr",
     "output_type": "stream",
     "text": [
      " 52%|█████▏    | 524/1000 [25:42<22:46,  2.87s/it]"
     ]
    },
    {
     "name": "stdout",
     "output_type": "stream",
     "text": [
      "Epoch 523 Loss = 9.163e-06, Acc = 100.00, Loss val = 9.288e-06, Acc val=100.00  \n"
     ]
    },
    {
     "name": "stderr",
     "output_type": "stream",
     "text": [
      " 52%|█████▎    | 525/1000 [25:45<22:46,  2.88s/it]"
     ]
    },
    {
     "name": "stdout",
     "output_type": "stream",
     "text": [
      "Epoch 524 Loss = 9.272e-06, Acc = 100.00, Loss val = 9.147e-06, Acc val=100.00  \n"
     ]
    },
    {
     "name": "stderr",
     "output_type": "stream",
     "text": [
      " 53%|█████▎    | 526/1000 [25:47<22:39,  2.87s/it]"
     ]
    },
    {
     "name": "stdout",
     "output_type": "stream",
     "text": [
      "Epoch 525 Loss = 9.331e-06, Acc = 100.00, Loss val = 9.226e-06, Acc val=100.00  \n"
     ]
    },
    {
     "name": "stderr",
     "output_type": "stream",
     "text": [
      " 53%|█████▎    | 527/1000 [25:50<22:41,  2.88s/it]"
     ]
    },
    {
     "name": "stdout",
     "output_type": "stream",
     "text": [
      "Epoch 526 Loss = 9.089e-06, Acc = 100.00, Loss val = 9.176e-06, Acc val=100.00  \n"
     ]
    },
    {
     "name": "stderr",
     "output_type": "stream",
     "text": [
      " 53%|█████▎    | 528/1000 [25:53<22:39,  2.88s/it]"
     ]
    },
    {
     "name": "stdout",
     "output_type": "stream",
     "text": [
      "Epoch 527 Loss = 9.053e-06, Acc = 100.00, Loss val = 9.064e-06, Acc val=100.00  \n"
     ]
    },
    {
     "name": "stderr",
     "output_type": "stream",
     "text": [
      " 53%|█████▎    | 529/1000 [25:56<22:36,  2.88s/it]"
     ]
    },
    {
     "name": "stdout",
     "output_type": "stream",
     "text": [
      "Epoch 528 Loss = 9.164e-06, Acc = 100.00, Loss val = 9.011e-06, Acc val=100.00  \n"
     ]
    },
    {
     "name": "stderr",
     "output_type": "stream",
     "text": [
      " 53%|█████▎    | 530/1000 [25:59<22:36,  2.89s/it]"
     ]
    },
    {
     "name": "stdout",
     "output_type": "stream",
     "text": [
      "Epoch 529 Loss = 9.123e-06, Acc = 100.00, Loss val = 9.088e-06, Acc val=100.00  \n"
     ]
    },
    {
     "name": "stderr",
     "output_type": "stream",
     "text": [
      " 53%|█████▎    | 531/1000 [26:02<22:26,  2.87s/it]"
     ]
    },
    {
     "name": "stdout",
     "output_type": "stream",
     "text": [
      "Epoch 530 Loss = 9.167e-06, Acc = 100.00, Loss val = 9.038e-06, Acc val=100.00  \n"
     ]
    },
    {
     "name": "stderr",
     "output_type": "stream",
     "text": [
      " 53%|█████▎    | 532/1000 [26:05<22:18,  2.86s/it]"
     ]
    },
    {
     "name": "stdout",
     "output_type": "stream",
     "text": [
      "Epoch 531 Loss = 9.014e-06, Acc = 100.00, Loss val = 8.959e-06, Acc val=100.00  \n"
     ]
    },
    {
     "name": "stderr",
     "output_type": "stream",
     "text": [
      " 53%|█████▎    | 533/1000 [26:07<22:21,  2.87s/it]"
     ]
    },
    {
     "name": "stdout",
     "output_type": "stream",
     "text": [
      "Epoch 532 Loss = 9.016e-06, Acc = 100.00, Loss val = 9.058e-06, Acc val=100.00  \n"
     ]
    },
    {
     "name": "stderr",
     "output_type": "stream",
     "text": [
      " 53%|█████▎    | 534/1000 [26:10<22:19,  2.87s/it]"
     ]
    },
    {
     "name": "stdout",
     "output_type": "stream",
     "text": [
      "Epoch 533 Loss = 8.992e-06, Acc = 100.00, Loss val = 8.858e-06, Acc val=100.00  \n"
     ]
    },
    {
     "name": "stderr",
     "output_type": "stream",
     "text": [
      " 54%|█████▎    | 535/1000 [26:13<22:16,  2.87s/it]"
     ]
    },
    {
     "name": "stdout",
     "output_type": "stream",
     "text": [
      "Epoch 534 Loss = 9.087e-06, Acc = 100.00, Loss val = 8.825e-06, Acc val=100.00  \n"
     ]
    },
    {
     "name": "stderr",
     "output_type": "stream",
     "text": [
      " 54%|█████▎    | 536/1000 [26:16<22:14,  2.88s/it]"
     ]
    },
    {
     "name": "stdout",
     "output_type": "stream",
     "text": [
      "Epoch 535 Loss = 8.942e-06, Acc = 100.00, Loss val = 8.925e-06, Acc val=100.00  \n"
     ]
    },
    {
     "name": "stderr",
     "output_type": "stream",
     "text": [
      " 54%|█████▎    | 537/1000 [26:19<22:32,  2.92s/it]"
     ]
    },
    {
     "name": "stdout",
     "output_type": "stream",
     "text": [
      "Epoch 536 Loss = 8.988e-06, Acc = 100.00, Loss val = 8.916e-06, Acc val=100.00  \n"
     ]
    },
    {
     "name": "stderr",
     "output_type": "stream",
     "text": [
      " 54%|█████▍    | 538/1000 [26:22<22:29,  2.92s/it]"
     ]
    },
    {
     "name": "stdout",
     "output_type": "stream",
     "text": [
      "Epoch 537 Loss = 8.815e-06, Acc = 100.00, Loss val = 8.781e-06, Acc val=100.00  \n"
     ]
    },
    {
     "name": "stderr",
     "output_type": "stream",
     "text": [
      " 54%|█████▍    | 539/1000 [26:25<22:05,  2.88s/it]"
     ]
    },
    {
     "name": "stdout",
     "output_type": "stream",
     "text": [
      "Epoch 538 Loss = 8.863e-06, Acc = 100.00, Loss val = 8.876e-06, Acc val=100.00  \n"
     ]
    },
    {
     "name": "stderr",
     "output_type": "stream",
     "text": [
      " 54%|█████▍    | 540/1000 [26:28<21:58,  2.87s/it]"
     ]
    },
    {
     "name": "stdout",
     "output_type": "stream",
     "text": [
      "Epoch 539 Loss = 8.768e-06, Acc = 100.00, Loss val = 9.016e-06, Acc val=100.00  \n"
     ]
    },
    {
     "name": "stderr",
     "output_type": "stream",
     "text": [
      " 54%|█████▍    | 541/1000 [26:31<21:55,  2.87s/it]"
     ]
    },
    {
     "name": "stdout",
     "output_type": "stream",
     "text": [
      "Epoch 540 Loss = 8.799e-06, Acc = 100.00, Loss val = 8.752e-06, Acc val=100.00  \n"
     ]
    },
    {
     "name": "stderr",
     "output_type": "stream",
     "text": [
      " 54%|█████▍    | 542/1000 [26:33<21:54,  2.87s/it]"
     ]
    },
    {
     "name": "stdout",
     "output_type": "stream",
     "text": [
      "Epoch 541 Loss = 8.810e-06, Acc = 100.00, Loss val = 8.760e-06, Acc val=100.00  \n"
     ]
    },
    {
     "name": "stderr",
     "output_type": "stream",
     "text": [
      " 54%|█████▍    | 543/1000 [26:36<21:56,  2.88s/it]"
     ]
    },
    {
     "name": "stdout",
     "output_type": "stream",
     "text": [
      "Epoch 542 Loss = 8.661e-06, Acc = 100.00, Loss val = 8.812e-06, Acc val=100.00  \n"
     ]
    },
    {
     "name": "stderr",
     "output_type": "stream",
     "text": [
      " 54%|█████▍    | 544/1000 [26:39<22:05,  2.91s/it]"
     ]
    },
    {
     "name": "stdout",
     "output_type": "stream",
     "text": [
      "Epoch 543 Loss = 8.630e-06, Acc = 100.00, Loss val = 8.714e-06, Acc val=100.00  \n"
     ]
    },
    {
     "name": "stderr",
     "output_type": "stream",
     "text": [
      " 55%|█████▍    | 545/1000 [26:42<22:04,  2.91s/it]"
     ]
    },
    {
     "name": "stdout",
     "output_type": "stream",
     "text": [
      "Epoch 544 Loss = 8.716e-06, Acc = 100.00, Loss val = 8.743e-06, Acc val=100.00  \n"
     ]
    },
    {
     "name": "stderr",
     "output_type": "stream",
     "text": [
      " 55%|█████▍    | 546/1000 [26:45<22:00,  2.91s/it]"
     ]
    },
    {
     "name": "stdout",
     "output_type": "stream",
     "text": [
      "Epoch 545 Loss = 8.729e-06, Acc = 100.00, Loss val = 8.716e-06, Acc val=100.00  \n"
     ]
    },
    {
     "name": "stderr",
     "output_type": "stream",
     "text": [
      " 55%|█████▍    | 547/1000 [26:48<21:53,  2.90s/it]"
     ]
    },
    {
     "name": "stdout",
     "output_type": "stream",
     "text": [
      "Epoch 546 Loss = 8.738e-06, Acc = 100.00, Loss val = 8.684e-06, Acc val=100.00  \n"
     ]
    },
    {
     "name": "stderr",
     "output_type": "stream",
     "text": [
      " 55%|█████▍    | 548/1000 [26:51<21:39,  2.88s/it]"
     ]
    },
    {
     "name": "stdout",
     "output_type": "stream",
     "text": [
      "Epoch 547 Loss = 8.637e-06, Acc = 100.00, Loss val = 8.560e-06, Acc val=100.00  \n"
     ]
    },
    {
     "name": "stderr",
     "output_type": "stream",
     "text": [
      " 55%|█████▍    | 549/1000 [26:54<21:38,  2.88s/it]"
     ]
    },
    {
     "name": "stdout",
     "output_type": "stream",
     "text": [
      "Epoch 548 Loss = 8.545e-06, Acc = 100.00, Loss val = 8.581e-06, Acc val=100.00  \n"
     ]
    },
    {
     "name": "stderr",
     "output_type": "stream",
     "text": [
      " 55%|█████▌    | 550/1000 [26:57<21:28,  2.86s/it]"
     ]
    },
    {
     "name": "stdout",
     "output_type": "stream",
     "text": [
      "Epoch 549 Loss = 8.540e-06, Acc = 100.00, Loss val = 8.476e-06, Acc val=100.00  \n"
     ]
    },
    {
     "name": "stderr",
     "output_type": "stream",
     "text": [
      " 55%|█████▌    | 551/1000 [26:59<21:23,  2.86s/it]"
     ]
    },
    {
     "name": "stdout",
     "output_type": "stream",
     "text": [
      "Epoch 550 Loss = 8.510e-06, Acc = 100.00, Loss val = 8.587e-06, Acc val=100.00  \n"
     ]
    },
    {
     "name": "stderr",
     "output_type": "stream",
     "text": [
      " 55%|█████▌    | 552/1000 [27:02<21:21,  2.86s/it]"
     ]
    },
    {
     "name": "stdout",
     "output_type": "stream",
     "text": [
      "Epoch 551 Loss = 8.559e-06, Acc = 100.00, Loss val = 8.534e-06, Acc val=100.00  \n"
     ]
    },
    {
     "name": "stderr",
     "output_type": "stream",
     "text": [
      " 55%|█████▌    | 553/1000 [27:05<21:14,  2.85s/it]"
     ]
    },
    {
     "name": "stdout",
     "output_type": "stream",
     "text": [
      "Epoch 552 Loss = 8.510e-06, Acc = 100.00, Loss val = 8.494e-06, Acc val=100.00  \n"
     ]
    },
    {
     "name": "stderr",
     "output_type": "stream",
     "text": [
      " 55%|█████▌    | 554/1000 [27:08<21:12,  2.85s/it]"
     ]
    },
    {
     "name": "stdout",
     "output_type": "stream",
     "text": [
      "Epoch 553 Loss = 8.647e-06, Acc = 100.00, Loss val = 8.557e-06, Acc val=100.00  \n"
     ]
    },
    {
     "name": "stderr",
     "output_type": "stream",
     "text": [
      " 56%|█████▌    | 555/1000 [27:11<21:00,  2.83s/it]"
     ]
    },
    {
     "name": "stdout",
     "output_type": "stream",
     "text": [
      "Epoch 554 Loss = 8.511e-06, Acc = 100.00, Loss val = 8.510e-06, Acc val=100.00  \n"
     ]
    },
    {
     "name": "stderr",
     "output_type": "stream",
     "text": [
      " 56%|█████▌    | 556/1000 [27:14<21:03,  2.84s/it]"
     ]
    },
    {
     "name": "stdout",
     "output_type": "stream",
     "text": [
      "Epoch 555 Loss = 8.495e-06, Acc = 100.00, Loss val = 8.505e-06, Acc val=100.00  \n"
     ]
    },
    {
     "name": "stderr",
     "output_type": "stream",
     "text": [
      " 56%|█████▌    | 557/1000 [27:16<21:01,  2.85s/it]"
     ]
    },
    {
     "name": "stdout",
     "output_type": "stream",
     "text": [
      "Epoch 556 Loss = 8.433e-06, Acc = 100.00, Loss val = 8.450e-06, Acc val=100.00  \n"
     ]
    },
    {
     "name": "stderr",
     "output_type": "stream",
     "text": [
      " 56%|█████▌    | 558/1000 [27:19<21:06,  2.87s/it]"
     ]
    },
    {
     "name": "stdout",
     "output_type": "stream",
     "text": [
      "Epoch 557 Loss = 8.476e-06, Acc = 100.00, Loss val = 8.378e-06, Acc val=100.00  \n"
     ]
    },
    {
     "name": "stderr",
     "output_type": "stream",
     "text": [
      " 56%|█████▌    | 559/1000 [27:22<21:10,  2.88s/it]"
     ]
    },
    {
     "name": "stdout",
     "output_type": "stream",
     "text": [
      "Epoch 558 Loss = 8.388e-06, Acc = 100.00, Loss val = 8.379e-06, Acc val=100.00  \n"
     ]
    },
    {
     "name": "stderr",
     "output_type": "stream",
     "text": [
      " 56%|█████▌    | 560/1000 [27:25<21:06,  2.88s/it]"
     ]
    },
    {
     "name": "stdout",
     "output_type": "stream",
     "text": [
      "Epoch 559 Loss = 8.276e-06, Acc = 100.00, Loss val = 8.583e-06, Acc val=100.00  \n"
     ]
    },
    {
     "name": "stderr",
     "output_type": "stream",
     "text": [
      " 56%|█████▌    | 561/1000 [27:28<21:02,  2.88s/it]"
     ]
    },
    {
     "name": "stdout",
     "output_type": "stream",
     "text": [
      "Epoch 560 Loss = 8.413e-06, Acc = 100.00, Loss val = 8.298e-06, Acc val=100.00  \n"
     ]
    },
    {
     "name": "stderr",
     "output_type": "stream",
     "text": [
      " 56%|█████▌    | 562/1000 [27:31<20:55,  2.87s/it]"
     ]
    },
    {
     "name": "stdout",
     "output_type": "stream",
     "text": [
      "Epoch 561 Loss = 8.376e-06, Acc = 100.00, Loss val = 8.456e-06, Acc val=100.00  \n"
     ]
    },
    {
     "name": "stderr",
     "output_type": "stream",
     "text": [
      " 56%|█████▋    | 563/1000 [27:34<20:54,  2.87s/it]"
     ]
    },
    {
     "name": "stdout",
     "output_type": "stream",
     "text": [
      "Epoch 562 Loss = 8.261e-06, Acc = 100.00, Loss val = 8.179e-06, Acc val=100.00  \n"
     ]
    },
    {
     "name": "stderr",
     "output_type": "stream",
     "text": [
      " 56%|█████▋    | 564/1000 [27:37<20:49,  2.87s/it]"
     ]
    },
    {
     "name": "stdout",
     "output_type": "stream",
     "text": [
      "Epoch 563 Loss = 8.319e-06, Acc = 100.00, Loss val = 8.428e-06, Acc val=100.00  \n"
     ]
    },
    {
     "name": "stderr",
     "output_type": "stream",
     "text": [
      " 56%|█████▋    | 565/1000 [27:40<20:53,  2.88s/it]"
     ]
    },
    {
     "name": "stdout",
     "output_type": "stream",
     "text": [
      "Epoch 564 Loss = 8.394e-06, Acc = 100.00, Loss val = 8.214e-06, Acc val=100.00  \n"
     ]
    },
    {
     "name": "stderr",
     "output_type": "stream",
     "text": [
      " 57%|█████▋    | 566/1000 [27:42<20:53,  2.89s/it]"
     ]
    },
    {
     "name": "stdout",
     "output_type": "stream",
     "text": [
      "Epoch 565 Loss = 8.269e-06, Acc = 100.00, Loss val = 8.162e-06, Acc val=100.00  \n"
     ]
    },
    {
     "name": "stderr",
     "output_type": "stream",
     "text": [
      " 57%|█████▋    | 567/1000 [27:45<20:51,  2.89s/it]"
     ]
    },
    {
     "name": "stdout",
     "output_type": "stream",
     "text": [
      "Epoch 566 Loss = 8.226e-06, Acc = 100.00, Loss val = 8.201e-06, Acc val=100.00  \n"
     ]
    },
    {
     "name": "stderr",
     "output_type": "stream",
     "text": [
      " 57%|█████▋    | 568/1000 [27:48<20:41,  2.87s/it]"
     ]
    },
    {
     "name": "stdout",
     "output_type": "stream",
     "text": [
      "Epoch 567 Loss = 8.090e-06, Acc = 100.00, Loss val = 8.284e-06, Acc val=100.00  \n"
     ]
    },
    {
     "name": "stderr",
     "output_type": "stream",
     "text": [
      " 57%|█████▋    | 569/1000 [27:51<20:40,  2.88s/it]"
     ]
    },
    {
     "name": "stdout",
     "output_type": "stream",
     "text": [
      "Epoch 568 Loss = 8.134e-06, Acc = 100.00, Loss val = 8.131e-06, Acc val=100.00  \n"
     ]
    },
    {
     "name": "stderr",
     "output_type": "stream",
     "text": [
      " 57%|█████▋    | 570/1000 [27:54<20:31,  2.86s/it]"
     ]
    },
    {
     "name": "stdout",
     "output_type": "stream",
     "text": [
      "Epoch 569 Loss = 8.266e-06, Acc = 100.00, Loss val = 8.132e-06, Acc val=100.00  \n"
     ]
    },
    {
     "name": "stderr",
     "output_type": "stream",
     "text": [
      " 57%|█████▋    | 571/1000 [27:57<20:23,  2.85s/it]"
     ]
    },
    {
     "name": "stdout",
     "output_type": "stream",
     "text": [
      "Epoch 570 Loss = 8.086e-06, Acc = 100.00, Loss val = 8.067e-06, Acc val=100.00  \n"
     ]
    },
    {
     "name": "stderr",
     "output_type": "stream",
     "text": [
      " 57%|█████▋    | 572/1000 [28:00<20:25,  2.86s/it]"
     ]
    },
    {
     "name": "stdout",
     "output_type": "stream",
     "text": [
      "Epoch 571 Loss = 8.224e-06, Acc = 100.00, Loss val = 8.195e-06, Acc val=100.00  \n"
     ]
    },
    {
     "name": "stderr",
     "output_type": "stream",
     "text": [
      " 57%|█████▋    | 573/1000 [28:02<20:26,  2.87s/it]"
     ]
    },
    {
     "name": "stdout",
     "output_type": "stream",
     "text": [
      "Epoch 572 Loss = 8.109e-06, Acc = 100.00, Loss val = 8.121e-06, Acc val=100.00  \n"
     ]
    },
    {
     "name": "stderr",
     "output_type": "stream",
     "text": [
      " 57%|█████▋    | 574/1000 [28:05<20:32,  2.89s/it]"
     ]
    },
    {
     "name": "stdout",
     "output_type": "stream",
     "text": [
      "Epoch 573 Loss = 8.123e-06, Acc = 100.00, Loss val = 8.091e-06, Acc val=100.00  \n"
     ]
    },
    {
     "name": "stderr",
     "output_type": "stream",
     "text": [
      " 57%|█████▊    | 575/1000 [28:08<20:28,  2.89s/it]"
     ]
    },
    {
     "name": "stdout",
     "output_type": "stream",
     "text": [
      "Epoch 574 Loss = 7.947e-06, Acc = 100.00, Loss val = 8.016e-06, Acc val=100.00  \n"
     ]
    },
    {
     "name": "stderr",
     "output_type": "stream",
     "text": [
      " 58%|█████▊    | 576/1000 [28:11<20:23,  2.89s/it]"
     ]
    },
    {
     "name": "stdout",
     "output_type": "stream",
     "text": [
      "Epoch 575 Loss = 8.124e-06, Acc = 100.00, Loss val = 8.118e-06, Acc val=100.00  \n"
     ]
    },
    {
     "name": "stderr",
     "output_type": "stream",
     "text": [
      " 58%|█████▊    | 577/1000 [28:14<20:09,  2.86s/it]"
     ]
    },
    {
     "name": "stdout",
     "output_type": "stream",
     "text": [
      "Epoch 576 Loss = 8.070e-06, Acc = 100.00, Loss val = 8.022e-06, Acc val=100.00  \n"
     ]
    },
    {
     "name": "stderr",
     "output_type": "stream",
     "text": [
      " 58%|█████▊    | 578/1000 [28:17<19:48,  2.82s/it]"
     ]
    },
    {
     "name": "stdout",
     "output_type": "stream",
     "text": [
      "Epoch 577 Loss = 8.047e-06, Acc = 100.00, Loss val = 7.875e-06, Acc val=100.00  \n"
     ]
    },
    {
     "name": "stderr",
     "output_type": "stream",
     "text": [
      " 58%|█████▊    | 579/1000 [28:19<19:38,  2.80s/it]"
     ]
    },
    {
     "name": "stdout",
     "output_type": "stream",
     "text": [
      "Epoch 578 Loss = 7.998e-06, Acc = 100.00, Loss val = 8.007e-06, Acc val=100.00  \n"
     ]
    },
    {
     "name": "stderr",
     "output_type": "stream",
     "text": [
      " 58%|█████▊    | 580/1000 [28:22<19:33,  2.79s/it]"
     ]
    },
    {
     "name": "stdout",
     "output_type": "stream",
     "text": [
      "Epoch 579 Loss = 7.998e-06, Acc = 100.00, Loss val = 7.980e-06, Acc val=100.00  \n"
     ]
    },
    {
     "name": "stderr",
     "output_type": "stream",
     "text": [
      " 58%|█████▊    | 581/1000 [28:25<19:33,  2.80s/it]"
     ]
    },
    {
     "name": "stdout",
     "output_type": "stream",
     "text": [
      "Epoch 580 Loss = 7.934e-06, Acc = 100.00, Loss val = 7.863e-06, Acc val=100.00  \n"
     ]
    },
    {
     "name": "stderr",
     "output_type": "stream",
     "text": [
      " 58%|█████▊    | 582/1000 [28:28<19:17,  2.77s/it]"
     ]
    },
    {
     "name": "stdout",
     "output_type": "stream",
     "text": [
      "Epoch 581 Loss = 8.049e-06, Acc = 100.00, Loss val = 7.836e-06, Acc val=100.00  \n"
     ]
    },
    {
     "name": "stderr",
     "output_type": "stream",
     "text": [
      " 58%|█████▊    | 583/1000 [28:31<19:20,  2.78s/it]"
     ]
    },
    {
     "name": "stdout",
     "output_type": "stream",
     "text": [
      "Epoch 582 Loss = 7.883e-06, Acc = 100.00, Loss val = 7.888e-06, Acc val=100.00  \n"
     ]
    },
    {
     "name": "stderr",
     "output_type": "stream",
     "text": [
      " 58%|█████▊    | 584/1000 [28:34<19:37,  2.83s/it]"
     ]
    },
    {
     "name": "stdout",
     "output_type": "stream",
     "text": [
      "Epoch 583 Loss = 7.727e-06, Acc = 100.00, Loss val = 7.832e-06, Acc val=100.00  \n"
     ]
    },
    {
     "name": "stderr",
     "output_type": "stream",
     "text": [
      " 58%|█████▊    | 585/1000 [28:36<19:29,  2.82s/it]"
     ]
    },
    {
     "name": "stdout",
     "output_type": "stream",
     "text": [
      "Epoch 584 Loss = 7.947e-06, Acc = 100.00, Loss val = 7.864e-06, Acc val=100.00  \n"
     ]
    },
    {
     "name": "stderr",
     "output_type": "stream",
     "text": [
      " 59%|█████▊    | 586/1000 [28:39<19:20,  2.80s/it]"
     ]
    },
    {
     "name": "stdout",
     "output_type": "stream",
     "text": [
      "Epoch 585 Loss = 7.702e-06, Acc = 100.00, Loss val = 7.824e-06, Acc val=100.00  \n"
     ]
    },
    {
     "name": "stderr",
     "output_type": "stream",
     "text": [
      " 59%|█████▊    | 587/1000 [28:42<19:16,  2.80s/it]"
     ]
    },
    {
     "name": "stdout",
     "output_type": "stream",
     "text": [
      "Epoch 586 Loss = 7.828e-06, Acc = 100.00, Loss val = 7.712e-06, Acc val=100.00  \n"
     ]
    },
    {
     "name": "stderr",
     "output_type": "stream",
     "text": [
      " 59%|█████▉    | 588/1000 [28:45<19:09,  2.79s/it]"
     ]
    },
    {
     "name": "stdout",
     "output_type": "stream",
     "text": [
      "Epoch 587 Loss = 7.773e-06, Acc = 100.00, Loss val = 7.844e-06, Acc val=100.00  \n"
     ]
    },
    {
     "name": "stderr",
     "output_type": "stream",
     "text": [
      " 59%|█████▉    | 589/1000 [28:47<19:06,  2.79s/it]"
     ]
    },
    {
     "name": "stdout",
     "output_type": "stream",
     "text": [
      "Epoch 588 Loss = 7.849e-06, Acc = 100.00, Loss val = 7.738e-06, Acc val=100.00  \n"
     ]
    },
    {
     "name": "stderr",
     "output_type": "stream",
     "text": [
      " 59%|█████▉    | 590/1000 [28:50<19:05,  2.79s/it]"
     ]
    },
    {
     "name": "stdout",
     "output_type": "stream",
     "text": [
      "Epoch 589 Loss = 7.732e-06, Acc = 100.00, Loss val = 7.773e-06, Acc val=100.00  \n"
     ]
    },
    {
     "name": "stderr",
     "output_type": "stream",
     "text": [
      " 59%|█████▉    | 591/1000 [28:53<18:56,  2.78s/it]"
     ]
    },
    {
     "name": "stdout",
     "output_type": "stream",
     "text": [
      "Epoch 590 Loss = 7.685e-06, Acc = 100.00, Loss val = 7.775e-06, Acc val=100.00  \n"
     ]
    },
    {
     "name": "stderr",
     "output_type": "stream",
     "text": [
      " 59%|█████▉    | 592/1000 [28:56<18:47,  2.76s/it]"
     ]
    },
    {
     "name": "stdout",
     "output_type": "stream",
     "text": [
      "Epoch 591 Loss = 7.631e-06, Acc = 100.00, Loss val = 7.720e-06, Acc val=100.00  \n"
     ]
    },
    {
     "name": "stderr",
     "output_type": "stream",
     "text": [
      " 59%|█████▉    | 593/1000 [28:59<18:53,  2.79s/it]"
     ]
    },
    {
     "name": "stdout",
     "output_type": "stream",
     "text": [
      "Epoch 592 Loss = 7.708e-06, Acc = 100.00, Loss val = 7.633e-06, Acc val=100.00  \n"
     ]
    },
    {
     "name": "stderr",
     "output_type": "stream",
     "text": [
      " 59%|█████▉    | 594/1000 [29:01<19:12,  2.84s/it]"
     ]
    },
    {
     "name": "stdout",
     "output_type": "stream",
     "text": [
      "Epoch 593 Loss = 7.762e-06, Acc = 100.00, Loss val = 7.697e-06, Acc val=100.00  \n"
     ]
    },
    {
     "name": "stderr",
     "output_type": "stream",
     "text": [
      " 60%|█████▉    | 595/1000 [29:04<19:17,  2.86s/it]"
     ]
    },
    {
     "name": "stdout",
     "output_type": "stream",
     "text": [
      "Epoch 594 Loss = 7.592e-06, Acc = 100.00, Loss val = 7.625e-06, Acc val=100.00  \n"
     ]
    },
    {
     "name": "stderr",
     "output_type": "stream",
     "text": [
      " 60%|█████▉    | 596/1000 [29:07<19:11,  2.85s/it]"
     ]
    },
    {
     "name": "stdout",
     "output_type": "stream",
     "text": [
      "Epoch 595 Loss = 7.574e-06, Acc = 100.00, Loss val = 7.667e-06, Acc val=100.00  \n"
     ]
    },
    {
     "name": "stderr",
     "output_type": "stream",
     "text": [
      " 60%|█████▉    | 597/1000 [29:10<19:02,  2.84s/it]"
     ]
    },
    {
     "name": "stdout",
     "output_type": "stream",
     "text": [
      "Epoch 596 Loss = 7.634e-06, Acc = 100.00, Loss val = 7.738e-06, Acc val=100.00  \n"
     ]
    },
    {
     "name": "stderr",
     "output_type": "stream",
     "text": [
      " 60%|█████▉    | 598/1000 [29:13<18:48,  2.81s/it]"
     ]
    },
    {
     "name": "stdout",
     "output_type": "stream",
     "text": [
      "Epoch 597 Loss = 7.489e-06, Acc = 100.00, Loss val = 7.664e-06, Acc val=100.00  \n"
     ]
    },
    {
     "name": "stderr",
     "output_type": "stream",
     "text": [
      " 60%|█████▉    | 599/1000 [29:16<18:41,  2.80s/it]"
     ]
    },
    {
     "name": "stdout",
     "output_type": "stream",
     "text": [
      "Epoch 598 Loss = 7.662e-06, Acc = 100.00, Loss val = 7.667e-06, Acc val=100.00  \n"
     ]
    },
    {
     "name": "stderr",
     "output_type": "stream",
     "text": [
      " 60%|██████    | 600/1000 [29:18<18:40,  2.80s/it]"
     ]
    },
    {
     "name": "stdout",
     "output_type": "stream",
     "text": [
      "Epoch 599 Loss = 7.592e-06, Acc = 100.00, Loss val = 7.513e-06, Acc val=100.00  \n"
     ]
    },
    {
     "name": "stderr",
     "output_type": "stream",
     "text": [
      " 60%|██████    | 601/1000 [29:21<18:38,  2.80s/it]"
     ]
    },
    {
     "name": "stdout",
     "output_type": "stream",
     "text": [
      "Epoch 600 Loss = 7.577e-06, Acc = 100.00, Loss val = 7.740e-06, Acc val=100.00  \n"
     ]
    },
    {
     "name": "stderr",
     "output_type": "stream",
     "text": [
      " 60%|██████    | 602/1000 [29:24<18:30,  2.79s/it]"
     ]
    },
    {
     "name": "stdout",
     "output_type": "stream",
     "text": [
      "Epoch 601 Loss = 7.483e-06, Acc = 100.00, Loss val = 7.487e-06, Acc val=100.00  \n"
     ]
    },
    {
     "name": "stderr",
     "output_type": "stream",
     "text": [
      " 60%|██████    | 603/1000 [29:27<18:20,  2.77s/it]"
     ]
    },
    {
     "name": "stdout",
     "output_type": "stream",
     "text": [
      "Epoch 602 Loss = 7.502e-06, Acc = 100.00, Loss val = 7.597e-06, Acc val=100.00  \n"
     ]
    },
    {
     "name": "stderr",
     "output_type": "stream",
     "text": [
      " 60%|██████    | 604/1000 [29:29<18:19,  2.78s/it]"
     ]
    },
    {
     "name": "stdout",
     "output_type": "stream",
     "text": [
      "Epoch 603 Loss = 7.525e-06, Acc = 100.00, Loss val = 7.495e-06, Acc val=100.00  \n"
     ]
    },
    {
     "name": "stderr",
     "output_type": "stream",
     "text": [
      " 60%|██████    | 605/1000 [29:32<18:19,  2.78s/it]"
     ]
    },
    {
     "name": "stdout",
     "output_type": "stream",
     "text": [
      "Epoch 604 Loss = 7.478e-06, Acc = 100.00, Loss val = 7.522e-06, Acc val=100.00  \n"
     ]
    },
    {
     "name": "stderr",
     "output_type": "stream",
     "text": [
      " 61%|██████    | 606/1000 [29:35<18:26,  2.81s/it]"
     ]
    },
    {
     "name": "stdout",
     "output_type": "stream",
     "text": [
      "Epoch 605 Loss = 7.473e-06, Acc = 100.00, Loss val = 7.431e-06, Acc val=100.00  \n"
     ]
    },
    {
     "name": "stderr",
     "output_type": "stream",
     "text": [
      " 61%|██████    | 607/1000 [29:38<18:19,  2.80s/it]"
     ]
    },
    {
     "name": "stdout",
     "output_type": "stream",
     "text": [
      "Epoch 606 Loss = 7.440e-06, Acc = 100.00, Loss val = 7.404e-06, Acc val=100.00  \n"
     ]
    },
    {
     "name": "stderr",
     "output_type": "stream",
     "text": [
      " 61%|██████    | 608/1000 [29:41<18:10,  2.78s/it]"
     ]
    },
    {
     "name": "stdout",
     "output_type": "stream",
     "text": [
      "Epoch 607 Loss = 7.378e-06, Acc = 100.00, Loss val = 7.380e-06, Acc val=100.00  \n"
     ]
    },
    {
     "name": "stderr",
     "output_type": "stream",
     "text": [
      " 61%|██████    | 609/1000 [29:43<18:11,  2.79s/it]"
     ]
    },
    {
     "name": "stdout",
     "output_type": "stream",
     "text": [
      "Epoch 608 Loss = 7.383e-06, Acc = 100.00, Loss val = 7.275e-06, Acc val=100.00  \n"
     ]
    },
    {
     "name": "stderr",
     "output_type": "stream",
     "text": [
      " 61%|██████    | 610/1000 [29:46<18:07,  2.79s/it]"
     ]
    },
    {
     "name": "stdout",
     "output_type": "stream",
     "text": [
      "Epoch 609 Loss = 7.435e-06, Acc = 100.00, Loss val = 7.317e-06, Acc val=100.00  \n"
     ]
    },
    {
     "name": "stderr",
     "output_type": "stream",
     "text": [
      " 61%|██████    | 611/1000 [29:49<18:05,  2.79s/it]"
     ]
    },
    {
     "name": "stdout",
     "output_type": "stream",
     "text": [
      "Epoch 610 Loss = 7.317e-06, Acc = 100.00, Loss val = 7.407e-06, Acc val=100.00  \n"
     ]
    },
    {
     "name": "stderr",
     "output_type": "stream",
     "text": [
      " 61%|██████    | 612/1000 [29:52<17:56,  2.77s/it]"
     ]
    },
    {
     "name": "stdout",
     "output_type": "stream",
     "text": [
      "Epoch 611 Loss = 7.286e-06, Acc = 100.00, Loss val = 7.354e-06, Acc val=100.00  \n"
     ]
    },
    {
     "name": "stderr",
     "output_type": "stream",
     "text": [
      " 61%|██████▏   | 613/1000 [29:55<17:52,  2.77s/it]"
     ]
    },
    {
     "name": "stdout",
     "output_type": "stream",
     "text": [
      "Epoch 612 Loss = 7.375e-06, Acc = 100.00, Loss val = 7.393e-06, Acc val=100.00  \n"
     ]
    },
    {
     "name": "stderr",
     "output_type": "stream",
     "text": [
      " 61%|██████▏   | 614/1000 [29:57<17:58,  2.79s/it]"
     ]
    },
    {
     "name": "stdout",
     "output_type": "stream",
     "text": [
      "Epoch 613 Loss = 7.315e-06, Acc = 100.00, Loss val = 7.273e-06, Acc val=100.00  \n"
     ]
    },
    {
     "name": "stderr",
     "output_type": "stream",
     "text": [
      " 62%|██████▏   | 615/1000 [30:00<17:52,  2.79s/it]"
     ]
    },
    {
     "name": "stdout",
     "output_type": "stream",
     "text": [
      "Epoch 614 Loss = 7.285e-06, Acc = 100.00, Loss val = 7.266e-06, Acc val=100.00  \n"
     ]
    },
    {
     "name": "stderr",
     "output_type": "stream",
     "text": [
      " 62%|██████▏   | 616/1000 [30:03<17:42,  2.77s/it]"
     ]
    },
    {
     "name": "stdout",
     "output_type": "stream",
     "text": [
      "Epoch 615 Loss = 7.252e-06, Acc = 100.00, Loss val = 7.241e-06, Acc val=100.00  \n"
     ]
    },
    {
     "name": "stderr",
     "output_type": "stream",
     "text": [
      " 62%|██████▏   | 617/1000 [30:06<17:35,  2.76s/it]"
     ]
    },
    {
     "name": "stdout",
     "output_type": "stream",
     "text": [
      "Epoch 616 Loss = 7.293e-06, Acc = 100.00, Loss val = 7.344e-06, Acc val=100.00  \n"
     ]
    },
    {
     "name": "stderr",
     "output_type": "stream",
     "text": [
      " 62%|██████▏   | 618/1000 [30:08<17:39,  2.77s/it]"
     ]
    },
    {
     "name": "stdout",
     "output_type": "stream",
     "text": [
      "Epoch 617 Loss = 7.216e-06, Acc = 100.00, Loss val = 7.207e-06, Acc val=100.00  \n"
     ]
    },
    {
     "name": "stderr",
     "output_type": "stream",
     "text": [
      " 62%|██████▏   | 619/1000 [30:11<17:38,  2.78s/it]"
     ]
    },
    {
     "name": "stdout",
     "output_type": "stream",
     "text": [
      "Epoch 618 Loss = 7.267e-06, Acc = 100.00, Loss val = 7.141e-06, Acc val=100.00  \n"
     ]
    },
    {
     "name": "stderr",
     "output_type": "stream",
     "text": [
      " 62%|██████▏   | 620/1000 [30:14<17:32,  2.77s/it]"
     ]
    },
    {
     "name": "stdout",
     "output_type": "stream",
     "text": [
      "Epoch 619 Loss = 7.257e-06, Acc = 100.00, Loss val = 7.165e-06, Acc val=100.00  \n"
     ]
    },
    {
     "name": "stderr",
     "output_type": "stream",
     "text": [
      " 62%|██████▏   | 621/1000 [30:17<17:26,  2.76s/it]"
     ]
    },
    {
     "name": "stdout",
     "output_type": "stream",
     "text": [
      "Epoch 620 Loss = 7.283e-06, Acc = 100.00, Loss val = 7.251e-06, Acc val=100.00  \n"
     ]
    },
    {
     "name": "stderr",
     "output_type": "stream",
     "text": [
      " 62%|██████▏   | 622/1000 [30:19<17:24,  2.76s/it]"
     ]
    },
    {
     "name": "stdout",
     "output_type": "stream",
     "text": [
      "Epoch 621 Loss = 7.331e-06, Acc = 100.00, Loss val = 7.257e-06, Acc val=100.00  \n"
     ]
    },
    {
     "name": "stderr",
     "output_type": "stream",
     "text": [
      " 62%|██████▏   | 623/1000 [30:22<17:28,  2.78s/it]"
     ]
    },
    {
     "name": "stdout",
     "output_type": "stream",
     "text": [
      "Epoch 622 Loss = 7.180e-06, Acc = 100.00, Loss val = 7.155e-06, Acc val=100.00  \n"
     ]
    },
    {
     "name": "stderr",
     "output_type": "stream",
     "text": [
      " 62%|██████▏   | 624/1000 [30:25<17:26,  2.78s/it]"
     ]
    },
    {
     "name": "stdout",
     "output_type": "stream",
     "text": [
      "Epoch 623 Loss = 7.157e-06, Acc = 100.00, Loss val = 7.155e-06, Acc val=100.00  \n"
     ]
    },
    {
     "name": "stderr",
     "output_type": "stream",
     "text": [
      " 62%|██████▎   | 625/1000 [30:28<17:15,  2.76s/it]"
     ]
    },
    {
     "name": "stdout",
     "output_type": "stream",
     "text": [
      "Epoch 624 Loss = 7.148e-06, Acc = 100.00, Loss val = 6.998e-06, Acc val=100.00  \n"
     ]
    },
    {
     "name": "stderr",
     "output_type": "stream",
     "text": [
      " 63%|██████▎   | 626/1000 [30:31<17:15,  2.77s/it]"
     ]
    },
    {
     "name": "stdout",
     "output_type": "stream",
     "text": [
      "Epoch 625 Loss = 7.104e-06, Acc = 100.00, Loss val = 7.088e-06, Acc val=100.00  \n"
     ]
    },
    {
     "name": "stderr",
     "output_type": "stream",
     "text": [
      " 63%|██████▎   | 627/1000 [30:33<17:15,  2.78s/it]"
     ]
    },
    {
     "name": "stdout",
     "output_type": "stream",
     "text": [
      "Epoch 626 Loss = 7.126e-06, Acc = 100.00, Loss val = 7.031e-06, Acc val=100.00  \n"
     ]
    },
    {
     "name": "stderr",
     "output_type": "stream",
     "text": [
      " 63%|██████▎   | 628/1000 [30:36<17:15,  2.78s/it]"
     ]
    },
    {
     "name": "stdout",
     "output_type": "stream",
     "text": [
      "Epoch 627 Loss = 7.156e-06, Acc = 100.00, Loss val = 7.123e-06, Acc val=100.00  \n"
     ]
    },
    {
     "name": "stderr",
     "output_type": "stream",
     "text": [
      " 63%|██████▎   | 629/1000 [30:39<17:12,  2.78s/it]"
     ]
    },
    {
     "name": "stdout",
     "output_type": "stream",
     "text": [
      "Epoch 628 Loss = 7.090e-06, Acc = 100.00, Loss val = 7.059e-06, Acc val=100.00  \n"
     ]
    },
    {
     "name": "stderr",
     "output_type": "stream",
     "text": [
      " 63%|██████▎   | 630/1000 [30:42<17:06,  2.78s/it]"
     ]
    },
    {
     "name": "stdout",
     "output_type": "stream",
     "text": [
      "Epoch 629 Loss = 6.999e-06, Acc = 100.00, Loss val = 7.046e-06, Acc val=100.00  \n"
     ]
    },
    {
     "name": "stderr",
     "output_type": "stream",
     "text": [
      " 63%|██████▎   | 631/1000 [30:44<17:04,  2.78s/it]"
     ]
    },
    {
     "name": "stdout",
     "output_type": "stream",
     "text": [
      "Epoch 630 Loss = 7.092e-06, Acc = 100.00, Loss val = 7.033e-06, Acc val=100.00  \n"
     ]
    },
    {
     "name": "stderr",
     "output_type": "stream",
     "text": [
      " 63%|██████▎   | 632/1000 [30:47<17:10,  2.80s/it]"
     ]
    },
    {
     "name": "stdout",
     "output_type": "stream",
     "text": [
      "Epoch 631 Loss = 7.049e-06, Acc = 100.00, Loss val = 7.052e-06, Acc val=100.00  \n"
     ]
    },
    {
     "name": "stderr",
     "output_type": "stream",
     "text": [
      " 63%|██████▎   | 633/1000 [30:50<17:05,  2.79s/it]"
     ]
    },
    {
     "name": "stdout",
     "output_type": "stream",
     "text": [
      "Epoch 632 Loss = 7.068e-06, Acc = 100.00, Loss val = 7.181e-06, Acc val=100.00  \n"
     ]
    },
    {
     "name": "stderr",
     "output_type": "stream",
     "text": [
      " 63%|██████▎   | 634/1000 [30:53<16:59,  2.78s/it]"
     ]
    },
    {
     "name": "stdout",
     "output_type": "stream",
     "text": [
      "Epoch 633 Loss = 6.996e-06, Acc = 100.00, Loss val = 6.938e-06, Acc val=100.00  \n"
     ]
    },
    {
     "name": "stderr",
     "output_type": "stream",
     "text": [
      " 64%|██████▎   | 635/1000 [30:56<16:50,  2.77s/it]"
     ]
    },
    {
     "name": "stdout",
     "output_type": "stream",
     "text": [
      "Epoch 634 Loss = 7.021e-06, Acc = 100.00, Loss val = 6.826e-06, Acc val=100.00  \n"
     ]
    },
    {
     "name": "stderr",
     "output_type": "stream",
     "text": [
      " 64%|██████▎   | 636/1000 [30:58<16:48,  2.77s/it]"
     ]
    },
    {
     "name": "stdout",
     "output_type": "stream",
     "text": [
      "Epoch 635 Loss = 6.881e-06, Acc = 100.00, Loss val = 6.810e-06, Acc val=100.00  \n"
     ]
    },
    {
     "name": "stderr",
     "output_type": "stream",
     "text": [
      " 64%|██████▎   | 637/1000 [31:01<16:47,  2.78s/it]"
     ]
    },
    {
     "name": "stdout",
     "output_type": "stream",
     "text": [
      "Epoch 636 Loss = 6.966e-06, Acc = 100.00, Loss val = 6.929e-06, Acc val=100.00  \n"
     ]
    },
    {
     "name": "stderr",
     "output_type": "stream",
     "text": [
      " 64%|██████▍   | 638/1000 [31:04<16:41,  2.77s/it]"
     ]
    },
    {
     "name": "stdout",
     "output_type": "stream",
     "text": [
      "Epoch 637 Loss = 6.923e-06, Acc = 100.00, Loss val = 6.836e-06, Acc val=100.00  \n"
     ]
    },
    {
     "name": "stderr",
     "output_type": "stream",
     "text": [
      " 64%|██████▍   | 639/1000 [31:07<16:35,  2.76s/it]"
     ]
    },
    {
     "name": "stdout",
     "output_type": "stream",
     "text": [
      "Epoch 638 Loss = 6.889e-06, Acc = 100.00, Loss val = 6.868e-06, Acc val=100.00  \n"
     ]
    },
    {
     "name": "stderr",
     "output_type": "stream",
     "text": [
      " 64%|██████▍   | 640/1000 [31:09<16:31,  2.75s/it]"
     ]
    },
    {
     "name": "stdout",
     "output_type": "stream",
     "text": [
      "Epoch 639 Loss = 6.842e-06, Acc = 100.00, Loss val = 6.877e-06, Acc val=100.00  \n"
     ]
    },
    {
     "name": "stderr",
     "output_type": "stream",
     "text": [
      " 64%|██████▍   | 641/1000 [31:12<16:39,  2.78s/it]"
     ]
    },
    {
     "name": "stdout",
     "output_type": "stream",
     "text": [
      "Epoch 640 Loss = 6.823e-06, Acc = 100.00, Loss val = 6.928e-06, Acc val=100.00  \n"
     ]
    },
    {
     "name": "stderr",
     "output_type": "stream",
     "text": [
      " 64%|██████▍   | 642/1000 [31:15<16:40,  2.80s/it]"
     ]
    },
    {
     "name": "stdout",
     "output_type": "stream",
     "text": [
      "Epoch 641 Loss = 6.874e-06, Acc = 100.00, Loss val = 6.857e-06, Acc val=100.00  \n"
     ]
    },
    {
     "name": "stderr",
     "output_type": "stream",
     "text": [
      " 64%|██████▍   | 643/1000 [31:18<16:37,  2.79s/it]"
     ]
    },
    {
     "name": "stdout",
     "output_type": "stream",
     "text": [
      "Epoch 642 Loss = 6.853e-06, Acc = 100.00, Loss val = 6.722e-06, Acc val=100.00  \n"
     ]
    },
    {
     "name": "stderr",
     "output_type": "stream",
     "text": [
      " 64%|██████▍   | 644/1000 [31:21<16:26,  2.77s/it]"
     ]
    },
    {
     "name": "stdout",
     "output_type": "stream",
     "text": [
      "Epoch 643 Loss = 6.775e-06, Acc = 100.00, Loss val = 6.712e-06, Acc val=100.00  \n"
     ]
    },
    {
     "name": "stderr",
     "output_type": "stream",
     "text": [
      " 64%|██████▍   | 645/1000 [31:23<16:26,  2.78s/it]"
     ]
    },
    {
     "name": "stdout",
     "output_type": "stream",
     "text": [
      "Epoch 644 Loss = 6.772e-06, Acc = 100.00, Loss val = 6.814e-06, Acc val=100.00  \n"
     ]
    },
    {
     "name": "stderr",
     "output_type": "stream",
     "text": [
      " 65%|██████▍   | 646/1000 [31:26<16:24,  2.78s/it]"
     ]
    },
    {
     "name": "stdout",
     "output_type": "stream",
     "text": [
      "Epoch 645 Loss = 6.711e-06, Acc = 100.00, Loss val = 6.754e-06, Acc val=100.00  \n"
     ]
    },
    {
     "name": "stderr",
     "output_type": "stream",
     "text": [
      " 65%|██████▍   | 647/1000 [31:29<16:22,  2.78s/it]"
     ]
    },
    {
     "name": "stdout",
     "output_type": "stream",
     "text": [
      "Epoch 646 Loss = 6.726e-06, Acc = 100.00, Loss val = 6.743e-06, Acc val=100.00  \n"
     ]
    },
    {
     "name": "stderr",
     "output_type": "stream",
     "text": [
      " 65%|██████▍   | 648/1000 [31:32<16:19,  2.78s/it]"
     ]
    },
    {
     "name": "stdout",
     "output_type": "stream",
     "text": [
      "Epoch 647 Loss = 6.681e-06, Acc = 100.00, Loss val = 6.734e-06, Acc val=100.00  \n"
     ]
    },
    {
     "name": "stderr",
     "output_type": "stream",
     "text": [
      " 65%|██████▍   | 649/1000 [31:35<16:18,  2.79s/it]"
     ]
    },
    {
     "name": "stdout",
     "output_type": "stream",
     "text": [
      "Epoch 648 Loss = 6.784e-06, Acc = 100.00, Loss val = 6.708e-06, Acc val=100.00  \n"
     ]
    },
    {
     "name": "stderr",
     "output_type": "stream",
     "text": [
      " 65%|██████▌   | 650/1000 [31:37<16:15,  2.79s/it]"
     ]
    },
    {
     "name": "stdout",
     "output_type": "stream",
     "text": [
      "Epoch 649 Loss = 6.705e-06, Acc = 100.00, Loss val = 6.696e-06, Acc val=100.00  \n"
     ]
    },
    {
     "name": "stderr",
     "output_type": "stream",
     "text": [
      " 65%|██████▌   | 651/1000 [31:40<16:13,  2.79s/it]"
     ]
    },
    {
     "name": "stdout",
     "output_type": "stream",
     "text": [
      "Epoch 650 Loss = 6.794e-06, Acc = 100.00, Loss val = 6.708e-06, Acc val=100.00  \n"
     ]
    },
    {
     "name": "stderr",
     "output_type": "stream",
     "text": [
      " 65%|██████▌   | 652/1000 [31:43<16:15,  2.80s/it]"
     ]
    },
    {
     "name": "stdout",
     "output_type": "stream",
     "text": [
      "Epoch 651 Loss = 6.646e-06, Acc = 100.00, Loss val = 6.717e-06, Acc val=100.00  \n"
     ]
    },
    {
     "name": "stderr",
     "output_type": "stream",
     "text": [
      " 65%|██████▌   | 653/1000 [31:46<16:05,  2.78s/it]"
     ]
    },
    {
     "name": "stdout",
     "output_type": "stream",
     "text": [
      "Epoch 652 Loss = 6.679e-06, Acc = 100.00, Loss val = 6.697e-06, Acc val=100.00  \n"
     ]
    },
    {
     "name": "stderr",
     "output_type": "stream",
     "text": [
      " 65%|██████▌   | 654/1000 [31:48<16:04,  2.79s/it]"
     ]
    },
    {
     "name": "stdout",
     "output_type": "stream",
     "text": [
      "Epoch 653 Loss = 6.670e-06, Acc = 100.00, Loss val = 6.549e-06, Acc val=100.00  \n"
     ]
    },
    {
     "name": "stderr",
     "output_type": "stream",
     "text": [
      " 66%|██████▌   | 655/1000 [31:51<16:01,  2.79s/it]"
     ]
    },
    {
     "name": "stdout",
     "output_type": "stream",
     "text": [
      "Epoch 654 Loss = 6.660e-06, Acc = 100.00, Loss val = 6.551e-06, Acc val=100.00  \n"
     ]
    },
    {
     "name": "stderr",
     "output_type": "stream",
     "text": [
      " 66%|██████▌   | 656/1000 [31:54<15:59,  2.79s/it]"
     ]
    },
    {
     "name": "stdout",
     "output_type": "stream",
     "text": [
      "Epoch 655 Loss = 6.591e-06, Acc = 100.00, Loss val = 6.534e-06, Acc val=100.00  \n"
     ]
    },
    {
     "name": "stderr",
     "output_type": "stream",
     "text": [
      " 66%|██████▌   | 657/1000 [31:57<15:49,  2.77s/it]"
     ]
    },
    {
     "name": "stdout",
     "output_type": "stream",
     "text": [
      "Epoch 656 Loss = 6.559e-06, Acc = 100.00, Loss val = 6.597e-06, Acc val=100.00  \n"
     ]
    },
    {
     "name": "stderr",
     "output_type": "stream",
     "text": [
      " 66%|██████▌   | 658/1000 [32:00<16:26,  2.88s/it]"
     ]
    },
    {
     "name": "stdout",
     "output_type": "stream",
     "text": [
      "Epoch 657 Loss = 6.623e-06, Acc = 100.00, Loss val = 6.550e-06, Acc val=100.00  \n"
     ]
    },
    {
     "name": "stderr",
     "output_type": "stream",
     "text": [
      " 66%|██████▌   | 659/1000 [32:03<16:48,  2.96s/it]"
     ]
    },
    {
     "name": "stdout",
     "output_type": "stream",
     "text": [
      "Epoch 658 Loss = 6.595e-06, Acc = 100.00, Loss val = 6.637e-06, Acc val=100.00  \n"
     ]
    },
    {
     "name": "stderr",
     "output_type": "stream",
     "text": [
      " 66%|██████▌   | 660/1000 [32:06<16:39,  2.94s/it]"
     ]
    },
    {
     "name": "stdout",
     "output_type": "stream",
     "text": [
      "Epoch 659 Loss = 6.596e-06, Acc = 100.00, Loss val = 6.540e-06, Acc val=100.00  \n"
     ]
    },
    {
     "name": "stderr",
     "output_type": "stream",
     "text": [
      " 66%|██████▌   | 661/1000 [32:09<16:42,  2.96s/it]"
     ]
    },
    {
     "name": "stdout",
     "output_type": "stream",
     "text": [
      "Epoch 660 Loss = 6.585e-06, Acc = 100.00, Loss val = 6.494e-06, Acc val=100.00  \n"
     ]
    },
    {
     "name": "stderr",
     "output_type": "stream",
     "text": [
      " 66%|██████▌   | 662/1000 [32:12<16:38,  2.95s/it]"
     ]
    },
    {
     "name": "stdout",
     "output_type": "stream",
     "text": [
      "Epoch 661 Loss = 6.653e-06, Acc = 100.00, Loss val = 6.432e-06, Acc val=100.00  \n"
     ]
    },
    {
     "name": "stderr",
     "output_type": "stream",
     "text": [
      " 66%|██████▋   | 663/1000 [32:15<16:26,  2.93s/it]"
     ]
    },
    {
     "name": "stdout",
     "output_type": "stream",
     "text": [
      "Epoch 662 Loss = 6.506e-06, Acc = 100.00, Loss val = 6.473e-06, Acc val=100.00  \n"
     ]
    },
    {
     "name": "stderr",
     "output_type": "stream",
     "text": [
      " 66%|██████▋   | 664/1000 [32:18<17:01,  3.04s/it]"
     ]
    },
    {
     "name": "stdout",
     "output_type": "stream",
     "text": [
      "Epoch 663 Loss = 6.559e-06, Acc = 100.00, Loss val = 6.531e-06, Acc val=100.00  \n"
     ]
    },
    {
     "name": "stderr",
     "output_type": "stream",
     "text": [
      " 66%|██████▋   | 665/1000 [32:21<16:45,  3.00s/it]"
     ]
    },
    {
     "name": "stdout",
     "output_type": "stream",
     "text": [
      "Epoch 664 Loss = 6.447e-06, Acc = 100.00, Loss val = 6.418e-06, Acc val=100.00  \n"
     ]
    },
    {
     "name": "stderr",
     "output_type": "stream",
     "text": [
      " 67%|██████▋   | 666/1000 [32:24<16:29,  2.96s/it]"
     ]
    },
    {
     "name": "stdout",
     "output_type": "stream",
     "text": [
      "Epoch 665 Loss = 6.450e-06, Acc = 100.00, Loss val = 6.414e-06, Acc val=100.00  \n"
     ]
    },
    {
     "name": "stderr",
     "output_type": "stream",
     "text": [
      " 67%|██████▋   | 667/1000 [32:27<16:11,  2.92s/it]"
     ]
    },
    {
     "name": "stdout",
     "output_type": "stream",
     "text": [
      "Epoch 666 Loss = 6.408e-06, Acc = 100.00, Loss val = 6.384e-06, Acc val=100.00  \n"
     ]
    },
    {
     "name": "stderr",
     "output_type": "stream",
     "text": [
      " 67%|██████▋   | 668/1000 [32:30<16:04,  2.91s/it]"
     ]
    },
    {
     "name": "stdout",
     "output_type": "stream",
     "text": [
      "Epoch 667 Loss = 6.442e-06, Acc = 100.00, Loss val = 6.362e-06, Acc val=100.00  \n"
     ]
    },
    {
     "name": "stderr",
     "output_type": "stream",
     "text": [
      " 67%|██████▋   | 669/1000 [32:32<15:56,  2.89s/it]"
     ]
    },
    {
     "name": "stdout",
     "output_type": "stream",
     "text": [
      "Epoch 668 Loss = 6.358e-06, Acc = 100.00, Loss val = 6.430e-06, Acc val=100.00  \n"
     ]
    },
    {
     "name": "stderr",
     "output_type": "stream",
     "text": [
      " 67%|██████▋   | 670/1000 [32:35<15:49,  2.88s/it]"
     ]
    },
    {
     "name": "stdout",
     "output_type": "stream",
     "text": [
      "Epoch 669 Loss = 6.460e-06, Acc = 100.00, Loss val = 6.472e-06, Acc val=100.00  \n"
     ]
    },
    {
     "name": "stderr",
     "output_type": "stream",
     "text": [
      " 67%|██████▋   | 671/1000 [32:38<15:43,  2.87s/it]"
     ]
    },
    {
     "name": "stdout",
     "output_type": "stream",
     "text": [
      "Epoch 670 Loss = 6.387e-06, Acc = 100.00, Loss val = 6.443e-06, Acc val=100.00  \n"
     ]
    },
    {
     "name": "stderr",
     "output_type": "stream",
     "text": [
      " 67%|██████▋   | 672/1000 [32:41<15:53,  2.91s/it]"
     ]
    },
    {
     "name": "stdout",
     "output_type": "stream",
     "text": [
      "Epoch 671 Loss = 6.321e-06, Acc = 100.00, Loss val = 6.471e-06, Acc val=100.00  \n"
     ]
    },
    {
     "name": "stderr",
     "output_type": "stream",
     "text": [
      " 67%|██████▋   | 673/1000 [32:44<15:57,  2.93s/it]"
     ]
    },
    {
     "name": "stdout",
     "output_type": "stream",
     "text": [
      "Epoch 672 Loss = 6.305e-06, Acc = 100.00, Loss val = 6.364e-06, Acc val=100.00  \n"
     ]
    },
    {
     "name": "stderr",
     "output_type": "stream",
     "text": [
      " 67%|██████▋   | 674/1000 [32:47<15:54,  2.93s/it]"
     ]
    },
    {
     "name": "stdout",
     "output_type": "stream",
     "text": [
      "Epoch 673 Loss = 6.363e-06, Acc = 100.00, Loss val = 6.276e-06, Acc val=100.00  \n"
     ]
    },
    {
     "name": "stderr",
     "output_type": "stream",
     "text": [
      " 68%|██████▊   | 675/1000 [32:50<15:45,  2.91s/it]"
     ]
    },
    {
     "name": "stdout",
     "output_type": "stream",
     "text": [
      "Epoch 674 Loss = 6.372e-06, Acc = 100.00, Loss val = 6.346e-06, Acc val=100.00  \n"
     ]
    },
    {
     "name": "stderr",
     "output_type": "stream",
     "text": [
      " 68%|██████▊   | 676/1000 [32:53<15:35,  2.89s/it]"
     ]
    },
    {
     "name": "stdout",
     "output_type": "stream",
     "text": [
      "Epoch 675 Loss = 6.334e-06, Acc = 100.00, Loss val = 6.315e-06, Acc val=100.00  \n"
     ]
    },
    {
     "name": "stderr",
     "output_type": "stream",
     "text": [
      " 68%|██████▊   | 677/1000 [32:56<15:51,  2.95s/it]"
     ]
    },
    {
     "name": "stdout",
     "output_type": "stream",
     "text": [
      "Epoch 676 Loss = 6.315e-06, Acc = 100.00, Loss val = 6.251e-06, Acc val=100.00  \n"
     ]
    },
    {
     "name": "stderr",
     "output_type": "stream",
     "text": [
      " 68%|██████▊   | 678/1000 [32:59<15:58,  2.98s/it]"
     ]
    },
    {
     "name": "stdout",
     "output_type": "stream",
     "text": [
      "Epoch 677 Loss = 6.251e-06, Acc = 100.00, Loss val = 6.255e-06, Acc val=100.00  \n"
     ]
    },
    {
     "name": "stderr",
     "output_type": "stream",
     "text": [
      " 68%|██████▊   | 679/1000 [33:02<16:19,  3.05s/it]"
     ]
    },
    {
     "name": "stdout",
     "output_type": "stream",
     "text": [
      "Epoch 678 Loss = 6.302e-06, Acc = 100.00, Loss val = 6.307e-06, Acc val=100.00  \n"
     ]
    },
    {
     "name": "stderr",
     "output_type": "stream",
     "text": [
      " 68%|██████▊   | 680/1000 [33:05<16:03,  3.01s/it]"
     ]
    },
    {
     "name": "stdout",
     "output_type": "stream",
     "text": [
      "Epoch 679 Loss = 6.280e-06, Acc = 100.00, Loss val = 6.177e-06, Acc val=100.00  \n"
     ]
    },
    {
     "name": "stderr",
     "output_type": "stream",
     "text": [
      " 68%|██████▊   | 681/1000 [33:08<15:42,  2.95s/it]"
     ]
    },
    {
     "name": "stdout",
     "output_type": "stream",
     "text": [
      "Epoch 680 Loss = 6.302e-06, Acc = 100.00, Loss val = 6.248e-06, Acc val=100.00  \n"
     ]
    },
    {
     "name": "stderr",
     "output_type": "stream",
     "text": [
      " 68%|██████▊   | 682/1000 [33:11<15:29,  2.92s/it]"
     ]
    },
    {
     "name": "stdout",
     "output_type": "stream",
     "text": [
      "Epoch 681 Loss = 6.194e-06, Acc = 100.00, Loss val = 6.121e-06, Acc val=100.00  \n"
     ]
    },
    {
     "name": "stderr",
     "output_type": "stream",
     "text": [
      " 68%|██████▊   | 683/1000 [33:14<15:23,  2.91s/it]"
     ]
    },
    {
     "name": "stdout",
     "output_type": "stream",
     "text": [
      "Epoch 682 Loss = 6.160e-06, Acc = 100.00, Loss val = 6.164e-06, Acc val=100.00  \n"
     ]
    },
    {
     "name": "stderr",
     "output_type": "stream",
     "text": [
      " 68%|██████▊   | 684/1000 [33:17<15:42,  2.98s/it]"
     ]
    },
    {
     "name": "stdout",
     "output_type": "stream",
     "text": [
      "Epoch 683 Loss = 6.208e-06, Acc = 100.00, Loss val = 6.289e-06, Acc val=100.00  \n"
     ]
    },
    {
     "name": "stderr",
     "output_type": "stream",
     "text": [
      " 68%|██████▊   | 685/1000 [33:20<15:46,  3.00s/it]"
     ]
    },
    {
     "name": "stdout",
     "output_type": "stream",
     "text": [
      "Epoch 684 Loss = 6.212e-06, Acc = 100.00, Loss val = 6.128e-06, Acc val=100.00  \n"
     ]
    },
    {
     "name": "stderr",
     "output_type": "stream",
     "text": [
      " 69%|██████▊   | 686/1000 [33:23<15:32,  2.97s/it]"
     ]
    },
    {
     "name": "stdout",
     "output_type": "stream",
     "text": [
      "Epoch 685 Loss = 6.117e-06, Acc = 100.00, Loss val = 6.152e-06, Acc val=100.00  \n"
     ]
    },
    {
     "name": "stderr",
     "output_type": "stream",
     "text": [
      " 69%|██████▊   | 687/1000 [33:25<15:21,  2.94s/it]"
     ]
    },
    {
     "name": "stdout",
     "output_type": "stream",
     "text": [
      "Epoch 686 Loss = 6.170e-06, Acc = 100.00, Loss val = 6.332e-06, Acc val=100.00  \n"
     ]
    },
    {
     "name": "stderr",
     "output_type": "stream",
     "text": [
      " 69%|██████▉   | 688/1000 [33:28<15:13,  2.93s/it]"
     ]
    },
    {
     "name": "stdout",
     "output_type": "stream",
     "text": [
      "Epoch 687 Loss = 6.096e-06, Acc = 100.00, Loss val = 6.163e-06, Acc val=100.00  \n"
     ]
    },
    {
     "name": "stderr",
     "output_type": "stream",
     "text": [
      " 69%|██████▉   | 689/1000 [33:31<15:05,  2.91s/it]"
     ]
    },
    {
     "name": "stdout",
     "output_type": "stream",
     "text": [
      "Epoch 688 Loss = 6.077e-06, Acc = 100.00, Loss val = 6.099e-06, Acc val=100.00  \n"
     ]
    },
    {
     "name": "stderr",
     "output_type": "stream",
     "text": [
      " 69%|██████▉   | 690/1000 [33:34<14:57,  2.90s/it]"
     ]
    },
    {
     "name": "stdout",
     "output_type": "stream",
     "text": [
      "Epoch 689 Loss = 6.096e-06, Acc = 100.00, Loss val = 6.055e-06, Acc val=100.00  \n"
     ]
    },
    {
     "name": "stderr",
     "output_type": "stream",
     "text": [
      " 69%|██████▉   | 691/1000 [33:37<14:52,  2.89s/it]"
     ]
    },
    {
     "name": "stdout",
     "output_type": "stream",
     "text": [
      "Epoch 690 Loss = 6.083e-06, Acc = 100.00, Loss val = 6.062e-06, Acc val=100.00  \n"
     ]
    },
    {
     "name": "stderr",
     "output_type": "stream",
     "text": [
      " 69%|██████▉   | 692/1000 [33:40<14:42,  2.86s/it]"
     ]
    },
    {
     "name": "stdout",
     "output_type": "stream",
     "text": [
      "Epoch 691 Loss = 6.186e-06, Acc = 100.00, Loss val = 6.072e-06, Acc val=100.00  \n"
     ]
    },
    {
     "name": "stderr",
     "output_type": "stream",
     "text": [
      " 69%|██████▉   | 693/1000 [33:43<14:37,  2.86s/it]"
     ]
    },
    {
     "name": "stdout",
     "output_type": "stream",
     "text": [
      "Epoch 692 Loss = 6.062e-06, Acc = 100.00, Loss val = 6.031e-06, Acc val=100.00  \n"
     ]
    },
    {
     "name": "stderr",
     "output_type": "stream",
     "text": [
      " 69%|██████▉   | 694/1000 [33:45<14:35,  2.86s/it]"
     ]
    },
    {
     "name": "stdout",
     "output_type": "stream",
     "text": [
      "Epoch 693 Loss = 6.030e-06, Acc = 100.00, Loss val = 5.964e-06, Acc val=100.00  \n"
     ]
    },
    {
     "name": "stderr",
     "output_type": "stream",
     "text": [
      " 70%|██████▉   | 695/1000 [33:48<14:30,  2.85s/it]"
     ]
    },
    {
     "name": "stdout",
     "output_type": "stream",
     "text": [
      "Epoch 694 Loss = 6.062e-06, Acc = 100.00, Loss val = 5.990e-06, Acc val=100.00  \n"
     ]
    },
    {
     "name": "stderr",
     "output_type": "stream",
     "text": [
      " 70%|██████▉   | 696/1000 [33:51<14:25,  2.85s/it]"
     ]
    },
    {
     "name": "stdout",
     "output_type": "stream",
     "text": [
      "Epoch 695 Loss = 6.011e-06, Acc = 100.00, Loss val = 6.093e-06, Acc val=100.00  \n"
     ]
    },
    {
     "name": "stderr",
     "output_type": "stream",
     "text": [
      " 70%|██████▉   | 697/1000 [33:54<14:24,  2.85s/it]"
     ]
    },
    {
     "name": "stdout",
     "output_type": "stream",
     "text": [
      "Epoch 696 Loss = 6.041e-06, Acc = 100.00, Loss val = 5.999e-06, Acc val=100.00  \n"
     ]
    },
    {
     "name": "stderr",
     "output_type": "stream",
     "text": [
      " 70%|██████▉   | 698/1000 [33:57<14:29,  2.88s/it]"
     ]
    },
    {
     "name": "stdout",
     "output_type": "stream",
     "text": [
      "Epoch 697 Loss = 6.026e-06, Acc = 100.00, Loss val = 6.045e-06, Acc val=100.00  \n"
     ]
    },
    {
     "name": "stderr",
     "output_type": "stream",
     "text": [
      " 70%|██████▉   | 699/1000 [34:00<14:29,  2.89s/it]"
     ]
    },
    {
     "name": "stdout",
     "output_type": "stream",
     "text": [
      "Epoch 698 Loss = 6.008e-06, Acc = 100.00, Loss val = 5.837e-06, Acc val=100.00  \n"
     ]
    },
    {
     "name": "stderr",
     "output_type": "stream",
     "text": [
      " 70%|███████   | 700/1000 [34:03<14:31,  2.91s/it]"
     ]
    },
    {
     "name": "stdout",
     "output_type": "stream",
     "text": [
      "Epoch 699 Loss = 5.984e-06, Acc = 100.00, Loss val = 5.924e-06, Acc val=100.00  \n"
     ]
    },
    {
     "name": "stderr",
     "output_type": "stream",
     "text": [
      " 70%|███████   | 701/1000 [34:06<14:25,  2.90s/it]"
     ]
    },
    {
     "name": "stdout",
     "output_type": "stream",
     "text": [
      "Epoch 700 Loss = 5.960e-06, Acc = 100.00, Loss val = 5.983e-06, Acc val=100.00  \n"
     ]
    },
    {
     "name": "stderr",
     "output_type": "stream",
     "text": [
      " 70%|███████   | 702/1000 [34:09<14:19,  2.88s/it]"
     ]
    },
    {
     "name": "stdout",
     "output_type": "stream",
     "text": [
      "Epoch 701 Loss = 6.029e-06, Acc = 100.00, Loss val = 5.984e-06, Acc val=100.00  \n"
     ]
    },
    {
     "name": "stderr",
     "output_type": "stream",
     "text": [
      " 70%|███████   | 703/1000 [34:11<14:16,  2.88s/it]"
     ]
    },
    {
     "name": "stdout",
     "output_type": "stream",
     "text": [
      "Epoch 702 Loss = 5.970e-06, Acc = 100.00, Loss val = 5.944e-06, Acc val=100.00  \n"
     ]
    },
    {
     "name": "stderr",
     "output_type": "stream",
     "text": [
      " 70%|███████   | 704/1000 [34:14<14:20,  2.91s/it]"
     ]
    },
    {
     "name": "stdout",
     "output_type": "stream",
     "text": [
      "Epoch 703 Loss = 5.970e-06, Acc = 100.00, Loss val = 5.878e-06, Acc val=100.00  \n"
     ]
    },
    {
     "name": "stderr",
     "output_type": "stream",
     "text": [
      " 70%|███████   | 705/1000 [34:17<14:14,  2.90s/it]"
     ]
    },
    {
     "name": "stdout",
     "output_type": "stream",
     "text": [
      "Epoch 704 Loss = 5.920e-06, Acc = 100.00, Loss val = 5.906e-06, Acc val=100.00  \n"
     ]
    },
    {
     "name": "stderr",
     "output_type": "stream",
     "text": [
      " 71%|███████   | 706/1000 [34:20<14:11,  2.90s/it]"
     ]
    },
    {
     "name": "stdout",
     "output_type": "stream",
     "text": [
      "Epoch 705 Loss = 5.978e-06, Acc = 100.00, Loss val = 5.923e-06, Acc val=100.00  \n"
     ]
    },
    {
     "name": "stderr",
     "output_type": "stream",
     "text": [
      " 71%|███████   | 707/1000 [34:23<14:07,  2.89s/it]"
     ]
    },
    {
     "name": "stdout",
     "output_type": "stream",
     "text": [
      "Epoch 706 Loss = 5.916e-06, Acc = 100.00, Loss val = 5.896e-06, Acc val=100.00  \n"
     ]
    },
    {
     "name": "stderr",
     "output_type": "stream",
     "text": [
      " 71%|███████   | 708/1000 [34:26<14:02,  2.89s/it]"
     ]
    },
    {
     "name": "stdout",
     "output_type": "stream",
     "text": [
      "Epoch 707 Loss = 5.833e-06, Acc = 100.00, Loss val = 5.865e-06, Acc val=100.00  \n"
     ]
    },
    {
     "name": "stderr",
     "output_type": "stream",
     "text": [
      " 71%|███████   | 709/1000 [34:29<13:55,  2.87s/it]"
     ]
    },
    {
     "name": "stdout",
     "output_type": "stream",
     "text": [
      "Epoch 708 Loss = 5.960e-06, Acc = 100.00, Loss val = 5.857e-06, Acc val=100.00  \n"
     ]
    },
    {
     "name": "stderr",
     "output_type": "stream",
     "text": [
      " 71%|███████   | 710/1000 [34:32<13:53,  2.87s/it]"
     ]
    },
    {
     "name": "stdout",
     "output_type": "stream",
     "text": [
      "Epoch 709 Loss = 5.789e-06, Acc = 100.00, Loss val = 5.837e-06, Acc val=100.00  \n"
     ]
    },
    {
     "name": "stderr",
     "output_type": "stream",
     "text": [
      " 71%|███████   | 711/1000 [34:35<13:52,  2.88s/it]"
     ]
    },
    {
     "name": "stdout",
     "output_type": "stream",
     "text": [
      "Epoch 710 Loss = 5.845e-06, Acc = 100.00, Loss val = 5.846e-06, Acc val=100.00  \n"
     ]
    },
    {
     "name": "stderr",
     "output_type": "stream",
     "text": [
      " 71%|███████   | 712/1000 [34:38<13:58,  2.91s/it]"
     ]
    },
    {
     "name": "stdout",
     "output_type": "stream",
     "text": [
      "Epoch 711 Loss = 5.884e-06, Acc = 100.00, Loss val = 5.786e-06, Acc val=100.00  \n"
     ]
    },
    {
     "name": "stderr",
     "output_type": "stream",
     "text": [
      " 71%|███████▏  | 713/1000 [34:40<14:01,  2.93s/it]"
     ]
    },
    {
     "name": "stdout",
     "output_type": "stream",
     "text": [
      "Epoch 712 Loss = 5.743e-06, Acc = 100.00, Loss val = 5.809e-06, Acc val=100.00  \n"
     ]
    },
    {
     "name": "stderr",
     "output_type": "stream",
     "text": [
      " 71%|███████▏  | 714/1000 [34:43<13:53,  2.91s/it]"
     ]
    },
    {
     "name": "stdout",
     "output_type": "stream",
     "text": [
      "Epoch 713 Loss = 5.780e-06, Acc = 100.00, Loss val = 5.775e-06, Acc val=100.00  \n"
     ]
    },
    {
     "name": "stderr",
     "output_type": "stream",
     "text": [
      " 72%|███████▏  | 715/1000 [34:46<13:51,  2.92s/it]"
     ]
    },
    {
     "name": "stdout",
     "output_type": "stream",
     "text": [
      "Epoch 714 Loss = 5.848e-06, Acc = 100.00, Loss val = 5.808e-06, Acc val=100.00  \n"
     ]
    },
    {
     "name": "stderr",
     "output_type": "stream",
     "text": [
      " 72%|███████▏  | 716/1000 [34:49<13:42,  2.90s/it]"
     ]
    },
    {
     "name": "stdout",
     "output_type": "stream",
     "text": [
      "Epoch 715 Loss = 5.682e-06, Acc = 100.00, Loss val = 5.848e-06, Acc val=100.00  \n"
     ]
    },
    {
     "name": "stderr",
     "output_type": "stream",
     "text": [
      " 72%|███████▏  | 717/1000 [34:52<13:38,  2.89s/it]"
     ]
    },
    {
     "name": "stdout",
     "output_type": "stream",
     "text": [
      "Epoch 716 Loss = 5.733e-06, Acc = 100.00, Loss val = 5.736e-06, Acc val=100.00  \n"
     ]
    },
    {
     "name": "stderr",
     "output_type": "stream",
     "text": [
      " 72%|███████▏  | 718/1000 [34:55<13:46,  2.93s/it]"
     ]
    },
    {
     "name": "stdout",
     "output_type": "stream",
     "text": [
      "Epoch 717 Loss = 5.761e-06, Acc = 100.00, Loss val = 5.768e-06, Acc val=100.00  \n"
     ]
    },
    {
     "name": "stderr",
     "output_type": "stream",
     "text": [
      " 72%|███████▏  | 719/1000 [34:58<13:45,  2.94s/it]"
     ]
    },
    {
     "name": "stdout",
     "output_type": "stream",
     "text": [
      "Epoch 718 Loss = 5.674e-06, Acc = 100.00, Loss val = 5.700e-06, Acc val=100.00  \n"
     ]
    },
    {
     "name": "stderr",
     "output_type": "stream",
     "text": [
      " 72%|███████▏  | 720/1000 [35:01<13:33,  2.91s/it]"
     ]
    },
    {
     "name": "stdout",
     "output_type": "stream",
     "text": [
      "Epoch 719 Loss = 5.730e-06, Acc = 100.00, Loss val = 5.717e-06, Acc val=100.00  \n"
     ]
    },
    {
     "name": "stderr",
     "output_type": "stream",
     "text": [
      " 72%|███████▏  | 721/1000 [35:04<13:28,  2.90s/it]"
     ]
    },
    {
     "name": "stdout",
     "output_type": "stream",
     "text": [
      "Epoch 720 Loss = 5.677e-06, Acc = 100.00, Loss val = 5.694e-06, Acc val=100.00  \n"
     ]
    },
    {
     "name": "stderr",
     "output_type": "stream",
     "text": [
      " 72%|███████▏  | 722/1000 [35:07<13:53,  3.00s/it]"
     ]
    },
    {
     "name": "stdout",
     "output_type": "stream",
     "text": [
      "Epoch 721 Loss = 5.718e-06, Acc = 100.00, Loss val = 5.740e-06, Acc val=100.00  \n"
     ]
    },
    {
     "name": "stderr",
     "output_type": "stream",
     "text": [
      " 72%|███████▏  | 723/1000 [35:10<13:48,  2.99s/it]"
     ]
    },
    {
     "name": "stdout",
     "output_type": "stream",
     "text": [
      "Epoch 722 Loss = 5.722e-06, Acc = 100.00, Loss val = 5.640e-06, Acc val=100.00  \n"
     ]
    },
    {
     "name": "stderr",
     "output_type": "stream",
     "text": [
      " 72%|███████▏  | 724/1000 [35:13<13:53,  3.02s/it]"
     ]
    },
    {
     "name": "stdout",
     "output_type": "stream",
     "text": [
      "Epoch 723 Loss = 5.755e-06, Acc = 100.00, Loss val = 5.627e-06, Acc val=100.00  \n"
     ]
    },
    {
     "name": "stderr",
     "output_type": "stream",
     "text": [
      " 72%|███████▎  | 725/1000 [35:16<13:50,  3.02s/it]"
     ]
    },
    {
     "name": "stdout",
     "output_type": "stream",
     "text": [
      "Epoch 724 Loss = 5.708e-06, Acc = 100.00, Loss val = 5.664e-06, Acc val=100.00  \n"
     ]
    },
    {
     "name": "stderr",
     "output_type": "stream",
     "text": [
      " 73%|███████▎  | 726/1000 [35:19<13:43,  3.01s/it]"
     ]
    },
    {
     "name": "stdout",
     "output_type": "stream",
     "text": [
      "Epoch 725 Loss = 5.671e-06, Acc = 100.00, Loss val = 5.705e-06, Acc val=100.00  \n"
     ]
    },
    {
     "name": "stderr",
     "output_type": "stream",
     "text": [
      " 73%|███████▎  | 727/1000 [35:22<13:26,  2.95s/it]"
     ]
    },
    {
     "name": "stdout",
     "output_type": "stream",
     "text": [
      "Epoch 726 Loss = 5.670e-06, Acc = 100.00, Loss val = 5.682e-06, Acc val=100.00  \n"
     ]
    },
    {
     "name": "stderr",
     "output_type": "stream",
     "text": [
      " 73%|███████▎  | 728/1000 [35:25<13:10,  2.91s/it]"
     ]
    },
    {
     "name": "stdout",
     "output_type": "stream",
     "text": [
      "Epoch 727 Loss = 5.672e-06, Acc = 100.00, Loss val = 5.636e-06, Acc val=100.00  \n"
     ]
    },
    {
     "name": "stderr",
     "output_type": "stream",
     "text": [
      " 73%|███████▎  | 729/1000 [35:27<12:56,  2.87s/it]"
     ]
    },
    {
     "name": "stdout",
     "output_type": "stream",
     "text": [
      "Epoch 728 Loss = 5.663e-06, Acc = 100.00, Loss val = 5.556e-06, Acc val=100.00  \n"
     ]
    },
    {
     "name": "stderr",
     "output_type": "stream",
     "text": [
      " 73%|███████▎  | 730/1000 [35:30<12:53,  2.87s/it]"
     ]
    },
    {
     "name": "stdout",
     "output_type": "stream",
     "text": [
      "Epoch 729 Loss = 5.635e-06, Acc = 100.00, Loss val = 5.596e-06, Acc val=100.00  \n"
     ]
    },
    {
     "name": "stderr",
     "output_type": "stream",
     "text": [
      " 73%|███████▎  | 731/1000 [35:33<12:50,  2.86s/it]"
     ]
    },
    {
     "name": "stdout",
     "output_type": "stream",
     "text": [
      "Epoch 730 Loss = 5.719e-06, Acc = 100.00, Loss val = 5.562e-06, Acc val=100.00  \n"
     ]
    },
    {
     "name": "stderr",
     "output_type": "stream",
     "text": [
      " 73%|███████▎  | 732/1000 [35:36<12:54,  2.89s/it]"
     ]
    },
    {
     "name": "stdout",
     "output_type": "stream",
     "text": [
      "Epoch 731 Loss = 5.642e-06, Acc = 100.00, Loss val = 5.585e-06, Acc val=100.00  \n"
     ]
    },
    {
     "name": "stderr",
     "output_type": "stream",
     "text": [
      " 73%|███████▎  | 733/1000 [35:39<13:00,  2.92s/it]"
     ]
    },
    {
     "name": "stdout",
     "output_type": "stream",
     "text": [
      "Epoch 732 Loss = 5.585e-06, Acc = 100.00, Loss val = 5.540e-06, Acc val=100.00  \n"
     ]
    },
    {
     "name": "stderr",
     "output_type": "stream",
     "text": [
      " 73%|███████▎  | 734/1000 [35:42<12:50,  2.90s/it]"
     ]
    },
    {
     "name": "stdout",
     "output_type": "stream",
     "text": [
      "Epoch 733 Loss = 5.542e-06, Acc = 100.00, Loss val = 5.492e-06, Acc val=100.00  \n"
     ]
    },
    {
     "name": "stderr",
     "output_type": "stream",
     "text": [
      " 74%|███████▎  | 735/1000 [35:45<12:41,  2.87s/it]"
     ]
    },
    {
     "name": "stdout",
     "output_type": "stream",
     "text": [
      "Epoch 734 Loss = 5.537e-06, Acc = 100.00, Loss val = 5.544e-06, Acc val=100.00  \n"
     ]
    },
    {
     "name": "stderr",
     "output_type": "stream",
     "text": [
      " 74%|███████▎  | 736/1000 [35:48<12:55,  2.94s/it]"
     ]
    },
    {
     "name": "stdout",
     "output_type": "stream",
     "text": [
      "Epoch 735 Loss = 5.513e-06, Acc = 100.00, Loss val = 5.610e-06, Acc val=100.00  \n"
     ]
    },
    {
     "name": "stderr",
     "output_type": "stream",
     "text": [
      " 74%|███████▎  | 737/1000 [35:51<12:52,  2.94s/it]"
     ]
    },
    {
     "name": "stdout",
     "output_type": "stream",
     "text": [
      "Epoch 736 Loss = 5.542e-06, Acc = 100.00, Loss val = 5.491e-06, Acc val=100.00  \n"
     ]
    },
    {
     "name": "stderr",
     "output_type": "stream",
     "text": [
      " 74%|███████▍  | 738/1000 [35:54<12:57,  2.97s/it]"
     ]
    },
    {
     "name": "stdout",
     "output_type": "stream",
     "text": [
      "Epoch 737 Loss = 5.471e-06, Acc = 100.00, Loss val = 5.452e-06, Acc val=100.00  \n"
     ]
    },
    {
     "name": "stderr",
     "output_type": "stream",
     "text": [
      " 74%|███████▍  | 739/1000 [35:57<13:04,  3.01s/it]"
     ]
    },
    {
     "name": "stdout",
     "output_type": "stream",
     "text": [
      "Epoch 738 Loss = 5.455e-06, Acc = 100.00, Loss val = 5.457e-06, Acc val=100.00  \n"
     ]
    },
    {
     "name": "stderr",
     "output_type": "stream",
     "text": [
      " 74%|███████▍  | 740/1000 [36:00<12:59,  3.00s/it]"
     ]
    },
    {
     "name": "stdout",
     "output_type": "stream",
     "text": [
      "Epoch 739 Loss = 5.502e-06, Acc = 100.00, Loss val = 5.566e-06, Acc val=100.00  \n"
     ]
    },
    {
     "name": "stderr",
     "output_type": "stream",
     "text": [
      " 74%|███████▍  | 741/1000 [36:03<13:00,  3.02s/it]"
     ]
    },
    {
     "name": "stdout",
     "output_type": "stream",
     "text": [
      "Epoch 740 Loss = 5.453e-06, Acc = 100.00, Loss val = 5.470e-06, Acc val=100.00  \n"
     ]
    },
    {
     "name": "stderr",
     "output_type": "stream",
     "text": [
      " 74%|███████▍  | 742/1000 [36:06<13:20,  3.10s/it]"
     ]
    },
    {
     "name": "stdout",
     "output_type": "stream",
     "text": [
      "Epoch 741 Loss = 5.472e-06, Acc = 100.00, Loss val = 5.484e-06, Acc val=100.00  \n"
     ]
    },
    {
     "name": "stderr",
     "output_type": "stream",
     "text": [
      " 74%|███████▍  | 743/1000 [36:09<13:26,  3.14s/it]"
     ]
    },
    {
     "name": "stdout",
     "output_type": "stream",
     "text": [
      "Epoch 742 Loss = 5.414e-06, Acc = 100.00, Loss val = 5.433e-06, Acc val=100.00  \n"
     ]
    },
    {
     "name": "stderr",
     "output_type": "stream",
     "text": [
      " 74%|███████▍  | 744/1000 [36:13<13:21,  3.13s/it]"
     ]
    },
    {
     "name": "stdout",
     "output_type": "stream",
     "text": [
      "Epoch 743 Loss = 5.396e-06, Acc = 100.00, Loss val = 5.417e-06, Acc val=100.00  \n"
     ]
    },
    {
     "name": "stderr",
     "output_type": "stream",
     "text": [
      " 74%|███████▍  | 745/1000 [36:16<13:14,  3.11s/it]"
     ]
    },
    {
     "name": "stdout",
     "output_type": "stream",
     "text": [
      "Epoch 744 Loss = 5.378e-06, Acc = 100.00, Loss val = 5.463e-06, Acc val=100.00  \n"
     ]
    },
    {
     "name": "stderr",
     "output_type": "stream",
     "text": [
      " 75%|███████▍  | 746/1000 [36:19<13:19,  3.15s/it]"
     ]
    },
    {
     "name": "stdout",
     "output_type": "stream",
     "text": [
      "Epoch 745 Loss = 5.404e-06, Acc = 100.00, Loss val = 5.380e-06, Acc val=100.00  \n"
     ]
    },
    {
     "name": "stderr",
     "output_type": "stream",
     "text": [
      " 75%|███████▍  | 747/1000 [36:22<12:54,  3.06s/it]"
     ]
    },
    {
     "name": "stdout",
     "output_type": "stream",
     "text": [
      "Epoch 746 Loss = 5.369e-06, Acc = 100.00, Loss val = 5.487e-06, Acc val=100.00  \n"
     ]
    },
    {
     "name": "stderr",
     "output_type": "stream",
     "text": [
      " 75%|███████▍  | 748/1000 [36:25<12:38,  3.01s/it]"
     ]
    },
    {
     "name": "stdout",
     "output_type": "stream",
     "text": [
      "Epoch 747 Loss = 5.410e-06, Acc = 100.00, Loss val = 5.388e-06, Acc val=100.00  \n"
     ]
    },
    {
     "name": "stderr",
     "output_type": "stream",
     "text": [
      " 75%|███████▍  | 749/1000 [36:27<12:26,  2.97s/it]"
     ]
    },
    {
     "name": "stdout",
     "output_type": "stream",
     "text": [
      "Epoch 748 Loss = 5.354e-06, Acc = 100.00, Loss val = 5.378e-06, Acc val=100.00  \n"
     ]
    },
    {
     "name": "stderr",
     "output_type": "stream",
     "text": [
      " 75%|███████▌  | 750/1000 [36:31<12:26,  2.99s/it]"
     ]
    },
    {
     "name": "stdout",
     "output_type": "stream",
     "text": [
      "Epoch 749 Loss = 5.357e-06, Acc = 100.00, Loss val = 5.365e-06, Acc val=100.00  \n"
     ]
    },
    {
     "name": "stderr",
     "output_type": "stream",
     "text": [
      " 75%|███████▌  | 751/1000 [36:33<12:18,  2.96s/it]"
     ]
    },
    {
     "name": "stdout",
     "output_type": "stream",
     "text": [
      "Epoch 750 Loss = 5.338e-06, Acc = 100.00, Loss val = 5.347e-06, Acc val=100.00  \n"
     ]
    },
    {
     "name": "stderr",
     "output_type": "stream",
     "text": [
      " 75%|███████▌  | 752/1000 [36:36<12:11,  2.95s/it]"
     ]
    },
    {
     "name": "stdout",
     "output_type": "stream",
     "text": [
      "Epoch 751 Loss = 5.314e-06, Acc = 100.00, Loss val = 5.273e-06, Acc val=100.00  \n"
     ]
    },
    {
     "name": "stderr",
     "output_type": "stream",
     "text": [
      " 75%|███████▌  | 753/1000 [36:39<12:00,  2.92s/it]"
     ]
    },
    {
     "name": "stdout",
     "output_type": "stream",
     "text": [
      "Epoch 752 Loss = 5.394e-06, Acc = 100.00, Loss val = 5.300e-06, Acc val=100.00  \n"
     ]
    },
    {
     "name": "stderr",
     "output_type": "stream",
     "text": [
      " 75%|███████▌  | 754/1000 [36:42<11:53,  2.90s/it]"
     ]
    },
    {
     "name": "stdout",
     "output_type": "stream",
     "text": [
      "Epoch 753 Loss = 5.322e-06, Acc = 100.00, Loss val = 5.308e-06, Acc val=100.00  \n"
     ]
    },
    {
     "name": "stderr",
     "output_type": "stream",
     "text": [
      " 76%|███████▌  | 755/1000 [36:45<11:46,  2.88s/it]"
     ]
    },
    {
     "name": "stdout",
     "output_type": "stream",
     "text": [
      "Epoch 754 Loss = 5.355e-06, Acc = 100.00, Loss val = 5.271e-06, Acc val=100.00  \n"
     ]
    },
    {
     "name": "stderr",
     "output_type": "stream",
     "text": [
      " 76%|███████▌  | 756/1000 [36:48<11:39,  2.87s/it]"
     ]
    },
    {
     "name": "stdout",
     "output_type": "stream",
     "text": [
      "Epoch 755 Loss = 5.273e-06, Acc = 100.00, Loss val = 5.291e-06, Acc val=100.00  \n"
     ]
    },
    {
     "name": "stderr",
     "output_type": "stream",
     "text": [
      " 76%|███████▌  | 757/1000 [36:51<11:38,  2.88s/it]"
     ]
    },
    {
     "name": "stdout",
     "output_type": "stream",
     "text": [
      "Epoch 756 Loss = 5.289e-06, Acc = 100.00, Loss val = 5.343e-06, Acc val=100.00  \n"
     ]
    },
    {
     "name": "stderr",
     "output_type": "stream",
     "text": [
      " 76%|███████▌  | 758/1000 [36:53<11:35,  2.87s/it]"
     ]
    },
    {
     "name": "stdout",
     "output_type": "stream",
     "text": [
      "Epoch 757 Loss = 5.339e-06, Acc = 100.00, Loss val = 5.227e-06, Acc val=100.00  \n"
     ]
    },
    {
     "name": "stderr",
     "output_type": "stream",
     "text": [
      " 76%|███████▌  | 759/1000 [36:56<11:34,  2.88s/it]"
     ]
    },
    {
     "name": "stdout",
     "output_type": "stream",
     "text": [
      "Epoch 758 Loss = 5.267e-06, Acc = 100.00, Loss val = 5.252e-06, Acc val=100.00  \n"
     ]
    },
    {
     "name": "stderr",
     "output_type": "stream",
     "text": [
      " 76%|███████▌  | 760/1000 [36:59<11:29,  2.87s/it]"
     ]
    },
    {
     "name": "stdout",
     "output_type": "stream",
     "text": [
      "Epoch 759 Loss = 5.262e-06, Acc = 100.00, Loss val = 5.204e-06, Acc val=100.00  \n"
     ]
    },
    {
     "name": "stderr",
     "output_type": "stream",
     "text": [
      " 76%|███████▌  | 761/1000 [37:02<11:26,  2.87s/it]"
     ]
    },
    {
     "name": "stdout",
     "output_type": "stream",
     "text": [
      "Epoch 760 Loss = 5.241e-06, Acc = 100.00, Loss val = 5.438e-06, Acc val=100.00  \n"
     ]
    },
    {
     "name": "stderr",
     "output_type": "stream",
     "text": [
      " 76%|███████▌  | 762/1000 [37:05<11:24,  2.88s/it]"
     ]
    },
    {
     "name": "stdout",
     "output_type": "stream",
     "text": [
      "Epoch 761 Loss = 5.236e-06, Acc = 100.00, Loss val = 5.195e-06, Acc val=100.00  \n"
     ]
    },
    {
     "name": "stderr",
     "output_type": "stream",
     "text": [
      " 76%|███████▋  | 763/1000 [37:08<11:15,  2.85s/it]"
     ]
    },
    {
     "name": "stdout",
     "output_type": "stream",
     "text": [
      "Epoch 762 Loss = 5.254e-06, Acc = 100.00, Loss val = 5.167e-06, Acc val=100.00  \n"
     ]
    },
    {
     "name": "stderr",
     "output_type": "stream",
     "text": [
      " 76%|███████▋  | 764/1000 [37:11<11:15,  2.86s/it]"
     ]
    },
    {
     "name": "stdout",
     "output_type": "stream",
     "text": [
      "Epoch 763 Loss = 5.178e-06, Acc = 100.00, Loss val = 5.196e-06, Acc val=100.00  \n"
     ]
    },
    {
     "name": "stderr",
     "output_type": "stream",
     "text": [
      " 76%|███████▋  | 765/1000 [37:14<11:16,  2.88s/it]"
     ]
    },
    {
     "name": "stdout",
     "output_type": "stream",
     "text": [
      "Epoch 764 Loss = 5.204e-06, Acc = 100.00, Loss val = 5.162e-06, Acc val=100.00  \n"
     ]
    },
    {
     "name": "stderr",
     "output_type": "stream",
     "text": [
      " 77%|███████▋  | 766/1000 [37:17<11:16,  2.89s/it]"
     ]
    },
    {
     "name": "stdout",
     "output_type": "stream",
     "text": [
      "Epoch 765 Loss = 5.204e-06, Acc = 100.00, Loss val = 5.117e-06, Acc val=100.00  \n"
     ]
    },
    {
     "name": "stderr",
     "output_type": "stream",
     "text": [
      " 77%|███████▋  | 767/1000 [37:19<11:10,  2.88s/it]"
     ]
    },
    {
     "name": "stdout",
     "output_type": "stream",
     "text": [
      "Epoch 766 Loss = 5.192e-06, Acc = 100.00, Loss val = 5.168e-06, Acc val=100.00  \n"
     ]
    },
    {
     "name": "stderr",
     "output_type": "stream",
     "text": [
      " 77%|███████▋  | 768/1000 [37:22<11:03,  2.86s/it]"
     ]
    },
    {
     "name": "stdout",
     "output_type": "stream",
     "text": [
      "Epoch 767 Loss = 5.208e-06, Acc = 100.00, Loss val = 5.173e-06, Acc val=100.00  \n"
     ]
    },
    {
     "name": "stderr",
     "output_type": "stream",
     "text": [
      " 77%|███████▋  | 769/1000 [37:25<10:58,  2.85s/it]"
     ]
    },
    {
     "name": "stdout",
     "output_type": "stream",
     "text": [
      "Epoch 768 Loss = 5.160e-06, Acc = 100.00, Loss val = 5.195e-06, Acc val=100.00  \n"
     ]
    },
    {
     "name": "stderr",
     "output_type": "stream",
     "text": [
      " 77%|███████▋  | 770/1000 [37:28<10:47,  2.81s/it]"
     ]
    },
    {
     "name": "stdout",
     "output_type": "stream",
     "text": [
      "Epoch 769 Loss = 5.175e-06, Acc = 100.00, Loss val = 5.100e-06, Acc val=100.00  \n"
     ]
    },
    {
     "name": "stderr",
     "output_type": "stream",
     "text": [
      " 77%|███████▋  | 771/1000 [37:31<10:42,  2.81s/it]"
     ]
    },
    {
     "name": "stdout",
     "output_type": "stream",
     "text": [
      "Epoch 770 Loss = 5.158e-06, Acc = 100.00, Loss val = 5.116e-06, Acc val=100.00  \n"
     ]
    },
    {
     "name": "stderr",
     "output_type": "stream",
     "text": [
      " 77%|███████▋  | 772/1000 [37:33<10:42,  2.82s/it]"
     ]
    },
    {
     "name": "stdout",
     "output_type": "stream",
     "text": [
      "Epoch 771 Loss = 5.115e-06, Acc = 100.00, Loss val = 5.127e-06, Acc val=100.00  \n"
     ]
    },
    {
     "name": "stderr",
     "output_type": "stream",
     "text": [
      " 77%|███████▋  | 773/1000 [37:36<10:39,  2.82s/it]"
     ]
    },
    {
     "name": "stdout",
     "output_type": "stream",
     "text": [
      "Epoch 772 Loss = 5.094e-06, Acc = 100.00, Loss val = 5.065e-06, Acc val=100.00  \n"
     ]
    },
    {
     "name": "stderr",
     "output_type": "stream",
     "text": [
      " 77%|███████▋  | 774/1000 [37:39<10:35,  2.81s/it]"
     ]
    },
    {
     "name": "stdout",
     "output_type": "stream",
     "text": [
      "Epoch 773 Loss = 5.126e-06, Acc = 100.00, Loss val = 5.081e-06, Acc val=100.00  \n"
     ]
    },
    {
     "name": "stderr",
     "output_type": "stream",
     "text": [
      " 78%|███████▊  | 775/1000 [37:42<10:27,  2.79s/it]"
     ]
    },
    {
     "name": "stdout",
     "output_type": "stream",
     "text": [
      "Epoch 774 Loss = 5.137e-06, Acc = 100.00, Loss val = 5.098e-06, Acc val=100.00  \n"
     ]
    },
    {
     "name": "stderr",
     "output_type": "stream",
     "text": [
      " 78%|███████▊  | 776/1000 [37:45<10:30,  2.81s/it]"
     ]
    },
    {
     "name": "stdout",
     "output_type": "stream",
     "text": [
      "Epoch 775 Loss = 5.079e-06, Acc = 100.00, Loss val = 5.101e-06, Acc val=100.00  \n"
     ]
    },
    {
     "name": "stderr",
     "output_type": "stream",
     "text": [
      " 78%|███████▊  | 777/1000 [37:47<10:28,  2.82s/it]"
     ]
    },
    {
     "name": "stdout",
     "output_type": "stream",
     "text": [
      "Epoch 776 Loss = 5.146e-06, Acc = 100.00, Loss val = 5.090e-06, Acc val=100.00  \n"
     ]
    },
    {
     "name": "stderr",
     "output_type": "stream",
     "text": [
      " 78%|███████▊  | 778/1000 [37:50<10:25,  2.82s/it]"
     ]
    },
    {
     "name": "stdout",
     "output_type": "stream",
     "text": [
      "Epoch 777 Loss = 5.083e-06, Acc = 100.00, Loss val = 5.101e-06, Acc val=100.00  \n"
     ]
    },
    {
     "name": "stderr",
     "output_type": "stream",
     "text": [
      " 78%|███████▊  | 779/1000 [37:53<10:22,  2.82s/it]"
     ]
    },
    {
     "name": "stdout",
     "output_type": "stream",
     "text": [
      "Epoch 778 Loss = 5.069e-06, Acc = 100.00, Loss val = 5.085e-06, Acc val=100.00  \n"
     ]
    },
    {
     "name": "stderr",
     "output_type": "stream",
     "text": [
      " 78%|███████▊  | 780/1000 [37:56<10:14,  2.79s/it]"
     ]
    },
    {
     "name": "stdout",
     "output_type": "stream",
     "text": [
      "Epoch 779 Loss = 5.085e-06, Acc = 100.00, Loss val = 5.018e-06, Acc val=100.00  \n"
     ]
    },
    {
     "name": "stderr",
     "output_type": "stream",
     "text": [
      " 78%|███████▊  | 781/1000 [37:59<10:14,  2.80s/it]"
     ]
    },
    {
     "name": "stdout",
     "output_type": "stream",
     "text": [
      "Epoch 780 Loss = 4.985e-06, Acc = 100.00, Loss val = 4.954e-06, Acc val=100.00  \n"
     ]
    },
    {
     "name": "stderr",
     "output_type": "stream",
     "text": [
      " 78%|███████▊  | 782/1000 [38:01<10:11,  2.81s/it]"
     ]
    },
    {
     "name": "stdout",
     "output_type": "stream",
     "text": [
      "Epoch 781 Loss = 4.982e-06, Acc = 100.00, Loss val = 4.961e-06, Acc val=100.00  \n"
     ]
    },
    {
     "name": "stderr",
     "output_type": "stream",
     "text": [
      " 78%|███████▊  | 783/1000 [38:04<10:08,  2.81s/it]"
     ]
    },
    {
     "name": "stdout",
     "output_type": "stream",
     "text": [
      "Epoch 782 Loss = 4.980e-06, Acc = 100.00, Loss val = 5.004e-06, Acc val=100.00  \n"
     ]
    },
    {
     "name": "stderr",
     "output_type": "stream",
     "text": [
      " 78%|███████▊  | 784/1000 [38:07<10:06,  2.81s/it]"
     ]
    },
    {
     "name": "stdout",
     "output_type": "stream",
     "text": [
      "Epoch 783 Loss = 4.993e-06, Acc = 100.00, Loss val = 5.015e-06, Acc val=100.00  \n"
     ]
    },
    {
     "name": "stderr",
     "output_type": "stream",
     "text": [
      " 78%|███████▊  | 785/1000 [38:10<09:59,  2.79s/it]"
     ]
    },
    {
     "name": "stdout",
     "output_type": "stream",
     "text": [
      "Epoch 784 Loss = 4.947e-06, Acc = 100.00, Loss val = 4.918e-06, Acc val=100.00  \n"
     ]
    },
    {
     "name": "stderr",
     "output_type": "stream",
     "text": [
      " 79%|███████▊  | 786/1000 [38:13<09:56,  2.79s/it]"
     ]
    },
    {
     "name": "stdout",
     "output_type": "stream",
     "text": [
      "Epoch 785 Loss = 5.039e-06, Acc = 100.00, Loss val = 5.005e-06, Acc val=100.00  \n"
     ]
    },
    {
     "name": "stderr",
     "output_type": "stream",
     "text": [
      " 79%|███████▊  | 787/1000 [38:15<09:58,  2.81s/it]"
     ]
    },
    {
     "name": "stdout",
     "output_type": "stream",
     "text": [
      "Epoch 786 Loss = 4.995e-06, Acc = 100.00, Loss val = 4.994e-06, Acc val=100.00  \n"
     ]
    },
    {
     "name": "stderr",
     "output_type": "stream",
     "text": [
      " 79%|███████▉  | 788/1000 [38:18<09:54,  2.80s/it]"
     ]
    },
    {
     "name": "stdout",
     "output_type": "stream",
     "text": [
      "Epoch 787 Loss = 4.977e-06, Acc = 100.00, Loss val = 4.935e-06, Acc val=100.00  \n"
     ]
    },
    {
     "name": "stderr",
     "output_type": "stream",
     "text": [
      " 79%|███████▉  | 789/1000 [38:21<09:52,  2.81s/it]"
     ]
    },
    {
     "name": "stdout",
     "output_type": "stream",
     "text": [
      "Epoch 788 Loss = 4.980e-06, Acc = 100.00, Loss val = 4.948e-06, Acc val=100.00  \n"
     ]
    },
    {
     "name": "stderr",
     "output_type": "stream",
     "text": [
      " 79%|███████▉  | 790/1000 [38:24<09:43,  2.78s/it]"
     ]
    },
    {
     "name": "stdout",
     "output_type": "stream",
     "text": [
      "Epoch 789 Loss = 4.937e-06, Acc = 100.00, Loss val = 4.961e-06, Acc val=100.00  \n"
     ]
    },
    {
     "name": "stderr",
     "output_type": "stream",
     "text": [
      " 79%|███████▉  | 791/1000 [38:27<09:40,  2.78s/it]"
     ]
    },
    {
     "name": "stdout",
     "output_type": "stream",
     "text": [
      "Epoch 790 Loss = 4.897e-06, Acc = 100.00, Loss val = 4.969e-06, Acc val=100.00  \n"
     ]
    },
    {
     "name": "stderr",
     "output_type": "stream",
     "text": [
      " 79%|███████▉  | 792/1000 [38:29<09:38,  2.78s/it]"
     ]
    },
    {
     "name": "stdout",
     "output_type": "stream",
     "text": [
      "Epoch 791 Loss = 4.971e-06, Acc = 100.00, Loss val = 4.891e-06, Acc val=100.00  \n"
     ]
    },
    {
     "name": "stderr",
     "output_type": "stream",
     "text": [
      " 79%|███████▉  | 793/1000 [38:32<09:41,  2.81s/it]"
     ]
    },
    {
     "name": "stdout",
     "output_type": "stream",
     "text": [
      "Epoch 792 Loss = 4.974e-06, Acc = 100.00, Loss val = 4.917e-06, Acc val=100.00  \n"
     ]
    },
    {
     "name": "stderr",
     "output_type": "stream",
     "text": [
      " 79%|███████▉  | 794/1000 [38:35<09:36,  2.80s/it]"
     ]
    },
    {
     "name": "stdout",
     "output_type": "stream",
     "text": [
      "Epoch 793 Loss = 4.946e-06, Acc = 100.00, Loss val = 4.905e-06, Acc val=100.00  \n"
     ]
    },
    {
     "name": "stderr",
     "output_type": "stream",
     "text": [
      " 80%|███████▉  | 795/1000 [38:38<09:29,  2.78s/it]"
     ]
    },
    {
     "name": "stdout",
     "output_type": "stream",
     "text": [
      "Epoch 794 Loss = 4.871e-06, Acc = 100.00, Loss val = 4.895e-06, Acc val=100.00  \n"
     ]
    },
    {
     "name": "stderr",
     "output_type": "stream",
     "text": [
      " 80%|███████▉  | 796/1000 [38:40<09:25,  2.77s/it]"
     ]
    },
    {
     "name": "stdout",
     "output_type": "stream",
     "text": [
      "Epoch 795 Loss = 4.824e-06, Acc = 100.00, Loss val = 4.918e-06, Acc val=100.00  \n"
     ]
    },
    {
     "name": "stderr",
     "output_type": "stream",
     "text": [
      " 80%|███████▉  | 797/1000 [38:43<09:22,  2.77s/it]"
     ]
    },
    {
     "name": "stdout",
     "output_type": "stream",
     "text": [
      "Epoch 796 Loss = 4.846e-06, Acc = 100.00, Loss val = 4.846e-06, Acc val=100.00  \n"
     ]
    },
    {
     "name": "stderr",
     "output_type": "stream",
     "text": [
      " 80%|███████▉  | 798/1000 [38:46<09:18,  2.77s/it]"
     ]
    },
    {
     "name": "stdout",
     "output_type": "stream",
     "text": [
      "Epoch 797 Loss = 4.829e-06, Acc = 100.00, Loss val = 4.882e-06, Acc val=100.00  \n"
     ]
    },
    {
     "name": "stderr",
     "output_type": "stream",
     "text": [
      " 80%|███████▉  | 799/1000 [38:49<09:14,  2.76s/it]"
     ]
    },
    {
     "name": "stdout",
     "output_type": "stream",
     "text": [
      "Epoch 798 Loss = 4.879e-06, Acc = 100.00, Loss val = 4.912e-06, Acc val=100.00  \n"
     ]
    },
    {
     "name": "stderr",
     "output_type": "stream",
     "text": [
      " 80%|████████  | 800/1000 [38:51<09:11,  2.76s/it]"
     ]
    },
    {
     "name": "stdout",
     "output_type": "stream",
     "text": [
      "Epoch 799 Loss = 4.865e-06, Acc = 100.00, Loss val = 4.860e-06, Acc val=100.00  \n"
     ]
    },
    {
     "name": "stderr",
     "output_type": "stream",
     "text": [
      " 80%|████████  | 801/1000 [38:54<09:08,  2.76s/it]"
     ]
    },
    {
     "name": "stdout",
     "output_type": "stream",
     "text": [
      "Epoch 800 Loss = 4.845e-06, Acc = 100.00, Loss val = 4.868e-06, Acc val=100.00  \n"
     ]
    },
    {
     "name": "stderr",
     "output_type": "stream",
     "text": [
      " 80%|████████  | 802/1000 [38:57<09:10,  2.78s/it]"
     ]
    },
    {
     "name": "stdout",
     "output_type": "stream",
     "text": [
      "Epoch 801 Loss = 4.839e-06, Acc = 100.00, Loss val = 4.824e-06, Acc val=100.00  \n"
     ]
    },
    {
     "name": "stderr",
     "output_type": "stream",
     "text": [
      " 80%|████████  | 803/1000 [39:00<09:03,  2.76s/it]"
     ]
    },
    {
     "name": "stdout",
     "output_type": "stream",
     "text": [
      "Epoch 802 Loss = 4.810e-06, Acc = 100.00, Loss val = 4.829e-06, Acc val=100.00  \n"
     ]
    },
    {
     "name": "stderr",
     "output_type": "stream",
     "text": [
      " 80%|████████  | 804/1000 [39:03<09:01,  2.76s/it]"
     ]
    },
    {
     "name": "stdout",
     "output_type": "stream",
     "text": [
      "Epoch 803 Loss = 4.795e-06, Acc = 100.00, Loss val = 4.759e-06, Acc val=100.00  \n"
     ]
    },
    {
     "name": "stderr",
     "output_type": "stream",
     "text": [
      " 80%|████████  | 805/1000 [39:05<09:01,  2.78s/it]"
     ]
    },
    {
     "name": "stdout",
     "output_type": "stream",
     "text": [
      "Epoch 804 Loss = 4.921e-06, Acc = 100.00, Loss val = 4.828e-06, Acc val=100.00  \n"
     ]
    },
    {
     "name": "stderr",
     "output_type": "stream",
     "text": [
      " 81%|████████  | 806/1000 [39:08<08:57,  2.77s/it]"
     ]
    },
    {
     "name": "stdout",
     "output_type": "stream",
     "text": [
      "Epoch 805 Loss = 4.801e-06, Acc = 100.00, Loss val = 4.831e-06, Acc val=100.00  \n"
     ]
    },
    {
     "name": "stderr",
     "output_type": "stream",
     "text": [
      " 81%|████████  | 807/1000 [39:11<08:55,  2.77s/it]"
     ]
    },
    {
     "name": "stdout",
     "output_type": "stream",
     "text": [
      "Epoch 806 Loss = 4.756e-06, Acc = 100.00, Loss val = 4.759e-06, Acc val=100.00  \n"
     ]
    },
    {
     "name": "stderr",
     "output_type": "stream",
     "text": [
      " 81%|████████  | 808/1000 [39:14<08:51,  2.77s/it]"
     ]
    },
    {
     "name": "stdout",
     "output_type": "stream",
     "text": [
      "Epoch 807 Loss = 4.764e-06, Acc = 100.00, Loss val = 4.844e-06, Acc val=100.00  \n"
     ]
    },
    {
     "name": "stderr",
     "output_type": "stream",
     "text": [
      " 81%|████████  | 809/1000 [39:16<08:49,  2.77s/it]"
     ]
    },
    {
     "name": "stdout",
     "output_type": "stream",
     "text": [
      "Epoch 808 Loss = 4.782e-06, Acc = 100.00, Loss val = 4.771e-06, Acc val=100.00  \n"
     ]
    },
    {
     "name": "stderr",
     "output_type": "stream",
     "text": [
      " 81%|████████  | 810/1000 [39:19<08:47,  2.78s/it]"
     ]
    },
    {
     "name": "stdout",
     "output_type": "stream",
     "text": [
      "Epoch 809 Loss = 4.746e-06, Acc = 100.00, Loss val = 4.698e-06, Acc val=100.00  \n"
     ]
    },
    {
     "name": "stderr",
     "output_type": "stream",
     "text": [
      " 81%|████████  | 811/1000 [39:22<08:46,  2.79s/it]"
     ]
    },
    {
     "name": "stdout",
     "output_type": "stream",
     "text": [
      "Epoch 810 Loss = 4.723e-06, Acc = 100.00, Loss val = 4.731e-06, Acc val=100.00  \n"
     ]
    },
    {
     "name": "stderr",
     "output_type": "stream",
     "text": [
      " 81%|████████  | 812/1000 [39:25<08:40,  2.77s/it]"
     ]
    },
    {
     "name": "stdout",
     "output_type": "stream",
     "text": [
      "Epoch 811 Loss = 4.616e-06, Acc = 100.00, Loss val = 4.706e-06, Acc val=100.00  \n"
     ]
    },
    {
     "name": "stderr",
     "output_type": "stream",
     "text": [
      " 81%|████████▏ | 813/1000 [39:28<08:38,  2.77s/it]"
     ]
    },
    {
     "name": "stdout",
     "output_type": "stream",
     "text": [
      "Epoch 812 Loss = 4.734e-06, Acc = 100.00, Loss val = 4.729e-06, Acc val=100.00  \n"
     ]
    },
    {
     "name": "stderr",
     "output_type": "stream",
     "text": [
      " 81%|████████▏ | 814/1000 [39:30<08:40,  2.80s/it]"
     ]
    },
    {
     "name": "stdout",
     "output_type": "stream",
     "text": [
      "Epoch 813 Loss = 4.692e-06, Acc = 100.00, Loss val = 4.657e-06, Acc val=100.00  \n"
     ]
    },
    {
     "name": "stderr",
     "output_type": "stream",
     "text": [
      " 82%|████████▏ | 815/1000 [39:33<08:39,  2.81s/it]"
     ]
    },
    {
     "name": "stdout",
     "output_type": "stream",
     "text": [
      "Epoch 814 Loss = 4.676e-06, Acc = 100.00, Loss val = 4.728e-06, Acc val=100.00  \n"
     ]
    },
    {
     "name": "stderr",
     "output_type": "stream",
     "text": [
      " 82%|████████▏ | 816/1000 [39:36<08:38,  2.82s/it]"
     ]
    },
    {
     "name": "stdout",
     "output_type": "stream",
     "text": [
      "Epoch 815 Loss = 4.708e-06, Acc = 100.00, Loss val = 4.779e-06, Acc val=100.00  \n"
     ]
    },
    {
     "name": "stderr",
     "output_type": "stream",
     "text": [
      " 82%|████████▏ | 817/1000 [39:39<08:32,  2.80s/it]"
     ]
    },
    {
     "name": "stdout",
     "output_type": "stream",
     "text": [
      "Epoch 816 Loss = 4.686e-06, Acc = 100.00, Loss val = 4.685e-06, Acc val=100.00  \n"
     ]
    },
    {
     "name": "stderr",
     "output_type": "stream",
     "text": [
      " 82%|████████▏ | 818/1000 [39:42<08:29,  2.80s/it]"
     ]
    },
    {
     "name": "stdout",
     "output_type": "stream",
     "text": [
      "Epoch 817 Loss = 4.621e-06, Acc = 100.00, Loss val = 4.647e-06, Acc val=100.00  \n"
     ]
    },
    {
     "name": "stderr",
     "output_type": "stream",
     "text": [
      " 82%|████████▏ | 819/1000 [39:44<08:27,  2.80s/it]"
     ]
    },
    {
     "name": "stdout",
     "output_type": "stream",
     "text": [
      "Epoch 818 Loss = 4.629e-06, Acc = 100.00, Loss val = 4.666e-06, Acc val=100.00  \n"
     ]
    },
    {
     "name": "stderr",
     "output_type": "stream",
     "text": [
      " 82%|████████▏ | 820/1000 [39:47<08:23,  2.80s/it]"
     ]
    },
    {
     "name": "stdout",
     "output_type": "stream",
     "text": [
      "Epoch 819 Loss = 4.611e-06, Acc = 100.00, Loss val = 4.594e-06, Acc val=100.00  \n"
     ]
    },
    {
     "name": "stderr",
     "output_type": "stream",
     "text": [
      " 82%|████████▏ | 821/1000 [39:50<08:23,  2.81s/it]"
     ]
    },
    {
     "name": "stdout",
     "output_type": "stream",
     "text": [
      "Epoch 820 Loss = 4.628e-06, Acc = 100.00, Loss val = 4.626e-06, Acc val=100.00  \n"
     ]
    },
    {
     "name": "stderr",
     "output_type": "stream",
     "text": [
      " 82%|████████▏ | 822/1000 [39:53<08:18,  2.80s/it]"
     ]
    },
    {
     "name": "stdout",
     "output_type": "stream",
     "text": [
      "Epoch 821 Loss = 4.643e-06, Acc = 100.00, Loss val = 4.616e-06, Acc val=100.00  \n"
     ]
    },
    {
     "name": "stderr",
     "output_type": "stream",
     "text": [
      " 82%|████████▏ | 823/1000 [39:56<08:13,  2.79s/it]"
     ]
    },
    {
     "name": "stdout",
     "output_type": "stream",
     "text": [
      "Epoch 822 Loss = 4.637e-06, Acc = 100.00, Loss val = 4.593e-06, Acc val=100.00  \n"
     ]
    },
    {
     "name": "stderr",
     "output_type": "stream",
     "text": [
      " 82%|████████▏ | 824/1000 [39:58<08:09,  2.78s/it]"
     ]
    },
    {
     "name": "stdout",
     "output_type": "stream",
     "text": [
      "Epoch 823 Loss = 4.625e-06, Acc = 100.00, Loss val = 4.542e-06, Acc val=100.00  \n"
     ]
    },
    {
     "name": "stderr",
     "output_type": "stream",
     "text": [
      " 82%|████████▎ | 825/1000 [40:01<08:08,  2.79s/it]"
     ]
    },
    {
     "name": "stdout",
     "output_type": "stream",
     "text": [
      "Epoch 824 Loss = 4.642e-06, Acc = 100.00, Loss val = 4.631e-06, Acc val=100.00  \n"
     ]
    },
    {
     "name": "stderr",
     "output_type": "stream",
     "text": [
      " 83%|████████▎ | 826/1000 [40:04<08:05,  2.79s/it]"
     ]
    },
    {
     "name": "stdout",
     "output_type": "stream",
     "text": [
      "Epoch 825 Loss = 4.591e-06, Acc = 100.00, Loss val = 4.641e-06, Acc val=100.00  \n"
     ]
    },
    {
     "name": "stderr",
     "output_type": "stream",
     "text": [
      " 83%|████████▎ | 827/1000 [40:07<08:02,  2.79s/it]"
     ]
    },
    {
     "name": "stdout",
     "output_type": "stream",
     "text": [
      "Epoch 826 Loss = 4.532e-06, Acc = 100.00, Loss val = 4.631e-06, Acc val=100.00  \n"
     ]
    },
    {
     "name": "stderr",
     "output_type": "stream",
     "text": [
      " 83%|████████▎ | 828/1000 [40:10<07:59,  2.79s/it]"
     ]
    },
    {
     "name": "stdout",
     "output_type": "stream",
     "text": [
      "Epoch 827 Loss = 4.645e-06, Acc = 100.00, Loss val = 4.549e-06, Acc val=100.00  \n"
     ]
    },
    {
     "name": "stderr",
     "output_type": "stream",
     "text": [
      " 83%|████████▎ | 829/1000 [40:12<07:56,  2.79s/it]"
     ]
    },
    {
     "name": "stdout",
     "output_type": "stream",
     "text": [
      "Epoch 828 Loss = 4.525e-06, Acc = 100.00, Loss val = 4.573e-06, Acc val=100.00  \n"
     ]
    },
    {
     "name": "stderr",
     "output_type": "stream",
     "text": [
      " 83%|████████▎ | 830/1000 [40:15<07:52,  2.78s/it]"
     ]
    },
    {
     "name": "stdout",
     "output_type": "stream",
     "text": [
      "Epoch 829 Loss = 4.576e-06, Acc = 100.00, Loss val = 4.584e-06, Acc val=100.00  \n"
     ]
    },
    {
     "name": "stderr",
     "output_type": "stream",
     "text": [
      " 83%|████████▎ | 831/1000 [40:18<07:48,  2.77s/it]"
     ]
    },
    {
     "name": "stdout",
     "output_type": "stream",
     "text": [
      "Epoch 830 Loss = 4.477e-06, Acc = 100.00, Loss val = 4.519e-06, Acc val=100.00  \n"
     ]
    },
    {
     "name": "stderr",
     "output_type": "stream",
     "text": [
      " 83%|████████▎ | 832/1000 [40:21<07:45,  2.77s/it]"
     ]
    },
    {
     "name": "stdout",
     "output_type": "stream",
     "text": [
      "Epoch 831 Loss = 4.597e-06, Acc = 100.00, Loss val = 4.499e-06, Acc val=100.00  \n"
     ]
    },
    {
     "name": "stderr",
     "output_type": "stream",
     "text": [
      " 83%|████████▎ | 833/1000 [40:23<07:44,  2.78s/it]"
     ]
    },
    {
     "name": "stdout",
     "output_type": "stream",
     "text": [
      "Epoch 832 Loss = 4.553e-06, Acc = 100.00, Loss val = 4.521e-06, Acc val=100.00  \n"
     ]
    },
    {
     "name": "stderr",
     "output_type": "stream",
     "text": [
      " 83%|████████▎ | 834/1000 [40:26<07:41,  2.78s/it]"
     ]
    },
    {
     "name": "stdout",
     "output_type": "stream",
     "text": [
      "Epoch 833 Loss = 4.527e-06, Acc = 100.00, Loss val = 4.536e-06, Acc val=100.00  \n"
     ]
    },
    {
     "name": "stderr",
     "output_type": "stream",
     "text": [
      " 84%|████████▎ | 835/1000 [40:29<07:38,  2.78s/it]"
     ]
    },
    {
     "name": "stdout",
     "output_type": "stream",
     "text": [
      "Epoch 834 Loss = 4.426e-06, Acc = 100.00, Loss val = 4.593e-06, Acc val=100.00  \n"
     ]
    },
    {
     "name": "stderr",
     "output_type": "stream",
     "text": [
      " 84%|████████▎ | 836/1000 [40:32<07:33,  2.77s/it]"
     ]
    },
    {
     "name": "stdout",
     "output_type": "stream",
     "text": [
      "Epoch 835 Loss = 4.517e-06, Acc = 100.00, Loss val = 4.559e-06, Acc val=100.00  \n"
     ]
    },
    {
     "name": "stderr",
     "output_type": "stream",
     "text": [
      " 84%|████████▎ | 837/1000 [40:34<07:32,  2.77s/it]"
     ]
    },
    {
     "name": "stdout",
     "output_type": "stream",
     "text": [
      "Epoch 836 Loss = 4.517e-06, Acc = 100.00, Loss val = 4.504e-06, Acc val=100.00  \n"
     ]
    },
    {
     "name": "stderr",
     "output_type": "stream",
     "text": [
      " 84%|████████▍ | 838/1000 [40:37<07:32,  2.79s/it]"
     ]
    },
    {
     "name": "stdout",
     "output_type": "stream",
     "text": [
      "Epoch 837 Loss = 4.561e-06, Acc = 100.00, Loss val = 4.509e-06, Acc val=100.00  \n"
     ]
    },
    {
     "name": "stderr",
     "output_type": "stream",
     "text": [
      " 84%|████████▍ | 839/1000 [40:40<07:29,  2.79s/it]"
     ]
    },
    {
     "name": "stdout",
     "output_type": "stream",
     "text": [
      "Epoch 838 Loss = 4.513e-06, Acc = 100.00, Loss val = 4.539e-06, Acc val=100.00  \n"
     ]
    },
    {
     "name": "stderr",
     "output_type": "stream",
     "text": [
      " 84%|████████▍ | 840/1000 [40:43<07:25,  2.79s/it]"
     ]
    },
    {
     "name": "stdout",
     "output_type": "stream",
     "text": [
      "Epoch 839 Loss = 4.437e-06, Acc = 100.00, Loss val = 4.472e-06, Acc val=100.00  \n"
     ]
    },
    {
     "name": "stderr",
     "output_type": "stream",
     "text": [
      " 84%|████████▍ | 841/1000 [40:46<07:21,  2.78s/it]"
     ]
    },
    {
     "name": "stdout",
     "output_type": "stream",
     "text": [
      "Epoch 840 Loss = 4.453e-06, Acc = 100.00, Loss val = 4.557e-06, Acc val=100.00  \n"
     ]
    },
    {
     "name": "stderr",
     "output_type": "stream",
     "text": [
      " 84%|████████▍ | 842/1000 [40:48<07:20,  2.79s/it]"
     ]
    },
    {
     "name": "stdout",
     "output_type": "stream",
     "text": [
      "Epoch 841 Loss = 4.512e-06, Acc = 100.00, Loss val = 4.382e-06, Acc val=100.00  \n"
     ]
    },
    {
     "name": "stderr",
     "output_type": "stream",
     "text": [
      " 84%|████████▍ | 843/1000 [40:51<07:17,  2.79s/it]"
     ]
    },
    {
     "name": "stdout",
     "output_type": "stream",
     "text": [
      "Epoch 842 Loss = 4.378e-06, Acc = 100.00, Loss val = 4.422e-06, Acc val=100.00  \n"
     ]
    },
    {
     "name": "stderr",
     "output_type": "stream",
     "text": [
      " 84%|████████▍ | 844/1000 [40:54<07:15,  2.79s/it]"
     ]
    },
    {
     "name": "stdout",
     "output_type": "stream",
     "text": [
      "Epoch 843 Loss = 4.427e-06, Acc = 100.00, Loss val = 4.463e-06, Acc val=100.00  \n"
     ]
    },
    {
     "name": "stderr",
     "output_type": "stream",
     "text": [
      " 84%|████████▍ | 845/1000 [40:57<07:13,  2.79s/it]"
     ]
    },
    {
     "name": "stdout",
     "output_type": "stream",
     "text": [
      "Epoch 844 Loss = 4.465e-06, Acc = 100.00, Loss val = 4.461e-06, Acc val=100.00  \n"
     ]
    },
    {
     "name": "stderr",
     "output_type": "stream",
     "text": [
      " 85%|████████▍ | 846/1000 [41:00<07:11,  2.80s/it]"
     ]
    },
    {
     "name": "stdout",
     "output_type": "stream",
     "text": [
      "Epoch 845 Loss = 4.482e-06, Acc = 100.00, Loss val = 4.475e-06, Acc val=100.00  \n"
     ]
    },
    {
     "name": "stderr",
     "output_type": "stream",
     "text": [
      " 85%|████████▍ | 847/1000 [41:02<07:06,  2.79s/it]"
     ]
    },
    {
     "name": "stdout",
     "output_type": "stream",
     "text": [
      "Epoch 846 Loss = 4.476e-06, Acc = 100.00, Loss val = 4.467e-06, Acc val=100.00  \n"
     ]
    },
    {
     "name": "stderr",
     "output_type": "stream",
     "text": [
      " 85%|████████▍ | 848/1000 [41:05<07:04,  2.79s/it]"
     ]
    },
    {
     "name": "stdout",
     "output_type": "stream",
     "text": [
      "Epoch 847 Loss = 4.451e-06, Acc = 100.00, Loss val = 4.360e-06, Acc val=100.00  \n"
     ]
    },
    {
     "name": "stderr",
     "output_type": "stream",
     "text": [
      " 85%|████████▍ | 849/1000 [41:08<07:03,  2.81s/it]"
     ]
    },
    {
     "name": "stdout",
     "output_type": "stream",
     "text": [
      "Epoch 848 Loss = 4.415e-06, Acc = 100.00, Loss val = 4.329e-06, Acc val=100.00  \n"
     ]
    },
    {
     "name": "stderr",
     "output_type": "stream",
     "text": [
      " 85%|████████▌ | 850/1000 [41:11<06:57,  2.78s/it]"
     ]
    },
    {
     "name": "stdout",
     "output_type": "stream",
     "text": [
      "Epoch 849 Loss = 4.361e-06, Acc = 100.00, Loss val = 4.338e-06, Acc val=100.00  \n"
     ]
    },
    {
     "name": "stderr",
     "output_type": "stream",
     "text": [
      " 85%|████████▌ | 851/1000 [41:14<06:54,  2.78s/it]"
     ]
    },
    {
     "name": "stdout",
     "output_type": "stream",
     "text": [
      "Epoch 850 Loss = 4.328e-06, Acc = 100.00, Loss val = 4.288e-06, Acc val=100.00  \n"
     ]
    },
    {
     "name": "stderr",
     "output_type": "stream",
     "text": [
      " 85%|████████▌ | 852/1000 [41:16<06:53,  2.79s/it]"
     ]
    },
    {
     "name": "stdout",
     "output_type": "stream",
     "text": [
      "Epoch 851 Loss = 4.395e-06, Acc = 100.00, Loss val = 4.311e-06, Acc val=100.00  \n"
     ]
    },
    {
     "name": "stderr",
     "output_type": "stream",
     "text": [
      " 85%|████████▌ | 853/1000 [41:19<06:52,  2.81s/it]"
     ]
    },
    {
     "name": "stdout",
     "output_type": "stream",
     "text": [
      "Epoch 852 Loss = 4.306e-06, Acc = 100.00, Loss val = 4.354e-06, Acc val=100.00  \n"
     ]
    },
    {
     "name": "stderr",
     "output_type": "stream",
     "text": [
      " 85%|████████▌ | 854/1000 [41:22<06:50,  2.81s/it]"
     ]
    },
    {
     "name": "stdout",
     "output_type": "stream",
     "text": [
      "Epoch 853 Loss = 4.334e-06, Acc = 100.00, Loss val = 4.386e-06, Acc val=100.00  \n"
     ]
    },
    {
     "name": "stderr",
     "output_type": "stream",
     "text": [
      " 86%|████████▌ | 855/1000 [41:25<06:51,  2.84s/it]"
     ]
    },
    {
     "name": "stdout",
     "output_type": "stream",
     "text": [
      "Epoch 854 Loss = 4.318e-06, Acc = 100.00, Loss val = 4.350e-06, Acc val=100.00  \n"
     ]
    },
    {
     "name": "stderr",
     "output_type": "stream",
     "text": [
      " 86%|████████▌ | 856/1000 [41:28<06:50,  2.85s/it]"
     ]
    },
    {
     "name": "stdout",
     "output_type": "stream",
     "text": [
      "Epoch 855 Loss = 4.301e-06, Acc = 100.00, Loss val = 4.332e-06, Acc val=100.00  \n"
     ]
    },
    {
     "name": "stderr",
     "output_type": "stream",
     "text": [
      " 86%|████████▌ | 857/1000 [41:31<06:47,  2.85s/it]"
     ]
    },
    {
     "name": "stdout",
     "output_type": "stream",
     "text": [
      "Epoch 856 Loss = 4.314e-06, Acc = 100.00, Loss val = 4.345e-06, Acc val=100.00  \n"
     ]
    },
    {
     "name": "stderr",
     "output_type": "stream",
     "text": [
      " 86%|████████▌ | 858/1000 [41:33<06:40,  2.82s/it]"
     ]
    },
    {
     "name": "stdout",
     "output_type": "stream",
     "text": [
      "Epoch 857 Loss = 4.290e-06, Acc = 100.00, Loss val = 4.280e-06, Acc val=100.00  \n"
     ]
    },
    {
     "name": "stderr",
     "output_type": "stream",
     "text": [
      " 86%|████████▌ | 859/1000 [41:36<06:35,  2.81s/it]"
     ]
    },
    {
     "name": "stdout",
     "output_type": "stream",
     "text": [
      "Epoch 858 Loss = 4.312e-06, Acc = 100.00, Loss val = 4.295e-06, Acc val=100.00  \n"
     ]
    },
    {
     "name": "stderr",
     "output_type": "stream",
     "text": [
      " 86%|████████▌ | 860/1000 [41:39<06:34,  2.82s/it]"
     ]
    },
    {
     "name": "stdout",
     "output_type": "stream",
     "text": [
      "Epoch 859 Loss = 4.309e-06, Acc = 100.00, Loss val = 4.372e-06, Acc val=100.00  \n"
     ]
    },
    {
     "name": "stderr",
     "output_type": "stream",
     "text": [
      " 86%|████████▌ | 861/1000 [41:42<06:28,  2.79s/it]"
     ]
    },
    {
     "name": "stdout",
     "output_type": "stream",
     "text": [
      "Epoch 860 Loss = 4.309e-06, Acc = 100.00, Loss val = 4.261e-06, Acc val=100.00  \n"
     ]
    },
    {
     "name": "stderr",
     "output_type": "stream",
     "text": [
      " 86%|████████▌ | 862/1000 [41:45<06:24,  2.79s/it]"
     ]
    },
    {
     "name": "stdout",
     "output_type": "stream",
     "text": [
      "Epoch 861 Loss = 4.295e-06, Acc = 100.00, Loss val = 4.333e-06, Acc val=100.00  \n"
     ]
    },
    {
     "name": "stderr",
     "output_type": "stream",
     "text": [
      " 86%|████████▋ | 863/1000 [41:47<06:22,  2.79s/it]"
     ]
    },
    {
     "name": "stdout",
     "output_type": "stream",
     "text": [
      "Epoch 862 Loss = 4.256e-06, Acc = 100.00, Loss val = 4.265e-06, Acc val=100.00  \n"
     ]
    },
    {
     "name": "stderr",
     "output_type": "stream",
     "text": [
      " 86%|████████▋ | 864/1000 [41:50<06:18,  2.78s/it]"
     ]
    },
    {
     "name": "stdout",
     "output_type": "stream",
     "text": [
      "Epoch 863 Loss = 4.265e-06, Acc = 100.00, Loss val = 4.272e-06, Acc val=100.00  \n"
     ]
    },
    {
     "name": "stderr",
     "output_type": "stream",
     "text": [
      " 86%|████████▋ | 865/1000 [41:53<06:15,  2.78s/it]"
     ]
    },
    {
     "name": "stdout",
     "output_type": "stream",
     "text": [
      "Epoch 864 Loss = 4.232e-06, Acc = 100.00, Loss val = 4.214e-06, Acc val=100.00  \n"
     ]
    },
    {
     "name": "stderr",
     "output_type": "stream",
     "text": [
      " 87%|████████▋ | 866/1000 [41:56<06:11,  2.77s/it]"
     ]
    },
    {
     "name": "stdout",
     "output_type": "stream",
     "text": [
      "Epoch 865 Loss = 4.286e-06, Acc = 100.00, Loss val = 4.211e-06, Acc val=100.00  \n"
     ]
    },
    {
     "name": "stderr",
     "output_type": "stream",
     "text": [
      " 87%|████████▋ | 867/1000 [41:58<06:10,  2.79s/it]"
     ]
    },
    {
     "name": "stdout",
     "output_type": "stream",
     "text": [
      "Epoch 866 Loss = 4.192e-06, Acc = 100.00, Loss val = 4.195e-06, Acc val=100.00  \n"
     ]
    },
    {
     "name": "stderr",
     "output_type": "stream",
     "text": [
      " 87%|████████▋ | 868/1000 [42:01<06:06,  2.78s/it]"
     ]
    },
    {
     "name": "stdout",
     "output_type": "stream",
     "text": [
      "Epoch 867 Loss = 4.261e-06, Acc = 100.00, Loss val = 4.194e-06, Acc val=100.00  \n"
     ]
    },
    {
     "name": "stderr",
     "output_type": "stream",
     "text": [
      " 87%|████████▋ | 869/1000 [42:04<06:05,  2.79s/it]"
     ]
    },
    {
     "name": "stdout",
     "output_type": "stream",
     "text": [
      "Epoch 868 Loss = 4.331e-06, Acc = 100.00, Loss val = 4.185e-06, Acc val=100.00  \n"
     ]
    },
    {
     "name": "stderr",
     "output_type": "stream",
     "text": [
      " 87%|████████▋ | 870/1000 [42:07<06:00,  2.77s/it]"
     ]
    },
    {
     "name": "stdout",
     "output_type": "stream",
     "text": [
      "Epoch 869 Loss = 4.215e-06, Acc = 100.00, Loss val = 4.208e-06, Acc val=100.00  \n"
     ]
    },
    {
     "name": "stderr",
     "output_type": "stream",
     "text": [
      " 87%|████████▋ | 871/1000 [42:10<05:59,  2.78s/it]"
     ]
    },
    {
     "name": "stdout",
     "output_type": "stream",
     "text": [
      "Epoch 870 Loss = 4.175e-06, Acc = 100.00, Loss val = 4.209e-06, Acc val=100.00  \n"
     ]
    },
    {
     "name": "stderr",
     "output_type": "stream",
     "text": [
      " 87%|████████▋ | 872/1000 [42:12<05:56,  2.78s/it]"
     ]
    },
    {
     "name": "stdout",
     "output_type": "stream",
     "text": [
      "Epoch 871 Loss = 4.205e-06, Acc = 100.00, Loss val = 4.141e-06, Acc val=100.00  \n"
     ]
    },
    {
     "name": "stderr",
     "output_type": "stream",
     "text": [
      " 87%|████████▋ | 873/1000 [42:15<05:54,  2.79s/it]"
     ]
    },
    {
     "name": "stdout",
     "output_type": "stream",
     "text": [
      "Epoch 872 Loss = 4.184e-06, Acc = 100.00, Loss val = 4.145e-06, Acc val=100.00  \n"
     ]
    },
    {
     "name": "stderr",
     "output_type": "stream",
     "text": [
      " 87%|████████▋ | 874/1000 [42:18<05:53,  2.80s/it]"
     ]
    },
    {
     "name": "stdout",
     "output_type": "stream",
     "text": [
      "Epoch 873 Loss = 4.153e-06, Acc = 100.00, Loss val = 4.146e-06, Acc val=100.00  \n"
     ]
    },
    {
     "name": "stderr",
     "output_type": "stream",
     "text": [
      " 88%|████████▊ | 875/1000 [42:21<05:47,  2.78s/it]"
     ]
    },
    {
     "name": "stdout",
     "output_type": "stream",
     "text": [
      "Epoch 874 Loss = 4.308e-06, Acc = 100.00, Loss val = 4.170e-06, Acc val=100.00  \n"
     ]
    },
    {
     "name": "stderr",
     "output_type": "stream",
     "text": [
      " 88%|████████▊ | 876/1000 [42:24<05:45,  2.79s/it]"
     ]
    },
    {
     "name": "stdout",
     "output_type": "stream",
     "text": [
      "Epoch 875 Loss = 4.206e-06, Acc = 100.00, Loss val = 4.201e-06, Acc val=100.00  \n"
     ]
    },
    {
     "name": "stderr",
     "output_type": "stream",
     "text": [
      " 88%|████████▊ | 877/1000 [42:26<05:42,  2.78s/it]"
     ]
    },
    {
     "name": "stdout",
     "output_type": "stream",
     "text": [
      "Epoch 876 Loss = 4.232e-06, Acc = 100.00, Loss val = 4.178e-06, Acc val=100.00  \n"
     ]
    },
    {
     "name": "stderr",
     "output_type": "stream",
     "text": [
      " 88%|████████▊ | 878/1000 [42:29<05:40,  2.79s/it]"
     ]
    },
    {
     "name": "stdout",
     "output_type": "stream",
     "text": [
      "Epoch 877 Loss = 4.124e-06, Acc = 100.00, Loss val = 4.132e-06, Acc val=100.00  \n"
     ]
    },
    {
     "name": "stderr",
     "output_type": "stream",
     "text": [
      " 88%|████████▊ | 879/1000 [42:32<05:37,  2.79s/it]"
     ]
    },
    {
     "name": "stdout",
     "output_type": "stream",
     "text": [
      "Epoch 878 Loss = 4.174e-06, Acc = 100.00, Loss val = 4.138e-06, Acc val=100.00  \n"
     ]
    },
    {
     "name": "stderr",
     "output_type": "stream",
     "text": [
      " 88%|████████▊ | 880/1000 [42:35<05:32,  2.77s/it]"
     ]
    },
    {
     "name": "stdout",
     "output_type": "stream",
     "text": [
      "Epoch 879 Loss = 4.126e-06, Acc = 100.00, Loss val = 4.160e-06, Acc val=100.00  \n"
     ]
    },
    {
     "name": "stderr",
     "output_type": "stream",
     "text": [
      " 88%|████████▊ | 881/1000 [42:37<05:31,  2.78s/it]"
     ]
    },
    {
     "name": "stdout",
     "output_type": "stream",
     "text": [
      "Epoch 880 Loss = 4.137e-06, Acc = 100.00, Loss val = 4.116e-06, Acc val=100.00  \n"
     ]
    },
    {
     "name": "stderr",
     "output_type": "stream",
     "text": [
      " 88%|████████▊ | 882/1000 [42:40<05:29,  2.79s/it]"
     ]
    },
    {
     "name": "stdout",
     "output_type": "stream",
     "text": [
      "Epoch 881 Loss = 4.127e-06, Acc = 100.00, Loss val = 4.055e-06, Acc val=100.00  \n"
     ]
    },
    {
     "name": "stderr",
     "output_type": "stream",
     "text": [
      " 88%|████████▊ | 883/1000 [42:43<05:28,  2.81s/it]"
     ]
    },
    {
     "name": "stdout",
     "output_type": "stream",
     "text": [
      "Epoch 882 Loss = 4.137e-06, Acc = 100.00, Loss val = 4.099e-06, Acc val=100.00  \n"
     ]
    },
    {
     "name": "stderr",
     "output_type": "stream",
     "text": [
      " 88%|████████▊ | 884/1000 [42:46<05:25,  2.80s/it]"
     ]
    },
    {
     "name": "stdout",
     "output_type": "stream",
     "text": [
      "Epoch 883 Loss = 4.135e-06, Acc = 100.00, Loss val = 4.068e-06, Acc val=100.00  \n"
     ]
    },
    {
     "name": "stderr",
     "output_type": "stream",
     "text": [
      " 88%|████████▊ | 885/1000 [42:49<05:20,  2.79s/it]"
     ]
    },
    {
     "name": "stdout",
     "output_type": "stream",
     "text": [
      "Epoch 884 Loss = 4.081e-06, Acc = 100.00, Loss val = 4.126e-06, Acc val=100.00  \n"
     ]
    },
    {
     "name": "stderr",
     "output_type": "stream",
     "text": [
      " 89%|████████▊ | 886/1000 [42:51<05:18,  2.79s/it]"
     ]
    },
    {
     "name": "stdout",
     "output_type": "stream",
     "text": [
      "Epoch 885 Loss = 4.099e-06, Acc = 100.00, Loss val = 4.093e-06, Acc val=100.00  \n"
     ]
    },
    {
     "name": "stderr",
     "output_type": "stream",
     "text": [
      " 89%|████████▊ | 887/1000 [42:54<05:15,  2.80s/it]"
     ]
    },
    {
     "name": "stdout",
     "output_type": "stream",
     "text": [
      "Epoch 886 Loss = 4.124e-06, Acc = 100.00, Loss val = 4.104e-06, Acc val=100.00  \n"
     ]
    },
    {
     "name": "stderr",
     "output_type": "stream",
     "text": [
      " 89%|████████▉ | 888/1000 [42:57<05:13,  2.80s/it]"
     ]
    },
    {
     "name": "stdout",
     "output_type": "stream",
     "text": [
      "Epoch 887 Loss = 4.073e-06, Acc = 100.00, Loss val = 4.116e-06, Acc val=100.00  \n"
     ]
    },
    {
     "name": "stderr",
     "output_type": "stream",
     "text": [
      " 89%|████████▉ | 889/1000 [43:00<05:07,  2.77s/it]"
     ]
    },
    {
     "name": "stdout",
     "output_type": "stream",
     "text": [
      "Epoch 888 Loss = 4.146e-06, Acc = 100.00, Loss val = 4.080e-06, Acc val=100.00  \n"
     ]
    },
    {
     "name": "stderr",
     "output_type": "stream",
     "text": [
      " 89%|████████▉ | 890/1000 [43:03<05:05,  2.78s/it]"
     ]
    },
    {
     "name": "stdout",
     "output_type": "stream",
     "text": [
      "Epoch 889 Loss = 4.100e-06, Acc = 100.00, Loss val = 4.038e-06, Acc val=100.00  \n"
     ]
    },
    {
     "name": "stderr",
     "output_type": "stream",
     "text": [
      " 89%|████████▉ | 891/1000 [43:05<05:04,  2.80s/it]"
     ]
    },
    {
     "name": "stdout",
     "output_type": "stream",
     "text": [
      "Epoch 890 Loss = 4.111e-06, Acc = 100.00, Loss val = 4.038e-06, Acc val=100.00  \n"
     ]
    },
    {
     "name": "stderr",
     "output_type": "stream",
     "text": [
      " 89%|████████▉ | 892/1000 [43:08<05:00,  2.78s/it]"
     ]
    },
    {
     "name": "stdout",
     "output_type": "stream",
     "text": [
      "Epoch 891 Loss = 4.031e-06, Acc = 100.00, Loss val = 4.051e-06, Acc val=100.00  \n"
     ]
    },
    {
     "name": "stderr",
     "output_type": "stream",
     "text": [
      " 89%|████████▉ | 893/1000 [43:11<04:56,  2.77s/it]"
     ]
    },
    {
     "name": "stdout",
     "output_type": "stream",
     "text": [
      "Epoch 892 Loss = 4.033e-06, Acc = 100.00, Loss val = 4.011e-06, Acc val=100.00  \n"
     ]
    },
    {
     "name": "stderr",
     "output_type": "stream",
     "text": [
      " 89%|████████▉ | 894/1000 [43:14<04:53,  2.77s/it]"
     ]
    },
    {
     "name": "stdout",
     "output_type": "stream",
     "text": [
      "Epoch 893 Loss = 4.075e-06, Acc = 100.00, Loss val = 4.090e-06, Acc val=100.00  \n"
     ]
    },
    {
     "name": "stderr",
     "output_type": "stream",
     "text": [
      " 90%|████████▉ | 895/1000 [43:16<04:51,  2.77s/it]"
     ]
    },
    {
     "name": "stdout",
     "output_type": "stream",
     "text": [
      "Epoch 894 Loss = 4.008e-06, Acc = 100.00, Loss val = 4.063e-06, Acc val=100.00  \n"
     ]
    },
    {
     "name": "stderr",
     "output_type": "stream",
     "text": [
      " 90%|████████▉ | 896/1000 [43:19<04:48,  2.77s/it]"
     ]
    },
    {
     "name": "stdout",
     "output_type": "stream",
     "text": [
      "Epoch 895 Loss = 4.074e-06, Acc = 100.00, Loss val = 4.042e-06, Acc val=100.00  \n"
     ]
    },
    {
     "name": "stderr",
     "output_type": "stream",
     "text": [
      " 90%|████████▉ | 897/1000 [43:22<04:46,  2.78s/it]"
     ]
    },
    {
     "name": "stdout",
     "output_type": "stream",
     "text": [
      "Epoch 896 Loss = 4.015e-06, Acc = 100.00, Loss val = 4.001e-06, Acc val=100.00  \n"
     ]
    },
    {
     "name": "stderr",
     "output_type": "stream",
     "text": [
      " 90%|████████▉ | 898/1000 [43:25<04:41,  2.76s/it]"
     ]
    },
    {
     "name": "stdout",
     "output_type": "stream",
     "text": [
      "Epoch 897 Loss = 3.975e-06, Acc = 100.00, Loss val = 4.018e-06, Acc val=100.00  \n"
     ]
    },
    {
     "name": "stderr",
     "output_type": "stream",
     "text": [
      " 90%|████████▉ | 899/1000 [43:28<04:40,  2.77s/it]"
     ]
    },
    {
     "name": "stdout",
     "output_type": "stream",
     "text": [
      "Epoch 898 Loss = 3.994e-06, Acc = 100.00, Loss val = 3.975e-06, Acc val=100.00  \n"
     ]
    },
    {
     "name": "stderr",
     "output_type": "stream",
     "text": [
      " 90%|█████████ | 900/1000 [43:30<04:38,  2.78s/it]"
     ]
    },
    {
     "name": "stdout",
     "output_type": "stream",
     "text": [
      "Epoch 899 Loss = 3.957e-06, Acc = 100.00, Loss val = 3.960e-06, Acc val=100.00  \n"
     ]
    },
    {
     "name": "stderr",
     "output_type": "stream",
     "text": [
      " 90%|█████████ | 901/1000 [43:33<04:34,  2.78s/it]"
     ]
    },
    {
     "name": "stdout",
     "output_type": "stream",
     "text": [
      "Epoch 900 Loss = 3.995e-06, Acc = 100.00, Loss val = 3.956e-06, Acc val=100.00  \n"
     ]
    },
    {
     "name": "stderr",
     "output_type": "stream",
     "text": [
      " 90%|█████████ | 902/1000 [43:36<04:31,  2.77s/it]"
     ]
    },
    {
     "name": "stdout",
     "output_type": "stream",
     "text": [
      "Epoch 901 Loss = 3.958e-06, Acc = 100.00, Loss val = 3.960e-06, Acc val=100.00  \n"
     ]
    },
    {
     "name": "stderr",
     "output_type": "stream",
     "text": [
      " 90%|█████████ | 903/1000 [43:39<04:30,  2.79s/it]"
     ]
    },
    {
     "name": "stdout",
     "output_type": "stream",
     "text": [
      "Epoch 902 Loss = 3.950e-06, Acc = 100.00, Loss val = 3.957e-06, Acc val=100.00  \n"
     ]
    },
    {
     "name": "stderr",
     "output_type": "stream",
     "text": [
      " 90%|█████████ | 904/1000 [43:41<04:25,  2.77s/it]"
     ]
    },
    {
     "name": "stdout",
     "output_type": "stream",
     "text": [
      "Epoch 903 Loss = 3.944e-06, Acc = 100.00, Loss val = 3.974e-06, Acc val=100.00  \n"
     ]
    },
    {
     "name": "stderr",
     "output_type": "stream",
     "text": [
      " 90%|█████████ | 905/1000 [43:44<04:24,  2.79s/it]"
     ]
    },
    {
     "name": "stdout",
     "output_type": "stream",
     "text": [
      "Epoch 904 Loss = 3.908e-06, Acc = 100.00, Loss val = 3.945e-06, Acc val=100.00  \n"
     ]
    },
    {
     "name": "stderr",
     "output_type": "stream",
     "text": [
      " 91%|█████████ | 906/1000 [43:47<04:22,  2.79s/it]"
     ]
    },
    {
     "name": "stdout",
     "output_type": "stream",
     "text": [
      "Epoch 905 Loss = 3.929e-06, Acc = 100.00, Loss val = 3.898e-06, Acc val=100.00  \n"
     ]
    },
    {
     "name": "stderr",
     "output_type": "stream",
     "text": [
      " 91%|█████████ | 907/1000 [43:50<04:19,  2.79s/it]"
     ]
    },
    {
     "name": "stdout",
     "output_type": "stream",
     "text": [
      "Epoch 906 Loss = 3.941e-06, Acc = 100.00, Loss val = 3.949e-06, Acc val=100.00  \n"
     ]
    },
    {
     "name": "stderr",
     "output_type": "stream",
     "text": [
      " 91%|█████████ | 908/1000 [43:53<04:17,  2.80s/it]"
     ]
    },
    {
     "name": "stdout",
     "output_type": "stream",
     "text": [
      "Epoch 907 Loss = 3.893e-06, Acc = 100.00, Loss val = 3.911e-06, Acc val=100.00  \n"
     ]
    },
    {
     "name": "stderr",
     "output_type": "stream",
     "text": [
      " 91%|█████████ | 909/1000 [43:55<04:14,  2.80s/it]"
     ]
    },
    {
     "name": "stdout",
     "output_type": "stream",
     "text": [
      "Epoch 908 Loss = 3.853e-06, Acc = 100.00, Loss val = 3.923e-06, Acc val=100.00  \n"
     ]
    },
    {
     "name": "stderr",
     "output_type": "stream",
     "text": [
      " 91%|█████████ | 910/1000 [43:58<04:10,  2.79s/it]"
     ]
    },
    {
     "name": "stdout",
     "output_type": "stream",
     "text": [
      "Epoch 909 Loss = 3.961e-06, Acc = 100.00, Loss val = 3.893e-06, Acc val=100.00  \n"
     ]
    },
    {
     "name": "stderr",
     "output_type": "stream",
     "text": [
      " 91%|█████████ | 911/1000 [44:01<04:07,  2.78s/it]"
     ]
    },
    {
     "name": "stdout",
     "output_type": "stream",
     "text": [
      "Epoch 910 Loss = 3.926e-06, Acc = 100.00, Loss val = 3.864e-06, Acc val=100.00  \n"
     ]
    },
    {
     "name": "stderr",
     "output_type": "stream",
     "text": [
      " 91%|█████████ | 912/1000 [44:04<04:03,  2.77s/it]"
     ]
    },
    {
     "name": "stdout",
     "output_type": "stream",
     "text": [
      "Epoch 911 Loss = 3.890e-06, Acc = 100.00, Loss val = 3.939e-06, Acc val=100.00  \n"
     ]
    },
    {
     "name": "stderr",
     "output_type": "stream",
     "text": [
      " 91%|█████████▏| 913/1000 [44:07<04:02,  2.79s/it]"
     ]
    },
    {
     "name": "stdout",
     "output_type": "stream",
     "text": [
      "Epoch 912 Loss = 3.881e-06, Acc = 100.00, Loss val = 3.902e-06, Acc val=100.00  \n"
     ]
    },
    {
     "name": "stderr",
     "output_type": "stream",
     "text": [
      " 91%|█████████▏| 914/1000 [44:09<04:00,  2.80s/it]"
     ]
    },
    {
     "name": "stdout",
     "output_type": "stream",
     "text": [
      "Epoch 913 Loss = 3.922e-06, Acc = 100.00, Loss val = 3.935e-06, Acc val=100.00  \n"
     ]
    },
    {
     "name": "stderr",
     "output_type": "stream",
     "text": [
      " 92%|█████████▏| 915/1000 [44:12<03:58,  2.80s/it]"
     ]
    },
    {
     "name": "stdout",
     "output_type": "stream",
     "text": [
      "Epoch 914 Loss = 3.850e-06, Acc = 100.00, Loss val = 3.845e-06, Acc val=100.00  \n"
     ]
    },
    {
     "name": "stderr",
     "output_type": "stream",
     "text": [
      " 92%|█████████▏| 916/1000 [44:15<03:55,  2.81s/it]"
     ]
    },
    {
     "name": "stdout",
     "output_type": "stream",
     "text": [
      "Epoch 915 Loss = 3.875e-06, Acc = 100.00, Loss val = 3.862e-06, Acc val=100.00  \n"
     ]
    },
    {
     "name": "stderr",
     "output_type": "stream",
     "text": [
      " 92%|█████████▏| 917/1000 [44:18<03:50,  2.78s/it]"
     ]
    },
    {
     "name": "stdout",
     "output_type": "stream",
     "text": [
      "Epoch 916 Loss = 3.846e-06, Acc = 100.00, Loss val = 3.835e-06, Acc val=100.00  \n"
     ]
    },
    {
     "name": "stderr",
     "output_type": "stream",
     "text": [
      " 92%|█████████▏| 918/1000 [44:20<03:48,  2.78s/it]"
     ]
    },
    {
     "name": "stdout",
     "output_type": "stream",
     "text": [
      "Epoch 917 Loss = 3.871e-06, Acc = 100.00, Loss val = 3.814e-06, Acc val=100.00  \n"
     ]
    },
    {
     "name": "stderr",
     "output_type": "stream",
     "text": [
      " 92%|█████████▏| 919/1000 [44:23<03:46,  2.80s/it]"
     ]
    },
    {
     "name": "stdout",
     "output_type": "stream",
     "text": [
      "Epoch 918 Loss = 3.856e-06, Acc = 100.00, Loss val = 3.868e-06, Acc val=100.00  \n"
     ]
    },
    {
     "name": "stderr",
     "output_type": "stream",
     "text": [
      " 92%|█████████▏| 920/1000 [44:26<03:43,  2.79s/it]"
     ]
    },
    {
     "name": "stdout",
     "output_type": "stream",
     "text": [
      "Epoch 919 Loss = 3.892e-06, Acc = 100.00, Loss val = 3.827e-06, Acc val=100.00  \n"
     ]
    },
    {
     "name": "stderr",
     "output_type": "stream",
     "text": [
      " 92%|█████████▏| 921/1000 [44:29<03:39,  2.78s/it]"
     ]
    },
    {
     "name": "stdout",
     "output_type": "stream",
     "text": [
      "Epoch 920 Loss = 3.884e-06, Acc = 100.00, Loss val = 3.916e-06, Acc val=100.00  \n"
     ]
    },
    {
     "name": "stderr",
     "output_type": "stream",
     "text": [
      " 92%|█████████▏| 922/1000 [44:32<03:35,  2.77s/it]"
     ]
    },
    {
     "name": "stdout",
     "output_type": "stream",
     "text": [
      "Epoch 921 Loss = 3.848e-06, Acc = 100.00, Loss val = 3.825e-06, Acc val=100.00  \n"
     ]
    },
    {
     "name": "stderr",
     "output_type": "stream",
     "text": [
      " 92%|█████████▏| 923/1000 [44:34<03:34,  2.79s/it]"
     ]
    },
    {
     "name": "stdout",
     "output_type": "stream",
     "text": [
      "Epoch 922 Loss = 3.879e-06, Acc = 100.00, Loss val = 3.813e-06, Acc val=100.00  \n"
     ]
    },
    {
     "name": "stderr",
     "output_type": "stream",
     "text": [
      " 92%|█████████▏| 924/1000 [44:37<03:31,  2.78s/it]"
     ]
    },
    {
     "name": "stdout",
     "output_type": "stream",
     "text": [
      "Epoch 923 Loss = 3.875e-06, Acc = 100.00, Loss val = 3.849e-06, Acc val=100.00  \n"
     ]
    },
    {
     "name": "stderr",
     "output_type": "stream",
     "text": [
      " 92%|█████████▎| 925/1000 [44:40<03:30,  2.80s/it]"
     ]
    },
    {
     "name": "stdout",
     "output_type": "stream",
     "text": [
      "Epoch 924 Loss = 3.801e-06, Acc = 100.00, Loss val = 3.815e-06, Acc val=100.00  \n"
     ]
    },
    {
     "name": "stderr",
     "output_type": "stream",
     "text": [
      " 93%|█████████▎| 926/1000 [44:43<03:24,  2.77s/it]"
     ]
    },
    {
     "name": "stdout",
     "output_type": "stream",
     "text": [
      "Epoch 925 Loss = 3.820e-06, Acc = 100.00, Loss val = 3.817e-06, Acc val=100.00  \n"
     ]
    },
    {
     "name": "stderr",
     "output_type": "stream",
     "text": [
      " 93%|█████████▎| 927/1000 [44:45<03:21,  2.76s/it]"
     ]
    },
    {
     "name": "stdout",
     "output_type": "stream",
     "text": [
      "Epoch 926 Loss = 3.836e-06, Acc = 100.00, Loss val = 3.765e-06, Acc val=100.00  \n"
     ]
    },
    {
     "name": "stderr",
     "output_type": "stream",
     "text": [
      " 93%|█████████▎| 928/1000 [44:48<03:19,  2.77s/it]"
     ]
    },
    {
     "name": "stdout",
     "output_type": "stream",
     "text": [
      "Epoch 927 Loss = 3.804e-06, Acc = 100.00, Loss val = 3.753e-06, Acc val=100.00  \n"
     ]
    },
    {
     "name": "stderr",
     "output_type": "stream",
     "text": [
      " 93%|█████████▎| 929/1000 [44:51<03:16,  2.77s/it]"
     ]
    },
    {
     "name": "stdout",
     "output_type": "stream",
     "text": [
      "Epoch 928 Loss = 3.847e-06, Acc = 100.00, Loss val = 3.764e-06, Acc val=100.00  \n"
     ]
    },
    {
     "name": "stderr",
     "output_type": "stream",
     "text": [
      " 93%|█████████▎| 930/1000 [44:54<03:14,  2.78s/it]"
     ]
    },
    {
     "name": "stdout",
     "output_type": "stream",
     "text": [
      "Epoch 929 Loss = 3.828e-06, Acc = 100.00, Loss val = 3.774e-06, Acc val=100.00  \n"
     ]
    },
    {
     "name": "stderr",
     "output_type": "stream",
     "text": [
      " 93%|█████████▎| 931/1000 [44:57<03:13,  2.80s/it]"
     ]
    },
    {
     "name": "stdout",
     "output_type": "stream",
     "text": [
      "Epoch 930 Loss = 3.732e-06, Acc = 100.00, Loss val = 3.796e-06, Acc val=100.00  \n"
     ]
    },
    {
     "name": "stderr",
     "output_type": "stream",
     "text": [
      " 93%|█████████▎| 932/1000 [45:00<03:10,  2.81s/it]"
     ]
    },
    {
     "name": "stdout",
     "output_type": "stream",
     "text": [
      "Epoch 931 Loss = 3.791e-06, Acc = 100.00, Loss val = 3.790e-06, Acc val=100.00  \n"
     ]
    },
    {
     "name": "stderr",
     "output_type": "stream",
     "text": [
      " 93%|█████████▎| 933/1000 [45:02<03:08,  2.81s/it]"
     ]
    },
    {
     "name": "stdout",
     "output_type": "stream",
     "text": [
      "Epoch 932 Loss = 3.742e-06, Acc = 100.00, Loss val = 3.706e-06, Acc val=100.00  \n"
     ]
    },
    {
     "name": "stderr",
     "output_type": "stream",
     "text": [
      " 93%|█████████▎| 934/1000 [45:05<03:05,  2.81s/it]"
     ]
    },
    {
     "name": "stdout",
     "output_type": "stream",
     "text": [
      "Epoch 933 Loss = 3.779e-06, Acc = 100.00, Loss val = 3.712e-06, Acc val=100.00  \n"
     ]
    },
    {
     "name": "stderr",
     "output_type": "stream",
     "text": [
      " 94%|█████████▎| 935/1000 [45:08<03:02,  2.81s/it]"
     ]
    },
    {
     "name": "stdout",
     "output_type": "stream",
     "text": [
      "Epoch 934 Loss = 3.777e-06, Acc = 100.00, Loss val = 3.751e-06, Acc val=100.00  \n"
     ]
    },
    {
     "name": "stderr",
     "output_type": "stream",
     "text": [
      " 94%|█████████▎| 936/1000 [45:11<02:59,  2.81s/it]"
     ]
    },
    {
     "name": "stdout",
     "output_type": "stream",
     "text": [
      "Epoch 935 Loss = 3.703e-06, Acc = 100.00, Loss val = 3.705e-06, Acc val=100.00  \n"
     ]
    },
    {
     "name": "stderr",
     "output_type": "stream",
     "text": [
      " 94%|█████████▎| 937/1000 [45:14<02:56,  2.80s/it]"
     ]
    },
    {
     "name": "stdout",
     "output_type": "stream",
     "text": [
      "Epoch 936 Loss = 3.771e-06, Acc = 100.00, Loss val = 3.721e-06, Acc val=100.00  \n"
     ]
    },
    {
     "name": "stderr",
     "output_type": "stream",
     "text": [
      " 94%|█████████▍| 938/1000 [45:16<02:54,  2.81s/it]"
     ]
    },
    {
     "name": "stdout",
     "output_type": "stream",
     "text": [
      "Epoch 937 Loss = 3.694e-06, Acc = 100.00, Loss val = 3.674e-06, Acc val=100.00  \n"
     ]
    },
    {
     "name": "stderr",
     "output_type": "stream",
     "text": [
      " 94%|█████████▍| 939/1000 [45:19<02:50,  2.80s/it]"
     ]
    },
    {
     "name": "stdout",
     "output_type": "stream",
     "text": [
      "Epoch 938 Loss = 3.693e-06, Acc = 100.00, Loss val = 3.689e-06, Acc val=100.00  \n"
     ]
    },
    {
     "name": "stderr",
     "output_type": "stream",
     "text": [
      " 94%|█████████▍| 940/1000 [45:22<02:47,  2.80s/it]"
     ]
    },
    {
     "name": "stdout",
     "output_type": "stream",
     "text": [
      "Epoch 939 Loss = 3.695e-06, Acc = 100.00, Loss val = 3.691e-06, Acc val=100.00  \n"
     ]
    },
    {
     "name": "stderr",
     "output_type": "stream",
     "text": [
      " 94%|█████████▍| 941/1000 [45:25<02:44,  2.79s/it]"
     ]
    },
    {
     "name": "stdout",
     "output_type": "stream",
     "text": [
      "Epoch 940 Loss = 3.688e-06, Acc = 100.00, Loss val = 3.734e-06, Acc val=100.00  \n"
     ]
    },
    {
     "name": "stderr",
     "output_type": "stream",
     "text": [
      " 94%|█████████▍| 942/1000 [45:27<02:41,  2.79s/it]"
     ]
    },
    {
     "name": "stdout",
     "output_type": "stream",
     "text": [
      "Epoch 941 Loss = 3.699e-06, Acc = 100.00, Loss val = 3.694e-06, Acc val=100.00  \n"
     ]
    },
    {
     "name": "stderr",
     "output_type": "stream",
     "text": [
      " 94%|█████████▍| 943/1000 [45:30<02:38,  2.78s/it]"
     ]
    },
    {
     "name": "stdout",
     "output_type": "stream",
     "text": [
      "Epoch 942 Loss = 3.708e-06, Acc = 100.00, Loss val = 3.686e-06, Acc val=100.00  \n"
     ]
    },
    {
     "name": "stderr",
     "output_type": "stream",
     "text": [
      " 94%|█████████▍| 944/1000 [45:33<02:36,  2.80s/it]"
     ]
    },
    {
     "name": "stdout",
     "output_type": "stream",
     "text": [
      "Epoch 943 Loss = 3.724e-06, Acc = 100.00, Loss val = 3.677e-06, Acc val=100.00  \n"
     ]
    },
    {
     "name": "stderr",
     "output_type": "stream",
     "text": [
      " 94%|█████████▍| 945/1000 [45:36<02:33,  2.79s/it]"
     ]
    },
    {
     "name": "stdout",
     "output_type": "stream",
     "text": [
      "Epoch 944 Loss = 3.690e-06, Acc = 100.00, Loss val = 3.673e-06, Acc val=100.00  \n"
     ]
    },
    {
     "name": "stderr",
     "output_type": "stream",
     "text": [
      " 95%|█████████▍| 946/1000 [45:39<02:30,  2.78s/it]"
     ]
    },
    {
     "name": "stdout",
     "output_type": "stream",
     "text": [
      "Epoch 945 Loss = 3.703e-06, Acc = 100.00, Loss val = 3.723e-06, Acc val=100.00  \n"
     ]
    },
    {
     "name": "stderr",
     "output_type": "stream",
     "text": [
      " 95%|█████████▍| 947/1000 [45:41<02:27,  2.78s/it]"
     ]
    },
    {
     "name": "stdout",
     "output_type": "stream",
     "text": [
      "Epoch 946 Loss = 3.734e-06, Acc = 100.00, Loss val = 3.679e-06, Acc val=100.00  \n"
     ]
    },
    {
     "name": "stderr",
     "output_type": "stream",
     "text": [
      " 95%|█████████▍| 948/1000 [45:44<02:25,  2.79s/it]"
     ]
    },
    {
     "name": "stdout",
     "output_type": "stream",
     "text": [
      "Epoch 947 Loss = 3.642e-06, Acc = 100.00, Loss val = 3.660e-06, Acc val=100.00  \n"
     ]
    },
    {
     "name": "stderr",
     "output_type": "stream",
     "text": [
      " 95%|█████████▍| 949/1000 [45:47<02:22,  2.80s/it]"
     ]
    },
    {
     "name": "stdout",
     "output_type": "stream",
     "text": [
      "Epoch 948 Loss = 3.609e-06, Acc = 100.00, Loss val = 3.668e-06, Acc val=100.00  \n"
     ]
    },
    {
     "name": "stderr",
     "output_type": "stream",
     "text": [
      " 95%|█████████▌| 950/1000 [45:50<02:20,  2.81s/it]"
     ]
    },
    {
     "name": "stdout",
     "output_type": "stream",
     "text": [
      "Epoch 949 Loss = 3.705e-06, Acc = 100.00, Loss val = 3.601e-06, Acc val=100.00  \n"
     ]
    },
    {
     "name": "stderr",
     "output_type": "stream",
     "text": [
      " 95%|█████████▌| 951/1000 [45:53<02:16,  2.79s/it]"
     ]
    },
    {
     "name": "stdout",
     "output_type": "stream",
     "text": [
      "Epoch 950 Loss = 3.666e-06, Acc = 100.00, Loss val = 3.684e-06, Acc val=100.00  \n"
     ]
    },
    {
     "name": "stderr",
     "output_type": "stream",
     "text": [
      " 95%|█████████▌| 952/1000 [45:55<02:14,  2.81s/it]"
     ]
    },
    {
     "name": "stdout",
     "output_type": "stream",
     "text": [
      "Epoch 951 Loss = 3.672e-06, Acc = 100.00, Loss val = 3.566e-06, Acc val=100.00  \n"
     ]
    },
    {
     "name": "stderr",
     "output_type": "stream",
     "text": [
      " 95%|█████████▌| 953/1000 [45:58<02:11,  2.80s/it]"
     ]
    },
    {
     "name": "stdout",
     "output_type": "stream",
     "text": [
      "Epoch 952 Loss = 3.585e-06, Acc = 100.00, Loss val = 3.577e-06, Acc val=100.00  \n"
     ]
    },
    {
     "name": "stderr",
     "output_type": "stream",
     "text": [
      " 95%|█████████▌| 954/1000 [46:01<02:08,  2.80s/it]"
     ]
    },
    {
     "name": "stdout",
     "output_type": "stream",
     "text": [
      "Epoch 953 Loss = 3.584e-06, Acc = 100.00, Loss val = 3.602e-06, Acc val=100.00  \n"
     ]
    },
    {
     "name": "stderr",
     "output_type": "stream",
     "text": [
      " 96%|█████████▌| 955/1000 [46:04<02:05,  2.79s/it]"
     ]
    },
    {
     "name": "stdout",
     "output_type": "stream",
     "text": [
      "Epoch 954 Loss = 3.655e-06, Acc = 100.00, Loss val = 3.643e-06, Acc val=100.00  \n"
     ]
    },
    {
     "name": "stderr",
     "output_type": "stream",
     "text": [
      " 96%|█████████▌| 956/1000 [46:07<02:02,  2.78s/it]"
     ]
    },
    {
     "name": "stdout",
     "output_type": "stream",
     "text": [
      "Epoch 955 Loss = 3.622e-06, Acc = 100.00, Loss val = 3.602e-06, Acc val=100.00  \n"
     ]
    },
    {
     "name": "stderr",
     "output_type": "stream",
     "text": [
      " 96%|█████████▌| 957/1000 [46:09<01:59,  2.78s/it]"
     ]
    },
    {
     "name": "stdout",
     "output_type": "stream",
     "text": [
      "Epoch 956 Loss = 3.613e-06, Acc = 100.00, Loss val = 3.602e-06, Acc val=100.00  \n"
     ]
    },
    {
     "name": "stderr",
     "output_type": "stream",
     "text": [
      " 96%|█████████▌| 958/1000 [46:12<01:56,  2.78s/it]"
     ]
    },
    {
     "name": "stdout",
     "output_type": "stream",
     "text": [
      "Epoch 957 Loss = 3.606e-06, Acc = 100.00, Loss val = 3.578e-06, Acc val=100.00  \n"
     ]
    },
    {
     "name": "stderr",
     "output_type": "stream",
     "text": [
      " 96%|█████████▌| 959/1000 [46:15<01:53,  2.78s/it]"
     ]
    },
    {
     "name": "stdout",
     "output_type": "stream",
     "text": [
      "Epoch 958 Loss = 3.634e-06, Acc = 100.00, Loss val = 3.586e-06, Acc val=100.00  \n"
     ]
    },
    {
     "name": "stderr",
     "output_type": "stream",
     "text": [
      " 96%|█████████▌| 960/1000 [46:18<01:50,  2.77s/it]"
     ]
    },
    {
     "name": "stdout",
     "output_type": "stream",
     "text": [
      "Epoch 959 Loss = 3.613e-06, Acc = 100.00, Loss val = 3.586e-06, Acc val=100.00  \n"
     ]
    },
    {
     "name": "stderr",
     "output_type": "stream",
     "text": [
      " 96%|█████████▌| 961/1000 [46:20<01:48,  2.79s/it]"
     ]
    },
    {
     "name": "stdout",
     "output_type": "stream",
     "text": [
      "Epoch 960 Loss = 3.595e-06, Acc = 100.00, Loss val = 3.568e-06, Acc val=100.00  \n"
     ]
    },
    {
     "name": "stderr",
     "output_type": "stream",
     "text": [
      " 96%|█████████▌| 962/1000 [46:23<01:46,  2.79s/it]"
     ]
    },
    {
     "name": "stdout",
     "output_type": "stream",
     "text": [
      "Epoch 961 Loss = 3.535e-06, Acc = 100.00, Loss val = 3.501e-06, Acc val=100.00  \n"
     ]
    },
    {
     "name": "stderr",
     "output_type": "stream",
     "text": [
      " 96%|█████████▋| 963/1000 [46:26<01:43,  2.79s/it]"
     ]
    },
    {
     "name": "stdout",
     "output_type": "stream",
     "text": [
      "Epoch 962 Loss = 3.640e-06, Acc = 100.00, Loss val = 3.573e-06, Acc val=100.00  \n"
     ]
    },
    {
     "name": "stderr",
     "output_type": "stream",
     "text": [
      " 96%|█████████▋| 964/1000 [46:29<01:40,  2.80s/it]"
     ]
    },
    {
     "name": "stdout",
     "output_type": "stream",
     "text": [
      "Epoch 963 Loss = 3.526e-06, Acc = 100.00, Loss val = 3.524e-06, Acc val=100.00  \n"
     ]
    },
    {
     "name": "stderr",
     "output_type": "stream",
     "text": [
      " 96%|█████████▋| 965/1000 [46:32<01:37,  2.79s/it]"
     ]
    },
    {
     "name": "stdout",
     "output_type": "stream",
     "text": [
      "Epoch 964 Loss = 3.547e-06, Acc = 100.00, Loss val = 3.499e-06, Acc val=100.00  \n"
     ]
    },
    {
     "name": "stderr",
     "output_type": "stream",
     "text": [
      " 97%|█████████▋| 966/1000 [46:34<01:34,  2.78s/it]"
     ]
    },
    {
     "name": "stdout",
     "output_type": "stream",
     "text": [
      "Epoch 965 Loss = 3.584e-06, Acc = 100.00, Loss val = 3.550e-06, Acc val=100.00  \n"
     ]
    },
    {
     "name": "stderr",
     "output_type": "stream",
     "text": [
      " 97%|█████████▋| 967/1000 [46:37<01:31,  2.78s/it]"
     ]
    },
    {
     "name": "stdout",
     "output_type": "stream",
     "text": [
      "Epoch 966 Loss = 3.567e-06, Acc = 100.00, Loss val = 3.519e-06, Acc val=100.00  \n"
     ]
    },
    {
     "name": "stderr",
     "output_type": "stream",
     "text": [
      " 97%|█████████▋| 968/1000 [46:40<01:29,  2.80s/it]"
     ]
    },
    {
     "name": "stdout",
     "output_type": "stream",
     "text": [
      "Epoch 967 Loss = 3.550e-06, Acc = 100.00, Loss val = 3.509e-06, Acc val=100.00  \n"
     ]
    },
    {
     "name": "stderr",
     "output_type": "stream",
     "text": [
      " 97%|█████████▋| 969/1000 [46:43<01:26,  2.79s/it]"
     ]
    },
    {
     "name": "stdout",
     "output_type": "stream",
     "text": [
      "Epoch 968 Loss = 3.562e-06, Acc = 100.00, Loss val = 3.518e-06, Acc val=100.00  \n"
     ]
    },
    {
     "name": "stderr",
     "output_type": "stream",
     "text": [
      " 97%|█████████▋| 970/1000 [46:46<01:23,  2.79s/it]"
     ]
    },
    {
     "name": "stdout",
     "output_type": "stream",
     "text": [
      "Epoch 969 Loss = 3.516e-06, Acc = 100.00, Loss val = 3.541e-06, Acc val=100.00  \n"
     ]
    },
    {
     "name": "stderr",
     "output_type": "stream",
     "text": [
      " 97%|█████████▋| 971/1000 [46:48<01:20,  2.78s/it]"
     ]
    },
    {
     "name": "stdout",
     "output_type": "stream",
     "text": [
      "Epoch 970 Loss = 3.491e-06, Acc = 100.00, Loss val = 3.479e-06, Acc val=100.00  \n"
     ]
    },
    {
     "name": "stderr",
     "output_type": "stream",
     "text": [
      " 97%|█████████▋| 972/1000 [46:51<01:18,  2.80s/it]"
     ]
    },
    {
     "name": "stdout",
     "output_type": "stream",
     "text": [
      "Epoch 971 Loss = 3.560e-06, Acc = 100.00, Loss val = 3.487e-06, Acc val=100.00  \n"
     ]
    },
    {
     "name": "stderr",
     "output_type": "stream",
     "text": [
      " 97%|█████████▋| 973/1000 [46:54<01:15,  2.81s/it]"
     ]
    },
    {
     "name": "stdout",
     "output_type": "stream",
     "text": [
      "Epoch 972 Loss = 3.437e-06, Acc = 100.00, Loss val = 3.443e-06, Acc val=100.00  \n"
     ]
    },
    {
     "name": "stderr",
     "output_type": "stream",
     "text": [
      " 97%|█████████▋| 974/1000 [46:57<01:13,  2.81s/it]"
     ]
    },
    {
     "name": "stdout",
     "output_type": "stream",
     "text": [
      "Epoch 973 Loss = 3.494e-06, Acc = 100.00, Loss val = 3.490e-06, Acc val=100.00  \n"
     ]
    },
    {
     "name": "stderr",
     "output_type": "stream",
     "text": [
      " 98%|█████████▊| 975/1000 [47:00<01:09,  2.80s/it]"
     ]
    },
    {
     "name": "stdout",
     "output_type": "stream",
     "text": [
      "Epoch 974 Loss = 3.521e-06, Acc = 100.00, Loss val = 3.485e-06, Acc val=100.00  \n"
     ]
    },
    {
     "name": "stderr",
     "output_type": "stream",
     "text": [
      " 98%|█████████▊| 976/1000 [47:02<01:07,  2.79s/it]"
     ]
    },
    {
     "name": "stdout",
     "output_type": "stream",
     "text": [
      "Epoch 975 Loss = 3.438e-06, Acc = 100.00, Loss val = 3.473e-06, Acc val=100.00  \n"
     ]
    },
    {
     "name": "stderr",
     "output_type": "stream",
     "text": [
      " 98%|█████████▊| 977/1000 [47:05<01:03,  2.78s/it]"
     ]
    },
    {
     "name": "stdout",
     "output_type": "stream",
     "text": [
      "Epoch 976 Loss = 3.505e-06, Acc = 100.00, Loss val = 3.497e-06, Acc val=100.00  \n"
     ]
    },
    {
     "name": "stderr",
     "output_type": "stream",
     "text": [
      " 98%|█████████▊| 978/1000 [47:08<01:01,  2.78s/it]"
     ]
    },
    {
     "name": "stdout",
     "output_type": "stream",
     "text": [
      "Epoch 977 Loss = 3.469e-06, Acc = 100.00, Loss val = 3.461e-06, Acc val=100.00  \n"
     ]
    },
    {
     "name": "stderr",
     "output_type": "stream",
     "text": [
      " 98%|█████████▊| 979/1000 [47:11<00:57,  2.76s/it]"
     ]
    },
    {
     "name": "stdout",
     "output_type": "stream",
     "text": [
      "Epoch 978 Loss = 3.464e-06, Acc = 100.00, Loss val = 3.441e-06, Acc val=100.00  \n"
     ]
    },
    {
     "name": "stderr",
     "output_type": "stream",
     "text": [
      " 98%|█████████▊| 980/1000 [47:13<00:55,  2.76s/it]"
     ]
    },
    {
     "name": "stdout",
     "output_type": "stream",
     "text": [
      "Epoch 979 Loss = 3.485e-06, Acc = 100.00, Loss val = 3.446e-06, Acc val=100.00  \n"
     ]
    },
    {
     "name": "stderr",
     "output_type": "stream",
     "text": [
      " 98%|█████████▊| 981/1000 [47:16<00:52,  2.78s/it]"
     ]
    },
    {
     "name": "stdout",
     "output_type": "stream",
     "text": [
      "Epoch 980 Loss = 3.431e-06, Acc = 100.00, Loss val = 3.462e-06, Acc val=100.00  \n"
     ]
    },
    {
     "name": "stderr",
     "output_type": "stream",
     "text": [
      " 98%|█████████▊| 982/1000 [47:19<00:50,  2.80s/it]"
     ]
    },
    {
     "name": "stdout",
     "output_type": "stream",
     "text": [
      "Epoch 981 Loss = 3.457e-06, Acc = 100.00, Loss val = 3.475e-06, Acc val=100.00  \n"
     ]
    },
    {
     "name": "stderr",
     "output_type": "stream",
     "text": [
      " 98%|█████████▊| 983/1000 [47:22<00:47,  2.79s/it]"
     ]
    },
    {
     "name": "stdout",
     "output_type": "stream",
     "text": [
      "Epoch 982 Loss = 3.431e-06, Acc = 100.00, Loss val = 3.417e-06, Acc val=100.00  \n"
     ]
    },
    {
     "name": "stderr",
     "output_type": "stream",
     "text": [
      " 98%|█████████▊| 984/1000 [47:25<00:44,  2.77s/it]"
     ]
    },
    {
     "name": "stdout",
     "output_type": "stream",
     "text": [
      "Epoch 983 Loss = 3.466e-06, Acc = 100.00, Loss val = 3.413e-06, Acc val=100.00  \n"
     ]
    },
    {
     "name": "stderr",
     "output_type": "stream",
     "text": [
      " 98%|█████████▊| 985/1000 [47:27<00:41,  2.77s/it]"
     ]
    },
    {
     "name": "stdout",
     "output_type": "stream",
     "text": [
      "Epoch 984 Loss = 3.448e-06, Acc = 100.00, Loss val = 3.386e-06, Acc val=100.00  \n"
     ]
    },
    {
     "name": "stderr",
     "output_type": "stream",
     "text": [
      " 99%|█████████▊| 986/1000 [47:30<00:39,  2.79s/it]"
     ]
    },
    {
     "name": "stdout",
     "output_type": "stream",
     "text": [
      "Epoch 985 Loss = 3.379e-06, Acc = 100.00, Loss val = 3.428e-06, Acc val=100.00  \n"
     ]
    },
    {
     "name": "stderr",
     "output_type": "stream",
     "text": [
      " 99%|█████████▊| 987/1000 [47:33<00:36,  2.79s/it]"
     ]
    },
    {
     "name": "stdout",
     "output_type": "stream",
     "text": [
      "Epoch 986 Loss = 3.403e-06, Acc = 100.00, Loss val = 3.391e-06, Acc val=100.00  \n"
     ]
    },
    {
     "name": "stderr",
     "output_type": "stream",
     "text": [
      " 99%|█████████▉| 988/1000 [47:36<00:33,  2.76s/it]"
     ]
    },
    {
     "name": "stdout",
     "output_type": "stream",
     "text": [
      "Epoch 987 Loss = 3.471e-06, Acc = 100.00, Loss val = 3.413e-06, Acc val=100.00  \n"
     ]
    },
    {
     "name": "stderr",
     "output_type": "stream",
     "text": [
      " 99%|█████████▉| 989/1000 [47:38<00:30,  2.76s/it]"
     ]
    },
    {
     "name": "stdout",
     "output_type": "stream",
     "text": [
      "Epoch 988 Loss = 3.461e-06, Acc = 100.00, Loss val = 3.397e-06, Acc val=100.00  \n"
     ]
    },
    {
     "name": "stderr",
     "output_type": "stream",
     "text": [
      " 99%|█████████▉| 990/1000 [47:41<00:27,  2.77s/it]"
     ]
    },
    {
     "name": "stdout",
     "output_type": "stream",
     "text": [
      "Epoch 989 Loss = 3.376e-06, Acc = 100.00, Loss val = 3.382e-06, Acc val=100.00  \n"
     ]
    },
    {
     "name": "stderr",
     "output_type": "stream",
     "text": [
      " 99%|█████████▉| 991/1000 [47:44<00:24,  2.77s/it]"
     ]
    },
    {
     "name": "stdout",
     "output_type": "stream",
     "text": [
      "Epoch 990 Loss = 3.371e-06, Acc = 100.00, Loss val = 3.434e-06, Acc val=100.00  \n"
     ]
    },
    {
     "name": "stderr",
     "output_type": "stream",
     "text": [
      " 99%|█████████▉| 992/1000 [47:47<00:22,  2.76s/it]"
     ]
    },
    {
     "name": "stdout",
     "output_type": "stream",
     "text": [
      "Epoch 991 Loss = 3.381e-06, Acc = 100.00, Loss val = 3.348e-06, Acc val=100.00  \n"
     ]
    },
    {
     "name": "stderr",
     "output_type": "stream",
     "text": [
      " 99%|█████████▉| 993/1000 [47:50<00:19,  2.78s/it]"
     ]
    },
    {
     "name": "stdout",
     "output_type": "stream",
     "text": [
      "Epoch 992 Loss = 3.341e-06, Acc = 100.00, Loss val = 3.384e-06, Acc val=100.00  \n"
     ]
    },
    {
     "name": "stderr",
     "output_type": "stream",
     "text": [
      " 99%|█████████▉| 994/1000 [47:52<00:16,  2.78s/it]"
     ]
    },
    {
     "name": "stdout",
     "output_type": "stream",
     "text": [
      "Epoch 993 Loss = 3.357e-06, Acc = 100.00, Loss val = 3.413e-06, Acc val=100.00  \n"
     ]
    },
    {
     "name": "stderr",
     "output_type": "stream",
     "text": [
      "100%|█████████▉| 995/1000 [47:55<00:13,  2.78s/it]"
     ]
    },
    {
     "name": "stdout",
     "output_type": "stream",
     "text": [
      "Epoch 994 Loss = 3.382e-06, Acc = 100.00, Loss val = 3.360e-06, Acc val=100.00  \n"
     ]
    },
    {
     "name": "stderr",
     "output_type": "stream",
     "text": [
      "100%|█████████▉| 996/1000 [47:58<00:11,  2.78s/it]"
     ]
    },
    {
     "name": "stdout",
     "output_type": "stream",
     "text": [
      "Epoch 995 Loss = 3.365e-06, Acc = 100.00, Loss val = 3.369e-06, Acc val=100.00  \n"
     ]
    },
    {
     "name": "stderr",
     "output_type": "stream",
     "text": [
      "100%|█████████▉| 997/1000 [48:01<00:08,  2.79s/it]"
     ]
    },
    {
     "name": "stdout",
     "output_type": "stream",
     "text": [
      "Epoch 996 Loss = 3.392e-06, Acc = 100.00, Loss val = 3.345e-06, Acc val=100.00  \n"
     ]
    },
    {
     "name": "stderr",
     "output_type": "stream",
     "text": [
      "100%|█████████▉| 998/1000 [48:03<00:05,  2.78s/it]"
     ]
    },
    {
     "name": "stdout",
     "output_type": "stream",
     "text": [
      "Epoch 997 Loss = 3.374e-06, Acc = 100.00, Loss val = 3.358e-06, Acc val=100.00  \n"
     ]
    },
    {
     "name": "stderr",
     "output_type": "stream",
     "text": [
      "100%|█████████▉| 999/1000 [48:06<00:02,  2.79s/it]"
     ]
    },
    {
     "name": "stdout",
     "output_type": "stream",
     "text": [
      "Epoch 998 Loss = 3.341e-06, Acc = 100.00, Loss val = 3.386e-06, Acc val=100.00  \n"
     ]
    },
    {
     "name": "stderr",
     "output_type": "stream",
     "text": [
      "100%|██████████| 1000/1000 [48:09<00:00,  2.89s/it]\n"
     ]
    },
    {
     "name": "stdout",
     "output_type": "stream",
     "text": [
      "Epoch 999 Loss = 3.299e-06, Acc = 100.00, Loss val = 3.326e-06, Acc val=100.00  \n"
     ]
    },
    {
     "data": {
      "image/png": "[encoded data removed]",
      "text/plain": [
       "<Figure size 223.2x216 with 1 Axes>"
      ]
     },
     "metadata": {
      "needs_background": "light"
     },
     "output_type": "display_data"
    },
    {
     "data": {
      "image/png": "[encoded data removed]",
      "text/plain": [
       "<Figure size 216x216 with 1 Axes>"
      ]
     },
     "metadata": {
      "needs_background": "light"
     },
     "output_type": "display_data"
    }
   ],
   "source": [
    "model = voronoi_main()"
   ]
  },
  {
   "cell_type": "code",
   "execution_count": 3,
   "metadata": {},
   "outputs": [
    {
     "name": "stdout",
     "output_type": "stream",
     "text": [
      "<models.gnn_ca_simple.GNNCASimple object at 0x000001D99948CA60>\n"
     ]
    }
   ],
   "source": [
    "print(model)"
   ]
  },
  {
   "cell_type": "code",
   "execution_count": 42,
   "metadata": {
    "pycharm": {
     "name": "#%%\n"
    }
   },
   "outputs": [
    {
     "data": {
      "application/javascript": [
       "/* Put everything inside the global mpl namespace */\n",
       "/* global mpl */\n",
       "window.mpl = {};\n",
       "\n",
       "mpl.get_websocket_type = function () {\n",
       "    if (typeof WebSocket !== 'undefined') {\n",
       "        return WebSocket;\n",
       "    } else if (typeof MozWebSocket !== 'undefined') {\n",
       "        return MozWebSocket;\n",
       "    } else {\n",
       "        alert(\n",
       "            'Your browser does not have WebSocket support. ' +\n",
       "                'Please try Chrome, Safari or Firefox ≥ 6. ' +\n",
       "                'Firefox 4 and 5 are also supported but you ' +\n",
       "                'have to enable WebSockets in about:config.'\n",
       "        );\n",
       "    }\n",
       "};\n",
       "\n",
       "mpl.figure = function (figure_id, websocket, ondownload, parent_element) {\n",
       "    this.id = figure_id;\n",
       "\n",
       "    this.ws = websocket;\n",
       "\n",
       "    this.supports_binary = this.ws.binaryType !== undefined;\n",
       "\n",
       "    if (!this.supports_binary) {\n",
       "        var warnings = document.getElementById('mpl-warnings');\n",
       "        if (warnings) {\n",
       "            warnings.style.display = 'block';\n",
       "            warnings.textContent =\n",
       "                'This browser does not support binary websocket messages. ' +\n",
       "                'Performance may be slow.';\n",
       "        }\n",
       "    }\n",
       "\n",
       "    this.imageObj = new Image();\n",
       "\n",
       "    this.context = undefined;\n",
       "    this.message = undefined;\n",
       "    this.canvas = undefined;\n",
       "    this.rubberband_canvas = undefined;\n",
       "    this.rubberband_context = undefined;\n",
       "    this.format_dropdown = undefined;\n",
       "\n",
       "    this.image_mode = 'full';\n",
       "\n",
       "    this.root = document.createElement('div');\n",
       "    this.root.setAttribute('style', 'display: inline-block');\n",
       "    this._root_extra_style(this.root);\n",
       "\n",
       "    parent_element.appendChild(this.root);\n",
       "\n",
       "    this._init_header(this);\n",
       "    this._init_canvas(this);\n",
       "    this._init_toolbar(this);\n",
       "\n",
       "    var fig = this;\n",
       "\n",
       "    this.waiting = false;\n",
       "\n",
       "    this.ws.onopen = function () {\n",
       "        fig.send_message('supports_binary', { value: fig.supports_binary });\n",
       "        fig.send_message('send_image_mode', {});\n",
       "        if (fig.ratio !== 1) {\n",
       "            fig.send_message('set_dpi_ratio', { dpi_ratio: fig.ratio });\n",
       "        }\n",
       "        fig.send_message('refresh', {});\n",
       "    };\n",
       "\n",
       "    this.imageObj.onload = function () {\n",
       "        if (fig.image_mode === 'full') {\n",
       "            // Full images could contain transparency (where diff images\n",
       "            // almost always do), so we need to clear the canvas so that\n",
       "            // there is no ghosting.\n",
       "            fig.context.clearRect(0, 0, fig.canvas.width, fig.canvas.height);\n",
       "        }\n",
       "        fig.context.drawImage(fig.imageObj, 0, 0);\n",
       "    };\n",
       "\n",
       "    this.imageObj.onunload = function () {\n",
       "        fig.ws.close();\n",
       "    };\n",
       "\n",
       "    this.ws.onmessage = this._make_on_message_function(this);\n",
       "\n",
       "    this.ondownload = ondownload;\n",
       "};\n",
       "\n",
       "mpl.figure.prototype._init_header = function () {\n",
       "    var titlebar = document.createElement('div');\n",
       "    titlebar.classList =\n",
       "        'ui-dialog-titlebar ui-widget-header ui-corner-all ui-helper-clearfix';\n",
       "    var titletext = document.createElement('div');\n",
       "    titletext.classList = 'ui-dialog-title';\n",
       "    titletext.setAttribute(\n",
       "        'style',\n",
       "        'width: 100%; text-align: center; padding: 3px;'\n",
       "    );\n",
       "    titlebar.appendChild(titletext);\n",
       "    this.root.appendChild(titlebar);\n",
       "    this.header = titletext;\n",
       "};\n",
       "\n",
       "mpl.figure.prototype._canvas_extra_style = function (_canvas_div) {};\n",
       "\n",
       "mpl.figure.prototype._root_extra_style = function (_canvas_div) {};\n",
       "\n",
       "mpl.figure.prototype._init_canvas = function () {\n",
       "    var fig = this;\n",
       "\n",
       "    var canvas_div = (this.canvas_div = document.createElement('div'));\n",
       "    canvas_div.setAttribute(\n",
       "        'style',\n",
       "        'border: 1px solid #ddd;' +\n",
       "            'box-sizing: content-box;' +\n",
       "            'clear: both;' +\n",
       "            'min-height: 1px;' +\n",
       "            'min-width: 1px;' +\n",
       "            'outline: 0;' +\n",
       "            'overflow: hidden;' +\n",
       "            'position: relative;' +\n",
       "            'resize: both;'\n",
       "    );\n",
       "\n",
       "    function on_keyboard_event_closure(name) {\n",
       "        return function (event) {\n",
       "            return fig.key_event(event, name);\n",
       "        };\n",
       "    }\n",
       "\n",
       "    canvas_div.addEventListener(\n",
       "        'keydown',\n",
       "        on_keyboard_event_closure('key_press')\n",
       "    );\n",
       "    canvas_div.addEventListener(\n",
       "        'keyup',\n",
       "        on_keyboard_event_closure('key_release')\n",
       "    );\n",
       "\n",
       "    this._canvas_extra_style(canvas_div);\n",
       "    this.root.appendChild(canvas_div);\n",
       "\n",
       "    var canvas = (this.canvas = document.createElement('canvas'));\n",
       "    canvas.classList.add('mpl-canvas');\n",
       "    canvas.setAttribute('style', 'box-sizing: content-box;');\n",
       "\n",
       "    this.context = canvas.getContext('2d');\n",
       "\n",
       "    var backingStore =\n",
       "        this.context.backingStorePixelRatio ||\n",
       "        this.context.webkitBackingStorePixelRatio ||\n",
       "        this.context.mozBackingStorePixelRatio ||\n",
       "        this.context.msBackingStorePixelRatio ||\n",
       "        this.context.oBackingStorePixelRatio ||\n",
       "        this.context.backingStorePixelRatio ||\n",
       "        1;\n",
       "\n",
       "    this.ratio = (window.devicePixelRatio || 1) / backingStore;\n",
       "    if (this.ratio !== 1) {\n",
       "        fig.send_message('set_dpi_ratio', { dpi_ratio: this.ratio });\n",
       "    }\n",
       "\n",
       "    var rubberband_canvas = (this.rubberband_canvas = document.createElement(\n",
       "        'canvas'\n",
       "    ));\n",
       "    rubberband_canvas.setAttribute(\n",
       "        'style',\n",
       "        'box-sizing: content-box; position: absolute; left: 0; top: 0; z-index: 1;'\n",
       "    );\n",
       "\n",
       "    var resizeObserver = new ResizeObserver(function (entries) {\n",
       "        var nentries = entries.length;\n",
       "        for (var i = 0; i < nentries; i++) {\n",
       "            var entry = entries[i];\n",
       "            var width, height;\n",
       "            if (entry.contentBoxSize) {\n",
       "                if (entry.contentBoxSize instanceof Array) {\n",
       "                    // Chrome 84 implements new version of spec.\n",
       "                    width = entry.contentBoxSize[0].inlineSize;\n",
       "                    height = entry.contentBoxSize[0].blockSize;\n",
       "                } else {\n",
       "                    // Firefox implements old version of spec.\n",
       "                    width = entry.contentBoxSize.inlineSize;\n",
       "                    height = entry.contentBoxSize.blockSize;\n",
       "                }\n",
       "            } else {\n",
       "                // Chrome <84 implements even older version of spec.\n",
       "                width = entry.contentRect.width;\n",
       "                height = entry.contentRect.height;\n",
       "            }\n",
       "\n",
       "            // Keep the size of the canvas and rubber band canvas in sync with\n",
       "            // the canvas container.\n",
       "            if (entry.devicePixelContentBoxSize) {\n",
       "                // Chrome 84 implements new version of spec.\n",
       "                canvas.setAttribute(\n",
       "                    'width',\n",
       "                    entry.devicePixelContentBoxSize[0].inlineSize\n",
       "                );\n",
       "                canvas.setAttribute(\n",
       "                    'height',\n",
       "                    entry.devicePixelContentBoxSize[0].blockSize\n",
       "                );\n",
       "            } else {\n",
       "                canvas.setAttribute('width', width * fig.ratio);\n",
       "                canvas.setAttribute('height', height * fig.ratio);\n",
       "            }\n",
       "            canvas.setAttribute(\n",
       "                'style',\n",
       "                'width: ' + width + 'px; height: ' + height + 'px;'\n",
       "            );\n",
       "\n",
       "            rubberband_canvas.setAttribute('width', width);\n",
       "            rubberband_canvas.setAttribute('height', height);\n",
       "\n",
       "            // And update the size in Python. We ignore the initial 0/0 size\n",
       "            // that occurs as the element is placed into the DOM, which should\n",
       "            // otherwise not happen due to the minimum size styling.\n",
       "            if (width != 0 && height != 0) {\n",
       "                fig.request_resize(width, height);\n",
       "            }\n",
       "        }\n",
       "    });\n",
       "    resizeObserver.observe(canvas_div);\n",
       "\n",
       "    function on_mouse_event_closure(name) {\n",
       "        return function (event) {\n",
       "            return fig.mouse_event(event, name);\n",
       "        };\n",
       "    }\n",
       "\n",
       "    rubberband_canvas.addEventListener(\n",
       "        'mousedown',\n",
       "        on_mouse_event_closure('button_press')\n",
       "    );\n",
       "    rubberband_canvas.addEventListener(\n",
       "        'mouseup',\n",
       "        on_mouse_event_closure('button_release')\n",
       "    );\n",
       "    // Throttle sequential mouse events to 1 every 20ms.\n",
       "    rubberband_canvas.addEventListener(\n",
       "        'mousemove',\n",
       "        on_mouse_event_closure('motion_notify')\n",
       "    );\n",
       "\n",
       "    rubberband_canvas.addEventListener(\n",
       "        'mouseenter',\n",
       "        on_mouse_event_closure('figure_enter')\n",
       "    );\n",
       "    rubberband_canvas.addEventListener(\n",
       "        'mouseleave',\n",
       "        on_mouse_event_closure('figure_leave')\n",
       "    );\n",
       "\n",
       "    canvas_div.addEventListener('wheel', function (event) {\n",
       "        if (event.deltaY < 0) {\n",
       "            event.step = 1;\n",
       "        } else {\n",
       "            event.step = -1;\n",
       "        }\n",
       "        on_mouse_event_closure('scroll')(event);\n",
       "    });\n",
       "\n",
       "    canvas_div.appendChild(canvas);\n",
       "    canvas_div.appendChild(rubberband_canvas);\n",
       "\n",
       "    this.rubberband_context = rubberband_canvas.getContext('2d');\n",
       "    this.rubberband_context.strokeStyle = '#000000';\n",
       "\n",
       "    this._resize_canvas = function (width, height, forward) {\n",
       "        if (forward) {\n",
       "            canvas_div.style.width = width + 'px';\n",
       "            canvas_div.style.height = height + 'px';\n",
       "        }\n",
       "    };\n",
       "\n",
       "    // Disable right mouse context menu.\n",
       "    this.rubberband_canvas.addEventListener('contextmenu', function (_e) {\n",
       "        event.preventDefault();\n",
       "        return false;\n",
       "    });\n",
       "\n",
       "    function set_focus() {\n",
       "        canvas.focus();\n",
       "        canvas_div.focus();\n",
       "    }\n",
       "\n",
       "    window.setTimeout(set_focus, 100);\n",
       "};\n",
       "\n",
       "mpl.figure.prototype._init_toolbar = function () {\n",
       "    var fig = this;\n",
       "\n",
       "    var toolbar = document.createElement('div');\n",
       "    toolbar.classList = 'mpl-toolbar';\n",
       "    this.root.appendChild(toolbar);\n",
       "\n",
       "    function on_click_closure(name) {\n",
       "        return function (_event) {\n",
       "            return fig.toolbar_button_onclick(name);\n",
       "        };\n",
       "    }\n",
       "\n",
       "    function on_mouseover_closure(tooltip) {\n",
       "        return function (event) {\n",
       "            if (!event.currentTarget.disabled) {\n",
       "                return fig.toolbar_button_onmouseover(tooltip);\n",
       "            }\n",
       "        };\n",
       "    }\n",
       "\n",
       "    fig.buttons = {};\n",
       "    var buttonGroup = document.createElement('div');\n",
       "    buttonGroup.classList = 'mpl-button-group';\n",
       "    for (var toolbar_ind in mpl.toolbar_items) {\n",
       "        var name = mpl.toolbar_items[toolbar_ind][0];\n",
       "        var tooltip = mpl.toolbar_items[toolbar_ind][1];\n",
       "        var image = mpl.toolbar_items[toolbar_ind][2];\n",
       "        var method_name = mpl.toolbar_items[toolbar_ind][3];\n",
       "\n",
       "        if (!name) {\n",
       "            /* Instead of a spacer, we start a new button group. */\n",
       "            if (buttonGroup.hasChildNodes()) {\n",
       "                toolbar.appendChild(buttonGroup);\n",
       "            }\n",
       "            buttonGroup = document.createElement('div');\n",
       "            buttonGroup.classList = 'mpl-button-group';\n",
       "            continue;\n",
       "        }\n",
       "\n",
       "        var button = (fig.buttons[name] = document.createElement('button'));\n",
       "        button.classList = 'mpl-widget';\n",
       "        button.setAttribute('role', 'button');\n",
       "        button.setAttribute('aria-disabled', 'false');\n",
       "        button.addEventListener('click', on_click_closure(method_name));\n",
       "        button.addEventListener('mouseover', on_mouseover_closure(tooltip));\n",
       "\n",
       "        var icon_img = document.createElement('img');\n",
       "        icon_img.src = '_images/' + image + '.png';\n",
       "        icon_img.srcset = '_images/' + image + '_large.png 2x';\n",
       "        icon_img.alt = tooltip;\n",
       "        button.appendChild(icon_img);\n",
       "\n",
       "        buttonGroup.appendChild(button);\n",
       "    }\n",
       "\n",
       "    if (buttonGroup.hasChildNodes()) {\n",
       "        toolbar.appendChild(buttonGroup);\n",
       "    }\n",
       "\n",
       "    var fmt_picker = document.createElement('select');\n",
       "    fmt_picker.classList = 'mpl-widget';\n",
       "    toolbar.appendChild(fmt_picker);\n",
       "    this.format_dropdown = fmt_picker;\n",
       "\n",
       "    for (var ind in mpl.extensions) {\n",
       "        var fmt = mpl.extensions[ind];\n",
       "        var option = document.createElement('option');\n",
       "        option.selected = fmt === mpl.default_extension;\n",
       "        option.innerHTML = fmt;\n",
       "        fmt_picker.appendChild(option);\n",
       "    }\n",
       "\n",
       "    var status_bar = document.createElement('span');\n",
       "    status_bar.classList = 'mpl-message';\n",
       "    toolbar.appendChild(status_bar);\n",
       "    this.message = status_bar;\n",
       "};\n",
       "\n",
       "mpl.figure.prototype.request_resize = function (x_pixels, y_pixels) {\n",
       "    // Request matplotlib to resize the figure. Matplotlib will then trigger a resize in the client,\n",
       "    // which will in turn request a refresh of the image.\n",
       "    this.send_message('resize', { width: x_pixels, height: y_pixels });\n",
       "};\n",
       "\n",
       "mpl.figure.prototype.send_message = function (type, properties) {\n",
       "    properties['type'] = type;\n",
       "    properties['figure_id'] = this.id;\n",
       "    this.ws.send(JSON.stringify(properties));\n",
       "};\n",
       "\n",
       "mpl.figure.prototype.send_draw_message = function () {\n",
       "    if (!this.waiting) {\n",
       "        this.waiting = true;\n",
       "        this.ws.send(JSON.stringify({ type: 'draw', figure_id: this.id }));\n",
       "    }\n",
       "};\n",
       "\n",
       "mpl.figure.prototype.handle_save = function (fig, _msg) {\n",
       "    var format_dropdown = fig.format_dropdown;\n",
       "    var format = format_dropdown.options[format_dropdown.selectedIndex].value;\n",
       "    fig.ondownload(fig, format);\n",
       "};\n",
       "\n",
       "mpl.figure.prototype.handle_resize = function (fig, msg) {\n",
       "    var size = msg['size'];\n",
       "    if (size[0] !== fig.canvas.width || size[1] !== fig.canvas.height) {\n",
       "        fig._resize_canvas(size[0], size[1], msg['forward']);\n",
       "        fig.send_message('refresh', {});\n",
       "    }\n",
       "};\n",
       "\n",
       "mpl.figure.prototype.handle_rubberband = function (fig, msg) {\n",
       "    var x0 = msg['x0'] / fig.ratio;\n",
       "    var y0 = (fig.canvas.height - msg['y0']) / fig.ratio;\n",
       "    var x1 = msg['x1'] / fig.ratio;\n",
       "    var y1 = (fig.canvas.height - msg['y1']) / fig.ratio;\n",
       "    x0 = Math.floor(x0) + 0.5;\n",
       "    y0 = Math.floor(y0) + 0.5;\n",
       "    x1 = Math.floor(x1) + 0.5;\n",
       "    y1 = Math.floor(y1) + 0.5;\n",
       "    var min_x = Math.min(x0, x1);\n",
       "    var min_y = Math.min(y0, y1);\n",
       "    var width = Math.abs(x1 - x0);\n",
       "    var height = Math.abs(y1 - y0);\n",
       "\n",
       "    fig.rubberband_context.clearRect(\n",
       "        0,\n",
       "        0,\n",
       "        fig.canvas.width / fig.ratio,\n",
       "        fig.canvas.height / fig.ratio\n",
       "    );\n",
       "\n",
       "    fig.rubberband_context.strokeRect(min_x, min_y, width, height);\n",
       "};\n",
       "\n",
       "mpl.figure.prototype.handle_figure_label = function (fig, msg) {\n",
       "    // Updates the figure title.\n",
       "    fig.header.textContent = msg['label'];\n",
       "};\n",
       "\n",
       "mpl.figure.prototype.handle_cursor = function (fig, msg) {\n",
       "    var cursor = msg['cursor'];\n",
       "    switch (cursor) {\n",
       "        case 0:\n",
       "            cursor = 'pointer';\n",
       "            break;\n",
       "        case 1:\n",
       "            cursor = 'default';\n",
       "            break;\n",
       "        case 2:\n",
       "            cursor = 'crosshair';\n",
       "            break;\n",
       "        case 3:\n",
       "            cursor = 'move';\n",
       "            break;\n",
       "    }\n",
       "    fig.rubberband_canvas.style.cursor = cursor;\n",
       "};\n",
       "\n",
       "mpl.figure.prototype.handle_message = function (fig, msg) {\n",
       "    fig.message.textContent = msg['message'];\n",
       "};\n",
       "\n",
       "mpl.figure.prototype.handle_draw = function (fig, _msg) {\n",
       "    // Request the server to send over a new figure.\n",
       "    fig.send_draw_message();\n",
       "};\n",
       "\n",
       "mpl.figure.prototype.handle_image_mode = function (fig, msg) {\n",
       "    fig.image_mode = msg['mode'];\n",
       "};\n",
       "\n",
       "mpl.figure.prototype.handle_history_buttons = function (fig, msg) {\n",
       "    for (var key in msg) {\n",
       "        if (!(key in fig.buttons)) {\n",
       "            continue;\n",
       "        }\n",
       "        fig.buttons[key].disabled = !msg[key];\n",
       "        fig.buttons[key].setAttribute('aria-disabled', !msg[key]);\n",
       "    }\n",
       "};\n",
       "\n",
       "mpl.figure.prototype.handle_navigate_mode = function (fig, msg) {\n",
       "    if (msg['mode'] === 'PAN') {\n",
       "        fig.buttons['Pan'].classList.add('active');\n",
       "        fig.buttons['Zoom'].classList.remove('active');\n",
       "    } else if (msg['mode'] === 'ZOOM') {\n",
       "        fig.buttons['Pan'].classList.remove('active');\n",
       "        fig.buttons['Zoom'].classList.add('active');\n",
       "    } else {\n",
       "        fig.buttons['Pan'].classList.remove('active');\n",
       "        fig.buttons['Zoom'].classList.remove('active');\n",
       "    }\n",
       "};\n",
       "\n",
       "mpl.figure.prototype.updated_canvas_event = function () {\n",
       "    // Called whenever the canvas gets updated.\n",
       "    this.send_message('ack', {});\n",
       "};\n",
       "\n",
       "// A function to construct a web socket function for onmessage handling.\n",
       "// Called in the figure constructor.\n",
       "mpl.figure.prototype._make_on_message_function = function (fig) {\n",
       "    return function socket_on_message(evt) {\n",
       "        if (evt.data instanceof Blob) {\n",
       "            /* FIXME: We get \"Resource interpreted as Image but\n",
       "             * transferred with MIME type text/plain:\" errors on\n",
       "             * Chrome.  But how to set the MIME type?  It doesn't seem\n",
       "             * to be part of the websocket stream */\n",
       "            evt.data.type = 'image/png';\n",
       "\n",
       "            /* Free the memory for the previous frames */\n",
       "            if (fig.imageObj.src) {\n",
       "                (window.URL || window.webkitURL).revokeObjectURL(\n",
       "                    fig.imageObj.src\n",
       "                );\n",
       "            }\n",
       "\n",
       "            fig.imageObj.src = (window.URL || window.webkitURL).createObjectURL(\n",
       "                evt.data\n",
       "            );\n",
       "            fig.updated_canvas_event();\n",
       "            fig.waiting = false;\n",
       "            return;\n",
       "        } else if (\n",
       "            typeof evt.data === 'string' &&\n",
       "            evt.data.slice(0, 21) === 'data:image/png;base64'\n",
       "        ) {\n",
       "            fig.imageObj.src = evt.data;\n",
       "            fig.updated_canvas_event();\n",
       "            fig.waiting = false;\n",
       "            return;\n",
       "        }\n",
       "\n",
       "        var msg = JSON.parse(evt.data);\n",
       "        var msg_type = msg['type'];\n",
       "\n",
       "        // Call the  \"handle_{type}\" callback, which takes\n",
       "        // the figure and JSON message as its only arguments.\n",
       "        try {\n",
       "            var callback = fig['handle_' + msg_type];\n",
       "        } catch (e) {\n",
       "            console.log(\n",
       "                \"No handler for the '\" + msg_type + \"' message type: \",\n",
       "                msg\n",
       "            );\n",
       "            return;\n",
       "        }\n",
       "\n",
       "        if (callback) {\n",
       "            try {\n",
       "                // console.log(\"Handling '\" + msg_type + \"' message: \", msg);\n",
       "                callback(fig, msg);\n",
       "            } catch (e) {\n",
       "                console.log(\n",
       "                    \"Exception inside the 'handler_\" + msg_type + \"' callback:\",\n",
       "                    e,\n",
       "                    e.stack,\n",
       "                    msg\n",
       "                );\n",
       "            }\n",
       "        }\n",
       "    };\n",
       "};\n",
       "\n",
       "// from http://stackoverflow.com/questions/1114465/getting-mouse-location-in-canvas\n",
       "mpl.findpos = function (e) {\n",
       "    //this section is from http://www.quirksmode.org/js/events_properties.html\n",
       "    var targ;\n",
       "    if (!e) {\n",
       "        e = window.event;\n",
       "    }\n",
       "    if (e.target) {\n",
       "        targ = e.target;\n",
       "    } else if (e.srcElement) {\n",
       "        targ = e.srcElement;\n",
       "    }\n",
       "    if (targ.nodeType === 3) {\n",
       "        // defeat Safari bug\n",
       "        targ = targ.parentNode;\n",
       "    }\n",
       "\n",
       "    // pageX,Y are the mouse positions relative to the document\n",
       "    var boundingRect = targ.getBoundingClientRect();\n",
       "    var x = e.pageX - (boundingRect.left + document.body.scrollLeft);\n",
       "    var y = e.pageY - (boundingRect.top + document.body.scrollTop);\n",
       "\n",
       "    return { x: x, y: y };\n",
       "};\n",
       "\n",
       "/*\n",
       " * return a copy of an object with only non-object keys\n",
       " * we need this to avoid circular references\n",
       " * http://stackoverflow.com/a/24161582/3208463\n",
       " */\n",
       "function simpleKeys(original) {\n",
       "    return Object.keys(original).reduce(function (obj, key) {\n",
       "        if (typeof original[key] !== 'object') {\n",
       "            obj[key] = original[key];\n",
       "        }\n",
       "        return obj;\n",
       "    }, {});\n",
       "}\n",
       "\n",
       "mpl.figure.prototype.mouse_event = function (event, name) {\n",
       "    var canvas_pos = mpl.findpos(event);\n",
       "\n",
       "    if (name === 'button_press') {\n",
       "        this.canvas.focus();\n",
       "        this.canvas_div.focus();\n",
       "    }\n",
       "\n",
       "    var x = canvas_pos.x * this.ratio;\n",
       "    var y = canvas_pos.y * this.ratio;\n",
       "\n",
       "    this.send_message(name, {\n",
       "        x: x,\n",
       "        y: y,\n",
       "        button: event.button,\n",
       "        step: event.step,\n",
       "        guiEvent: simpleKeys(event),\n",
       "    });\n",
       "\n",
       "    /* This prevents the web browser from automatically changing to\n",
       "     * the text insertion cursor when the button is pressed.  We want\n",
       "     * to control all of the cursor setting manually through the\n",
       "     * 'cursor' event from matplotlib */\n",
       "    event.preventDefault();\n",
       "    return false;\n",
       "};\n",
       "\n",
       "mpl.figure.prototype._key_event_extra = function (_event, _name) {\n",
       "    // Handle any extra behaviour associated with a key event\n",
       "};\n",
       "\n",
       "mpl.figure.prototype.key_event = function (event, name) {\n",
       "    // Prevent repeat events\n",
       "    if (name === 'key_press') {\n",
       "        if (event.which === this._key) {\n",
       "            return;\n",
       "        } else {\n",
       "            this._key = event.which;\n",
       "        }\n",
       "    }\n",
       "    if (name === 'key_release') {\n",
       "        this._key = null;\n",
       "    }\n",
       "\n",
       "    var value = '';\n",
       "    if (event.ctrlKey && event.which !== 17) {\n",
       "        value += 'ctrl+';\n",
       "    }\n",
       "    if (event.altKey && event.which !== 18) {\n",
       "        value += 'alt+';\n",
       "    }\n",
       "    if (event.shiftKey && event.which !== 16) {\n",
       "        value += 'shift+';\n",
       "    }\n",
       "\n",
       "    value += 'k';\n",
       "    value += event.which.toString();\n",
       "\n",
       "    this._key_event_extra(event, name);\n",
       "\n",
       "    this.send_message(name, { key: value, guiEvent: simpleKeys(event) });\n",
       "    return false;\n",
       "};\n",
       "\n",
       "mpl.figure.prototype.toolbar_button_onclick = function (name) {\n",
       "    if (name === 'download') {\n",
       "        this.handle_save(this, null);\n",
       "    } else {\n",
       "        this.send_message('toolbar_button', { name: name });\n",
       "    }\n",
       "};\n",
       "\n",
       "mpl.figure.prototype.toolbar_button_onmouseover = function (tooltip) {\n",
       "    this.message.textContent = tooltip;\n",
       "};\n",
       "mpl.toolbar_items = [[\"Home\", \"Reset original view\", \"fa fa-home icon-home\", \"home\"], [\"Back\", \"Back to previous view\", \"fa fa-arrow-left icon-arrow-left\", \"back\"], [\"Forward\", \"Forward to next view\", \"fa fa-arrow-right icon-arrow-right\", \"forward\"], [\"\", \"\", \"\", \"\"], [\"Pan\", \"Left button pans, Right button zooms\\nx/y fixes axis, CTRL fixes aspect\", \"fa fa-arrows icon-move\", \"pan\"], [\"Zoom\", \"Zoom to rectangle\\nx/y fixes axis, CTRL fixes aspect\", \"fa fa-square-o icon-check-empty\", \"zoom\"], [\"\", \"\", \"\", \"\"], [\"Download\", \"Download plot\", \"fa fa-floppy-o icon-save\", \"download\"]];\n",
       "\n",
       "mpl.extensions = [\"eps\", \"jpeg\", \"pdf\", \"png\", \"ps\", \"raw\", \"svg\", \"tif\"];\n",
       "\n",
       "mpl.default_extension = \"png\";/* global mpl */\n",
       "\n",
       "var comm_websocket_adapter = function (comm) {\n",
       "    // Create a \"websocket\"-like object which calls the given IPython comm\n",
       "    // object with the appropriate methods. Currently this is a non binary\n",
       "    // socket, so there is still some room for performance tuning.\n",
       "    var ws = {};\n",
       "\n",
       "    ws.close = function () {\n",
       "        comm.close();\n",
       "    };\n",
       "    ws.send = function (m) {\n",
       "        //console.log('sending', m);\n",
       "        comm.send(m);\n",
       "    };\n",
       "    // Register the callback with on_msg.\n",
       "    comm.on_msg(function (msg) {\n",
       "        //console.log('receiving', msg['content']['data'], msg);\n",
       "        // Pass the mpl event to the overridden (by mpl) onmessage function.\n",
       "        ws.onmessage(msg['content']['data']);\n",
       "    });\n",
       "    return ws;\n",
       "};\n",
       "\n",
       "mpl.mpl_figure_comm = function (comm, msg) {\n",
       "    // This is the function which gets called when the mpl process\n",
       "    // starts-up an IPython Comm through the \"matplotlib\" channel.\n",
       "\n",
       "    var id = msg.content.data.id;\n",
       "    // Get hold of the div created by the display call when the Comm\n",
       "    // socket was opened in Python.\n",
       "    var element = document.getElementById(id);\n",
       "    var ws_proxy = comm_websocket_adapter(comm);\n",
       "\n",
       "    function ondownload(figure, _format) {\n",
       "        window.open(figure.canvas.toDataURL());\n",
       "    }\n",
       "\n",
       "    var fig = new mpl.figure(id, ws_proxy, ondownload, element);\n",
       "\n",
       "    // Call onopen now - mpl needs it, as it is assuming we've passed it a real\n",
       "    // web socket which is closed, not our websocket->open comm proxy.\n",
       "    ws_proxy.onopen();\n",
       "\n",
       "    fig.parent_element = element;\n",
       "    fig.cell_info = mpl.find_output_cell(\"<div id='\" + id + \"'></div>\");\n",
       "    if (!fig.cell_info) {\n",
       "        console.error('Failed to find cell for figure', id, fig);\n",
       "        return;\n",
       "    }\n",
       "    fig.cell_info[0].output_area.element.one(\n",
       "        'cleared',\n",
       "        { fig: fig },\n",
       "        fig._remove_fig_handler\n",
       "    );\n",
       "};\n",
       "\n",
       "mpl.figure.prototype.handle_close = function (fig, msg) {\n",
       "    var width = fig.canvas.width / fig.ratio;\n",
       "    fig.cell_info[0].output_area.element.off(\n",
       "        'cleared',\n",
       "        fig._remove_fig_handler\n",
       "    );\n",
       "\n",
       "    // Update the output cell to use the data from the current canvas.\n",
       "    fig.push_to_output();\n",
       "    var dataURL = fig.canvas.toDataURL();\n",
       "    // Re-enable the keyboard manager in IPython - without this line, in FF,\n",
       "    // the notebook keyboard shortcuts fail.\n",
       "    IPython.keyboard_manager.enable();\n",
       "    fig.parent_element.innerHTML =\n",
       "        '<img src=\"' + dataURL + '\" width=\"' + width + '\">';\n",
       "    fig.close_ws(fig, msg);\n",
       "};\n",
       "\n",
       "mpl.figure.prototype.close_ws = function (fig, msg) {\n",
       "    fig.send_message('closing', msg);\n",
       "    // fig.ws.close()\n",
       "};\n",
       "\n",
       "mpl.figure.prototype.push_to_output = function (_remove_interactive) {\n",
       "    // Turn the data on the canvas into data in the output cell.\n",
       "    var width = this.canvas.width / this.ratio;\n",
       "    var dataURL = this.canvas.toDataURL();\n",
       "    this.cell_info[1]['text/html'] =\n",
       "        '<img src=\"' + dataURL + '\" width=\"' + width + '\">';\n",
       "};\n",
       "\n",
       "mpl.figure.prototype.updated_canvas_event = function () {\n",
       "    // Tell IPython that the notebook contents must change.\n",
       "    IPython.notebook.set_dirty(true);\n",
       "    this.send_message('ack', {});\n",
       "    var fig = this;\n",
       "    // Wait a second, then push the new image to the DOM so\n",
       "    // that it is saved nicely (might be nice to debounce this).\n",
       "    setTimeout(function () {\n",
       "        fig.push_to_output();\n",
       "    }, 1000);\n",
       "};\n",
       "\n",
       "mpl.figure.prototype._init_toolbar = function () {\n",
       "    var fig = this;\n",
       "\n",
       "    var toolbar = document.createElement('div');\n",
       "    toolbar.classList = 'btn-toolbar';\n",
       "    this.root.appendChild(toolbar);\n",
       "\n",
       "    function on_click_closure(name) {\n",
       "        return function (_event) {\n",
       "            return fig.toolbar_button_onclick(name);\n",
       "        };\n",
       "    }\n",
       "\n",
       "    function on_mouseover_closure(tooltip) {\n",
       "        return function (event) {\n",
       "            if (!event.currentTarget.disabled) {\n",
       "                return fig.toolbar_button_onmouseover(tooltip);\n",
       "            }\n",
       "        };\n",
       "    }\n",
       "\n",
       "    fig.buttons = {};\n",
       "    var buttonGroup = document.createElement('div');\n",
       "    buttonGroup.classList = 'btn-group';\n",
       "    var button;\n",
       "    for (var toolbar_ind in mpl.toolbar_items) {\n",
       "        var name = mpl.toolbar_items[toolbar_ind][0];\n",
       "        var tooltip = mpl.toolbar_items[toolbar_ind][1];\n",
       "        var image = mpl.toolbar_items[toolbar_ind][2];\n",
       "        var method_name = mpl.toolbar_items[toolbar_ind][3];\n",
       "\n",
       "        if (!name) {\n",
       "            /* Instead of a spacer, we start a new button group. */\n",
       "            if (buttonGroup.hasChildNodes()) {\n",
       "                toolbar.appendChild(buttonGroup);\n",
       "            }\n",
       "            buttonGroup = document.createElement('div');\n",
       "            buttonGroup.classList = 'btn-group';\n",
       "            continue;\n",
       "        }\n",
       "\n",
       "        button = fig.buttons[name] = document.createElement('button');\n",
       "        button.classList = 'btn btn-default';\n",
       "        button.href = '#';\n",
       "        button.title = name;\n",
       "        button.innerHTML = '<i class=\"fa ' + image + ' fa-lg\"></i>';\n",
       "        button.addEventListener('click', on_click_closure(method_name));\n",
       "        button.addEventListener('mouseover', on_mouseover_closure(tooltip));\n",
       "        buttonGroup.appendChild(button);\n",
       "    }\n",
       "\n",
       "    if (buttonGroup.hasChildNodes()) {\n",
       "        toolbar.appendChild(buttonGroup);\n",
       "    }\n",
       "\n",
       "    // Add the status bar.\n",
       "    var status_bar = document.createElement('span');\n",
       "    status_bar.classList = 'mpl-message pull-right';\n",
       "    toolbar.appendChild(status_bar);\n",
       "    this.message = status_bar;\n",
       "\n",
       "    // Add the close button to the window.\n",
       "    var buttongrp = document.createElement('div');\n",
       "    buttongrp.classList = 'btn-group inline pull-right';\n",
       "    button = document.createElement('button');\n",
       "    button.classList = 'btn btn-mini btn-primary';\n",
       "    button.href = '#';\n",
       "    button.title = 'Stop Interaction';\n",
       "    button.innerHTML = '<i class=\"fa fa-power-off icon-remove icon-large\"></i>';\n",
       "    button.addEventListener('click', function (_evt) {\n",
       "        fig.handle_close(fig, {});\n",
       "    });\n",
       "    button.addEventListener(\n",
       "        'mouseover',\n",
       "        on_mouseover_closure('Stop Interaction')\n",
       "    );\n",
       "    buttongrp.appendChild(button);\n",
       "    var titlebar = this.root.querySelector('.ui-dialog-titlebar');\n",
       "    titlebar.insertBefore(buttongrp, titlebar.firstChild);\n",
       "};\n",
       "\n",
       "mpl.figure.prototype._remove_fig_handler = function (event) {\n",
       "    var fig = event.data.fig;\n",
       "    fig.close_ws(fig, {});\n",
       "};\n",
       "\n",
       "mpl.figure.prototype._root_extra_style = function (el) {\n",
       "    el.style.boxSizing = 'content-box'; // override notebook setting of border-box.\n",
       "};\n",
       "\n",
       "mpl.figure.prototype._canvas_extra_style = function (el) {\n",
       "    // this is important to make the div 'focusable\n",
       "    el.setAttribute('tabindex', 0);\n",
       "    // reach out to IPython and tell the keyboard manager to turn it's self\n",
       "    // off when our div gets focus\n",
       "\n",
       "    // location in version 3\n",
       "    if (IPython.notebook.keyboard_manager) {\n",
       "        IPython.notebook.keyboard_manager.register_events(el);\n",
       "    } else {\n",
       "        // location in version 2\n",
       "        IPython.keyboard_manager.register_events(el);\n",
       "    }\n",
       "};\n",
       "\n",
       "mpl.figure.prototype._key_event_extra = function (event, _name) {\n",
       "    var manager = IPython.notebook.keyboard_manager;\n",
       "    if (!manager) {\n",
       "        manager = IPython.keyboard_manager;\n",
       "    }\n",
       "\n",
       "    // Check for shift+enter\n",
       "    if (event.shiftKey && event.which === 13) {\n",
       "        this.canvas_div.blur();\n",
       "        // select the cell after this one\n",
       "        var index = IPython.notebook.find_cell_index(this.cell_info[0]);\n",
       "        IPython.notebook.select(index + 1);\n",
       "    }\n",
       "};\n",
       "\n",
       "mpl.figure.prototype.handle_save = function (fig, _msg) {\n",
       "    fig.ondownload(fig, null);\n",
       "};\n",
       "\n",
       "mpl.find_output_cell = function (html_output) {\n",
       "    // Return the cell and output element which can be found *uniquely* in the notebook.\n",
       "    // Note - this is a bit hacky, but it is done because the \"notebook_saving.Notebook\"\n",
       "    // IPython event is triggered only after the cells have been serialised, which for\n",
       "    // our purposes (turning an active figure into a static one), is too late.\n",
       "    var cells = IPython.notebook.get_cells();\n",
       "    var ncells = cells.length;\n",
       "    for (var i = 0; i < ncells; i++) {\n",
       "        var cell = cells[i];\n",
       "        if (cell.cell_type === 'code') {\n",
       "            for (var j = 0; j < cell.output_area.outputs.length; j++) {\n",
       "                var data = cell.output_area.outputs[j];\n",
       "                if (data.data) {\n",
       "                    // IPython >= 3 moved mimebundle to data attribute of output\n",
       "                    data = data.data;\n",
       "                }\n",
       "                if (data['text/html'] === html_output) {\n",
       "                    return [cell, data, j];\n",
       "                }\n",
       "            }\n",
       "        }\n",
       "    }\n",
       "};\n",
       "\n",
       "// Register the function which deals with the matplotlib target/channel.\n",
       "// The kernel may be null if the page has been refreshed.\n",
       "if (IPython.notebook.kernel !== null) {\n",
       "    IPython.notebook.kernel.comm_manager.register_target(\n",
       "        'matplotlib',\n",
       "        mpl.mpl_figure_comm\n",
       "    );\n",
       "}\n"
      ],
      "text/plain": [
       "<IPython.core.display.Javascript object>"
      ]
     },
     "metadata": {},
     "output_type": "display_data"
    },
    {
     "data": {
      "text/html": [
       "<img src=\"data:image/png;base64,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\" width=\"640\">"
      ],
      "text/plain": [
       "<IPython.core.display.HTML object>"
      ]
     },
     "metadata": {},
     "output_type": "display_data"
    }
   ],
   "source": [
    "%matplotlib notebook\n",
    "fig = plt.figure()\n",
    "\n",
    "n_cells = 1000\n",
    "mu = 0.0\n",
    "sigma = 0.50\n",
    "steps = 100\n",
    "\n",
    "# Run\n",
    "initial_state = np.random.randint(0, 2, n_cells)\n",
    "\n",
    "gca = VoronoiCA(n_cells, mu=mu, sigma=sigma)\n",
    "history = gca.evolve(initial_state, steps=steps)\n",
    "\n",
    "# Animation\n",
    "def update_plot(n):\n",
    "    gca.plot(history[n], fig)\n",
    "\n",
    "anim = animation.FuncAnimation(fig, update_plot, frames=steps, repeat=True)\n",
    "anim.save('voronoi_ca.gif', writer='pillow', fps=10)"
   ]
  },
  {
   "cell_type": "code",
   "execution_count": 47,
   "metadata": {},
   "outputs": [
    {
     "name": "stdout",
     "output_type": "stream",
     "text": [
      "(1, 1000, 1)\n"
     ]
    }
   ],
   "source": [
    "a = sp_matrix_to_sp_tensor(gca.graph.a)\n",
    "results = []\n",
    "state = initial_state.reshape((1, -1, 1)).astype(\"f4\")\n",
    "print(state.shape)\n",
    "next_state = model([state, a])\n",
    "results.append(np.array(state).reshape(-1))\n",
    "results.append(np.array(next_state).reshape(-1))\n",
    "for i in range(steps-1):\n",
    "    next_state = model([next_state, a])\n",
    "    results.append(np.array(next_state).reshape(-1))\n"
   ]
  },
  {
   "cell_type": "code",
   "execution_count": 44,
   "metadata": {},
   "outputs": [
    {
     "data": {
      "application/javascript": [
       "/* Put everything inside the global mpl namespace */\n",
       "/* global mpl */\n",
       "window.mpl = {};\n",
       "\n",
       "mpl.get_websocket_type = function () {\n",
       "    if (typeof WebSocket !== 'undefined') {\n",
       "        return WebSocket;\n",
       "    } else if (typeof MozWebSocket !== 'undefined') {\n",
       "        return MozWebSocket;\n",
       "    } else {\n",
       "        alert(\n",
       "            'Your browser does not have WebSocket support. ' +\n",
       "                'Please try Chrome, Safari or Firefox ≥ 6. ' +\n",
       "                'Firefox 4 and 5 are also supported but you ' +\n",
       "                'have to enable WebSockets in about:config.'\n",
       "        );\n",
       "    }\n",
       "};\n",
       "\n",
       "mpl.figure = function (figure_id, websocket, ondownload, parent_element) {\n",
       "    this.id = figure_id;\n",
       "\n",
       "    this.ws = websocket;\n",
       "\n",
       "    this.supports_binary = this.ws.binaryType !== undefined;\n",
       "\n",
       "    if (!this.supports_binary) {\n",
       "        var warnings = document.getElementById('mpl-warnings');\n",
       "        if (warnings) {\n",
       "            warnings.style.display = 'block';\n",
       "            warnings.textContent =\n",
       "                'This browser does not support binary websocket messages. ' +\n",
       "                'Performance may be slow.';\n",
       "        }\n",
       "    }\n",
       "\n",
       "    this.imageObj = new Image();\n",
       "\n",
       "    this.context = undefined;\n",
       "    this.message = undefined;\n",
       "    this.canvas = undefined;\n",
       "    this.rubberband_canvas = undefined;\n",
       "    this.rubberband_context = undefined;\n",
       "    this.format_dropdown = undefined;\n",
       "\n",
       "    this.image_mode = 'full';\n",
       "\n",
       "    this.root = document.createElement('div');\n",
       "    this.root.setAttribute('style', 'display: inline-block');\n",
       "    this._root_extra_style(this.root);\n",
       "\n",
       "    parent_element.appendChild(this.root);\n",
       "\n",
       "    this._init_header(this);\n",
       "    this._init_canvas(this);\n",
       "    this._init_toolbar(this);\n",
       "\n",
       "    var fig = this;\n",
       "\n",
       "    this.waiting = false;\n",
       "\n",
       "    this.ws.onopen = function () {\n",
       "        fig.send_message('supports_binary', { value: fig.supports_binary });\n",
       "        fig.send_message('send_image_mode', {});\n",
       "        if (fig.ratio !== 1) {\n",
       "            fig.send_message('set_dpi_ratio', { dpi_ratio: fig.ratio });\n",
       "        }\n",
       "        fig.send_message('refresh', {});\n",
       "    };\n",
       "\n",
       "    this.imageObj.onload = function () {\n",
       "        if (fig.image_mode === 'full') {\n",
       "            // Full images could contain transparency (where diff images\n",
       "            // almost always do), so we need to clear the canvas so that\n",
       "            // there is no ghosting.\n",
       "            fig.context.clearRect(0, 0, fig.canvas.width, fig.canvas.height);\n",
       "        }\n",
       "        fig.context.drawImage(fig.imageObj, 0, 0);\n",
       "    };\n",
       "\n",
       "    this.imageObj.onunload = function () {\n",
       "        fig.ws.close();\n",
       "    };\n",
       "\n",
       "    this.ws.onmessage = this._make_on_message_function(this);\n",
       "\n",
       "    this.ondownload = ondownload;\n",
       "};\n",
       "\n",
       "mpl.figure.prototype._init_header = function () {\n",
       "    var titlebar = document.createElement('div');\n",
       "    titlebar.classList =\n",
       "        'ui-dialog-titlebar ui-widget-header ui-corner-all ui-helper-clearfix';\n",
       "    var titletext = document.createElement('div');\n",
       "    titletext.classList = 'ui-dialog-title';\n",
       "    titletext.setAttribute(\n",
       "        'style',\n",
       "        'width: 100%; text-align: center; padding: 3px;'\n",
       "    );\n",
       "    titlebar.appendChild(titletext);\n",
       "    this.root.appendChild(titlebar);\n",
       "    this.header = titletext;\n",
       "};\n",
       "\n",
       "mpl.figure.prototype._canvas_extra_style = function (_canvas_div) {};\n",
       "\n",
       "mpl.figure.prototype._root_extra_style = function (_canvas_div) {};\n",
       "\n",
       "mpl.figure.prototype._init_canvas = function () {\n",
       "    var fig = this;\n",
       "\n",
       "    var canvas_div = (this.canvas_div = document.createElement('div'));\n",
       "    canvas_div.setAttribute(\n",
       "        'style',\n",
       "        'border: 1px solid #ddd;' +\n",
       "            'box-sizing: content-box;' +\n",
       "            'clear: both;' +\n",
       "            'min-height: 1px;' +\n",
       "            'min-width: 1px;' +\n",
       "            'outline: 0;' +\n",
       "            'overflow: hidden;' +\n",
       "            'position: relative;' +\n",
       "            'resize: both;'\n",
       "    );\n",
       "\n",
       "    function on_keyboard_event_closure(name) {\n",
       "        return function (event) {\n",
       "            return fig.key_event(event, name);\n",
       "        };\n",
       "    }\n",
       "\n",
       "    canvas_div.addEventListener(\n",
       "        'keydown',\n",
       "        on_keyboard_event_closure('key_press')\n",
       "    );\n",
       "    canvas_div.addEventListener(\n",
       "        'keyup',\n",
       "        on_keyboard_event_closure('key_release')\n",
       "    );\n",
       "\n",
       "    this._canvas_extra_style(canvas_div);\n",
       "    this.root.appendChild(canvas_div);\n",
       "\n",
       "    var canvas = (this.canvas = document.createElement('canvas'));\n",
       "    canvas.classList.add('mpl-canvas');\n",
       "    canvas.setAttribute('style', 'box-sizing: content-box;');\n",
       "\n",
       "    this.context = canvas.getContext('2d');\n",
       "\n",
       "    var backingStore =\n",
       "        this.context.backingStorePixelRatio ||\n",
       "        this.context.webkitBackingStorePixelRatio ||\n",
       "        this.context.mozBackingStorePixelRatio ||\n",
       "        this.context.msBackingStorePixelRatio ||\n",
       "        this.context.oBackingStorePixelRatio ||\n",
       "        this.context.backingStorePixelRatio ||\n",
       "        1;\n",
       "\n",
       "    this.ratio = (window.devicePixelRatio || 1) / backingStore;\n",
       "    if (this.ratio !== 1) {\n",
       "        fig.send_message('set_dpi_ratio', { dpi_ratio: this.ratio });\n",
       "    }\n",
       "\n",
       "    var rubberband_canvas = (this.rubberband_canvas = document.createElement(\n",
       "        'canvas'\n",
       "    ));\n",
       "    rubberband_canvas.setAttribute(\n",
       "        'style',\n",
       "        'box-sizing: content-box; position: absolute; left: 0; top: 0; z-index: 1;'\n",
       "    );\n",
       "\n",
       "    var resizeObserver = new ResizeObserver(function (entries) {\n",
       "        var nentries = entries.length;\n",
       "        for (var i = 0; i < nentries; i++) {\n",
       "            var entry = entries[i];\n",
       "            var width, height;\n",
       "            if (entry.contentBoxSize) {\n",
       "                if (entry.contentBoxSize instanceof Array) {\n",
       "                    // Chrome 84 implements new version of spec.\n",
       "                    width = entry.contentBoxSize[0].inlineSize;\n",
       "                    height = entry.contentBoxSize[0].blockSize;\n",
       "                } else {\n",
       "                    // Firefox implements old version of spec.\n",
       "                    width = entry.contentBoxSize.inlineSize;\n",
       "                    height = entry.contentBoxSize.blockSize;\n",
       "                }\n",
       "            } else {\n",
       "                // Chrome <84 implements even older version of spec.\n",
       "                width = entry.contentRect.width;\n",
       "                height = entry.contentRect.height;\n",
       "            }\n",
       "\n",
       "            // Keep the size of the canvas and rubber band canvas in sync with\n",
       "            // the canvas container.\n",
       "            if (entry.devicePixelContentBoxSize) {\n",
       "                // Chrome 84 implements new version of spec.\n",
       "                canvas.setAttribute(\n",
       "                    'width',\n",
       "                    entry.devicePixelContentBoxSize[0].inlineSize\n",
       "                );\n",
       "                canvas.setAttribute(\n",
       "                    'height',\n",
       "                    entry.devicePixelContentBoxSize[0].blockSize\n",
       "                );\n",
       "            } else {\n",
       "                canvas.setAttribute('width', width * fig.ratio);\n",
       "                canvas.setAttribute('height', height * fig.ratio);\n",
       "            }\n",
       "            canvas.setAttribute(\n",
       "                'style',\n",
       "                'width: ' + width + 'px; height: ' + height + 'px;'\n",
       "            );\n",
       "\n",
       "            rubberband_canvas.setAttribute('width', width);\n",
       "            rubberband_canvas.setAttribute('height', height);\n",
       "\n",
       "            // And update the size in Python. We ignore the initial 0/0 size\n",
       "            // that occurs as the element is placed into the DOM, which should\n",
       "            // otherwise not happen due to the minimum size styling.\n",
       "            if (width != 0 && height != 0) {\n",
       "                fig.request_resize(width, height);\n",
       "            }\n",
       "        }\n",
       "    });\n",
       "    resizeObserver.observe(canvas_div);\n",
       "\n",
       "    function on_mouse_event_closure(name) {\n",
       "        return function (event) {\n",
       "            return fig.mouse_event(event, name);\n",
       "        };\n",
       "    }\n",
       "\n",
       "    rubberband_canvas.addEventListener(\n",
       "        'mousedown',\n",
       "        on_mouse_event_closure('button_press')\n",
       "    );\n",
       "    rubberband_canvas.addEventListener(\n",
       "        'mouseup',\n",
       "        on_mouse_event_closure('button_release')\n",
       "    );\n",
       "    // Throttle sequential mouse events to 1 every 20ms.\n",
       "    rubberband_canvas.addEventListener(\n",
       "        'mousemove',\n",
       "        on_mouse_event_closure('motion_notify')\n",
       "    );\n",
       "\n",
       "    rubberband_canvas.addEventListener(\n",
       "        'mouseenter',\n",
       "        on_mouse_event_closure('figure_enter')\n",
       "    );\n",
       "    rubberband_canvas.addEventListener(\n",
       "        'mouseleave',\n",
       "        on_mouse_event_closure('figure_leave')\n",
       "    );\n",
       "\n",
       "    canvas_div.addEventListener('wheel', function (event) {\n",
       "        if (event.deltaY < 0) {\n",
       "            event.step = 1;\n",
       "        } else {\n",
       "            event.step = -1;\n",
       "        }\n",
       "        on_mouse_event_closure('scroll')(event);\n",
       "    });\n",
       "\n",
       "    canvas_div.appendChild(canvas);\n",
       "    canvas_div.appendChild(rubberband_canvas);\n",
       "\n",
       "    this.rubberband_context = rubberband_canvas.getContext('2d');\n",
       "    this.rubberband_context.strokeStyle = '#000000';\n",
       "\n",
       "    this._resize_canvas = function (width, height, forward) {\n",
       "        if (forward) {\n",
       "            canvas_div.style.width = width + 'px';\n",
       "            canvas_div.style.height = height + 'px';\n",
       "        }\n",
       "    };\n",
       "\n",
       "    // Disable right mouse context menu.\n",
       "    this.rubberband_canvas.addEventListener('contextmenu', function (_e) {\n",
       "        event.preventDefault();\n",
       "        return false;\n",
       "    });\n",
       "\n",
       "    function set_focus() {\n",
       "        canvas.focus();\n",
       "        canvas_div.focus();\n",
       "    }\n",
       "\n",
       "    window.setTimeout(set_focus, 100);\n",
       "};\n",
       "\n",
       "mpl.figure.prototype._init_toolbar = function () {\n",
       "    var fig = this;\n",
       "\n",
       "    var toolbar = document.createElement('div');\n",
       "    toolbar.classList = 'mpl-toolbar';\n",
       "    this.root.appendChild(toolbar);\n",
       "\n",
       "    function on_click_closure(name) {\n",
       "        return function (_event) {\n",
       "            return fig.toolbar_button_onclick(name);\n",
       "        };\n",
       "    }\n",
       "\n",
       "    function on_mouseover_closure(tooltip) {\n",
       "        return function (event) {\n",
       "            if (!event.currentTarget.disabled) {\n",
       "                return fig.toolbar_button_onmouseover(tooltip);\n",
       "            }\n",
       "        };\n",
       "    }\n",
       "\n",
       "    fig.buttons = {};\n",
       "    var buttonGroup = document.createElement('div');\n",
       "    buttonGroup.classList = 'mpl-button-group';\n",
       "    for (var toolbar_ind in mpl.toolbar_items) {\n",
       "        var name = mpl.toolbar_items[toolbar_ind][0];\n",
       "        var tooltip = mpl.toolbar_items[toolbar_ind][1];\n",
       "        var image = mpl.toolbar_items[toolbar_ind][2];\n",
       "        var method_name = mpl.toolbar_items[toolbar_ind][3];\n",
       "\n",
       "        if (!name) {\n",
       "            /* Instead of a spacer, we start a new button group. */\n",
       "            if (buttonGroup.hasChildNodes()) {\n",
       "                toolbar.appendChild(buttonGroup);\n",
       "            }\n",
       "            buttonGroup = document.createElement('div');\n",
       "            buttonGroup.classList = 'mpl-button-group';\n",
       "            continue;\n",
       "        }\n",
       "\n",
       "        var button = (fig.buttons[name] = document.createElement('button'));\n",
       "        button.classList = 'mpl-widget';\n",
       "        button.setAttribute('role', 'button');\n",
       "        button.setAttribute('aria-disabled', 'false');\n",
       "        button.addEventListener('click', on_click_closure(method_name));\n",
       "        button.addEventListener('mouseover', on_mouseover_closure(tooltip));\n",
       "\n",
       "        var icon_img = document.createElement('img');\n",
       "        icon_img.src = '_images/' + image + '.png';\n",
       "        icon_img.srcset = '_images/' + image + '_large.png 2x';\n",
       "        icon_img.alt = tooltip;\n",
       "        button.appendChild(icon_img);\n",
       "\n",
       "        buttonGroup.appendChild(button);\n",
       "    }\n",
       "\n",
       "    if (buttonGroup.hasChildNodes()) {\n",
       "        toolbar.appendChild(buttonGroup);\n",
       "    }\n",
       "\n",
       "    var fmt_picker = document.createElement('select');\n",
       "    fmt_picker.classList = 'mpl-widget';\n",
       "    toolbar.appendChild(fmt_picker);\n",
       "    this.format_dropdown = fmt_picker;\n",
       "\n",
       "    for (var ind in mpl.extensions) {\n",
       "        var fmt = mpl.extensions[ind];\n",
       "        var option = document.createElement('option');\n",
       "        option.selected = fmt === mpl.default_extension;\n",
       "        option.innerHTML = fmt;\n",
       "        fmt_picker.appendChild(option);\n",
       "    }\n",
       "\n",
       "    var status_bar = document.createElement('span');\n",
       "    status_bar.classList = 'mpl-message';\n",
       "    toolbar.appendChild(status_bar);\n",
       "    this.message = status_bar;\n",
       "};\n",
       "\n",
       "mpl.figure.prototype.request_resize = function (x_pixels, y_pixels) {\n",
       "    // Request matplotlib to resize the figure. Matplotlib will then trigger a resize in the client,\n",
       "    // which will in turn request a refresh of the image.\n",
       "    this.send_message('resize', { width: x_pixels, height: y_pixels });\n",
       "};\n",
       "\n",
       "mpl.figure.prototype.send_message = function (type, properties) {\n",
       "    properties['type'] = type;\n",
       "    properties['figure_id'] = this.id;\n",
       "    this.ws.send(JSON.stringify(properties));\n",
       "};\n",
       "\n",
       "mpl.figure.prototype.send_draw_message = function () {\n",
       "    if (!this.waiting) {\n",
       "        this.waiting = true;\n",
       "        this.ws.send(JSON.stringify({ type: 'draw', figure_id: this.id }));\n",
       "    }\n",
       "};\n",
       "\n",
       "mpl.figure.prototype.handle_save = function (fig, _msg) {\n",
       "    var format_dropdown = fig.format_dropdown;\n",
       "    var format = format_dropdown.options[format_dropdown.selectedIndex].value;\n",
       "    fig.ondownload(fig, format);\n",
       "};\n",
       "\n",
       "mpl.figure.prototype.handle_resize = function (fig, msg) {\n",
       "    var size = msg['size'];\n",
       "    if (size[0] !== fig.canvas.width || size[1] !== fig.canvas.height) {\n",
       "        fig._resize_canvas(size[0], size[1], msg['forward']);\n",
       "        fig.send_message('refresh', {});\n",
       "    }\n",
       "};\n",
       "\n",
       "mpl.figure.prototype.handle_rubberband = function (fig, msg) {\n",
       "    var x0 = msg['x0'] / fig.ratio;\n",
       "    var y0 = (fig.canvas.height - msg['y0']) / fig.ratio;\n",
       "    var x1 = msg['x1'] / fig.ratio;\n",
       "    var y1 = (fig.canvas.height - msg['y1']) / fig.ratio;\n",
       "    x0 = Math.floor(x0) + 0.5;\n",
       "    y0 = Math.floor(y0) + 0.5;\n",
       "    x1 = Math.floor(x1) + 0.5;\n",
       "    y1 = Math.floor(y1) + 0.5;\n",
       "    var min_x = Math.min(x0, x1);\n",
       "    var min_y = Math.min(y0, y1);\n",
       "    var width = Math.abs(x1 - x0);\n",
       "    var height = Math.abs(y1 - y0);\n",
       "\n",
       "    fig.rubberband_context.clearRect(\n",
       "        0,\n",
       "        0,\n",
       "        fig.canvas.width / fig.ratio,\n",
       "        fig.canvas.height / fig.ratio\n",
       "    );\n",
       "\n",
       "    fig.rubberband_context.strokeRect(min_x, min_y, width, height);\n",
       "};\n",
       "\n",
       "mpl.figure.prototype.handle_figure_label = function (fig, msg) {\n",
       "    // Updates the figure title.\n",
       "    fig.header.textContent = msg['label'];\n",
       "};\n",
       "\n",
       "mpl.figure.prototype.handle_cursor = function (fig, msg) {\n",
       "    var cursor = msg['cursor'];\n",
       "    switch (cursor) {\n",
       "        case 0:\n",
       "            cursor = 'pointer';\n",
       "            break;\n",
       "        case 1:\n",
       "            cursor = 'default';\n",
       "            break;\n",
       "        case 2:\n",
       "            cursor = 'crosshair';\n",
       "            break;\n",
       "        case 3:\n",
       "            cursor = 'move';\n",
       "            break;\n",
       "    }\n",
       "    fig.rubberband_canvas.style.cursor = cursor;\n",
       "};\n",
       "\n",
       "mpl.figure.prototype.handle_message = function (fig, msg) {\n",
       "    fig.message.textContent = msg['message'];\n",
       "};\n",
       "\n",
       "mpl.figure.prototype.handle_draw = function (fig, _msg) {\n",
       "    // Request the server to send over a new figure.\n",
       "    fig.send_draw_message();\n",
       "};\n",
       "\n",
       "mpl.figure.prototype.handle_image_mode = function (fig, msg) {\n",
       "    fig.image_mode = msg['mode'];\n",
       "};\n",
       "\n",
       "mpl.figure.prototype.handle_history_buttons = function (fig, msg) {\n",
       "    for (var key in msg) {\n",
       "        if (!(key in fig.buttons)) {\n",
       "            continue;\n",
       "        }\n",
       "        fig.buttons[key].disabled = !msg[key];\n",
       "        fig.buttons[key].setAttribute('aria-disabled', !msg[key]);\n",
       "    }\n",
       "};\n",
       "\n",
       "mpl.figure.prototype.handle_navigate_mode = function (fig, msg) {\n",
       "    if (msg['mode'] === 'PAN') {\n",
       "        fig.buttons['Pan'].classList.add('active');\n",
       "        fig.buttons['Zoom'].classList.remove('active');\n",
       "    } else if (msg['mode'] === 'ZOOM') {\n",
       "        fig.buttons['Pan'].classList.remove('active');\n",
       "        fig.buttons['Zoom'].classList.add('active');\n",
       "    } else {\n",
       "        fig.buttons['Pan'].classList.remove('active');\n",
       "        fig.buttons['Zoom'].classList.remove('active');\n",
       "    }\n",
       "};\n",
       "\n",
       "mpl.figure.prototype.updated_canvas_event = function () {\n",
       "    // Called whenever the canvas gets updated.\n",
       "    this.send_message('ack', {});\n",
       "};\n",
       "\n",
       "// A function to construct a web socket function for onmessage handling.\n",
       "// Called in the figure constructor.\n",
       "mpl.figure.prototype._make_on_message_function = function (fig) {\n",
       "    return function socket_on_message(evt) {\n",
       "        if (evt.data instanceof Blob) {\n",
       "            /* FIXME: We get \"Resource interpreted as Image but\n",
       "             * transferred with MIME type text/plain:\" errors on\n",
       "             * Chrome.  But how to set the MIME type?  It doesn't seem\n",
       "             * to be part of the websocket stream */\n",
       "            evt.data.type = 'image/png';\n",
       "\n",
       "            /* Free the memory for the previous frames */\n",
       "            if (fig.imageObj.src) {\n",
       "                (window.URL || window.webkitURL).revokeObjectURL(\n",
       "                    fig.imageObj.src\n",
       "                );\n",
       "            }\n",
       "\n",
       "            fig.imageObj.src = (window.URL || window.webkitURL).createObjectURL(\n",
       "                evt.data\n",
       "            );\n",
       "            fig.updated_canvas_event();\n",
       "            fig.waiting = false;\n",
       "            return;\n",
       "        } else if (\n",
       "            typeof evt.data === 'string' &&\n",
       "            evt.data.slice(0, 21) === 'data:image/png;base64'\n",
       "        ) {\n",
       "            fig.imageObj.src = evt.data;\n",
       "            fig.updated_canvas_event();\n",
       "            fig.waiting = false;\n",
       "            return;\n",
       "        }\n",
       "\n",
       "        var msg = JSON.parse(evt.data);\n",
       "        var msg_type = msg['type'];\n",
       "\n",
       "        // Call the  \"handle_{type}\" callback, which takes\n",
       "        // the figure and JSON message as its only arguments.\n",
       "        try {\n",
       "            var callback = fig['handle_' + msg_type];\n",
       "        } catch (e) {\n",
       "            console.log(\n",
       "                \"No handler for the '\" + msg_type + \"' message type: \",\n",
       "                msg\n",
       "            );\n",
       "            return;\n",
       "        }\n",
       "\n",
       "        if (callback) {\n",
       "            try {\n",
       "                // console.log(\"Handling '\" + msg_type + \"' message: \", msg);\n",
       "                callback(fig, msg);\n",
       "            } catch (e) {\n",
       "                console.log(\n",
       "                    \"Exception inside the 'handler_\" + msg_type + \"' callback:\",\n",
       "                    e,\n",
       "                    e.stack,\n",
       "                    msg\n",
       "                );\n",
       "            }\n",
       "        }\n",
       "    };\n",
       "};\n",
       "\n",
       "// from http://stackoverflow.com/questions/1114465/getting-mouse-location-in-canvas\n",
       "mpl.findpos = function (e) {\n",
       "    //this section is from http://www.quirksmode.org/js/events_properties.html\n",
       "    var targ;\n",
       "    if (!e) {\n",
       "        e = window.event;\n",
       "    }\n",
       "    if (e.target) {\n",
       "        targ = e.target;\n",
       "    } else if (e.srcElement) {\n",
       "        targ = e.srcElement;\n",
       "    }\n",
       "    if (targ.nodeType === 3) {\n",
       "        // defeat Safari bug\n",
       "        targ = targ.parentNode;\n",
       "    }\n",
       "\n",
       "    // pageX,Y are the mouse positions relative to the document\n",
       "    var boundingRect = targ.getBoundingClientRect();\n",
       "    var x = e.pageX - (boundingRect.left + document.body.scrollLeft);\n",
       "    var y = e.pageY - (boundingRect.top + document.body.scrollTop);\n",
       "\n",
       "    return { x: x, y: y };\n",
       "};\n",
       "\n",
       "/*\n",
       " * return a copy of an object with only non-object keys\n",
       " * we need this to avoid circular references\n",
       " * http://stackoverflow.com/a/24161582/3208463\n",
       " */\n",
       "function simpleKeys(original) {\n",
       "    return Object.keys(original).reduce(function (obj, key) {\n",
       "        if (typeof original[key] !== 'object') {\n",
       "            obj[key] = original[key];\n",
       "        }\n",
       "        return obj;\n",
       "    }, {});\n",
       "}\n",
       "\n",
       "mpl.figure.prototype.mouse_event = function (event, name) {\n",
       "    var canvas_pos = mpl.findpos(event);\n",
       "\n",
       "    if (name === 'button_press') {\n",
       "        this.canvas.focus();\n",
       "        this.canvas_div.focus();\n",
       "    }\n",
       "\n",
       "    var x = canvas_pos.x * this.ratio;\n",
       "    var y = canvas_pos.y * this.ratio;\n",
       "\n",
       "    this.send_message(name, {\n",
       "        x: x,\n",
       "        y: y,\n",
       "        button: event.button,\n",
       "        step: event.step,\n",
       "        guiEvent: simpleKeys(event),\n",
       "    });\n",
       "\n",
       "    /* This prevents the web browser from automatically changing to\n",
       "     * the text insertion cursor when the button is pressed.  We want\n",
       "     * to control all of the cursor setting manually through the\n",
       "     * 'cursor' event from matplotlib */\n",
       "    event.preventDefault();\n",
       "    return false;\n",
       "};\n",
       "\n",
       "mpl.figure.prototype._key_event_extra = function (_event, _name) {\n",
       "    // Handle any extra behaviour associated with a key event\n",
       "};\n",
       "\n",
       "mpl.figure.prototype.key_event = function (event, name) {\n",
       "    // Prevent repeat events\n",
       "    if (name === 'key_press') {\n",
       "        if (event.which === this._key) {\n",
       "            return;\n",
       "        } else {\n",
       "            this._key = event.which;\n",
       "        }\n",
       "    }\n",
       "    if (name === 'key_release') {\n",
       "        this._key = null;\n",
       "    }\n",
       "\n",
       "    var value = '';\n",
       "    if (event.ctrlKey && event.which !== 17) {\n",
       "        value += 'ctrl+';\n",
       "    }\n",
       "    if (event.altKey && event.which !== 18) {\n",
       "        value += 'alt+';\n",
       "    }\n",
       "    if (event.shiftKey && event.which !== 16) {\n",
       "        value += 'shift+';\n",
       "    }\n",
       "\n",
       "    value += 'k';\n",
       "    value += event.which.toString();\n",
       "\n",
       "    this._key_event_extra(event, name);\n",
       "\n",
       "    this.send_message(name, { key: value, guiEvent: simpleKeys(event) });\n",
       "    return false;\n",
       "};\n",
       "\n",
       "mpl.figure.prototype.toolbar_button_onclick = function (name) {\n",
       "    if (name === 'download') {\n",
       "        this.handle_save(this, null);\n",
       "    } else {\n",
       "        this.send_message('toolbar_button', { name: name });\n",
       "    }\n",
       "};\n",
       "\n",
       "mpl.figure.prototype.toolbar_button_onmouseover = function (tooltip) {\n",
       "    this.message.textContent = tooltip;\n",
       "};\n",
       "mpl.toolbar_items = [[\"Home\", \"Reset original view\", \"fa fa-home icon-home\", \"home\"], [\"Back\", \"Back to previous view\", \"fa fa-arrow-left icon-arrow-left\", \"back\"], [\"Forward\", \"Forward to next view\", \"fa fa-arrow-right icon-arrow-right\", \"forward\"], [\"\", \"\", \"\", \"\"], [\"Pan\", \"Left button pans, Right button zooms\\nx/y fixes axis, CTRL fixes aspect\", \"fa fa-arrows icon-move\", \"pan\"], [\"Zoom\", \"Zoom to rectangle\\nx/y fixes axis, CTRL fixes aspect\", \"fa fa-square-o icon-check-empty\", \"zoom\"], [\"\", \"\", \"\", \"\"], [\"Download\", \"Download plot\", \"fa fa-floppy-o icon-save\", \"download\"]];\n",
       "\n",
       "mpl.extensions = [\"eps\", \"jpeg\", \"pdf\", \"png\", \"ps\", \"raw\", \"svg\", \"tif\"];\n",
       "\n",
       "mpl.default_extension = \"png\";/* global mpl */\n",
       "\n",
       "var comm_websocket_adapter = function (comm) {\n",
       "    // Create a \"websocket\"-like object which calls the given IPython comm\n",
       "    // object with the appropriate methods. Currently this is a non binary\n",
       "    // socket, so there is still some room for performance tuning.\n",
       "    var ws = {};\n",
       "\n",
       "    ws.close = function () {\n",
       "        comm.close();\n",
       "    };\n",
       "    ws.send = function (m) {\n",
       "        //console.log('sending', m);\n",
       "        comm.send(m);\n",
       "    };\n",
       "    // Register the callback with on_msg.\n",
       "    comm.on_msg(function (msg) {\n",
       "        //console.log('receiving', msg['content']['data'], msg);\n",
       "        // Pass the mpl event to the overridden (by mpl) onmessage function.\n",
       "        ws.onmessage(msg['content']['data']);\n",
       "    });\n",
       "    return ws;\n",
       "};\n",
       "\n",
       "mpl.mpl_figure_comm = function (comm, msg) {\n",
       "    // This is the function which gets called when the mpl process\n",
       "    // starts-up an IPython Comm through the \"matplotlib\" channel.\n",
       "\n",
       "    var id = msg.content.data.id;\n",
       "    // Get hold of the div created by the display call when the Comm\n",
       "    // socket was opened in Python.\n",
       "    var element = document.getElementById(id);\n",
       "    var ws_proxy = comm_websocket_adapter(comm);\n",
       "\n",
       "    function ondownload(figure, _format) {\n",
       "        window.open(figure.canvas.toDataURL());\n",
       "    }\n",
       "\n",
       "    var fig = new mpl.figure(id, ws_proxy, ondownload, element);\n",
       "\n",
       "    // Call onopen now - mpl needs it, as it is assuming we've passed it a real\n",
       "    // web socket which is closed, not our websocket->open comm proxy.\n",
       "    ws_proxy.onopen();\n",
       "\n",
       "    fig.parent_element = element;\n",
       "    fig.cell_info = mpl.find_output_cell(\"<div id='\" + id + \"'></div>\");\n",
       "    if (!fig.cell_info) {\n",
       "        console.error('Failed to find cell for figure', id, fig);\n",
       "        return;\n",
       "    }\n",
       "    fig.cell_info[0].output_area.element.one(\n",
       "        'cleared',\n",
       "        { fig: fig },\n",
       "        fig._remove_fig_handler\n",
       "    );\n",
       "};\n",
       "\n",
       "mpl.figure.prototype.handle_close = function (fig, msg) {\n",
       "    var width = fig.canvas.width / fig.ratio;\n",
       "    fig.cell_info[0].output_area.element.off(\n",
       "        'cleared',\n",
       "        fig._remove_fig_handler\n",
       "    );\n",
       "\n",
       "    // Update the output cell to use the data from the current canvas.\n",
       "    fig.push_to_output();\n",
       "    var dataURL = fig.canvas.toDataURL();\n",
       "    // Re-enable the keyboard manager in IPython - without this line, in FF,\n",
       "    // the notebook keyboard shortcuts fail.\n",
       "    IPython.keyboard_manager.enable();\n",
       "    fig.parent_element.innerHTML =\n",
       "        '<img src=\"' + dataURL + '\" width=\"' + width + '\">';\n",
       "    fig.close_ws(fig, msg);\n",
       "};\n",
       "\n",
       "mpl.figure.prototype.close_ws = function (fig, msg) {\n",
       "    fig.send_message('closing', msg);\n",
       "    // fig.ws.close()\n",
       "};\n",
       "\n",
       "mpl.figure.prototype.push_to_output = function (_remove_interactive) {\n",
       "    // Turn the data on the canvas into data in the output cell.\n",
       "    var width = this.canvas.width / this.ratio;\n",
       "    var dataURL = this.canvas.toDataURL();\n",
       "    this.cell_info[1]['text/html'] =\n",
       "        '<img src=\"' + dataURL + '\" width=\"' + width + '\">';\n",
       "};\n",
       "\n",
       "mpl.figure.prototype.updated_canvas_event = function () {\n",
       "    // Tell IPython that the notebook contents must change.\n",
       "    IPython.notebook.set_dirty(true);\n",
       "    this.send_message('ack', {});\n",
       "    var fig = this;\n",
       "    // Wait a second, then push the new image to the DOM so\n",
       "    // that it is saved nicely (might be nice to debounce this).\n",
       "    setTimeout(function () {\n",
       "        fig.push_to_output();\n",
       "    }, 1000);\n",
       "};\n",
       "\n",
       "mpl.figure.prototype._init_toolbar = function () {\n",
       "    var fig = this;\n",
       "\n",
       "    var toolbar = document.createElement('div');\n",
       "    toolbar.classList = 'btn-toolbar';\n",
       "    this.root.appendChild(toolbar);\n",
       "\n",
       "    function on_click_closure(name) {\n",
       "        return function (_event) {\n",
       "            return fig.toolbar_button_onclick(name);\n",
       "        };\n",
       "    }\n",
       "\n",
       "    function on_mouseover_closure(tooltip) {\n",
       "        return function (event) {\n",
       "            if (!event.currentTarget.disabled) {\n",
       "                return fig.toolbar_button_onmouseover(tooltip);\n",
       "            }\n",
       "        };\n",
       "    }\n",
       "\n",
       "    fig.buttons = {};\n",
       "    var buttonGroup = document.createElement('div');\n",
       "    buttonGroup.classList = 'btn-group';\n",
       "    var button;\n",
       "    for (var toolbar_ind in mpl.toolbar_items) {\n",
       "        var name = mpl.toolbar_items[toolbar_ind][0];\n",
       "        var tooltip = mpl.toolbar_items[toolbar_ind][1];\n",
       "        var image = mpl.toolbar_items[toolbar_ind][2];\n",
       "        var method_name = mpl.toolbar_items[toolbar_ind][3];\n",
       "\n",
       "        if (!name) {\n",
       "            /* Instead of a spacer, we start a new button group. */\n",
       "            if (buttonGroup.hasChildNodes()) {\n",
       "                toolbar.appendChild(buttonGroup);\n",
       "            }\n",
       "            buttonGroup = document.createElement('div');\n",
       "            buttonGroup.classList = 'btn-group';\n",
       "            continue;\n",
       "        }\n",
       "\n",
       "        button = fig.buttons[name] = document.createElement('button');\n",
       "        button.classList = 'btn btn-default';\n",
       "        button.href = '#';\n",
       "        button.title = name;\n",
       "        button.innerHTML = '<i class=\"fa ' + image + ' fa-lg\"></i>';\n",
       "        button.addEventListener('click', on_click_closure(method_name));\n",
       "        button.addEventListener('mouseover', on_mouseover_closure(tooltip));\n",
       "        buttonGroup.appendChild(button);\n",
       "    }\n",
       "\n",
       "    if (buttonGroup.hasChildNodes()) {\n",
       "        toolbar.appendChild(buttonGroup);\n",
       "    }\n",
       "\n",
       "    // Add the status bar.\n",
       "    var status_bar = document.createElement('span');\n",
       "    status_bar.classList = 'mpl-message pull-right';\n",
       "    toolbar.appendChild(status_bar);\n",
       "    this.message = status_bar;\n",
       "\n",
       "    // Add the close button to the window.\n",
       "    var buttongrp = document.createElement('div');\n",
       "    buttongrp.classList = 'btn-group inline pull-right';\n",
       "    button = document.createElement('button');\n",
       "    button.classList = 'btn btn-mini btn-primary';\n",
       "    button.href = '#';\n",
       "    button.title = 'Stop Interaction';\n",
       "    button.innerHTML = '<i class=\"fa fa-power-off icon-remove icon-large\"></i>';\n",
       "    button.addEventListener('click', function (_evt) {\n",
       "        fig.handle_close(fig, {});\n",
       "    });\n",
       "    button.addEventListener(\n",
       "        'mouseover',\n",
       "        on_mouseover_closure('Stop Interaction')\n",
       "    );\n",
       "    buttongrp.appendChild(button);\n",
       "    var titlebar = this.root.querySelector('.ui-dialog-titlebar');\n",
       "    titlebar.insertBefore(buttongrp, titlebar.firstChild);\n",
       "};\n",
       "\n",
       "mpl.figure.prototype._remove_fig_handler = function (event) {\n",
       "    var fig = event.data.fig;\n",
       "    fig.close_ws(fig, {});\n",
       "};\n",
       "\n",
       "mpl.figure.prototype._root_extra_style = function (el) {\n",
       "    el.style.boxSizing = 'content-box'; // override notebook setting of border-box.\n",
       "};\n",
       "\n",
       "mpl.figure.prototype._canvas_extra_style = function (el) {\n",
       "    // this is important to make the div 'focusable\n",
       "    el.setAttribute('tabindex', 0);\n",
       "    // reach out to IPython and tell the keyboard manager to turn it's self\n",
       "    // off when our div gets focus\n",
       "\n",
       "    // location in version 3\n",
       "    if (IPython.notebook.keyboard_manager) {\n",
       "        IPython.notebook.keyboard_manager.register_events(el);\n",
       "    } else {\n",
       "        // location in version 2\n",
       "        IPython.keyboard_manager.register_events(el);\n",
       "    }\n",
       "};\n",
       "\n",
       "mpl.figure.prototype._key_event_extra = function (event, _name) {\n",
       "    var manager = IPython.notebook.keyboard_manager;\n",
       "    if (!manager) {\n",
       "        manager = IPython.keyboard_manager;\n",
       "    }\n",
       "\n",
       "    // Check for shift+enter\n",
       "    if (event.shiftKey && event.which === 13) {\n",
       "        this.canvas_div.blur();\n",
       "        // select the cell after this one\n",
       "        var index = IPython.notebook.find_cell_index(this.cell_info[0]);\n",
       "        IPython.notebook.select(index + 1);\n",
       "    }\n",
       "};\n",
       "\n",
       "mpl.figure.prototype.handle_save = function (fig, _msg) {\n",
       "    fig.ondownload(fig, null);\n",
       "};\n",
       "\n",
       "mpl.find_output_cell = function (html_output) {\n",
       "    // Return the cell and output element which can be found *uniquely* in the notebook.\n",
       "    // Note - this is a bit hacky, but it is done because the \"notebook_saving.Notebook\"\n",
       "    // IPython event is triggered only after the cells have been serialised, which for\n",
       "    // our purposes (turning an active figure into a static one), is too late.\n",
       "    var cells = IPython.notebook.get_cells();\n",
       "    var ncells = cells.length;\n",
       "    for (var i = 0; i < ncells; i++) {\n",
       "        var cell = cells[i];\n",
       "        if (cell.cell_type === 'code') {\n",
       "            for (var j = 0; j < cell.output_area.outputs.length; j++) {\n",
       "                var data = cell.output_area.outputs[j];\n",
       "                if (data.data) {\n",
       "                    // IPython >= 3 moved mimebundle to data attribute of output\n",
       "                    data = data.data;\n",
       "                }\n",
       "                if (data['text/html'] === html_output) {\n",
       "                    return [cell, data, j];\n",
       "                }\n",
       "            }\n",
       "        }\n",
       "    }\n",
       "};\n",
       "\n",
       "// Register the function which deals with the matplotlib target/channel.\n",
       "// The kernel may be null if the page has been refreshed.\n",
       "if (IPython.notebook.kernel !== null) {\n",
       "    IPython.notebook.kernel.comm_manager.register_target(\n",
       "        'matplotlib',\n",
       "        mpl.mpl_figure_comm\n",
       "    );\n",
       "}\n"
      ],
      "text/plain": [
       "<IPython.core.display.Javascript object>"
      ]
     },
     "metadata": {},
     "output_type": "display_data"
    },
    {
     "data": {
      "text/html": [
       "<img src=\"data:image/png;base64,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\" width=\"640\">"
      ],
      "text/plain": [
       "<IPython.core.display.HTML object>"
      ]
     },
     "metadata": {},
     "output_type": "display_data"
    }
   ],
   "source": [
    "gca.fig = None\n",
    "fig2 = plt.figure()\n",
    "def update_plot_gnca(n):\n",
    "    gca.plot((results[n] > 0.5).astype(int), fig2)\n",
    "\n",
    "anim = animation.FuncAnimation(fig2, update_plot_gnca, frames=steps, repeat=True)\n",
    "anim.save('voronoi_gca.gif', writer='pillow', fps=10)"
   ]
  },
  {
   "cell_type": "markdown",
   "metadata": {},
   "source": [
    "<h1>CA: </h1>\n",
    "<img src=\"voronoi_ca.gif\" width=\"500\" align=\"center\">\n",
    "<h1>GNCA: </h1>\n",
    "<img src=\"voronoi_gca.gif\" width=\"500\" align=\"center\">"
   ]
  },
  {
   "cell_type": "code",
   "execution_count": 50,
   "metadata": {},
   "outputs": [
    {
     "name": "stdout",
     "output_type": "stream",
     "text": [
      "[1 0 1 0 0 0 0 1 1 0 1 1 1 1 1 0 0 1 0 0 1 1 0 0 1 0 0 0 0 0 0 1 0 0 0 1 1\n",
      " 1 1 0 0 1 1 1 1 0 1 1 1 0 1 1 1 1 1 0 0 0 1 0 1 1 0 1 1 1 0 1 1 0 0 0 0 0\n",
      " 1 0 0 0 1 1 0 0 0 0 1 0 0 1 0 0 1 1 1 1 0 0 1 1 1 1 0 0 0 1 0 1 0 1 0 1 0\n",
      " 0 0 1 1 1 0 0 1 1 0 0 0 1 1 1 1 0 0 1 1 0 1 0 0 0 0 0 0 1 1 0 1 1 0 0 1 1\n",
      " 1 1 1 0 1 0 0 0 0 0 1 1 0 1 1 0 1 1 0 0 0 1 0 0 1 1 1 1 0 1 1 1 1 0 0 1 1\n",
      " 0 1 1 0 0 0 1 1 1 1 0 1 0 1 0 0 0 0 0 0 1 0 1 0 1 0 0 1 1 1 0 1 0 1 1 1 0\n",
      " 0 1 1 0 1 0 1 1 1 1 0 1 1 0 1 0 1 0 1 0 1 1 0 1 0 0 0 0 1 1 0 1 0 0 1 1 0\n",
      " 0 0 0 1 1 1 0 1 1 1 0 0 1 0 0 1 0 1 0 0 0 1 0 1 0 0 1 0 0 1 0 1 0 0 0 1 1\n",
      " 0 1 0 0 0 0 0 0 0 0 1 1 1 1 1 0 0 0 1 0 1 0 1 0 1 1 1 0 0 1 0 0 1 1 1 0 1\n",
      " 0 1 1 0 0 1 1 0 0 0 0 1 1 0 1 1 0 1 0 0 1 0 0 0 0 0 0 0 1 1 1 1 0 0 1 1 1\n",
      " 0 1 1 1 1 0 0 1 1 1 1 0 0 1 0 0 1 1 0 1 0 0 0 1 1 0 0 1 0 1 1 0 0 1 0 1 1\n",
      " 0 0 0 0 1 1 0 1 1 0 1 0 1 1 1 0 0 1 0 0 1 1 0 1 0 0 1 1 0 1 0 0 1 0 1 1 1\n",
      " 1 1 0 1 1 0 0 1 0 0 1 0 1 0 1 1 0 0 1 0 1 0 0 0 1 1 0 1 0 0 1 0 0 0 1 0 1\n",
      " 1 0 1 0 0 0 0 0 0 0 0 1 1 0 1 1 1 1 1 1 1 1 0 0 0 1 1 1 1 1 0 0 1 0 0 0 1\n",
      " 1 1 0 0 0 0 0 0 0 0 1 0 1 0 0 1 0 1 0 0 0 0 1 0 0 0 0 0 1 0 0 0 1 1 0 0 0\n",
      " 1 0 0 1 1 1 1 0 1 0 0 1 1 0 1 1 0 0 0 0 1 1 0 0 0 0 1 0 1 1 1 1 1 1 1 1 1\n",
      " 0 1 0 1 0 0 0 0 0 0 0 1 0 1 0 0 0 1 0 1 1 1 0 1 0 1 1 1 1 1 0 0 0 1 1 0 1\n",
      " 0 1 1 0 0 0 1 0 1 0 1 0 1 0 0 1 0 0 0 0 0 0 0 1 1 0 0 0 1 0 1 0 1 0 0 1 1\n",
      " 0 0 0 0 1 1 1 1 1 0 0 1 0 1 1 0 1 1 0 0 1 1 1 1 1 0 1 0 1 1 1 1 1 0 1 1 1\n",
      " 1 1 1 1 1 1 0 1 1 0 0 0 0 1 1 1 0 0 1 0 0 1 0 0 0 1 0 1 1 0 0 0 1 1 1 1 0\n",
      " 0 1 0 0 1 1 0 1 1 1 1 0 0 0 1 0 0 1 0 1 0 0 0 0 0 0 1 1 0 1 1 0 0 0 0 1 1\n",
      " 0 0 0 1 0 0 0 1 0 1 1 1 0 0 1 1 1 1 1 0 0 0 1 0 1 1 0 1 0 0 1 1 1 1 0 1 1\n",
      " 1 0 0 1 1 1 1 1 0 0 1 1 1 1 1 1 1 0 0 0 0 0 0 0 0 1 0 1 1 1 0 1 1 1 1 0 0\n",
      " 0 1 1 0 1 0 1 1 1 0 1 0 1 1 1 1 0 1 0 1 0 0 1 0 0 1 1 1 1 0 1 1 0 1 0 0 1\n",
      " 1 0 1 1 1 0 1 0 0 1 0 1 1 0 0 0 1 1 0 1 0 1 1 1 0 1 1 0 1 0 0 1 0 1 0 1 1\n",
      " 0 1 0 0 0 0 1 0 0 0 0 1 0 1 1 1 0 0 0 1 1 0 1 1 1 1 1 0 0 1 1 0 0 0 0 0 1\n",
      " 0 0 1 1 1 0 1 0 0 0 0 1 0 0 0 0 1 1 1 0 0 1 0 0 0 1 0 0 0 1 0 1 1 0 1 0 0\n",
      " 1]\n"
     ]
    }
   ],
   "source": [
    "print((results[5] > 0.5).astype(int))"
   ]
  },
  {
   "cell_type": "code",
   "execution_count": 1,
   "metadata": {},
   "outputs": [
    {
     "ename": "NameError",
     "evalue": "name 'history' is not defined",
     "output_type": "error",
     "traceback": [
      "\u001B[1;31m---------------------------------------------------------------------------\u001B[0m",
      "\u001B[1;31mNameError\u001B[0m                                 Traceback (most recent call last)",
      "\u001B[1;32m<ipython-input-1-3ec90eefb60e>\u001B[0m in \u001B[0;36m<module>\u001B[1;34m\u001B[0m\n\u001B[1;32m----> 1\u001B[1;33m \u001B[0mprint\u001B[0m\u001B[1;33m(\u001B[0m\u001B[0mhistory\u001B[0m\u001B[1;33m[\u001B[0m\u001B[1;36m5\u001B[0m\u001B[1;33m]\u001B[0m\u001B[1;33m)\u001B[0m\u001B[1;33m\u001B[0m\u001B[1;33m\u001B[0m\u001B[0m\n\u001B[0m",
      "\u001B[1;31mNameError\u001B[0m: name 'history' is not defined"
     ]
    }
   ],
   "source": [
    "print(history[5])"
   ]
  },
  {
   "cell_type": "code",
   "execution_count": null,
   "metadata": {},
   "outputs": [],
   "source": []
  }
 ],
 "metadata": {
  "kernelspec": {
   "display_name": "Python 3",
   "language": "python",
   "name": "python3"
  },
  "language_info": {
   "codemirror_mode": {
    "name": "ipython",
    "version": 3
   },
   "file_extension": ".py",
   "mimetype": "text/x-python",
   "name": "python",
   "nbconvert_exporter": "python",
   "pygments_lexer": "ipython3",
   "version": "3.8.5"
  }
 },
 "nbformat": 4,
 "nbformat_minor": 1
}